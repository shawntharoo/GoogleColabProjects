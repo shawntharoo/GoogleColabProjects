{
  "nbformat": 4,
  "nbformat_minor": 0,
  "metadata": {
    "colab": {
      "provenance": [],
      "include_colab_link": true
    },
    "kernelspec": {
      "name": "python3",
      "display_name": "Python 3"
    },
    "language_info": {
      "name": "python"
    }
  },
  "cells": [
    {
      "cell_type": "markdown",
      "metadata": {
        "id": "view-in-github",
        "colab_type": "text"
      },
      "source": [
        "<a href=\"https://colab.research.google.com/github/shawntharoo/GoogleColabProjects/blob/main/Copy_of_MBA509_Lesson_11_Quantum_Computing.ipynb\" target=\"_parent\"><img src=\"https://colab.research.google.com/assets/colab-badge.svg\" alt=\"Open In Colab\"/></a>"
      ]
    },
    {
      "cell_type": "code",
      "execution_count": null,
      "metadata": {
        "id": "huWsdZcV3_Km"
      },
      "outputs": [],
      "source": [
        "try:\n",
        "    import cirq\n",
        "except ImportError:\n",
        "    print(\"installing cirq...\")\n",
        "    !pip install --quiet cirq\n",
        "    print(\"installed cirq.\")"
      ]
    },
    {
      "cell_type": "code",
      "source": [
        "import cirq\n",
        "import cirq_google"
      ],
      "metadata": {
        "id": "LjxktzYx4hio"
      },
      "execution_count": null,
      "outputs": []
    },
    {
      "cell_type": "markdown",
      "source": [
        "# Qubits\n",
        "\n",
        "### https://quantumai.google/cirq/tutorials/basics"
      ],
      "metadata": {
        "id": "vk5sjkue4Mq-"
      }
    },
    {
      "cell_type": "markdown",
      "source": [
        "### The first part of creating a quantum circuit is to define a set of qubits (also known as a quantum registers) to act on.\n",
        "\n",
        "### Cirq has three main ways of defining qubits:\n",
        "\n",
        "* cirq.NamedQubit: used to label qubits by an abstract name\n",
        "* cirq.LineQubit: qubits labelled by number in a linear array\n",
        "* cirq.GridQubit: qubits labelled by two numbers in a rectangular lattice."
      ],
      "metadata": {
        "id": "QvKl6qm54QEZ"
      }
    },
    {
      "cell_type": "markdown",
      "source": [
        "## Name qubits"
      ],
      "metadata": {
        "id": "gC99TeLm4teV"
      }
    },
    {
      "cell_type": "code",
      "source": [
        "# Using named qubits can be useful for abstract algorithms\n",
        "# as well as algorithms not yet mapped onto hardware.\n",
        "q0 = cirq.NamedQubit('Amy')\n",
        "q1 = cirq.NamedQubit('Tom')\n",
        "\n",
        "print(q0)\n",
        "print(q1)"
      ],
      "metadata": {
        "colab": {
          "base_uri": "https://localhost:8080/"
        },
        "id": "7lOsvAum4pv5",
        "outputId": "3dfe6a14-bce2-4960-96eb-0bc295a83e72"
      },
      "execution_count": null,
      "outputs": [
        {
          "output_type": "stream",
          "name": "stdout",
          "text": [
            "Amy\n",
            "Tom\n"
          ]
        }
      ]
    },
    {
      "cell_type": "markdown",
      "source": [
        "### A line qubit"
      ],
      "metadata": {
        "id": "SsOPMEGU45GT"
      }
    },
    {
      "cell_type": "code",
      "source": [
        "# Line qubits can be created individually\n",
        "q3 = cirq.LineQubit(3)\n",
        "q3"
      ],
      "metadata": {
        "colab": {
          "base_uri": "https://localhost:8080/"
        },
        "id": "TGBWlJF04w2U",
        "outputId": "9d7a5d90-b1f2-4cb6-cfe7-48c00ed97c10"
      },
      "execution_count": null,
      "outputs": [
        {
          "output_type": "execute_result",
          "data": {
            "text/plain": [
              "cirq.LineQubit(3)"
            ]
          },
          "metadata": {},
          "execution_count": 4
        }
      ]
    },
    {
      "cell_type": "code",
      "source": [
        "# Or created in a range\n",
        "# This will create LineQubit(0), LineQubit(1), LineQubit(2)\n",
        "q0, q1, q2 = cirq.LineQubit.range(3)"
      ],
      "metadata": {
        "id": "f28Y_8TJ4zdO"
      },
      "execution_count": null,
      "outputs": []
    },
    {
      "cell_type": "code",
      "source": [
        "print(q0, q1, q2)"
      ],
      "metadata": {
        "colab": {
          "base_uri": "https://localhost:8080/"
        },
        "id": "Sl8Ds_H45caV",
        "outputId": "f71b7751-1811-4ec2-f535-4c7daf559a3c"
      },
      "execution_count": null,
      "outputs": [
        {
          "output_type": "stream",
          "name": "stdout",
          "text": [
            "0 1 2\n"
          ]
        }
      ]
    },
    {
      "cell_type": "markdown",
      "source": [
        "### Grid qubit"
      ],
      "metadata": {
        "id": "xx0RI4U-4_MQ"
      }
    },
    {
      "cell_type": "code",
      "source": [
        "# Grid Qubits can also be referenced individually\n",
        "q4_5 = cirq.GridQubit(4,5)\n",
        "print(q4_5)"
      ],
      "metadata": {
        "colab": {
          "base_uri": "https://localhost:8080/"
        },
        "id": "7FWA3o2J42Nx",
        "outputId": "f5540a8c-836b-4969-b7e4-fd0857ca0745"
      },
      "execution_count": null,
      "outputs": [
        {
          "output_type": "stream",
          "name": "stdout",
          "text": [
            "(4, 5)\n"
          ]
        }
      ]
    },
    {
      "cell_type": "code",
      "source": [
        "# Or created in bulk in a square\n",
        "# This will create 16 qubits from (0,0) to (3,3)\n",
        "qubits = cirq.GridQubit.square(4)"
      ],
      "metadata": {
        "id": "lWQIYDqD4OQR"
      },
      "execution_count": null,
      "outputs": []
    },
    {
      "cell_type": "code",
      "source": [
        "print(qubits)"
      ],
      "metadata": {
        "colab": {
          "base_uri": "https://localhost:8080/"
        },
        "id": "5jwiDSwK5mGo",
        "outputId": "3bed5e61-1800-488c-d7fd-a7153627e8b1"
      },
      "execution_count": null,
      "outputs": [
        {
          "output_type": "stream",
          "name": "stdout",
          "text": [
            "[cirq.GridQubit(0, 0), cirq.GridQubit(0, 1), cirq.GridQubit(0, 2), cirq.GridQubit(0, 3), cirq.GridQubit(1, 0), cirq.GridQubit(1, 1), cirq.GridQubit(1, 2), cirq.GridQubit(1, 3), cirq.GridQubit(2, 0), cirq.GridQubit(2, 1), cirq.GridQubit(2, 2), cirq.GridQubit(2, 3), cirq.GridQubit(3, 0), cirq.GridQubit(3, 1), cirq.GridQubit(3, 2), cirq.GridQubit(3, 3)]\n"
          ]
        }
      ]
    },
    {
      "cell_type": "markdown",
      "source": [
        "### There are also pre-packaged sets of qubits called Devices. These are qubits along with a set of rules of how they can be used. A cirq.Device can be used to apply adjacency rules and other hardware constraints to a quantum circuit. For our example, we will use the cirq_google.Foxtail device that comes with cirq. It is a 2x11 grid that mimics early hardware released by Google."
      ],
      "metadata": {
        "id": "nBDcFDR04cjX"
      }
    },
    {
      "cell_type": "code",
      "source": [
        "print(cirq_google.Foxtail)"
      ],
      "metadata": {
        "colab": {
          "base_uri": "https://localhost:8080/"
        },
        "id": "1BoOjgzR5J_J",
        "outputId": "182d403f-ca93-41f5-afbf-c93013e9d8a4"
      },
      "execution_count": null,
      "outputs": [
        {
          "output_type": "stream",
          "name": "stdout",
          "text": [
            "(0, 0)───(0, 1)───(0, 2)───(0, 3)───(0, 4)───(0, 5)───(0, 6)───(0, 7)───(0, 8)───(0, 9)───(0, 10)\n",
            "│        │        │        │        │        │        │        │        │        │        │\n",
            "│        │        │        │        │        │        │        │        │        │        │\n",
            "(1, 0)───(1, 1)───(1, 2)───(1, 3)───(1, 4)───(1, 5)───(1, 6)───(1, 7)───(1, 8)───(1, 9)───(1, 10)\n"
          ]
        }
      ]
    },
    {
      "cell_type": "markdown",
      "source": [
        "# Gates and Operations\n",
        "\n",
        "* A Gate is an effect that can be applied to a collection of qubits (objects with a Qid)\n",
        "\n",
        "*  Gates can generally be applied to any type of qubit (NamedQubit, LineQubit, GridQubit, etc. - see Qubits for more details) to create an Operation.\n",
        "\n",
        "That is,\n",
        "\n",
        "* An Operation is a gate applied to a set of qubits.\n",
        "* A Gate is an effect that can be applied to a set of qubits."
      ],
      "metadata": {
        "id": "MWO7V3BN53UG"
      }
    },
    {
      "cell_type": "code",
      "source": [
        "# This examples uses named qubits to remain abstract.\n",
        "# However, we can also use LineQubits or GridQubits to specify a geometry\n",
        "amy = cirq.NamedQubit('a')\n",
        "brad = cirq.NamedQubit('b')\n",
        "cam = cirq.NamedQubit('c')\n",
        "\n",
        "# Example Operations, that correspond to the moments above\n",
        "print(cirq.H(brad))\n",
        "print(cirq.H(amy))\n",
        "print(cirq.measure(amy,brad))"
      ],
      "metadata": {
        "colab": {
          "base_uri": "https://localhost:8080/"
        },
        "id": "xs-y9T2Y6GJV",
        "outputId": "338103f9-f318-4d23-d80d-d1f08d4f4abb"
      },
      "execution_count": null,
      "outputs": [
        {
          "output_type": "stream",
          "name": "stdout",
          "text": [
            "H(b)\n",
            "H(a)\n",
            "cirq.MeasurementGate(2, cirq.MeasurementKey(name='a,b'), ())(a, b)\n"
          ]
        }
      ]
    },
    {
      "cell_type": "code",
      "source": [
        "amy.__dict__"
      ],
      "metadata": {
        "colab": {
          "base_uri": "https://localhost:8080/"
        },
        "id": "I-GQeCe0HODs",
        "outputId": "0074039e-c398-4845-d7a8-7bdb526ec50c"
      },
      "execution_count": null,
      "outputs": [
        {
          "output_type": "execute_result",
          "data": {
            "text/plain": [
              "{'_comp_key': 'a', '_name': 'a'}"
            ]
          },
          "metadata": {},
          "execution_count": 12
        }
      ]
    },
    {
      "cell_type": "markdown",
      "source": [
        "# CNOT and Pauli Z Gates"
      ],
      "metadata": {
        "id": "suc5gVNT6rf9"
      }
    },
    {
      "cell_type": "code",
      "source": [
        "print(cirq.CNOT(brad, cam))\n",
        "print(cirq.CNOT(amy, brad))"
      ],
      "metadata": {
        "colab": {
          "base_uri": "https://localhost:8080/"
        },
        "id": "z_KeBlbb6030",
        "outputId": "d953cf87-20c1-4eda-85b6-614ea2e38107"
      },
      "execution_count": null,
      "outputs": [
        {
          "output_type": "stream",
          "name": "stdout",
          "text": [
            "CNOT(b, c)\n",
            "CNOT(a, b)\n"
          ]
        }
      ]
    },
    {
      "cell_type": "code",
      "source": [
        "# Example gates\n",
        "not_gate = cirq.CNOT\n",
        "pauli_z = cirq.Z\n",
        "\n",
        "print(not_gate)\n",
        "print(pauli_z)"
      ],
      "metadata": {
        "colab": {
          "base_uri": "https://localhost:8080/"
        },
        "id": "0XXThvq26dyu",
        "outputId": "d61359e6-02c3-4fc7-92f2-fbacbd5c2aa6"
      },
      "execution_count": null,
      "outputs": [
        {
          "output_type": "stream",
          "name": "stdout",
          "text": [
            "CNOT\n",
            "Z\n"
          ]
        }
      ]
    },
    {
      "cell_type": "code",
      "source": [
        "# Using exponentiation to get square root gates\n",
        "sqrt_x_gate = cirq.X**0.5"
      ],
      "metadata": {
        "id": "gIaCYQG-67Kc"
      },
      "execution_count": null,
      "outputs": []
    },
    {
      "cell_type": "code",
      "source": [
        "# Some gates can also take parameters\n",
        "sqrt_sqrt_y = cirq.YPowGate(exponent=0.25)"
      ],
      "metadata": {
        "id": "mfrHs7VO6-tx"
      },
      "execution_count": null,
      "outputs": []
    },
    {
      "cell_type": "code",
      "source": [
        "# Example operations\n",
        "q0, q1 = cirq.LineQubit.range(2)\n",
        "print(q0,q1)"
      ],
      "metadata": {
        "colab": {
          "base_uri": "https://localhost:8080/"
        },
        "id": "7PnIES697GvU",
        "outputId": "588c4581-a30f-4628-c22d-d19258e93ef7"
      },
      "execution_count": null,
      "outputs": [
        {
          "output_type": "stream",
          "name": "stdout",
          "text": [
            "0 1\n"
          ]
        }
      ]
    },
    {
      "cell_type": "code",
      "source": [
        "z_op = cirq.Z(q0)\n",
        "z_op"
      ],
      "metadata": {
        "colab": {
          "base_uri": "https://localhost:8080/"
        },
        "id": "XskAH0r67J6t",
        "outputId": "9ac96bbc-cca0-4ad5-b161-16c226ef927a"
      },
      "execution_count": null,
      "outputs": [
        {
          "output_type": "execute_result",
          "data": {
            "text/plain": [
              "Z(0)"
            ]
          },
          "metadata": {},
          "execution_count": 19
        }
      ]
    },
    {
      "cell_type": "code",
      "source": [
        "not_op = cirq.CNOT(q0, q1)\n",
        "not_op"
      ],
      "metadata": {
        "colab": {
          "base_uri": "https://localhost:8080/"
        },
        "id": "gA6EoEOk7LRb",
        "outputId": "fed489ae-82a1-4294-c845-b4aa933fd73f"
      },
      "execution_count": null,
      "outputs": [
        {
          "output_type": "execute_result",
          "data": {
            "text/plain": [
              "cirq.CNOT(cirq.LineQubit(0), cirq.LineQubit(1))"
            ]
          },
          "metadata": {},
          "execution_count": 20
        }
      ]
    },
    {
      "cell_type": "code",
      "source": [
        "sqrt_iswap_op = cirq.SQRT_ISWAP(q0, q1)\n",
        "sqrt_iswap_op"
      ],
      "metadata": {
        "colab": {
          "base_uri": "https://localhost:8080/"
        },
        "id": "PR6l7mrd6awM",
        "outputId": "9c78bc5b-961a-42d7-cacc-6d1e2be7a3c9"
      },
      "execution_count": null,
      "outputs": [
        {
          "output_type": "execute_result",
          "data": {
            "text/plain": [
              "(cirq.ISWAP**0.5).on(cirq.LineQubit(0), cirq.LineQubit(1))"
            ]
          },
          "metadata": {},
          "execution_count": 21
        }
      ]
    },
    {
      "cell_type": "markdown",
      "source": [
        "# Circuits and moments\n",
        "\n",
        "### A Circuit is a collection of Moments. A Moment is a collection of Operations that all act during the same abstract time slice. Each Operation must have a disjoint set of qubits from the other Operations in the Moment. A Moment can be thought of as a vertical slice of a quantum circuit diagram."
      ],
      "metadata": {
        "id": "8dBUFcfl7qsY"
      }
    },
    {
      "cell_type": "code",
      "source": [
        "circuit = cirq.Circuit()\n",
        "# You can create a circuit by appending to it\n",
        "circuit.append(cirq.H(q) for q in cirq.LineQubit.range(3))\n",
        "# All of the gates are put into the same Moment since none overlap\n",
        "print(circuit)"
      ],
      "metadata": {
        "colab": {
          "base_uri": "https://localhost:8080/"
        },
        "id": "XJ-JfI8P7szT",
        "outputId": "2fa8adfa-445a-4e3c-899c-2c3fe0993a8e"
      },
      "execution_count": null,
      "outputs": [
        {
          "output_type": "stream",
          "name": "stdout",
          "text": [
            "0: ───H───\n",
            "\n",
            "1: ───H───\n",
            "\n",
            "2: ───H───\n"
          ]
        }
      ]
    },
    {
      "cell_type": "code",
      "source": [
        "# We can also create a circuit directly as well:\n",
        "print(cirq.Circuit(cirq.SWAP(q, q+1) for q in cirq.LineQubit.range(3)))"
      ],
      "metadata": {
        "colab": {
          "base_uri": "https://localhost:8080/"
        },
        "id": "Kcnd89fo7wX7",
        "outputId": "c04c0a0c-1e4e-411e-c92e-42d4875fadc1"
      },
      "execution_count": null,
      "outputs": [
        {
          "output_type": "stream",
          "name": "stdout",
          "text": [
            "0: ───×───────────\n",
            "      │\n",
            "1: ───×───×───────\n",
            "          │\n",
            "2: ───────×───×───\n",
            "              │\n",
            "3: ───────────×───\n"
          ]
        }
      ]
    },
    {
      "cell_type": "code",
      "source": [
        "# Creates each gate in a separate moment.\n",
        "print(cirq.Circuit(cirq.Moment([cirq.H(q)]) for q in cirq.LineQubit.range(3)))"
      ],
      "metadata": {
        "colab": {
          "base_uri": "https://localhost:8080/"
        },
        "id": "dypP7yAN7zoR",
        "outputId": "a0a46512-b728-4413-993c-b7093587c6e8"
      },
      "execution_count": null,
      "outputs": [
        {
          "output_type": "stream",
          "name": "stdout",
          "text": [
            "0: ───H───────────\n",
            "\n",
            "1: ───────H───────\n",
            "\n",
            "2: ───────────H───\n"
          ]
        }
      ]
    },
    {
      "cell_type": "markdown",
      "source": [
        "# Circuits and devices"
      ],
      "metadata": {
        "id": "Y8c1-e6z8FvD"
      }
    },
    {
      "cell_type": "code",
      "source": [
        "q0 = cirq.GridQubit(0, 0)\n",
        "q1 = cirq.GridQubit(0, 1)\n",
        "q2 = cirq.GridQubit(0, 2)\n",
        "adjacent_op = cirq.CZ(q0, q1)\n",
        "nonadjacent_op = cirq.CZ(q0, q2)"
      ],
      "metadata": {
        "id": "erZDj_EC8Lek"
      },
      "execution_count": null,
      "outputs": []
    },
    {
      "cell_type": "code",
      "source": [
        "# This is an unconstrained circuit with no device\n",
        "free_circuit = cirq.Circuit()\n",
        "# Both operations are allowed:\n",
        "free_circuit.append(adjacent_op)\n",
        "free_circuit.append(nonadjacent_op)\n",
        "print('Unconstrained device:')\n",
        "print(free_circuit)\n",
        "print()"
      ],
      "metadata": {
        "colab": {
          "base_uri": "https://localhost:8080/"
        },
        "id": "Y4Q-qdkR8N8Z",
        "outputId": "c3e7dc07-4fd1-447b-e173-90eb54f8996d"
      },
      "execution_count": null,
      "outputs": [
        {
          "output_type": "stream",
          "name": "stdout",
          "text": [
            "Unconstrained device:\n",
            "(0, 0): ───@───@───\n",
            "           │   │\n",
            "(0, 1): ───@───┼───\n",
            "               │\n",
            "(0, 2): ───────@───\n",
            "\n"
          ]
        }
      ]
    },
    {
      "cell_type": "code",
      "source": [
        "# This is a circuit on the Foxtail device\n",
        "# only adjacent operations are allowed.\n",
        "print('Foxtail device:')\n",
        "foxtail_circuit = cirq.Circuit(device=cirq_google.Foxtail)\n",
        "foxtail_circuit.append(adjacent_op)\n",
        "try:\n",
        "    # Not allowed, will throw exception\n",
        "    foxtail_circuit.append(nonadjacent_op)\n",
        "except ValueError as e:\n",
        "    print('Not allowed. %s' % e)"
      ],
      "metadata": {
        "colab": {
          "base_uri": "https://localhost:8080/"
        },
        "id": "f9O8A9Bz8RID",
        "outputId": "78927185-8342-4edc-acfe-5c4c4b14d6a2"
      },
      "execution_count": null,
      "outputs": [
        {
          "output_type": "stream",
          "name": "stdout",
          "text": [
            "Foxtail device:\n",
            "Not allowed. Non-local interaction: cirq.CZ(cirq.GridQubit(0, 0), cirq.GridQubit(0, 2)).\n"
          ]
        }
      ]
    },
    {
      "cell_type": "markdown",
      "source": [
        "#Simulation\n",
        "### The results of the application of a quantum circuit can be calculated by a Simulator"
      ],
      "metadata": {
        "id": "5bJ7s59a8XYD"
      }
    },
    {
      "cell_type": "code",
      "source": [
        "# Create a circuit to generate a Bell State:\n",
        "# 1/sqrt(2) * ( |00⟩ + |11⟩ )\n",
        "bell_circuit = cirq.Circuit()\n",
        "q0, q1 = cirq.LineQubit.range(2)\n",
        "bell_circuit.append(cirq.H(q0))\n",
        "bell_circuit.append(cirq.CNOT(q0,q1))"
      ],
      "metadata": {
        "id": "5r2AZ8Sj8eCG"
      },
      "execution_count": null,
      "outputs": []
    },
    {
      "cell_type": "code",
      "source": [
        "# Initialize Simulator\n",
        "s=cirq.Simulator()"
      ],
      "metadata": {
        "id": "fY0Erd8E8gfq"
      },
      "execution_count": null,
      "outputs": []
    },
    {
      "cell_type": "code",
      "source": [
        "print('Simulate the circuit:')\n",
        "results=s.simulate(bell_circuit)\n",
        "print(results)\n",
        "print()"
      ],
      "metadata": {
        "colab": {
          "base_uri": "https://localhost:8080/"
        },
        "id": "nCnq7Q5n8iqe",
        "outputId": "4c214576-56cb-4c4e-e509-b924a2a5213d"
      },
      "execution_count": null,
      "outputs": [
        {
          "output_type": "stream",
          "name": "stdout",
          "text": [
            "Simulate the circuit:\n",
            "measurements: (no measurements)\n",
            "output vector: 0.707|00⟩ + 0.707|11⟩\n",
            "\n"
          ]
        }
      ]
    },
    {
      "cell_type": "code",
      "source": [
        "# For sampling, we need to add a measurement at the end\n",
        "bell_circuit.append(cirq.measure(q0, q1, key='result'))"
      ],
      "metadata": {
        "id": "huFx3L4P8k5s"
      },
      "execution_count": null,
      "outputs": []
    },
    {
      "cell_type": "code",
      "source": [
        "print('Sample the circuit:')\n",
        "samples=s.run(bell_circuit, repetitions=1000)\n",
        "# Print a histogram of results\n",
        "print(samples.histogram(key='result'))"
      ],
      "metadata": {
        "colab": {
          "base_uri": "https://localhost:8080/"
        },
        "id": "_Dmb2aaK8nGU",
        "outputId": "bcb4a388-7b47-4ef0-df68-526f5f03a5df"
      },
      "execution_count": null,
      "outputs": [
        {
          "output_type": "stream",
          "name": "stdout",
          "text": [
            "Sample the circuit:\n",
            "Counter({3: 509, 0: 491})\n"
          ]
        }
      ]
    },
    {
      "cell_type": "markdown",
      "source": [
        "# Using parameter sweeps"
      ],
      "metadata": {
        "id": "YiN6Qaeh9ASu"
      }
    },
    {
      "cell_type": "code",
      "source": [
        "import matplotlib.pyplot as plt\n",
        "import sympy\n",
        "\n",
        "# Perform an X gate with variable exponent\n",
        "q = cirq.GridQubit(1,1)\n",
        "circuit = cirq.Circuit(cirq.X(q) ** sympy.Symbol('t'),\n",
        "                       cirq.measure(q, key='m'))\n",
        "\n",
        "# Sweep exponent from zero (off) to one (on) and back to two (off)\n",
        "param_sweep = cirq.Linspace('t', start=0, stop=2, length=200)\n",
        "\n",
        "# Simulate the sweep\n",
        "s = cirq.Simulator()\n",
        "trials = s.run_sweep(circuit, param_sweep, repetitions=1000)\n",
        "\n",
        "# Plot all the results\n",
        "x_data = [trial.params['t'] for trial in trials]\n",
        "y_data = [trial.histogram(key='m')[1] / 1000.0 for trial in trials]\n",
        "plt.scatter('t','p', data={'t': x_data, 'p': y_data})"
      ],
      "metadata": {
        "colab": {
          "base_uri": "https://localhost:8080/",
          "height": 282
        },
        "id": "5AfO0gA68yRJ",
        "outputId": "06da3b35-85f9-4915-c644-4ba1cf12b867"
      },
      "execution_count": null,
      "outputs": [
        {
          "output_type": "execute_result",
          "data": {
            "text/plain": [
              "<matplotlib.collections.PathCollection at 0x7fc73af8b1d0>"
            ]
          },
          "metadata": {},
          "execution_count": 33
        },
        {
          "output_type": "display_data",
          "data": {
            "image/png": "[encoded data removed]",
            "text/plain": [
              "<Figure size 432x288 with 1 Axes>"
            ]
          },
          "metadata": {
            "needs_background": "light"
          }
        }
      ]
    },
    {
      "cell_type": "markdown",
      "source": [
        "# Unitary matrices and decompositions"
      ],
      "metadata": {
        "id": "FjmSYgo_9Hxe"
      }
    },
    {
      "cell_type": "code",
      "source": [
        "print('Unitary of the X gate')\n",
        "print(cirq.unitary(cirq.X))\n",
        "\n",
        "print('Unitary of SWAP operator on two qubits.')\n",
        "q0, q1 = cirq.LineQubit.range(2)\n",
        "print(cirq.unitary(cirq.SWAP(q0, q1)))\n",
        "\n",
        "print('Unitary of a sample circuit')\n",
        "print(cirq.unitary(cirq.Circuit(cirq.X(q0), cirq.SWAP(q0, q1))))"
      ],
      "metadata": {
        "colab": {
          "base_uri": "https://localhost:8080/"
        },
        "id": "mpvw0ryz9Ego",
        "outputId": "357f47b2-dfc4-4d2b-d345-d2371e651623"
      },
      "execution_count": null,
      "outputs": [
        {
          "output_type": "stream",
          "name": "stdout",
          "text": [
            "Unitary of the X gate\n",
            "[[0.+0.j 1.+0.j]\n",
            " [1.+0.j 0.+0.j]]\n",
            "Unitary of SWAP operator on two qubits.\n",
            "[[1.+0.j 0.+0.j 0.+0.j 0.+0.j]\n",
            " [0.+0.j 0.+0.j 1.+0.j 0.+0.j]\n",
            " [0.+0.j 1.+0.j 0.+0.j 0.+0.j]\n",
            " [0.+0.j 0.+0.j 0.+0.j 1.+0.j]]\n",
            "Unitary of a sample circuit\n",
            "[[0.+0.j 0.+0.j 1.+0.j 0.+0.j]\n",
            " [1.+0.j 0.+0.j 0.+0.j 0.+0.j]\n",
            " [0.+0.j 0.+0.j 0.+0.j 1.+0.j]\n",
            " [0.+0.j 1.+0.j 0.+0.j 0.+0.j]]\n"
          ]
        }
      ]
    },
    {
      "cell_type": "markdown",
      "source": [
        "# Decompositions"
      ],
      "metadata": {
        "id": "3ex6rV0R9o-P"
      }
    },
    {
      "cell_type": "code",
      "source": [
        "print(cirq.decompose(cirq.H(cirq.LineQubit(0))))"
      ],
      "metadata": {
        "colab": {
          "base_uri": "https://localhost:8080/"
        },
        "id": "WlTLwv3s9Pgh",
        "outputId": "3a0088b4-5a9a-4d29-ad13-7eb365747021"
      },
      "execution_count": null,
      "outputs": [
        {
          "output_type": "stream",
          "name": "stdout",
          "text": [
            "[(cirq.Y**0.5).on(cirq.LineQubit(0)), cirq.XPowGate(exponent=1.0, global_shift=-0.25).on(cirq.LineQubit(0))]\n"
          ]
        }
      ]
    },
    {
      "cell_type": "markdown",
      "source": [
        "### decomposes the Toffoli into a simpler set of one-qubit gates and CZ gates at the cost of lengthening the circuit considerably."
      ],
      "metadata": {
        "id": "myUl8NV99it-"
      }
    },
    {
      "cell_type": "code",
      "source": [
        "q0, q1, q2 = cirq.LineQubit.range(3)\n",
        "print(cirq.Circuit(cirq.decompose(cirq.TOFFOLI(q0, q1, q2))))"
      ],
      "metadata": {
        "colab": {
          "base_uri": "https://localhost:8080/"
        },
        "id": "j-lP23KS9T27",
        "outputId": "a8eac8a8-bbfa-4ae1-bf5e-db7ff1e8b870"
      },
      "execution_count": null,
      "outputs": [
        {
          "output_type": "stream",
          "name": "stdout",
          "text": [
            "0: ───T────────────────@─────────────────────────────────@─────────────────────────────@────────────────────────────@───────────────────────────────────────\n",
            "                       │                                 │                             │                            │\n",
            "1: ───T───────Y^-0.5───@───Y^0.5────@───T^-1────Y^-0.5───@────────Y^0.5───@───Y^-0.5───@──────Y^0.5────@───Y^-0.5───@──────Y^0.5────@───────────────────────\n",
            "                                    │                                     │                            │                            │\n",
            "2: ───Y^0.5───X────────T───Y^-0.5───@───Y^0.5───T────────Y^-0.5───────────@───Y^0.5────T^-1───Y^-0.5───@───Y^0.5────T^-1───Y^-0.5───@───Y^0.5───Y^0.5───X───\n"
          ]
        }
      ]
    },
    {
      "cell_type": "code",
      "source": [
        "swap = cirq.SWAP(cirq.GridQubit(0, 0), cirq.GridQubit(0, 1))\n",
        "print(cirq.Circuit(swap, device=cirq_google.Foxtail))"
      ],
      "metadata": {
        "colab": {
          "base_uri": "https://localhost:8080/"
        },
        "id": "64jnekBb9b6z",
        "outputId": "3c922805-103b-4d5e-9eaf-36f166080994"
      },
      "execution_count": null,
      "outputs": [
        {
          "output_type": "stream",
          "name": "stdout",
          "text": [
            "(0, 0): ───S^-1───Y^-0.5───@───S^-1───Y^0.5───X^0.5───@───S^-1───X^-0.5───@───S^-1───Z───\n",
            "                           │                          │                   │\n",
            "(0, 1): ───Z──────Y^-0.5───@───S^-1───Y^0.5───X^0.5───@───S^-1───X^-0.5───@───S^-1───S───\n"
          ]
        }
      ]
    },
    {
      "cell_type": "markdown",
      "source": [
        "# Optimizers\n",
        "\n",
        "*  An optimizer can take a circuit and modify it."
      ],
      "metadata": {
        "id": "0oBz3B0o9t4T"
      }
    },
    {
      "cell_type": "code",
      "source": [
        "q=cirq.GridQubit(1, 1)\n",
        "optimizer=cirq.MergeSingleQubitGates()\n",
        "c=cirq.Circuit(cirq.X(q) ** 0.25, cirq.Y(q) ** 0.25, cirq.Z(q) ** 0.25)\n",
        "print(c)\n",
        "optimizer.optimize_circuit(c)\n",
        "print(c)"
      ],
      "metadata": {
        "colab": {
          "base_uri": "https://localhost:8080/"
        },
        "id": "69_jiWMm96Lj",
        "outputId": "5a6c8db5-ee22-4ac5-f3e5-4f1c18a2afd1"
      },
      "execution_count": null,
      "outputs": [
        {
          "output_type": "stream",
          "name": "stdout",
          "text": [
            "(1, 1): ───X^0.25───Y^0.25───T───\n",
            "           ┌                           ┐\n",
            "(1, 1): ───│ 0.5  +0.707j -0.   -0.5j  │───────────\n",
            "           │ 0.354+0.354j  0.146+0.854j│\n",
            "           └                           ┘\n"
          ]
        }
      ]
    },
    {
      "cell_type": "code",
      "source": [
        "\"\"\"One method to insert noise in a circuit.\"\"\"\n",
        "# Define some noiseless circuit.\n",
        "circuit = cirq.testing.random_circuit(\n",
        "    qubits=3, n_moments=3, op_density=1, random_state=11\n",
        ")\n",
        "\n",
        "# Display the noiseless circuit.\n",
        "print(\"Circuit without noise:\")\n",
        "print(circuit)\n",
        "\n",
        "# Add noise to the circuit.\n",
        "noisy = circuit.with_noise(cirq.depolarize(p=0.01))\n",
        "\n",
        "# Display it.\n",
        "print(\"\\nCircuit with noise:\")\n",
        "print(noisy)"
      ],
      "metadata": {
        "colab": {
          "base_uri": "https://localhost:8080/"
        },
        "id": "9JtNBGEy-Tl4",
        "outputId": "83369e02-d5ba-46ee-9df4-47d4695ad004"
      },
      "execution_count": null,
      "outputs": [
        {
          "output_type": "stream",
          "name": "stdout",
          "text": [
            "Circuit without noise:\n",
            "              ┌──┐\n",
            "0: ───@───X─────×────\n",
            "      │   │     │\n",
            "1: ───@───┼────S┼────\n",
            "          │     │\n",
            "2: ───Z───@─────×────\n",
            "              └──┘\n",
            "\n",
            "Circuit with noise:\n",
            "                                                                        ┌──┐\n",
            "0: ───@───D(0.01)[cirq.VirtualTag()]───X───D(0.01)[cirq.VirtualTag()]─────×────D(0.01)[cirq.VirtualTag()]───\n",
            "      │                                │                                  │\n",
            "1: ───@───D(0.01)[cirq.VirtualTag()]───┼───D(0.01)[cirq.VirtualTag()]────S┼────D(0.01)[cirq.VirtualTag()]───\n",
            "                                       │                                  │\n",
            "2: ───Z───D(0.01)[cirq.VirtualTag()]───@───D(0.01)[cirq.VirtualTag()]─────×────D(0.01)[cirq.VirtualTag()]───\n",
            "                                                                        └──┘\n"
          ]
        }
      ]
    },
    {
      "cell_type": "code",
      "source": [
        "\"\"\"Add noise to an operation, moment, or sequence of moments.\"\"\"\n",
        "# Create a noise model.\n",
        "noise_model = cirq.NoiseModel.from_noise_model_like(cirq.depolarize(p=0.01))\n",
        "\n",
        "# Get a qubit register.\n",
        "qreg = cirq.LineQubit.range(2)\n",
        "\n",
        "# Add noise to an operation.\n",
        "op = cirq.CNOT(*qreg)\n",
        "noisy_op = noise_model.noisy_operation(op)\n",
        "\n",
        "# Add noise to a moment.\n",
        "moment = cirq.Moment(cirq.H.on_each(qreg))\n",
        "noisy_moment = noise_model.noisy_moment(moment, system_qubits=qreg)\n",
        "\n",
        "# Add noise to a sequence of moments.\n",
        "circuit = cirq.Circuit(cirq.H(qreg[0]), cirq.CNOT(*qreg))\n",
        "noisy_circuit = noise_model.noisy_moments(circuit, system_qubits=qreg)"
      ],
      "metadata": {
        "id": "iSD3HMMF-amT"
      },
      "execution_count": null,
      "outputs": []
    },
    {
      "cell_type": "markdown",
      "source": [
        "## Monte Carlo wavefunction simulation"
      ],
      "metadata": {
        "id": "T-5xInN3-zL6"
      }
    },
    {
      "cell_type": "code",
      "source": [
        "\"\"\"Simulating a noisy circuit via Monte Carlo simulation.\"\"\"\n",
        "# Get a circuit.\n",
        "qbit = cirq.NamedQubit(\"Q\")\n",
        "circuit = cirq.Circuit(cirq.bit_flip(p=0.5).on(qbit))\n",
        "\n",
        "# Display it.\n",
        "print(\"Simulating circuit:\")\n",
        "print(circuit)\n",
        "\n",
        "# Simulate with the cirq.Simulator.\n",
        "sim = cirq.Simulator()\n",
        "psi = sim.simulate(circuit).dirac_notation()\n",
        "\n",
        "# Display the final wavefunction.\n",
        "print(\"\\nFinal wavefunction:\")\n",
        "print(psi)"
      ],
      "metadata": {
        "colab": {
          "base_uri": "https://localhost:8080/"
        },
        "id": "2szHKntk-x_-",
        "outputId": "0f3955ed-855b-46a6-9016-3f14a1c852dd"
      },
      "execution_count": null,
      "outputs": [
        {
          "output_type": "stream",
          "name": "stdout",
          "text": [
            "Simulating circuit:\n",
            "Q: ───BF(0.5)───\n",
            "\n",
            "Final wavefunction:\n",
            "|0⟩\n"
          ]
        }
      ]
    },
    {
      "cell_type": "code",
      "source": [
        "\"\"\"Example of Monte Carlo wavefunction simulation with the `run` method.\"\"\"\n",
        "circuit = cirq.Circuit(\n",
        "    cirq.bit_flip(p=0.5).on(qbit),\n",
        "    cirq.measure(qbit),\n",
        ")\n",
        "res = sim.run(circuit, repetitions=100)\n",
        "print(res.histogram(key=qbit))"
      ],
      "metadata": {
        "colab": {
          "base_uri": "https://localhost:8080/"
        },
        "id": "KGWUYLoy-93n",
        "outputId": "1ac88301-46dd-4410-eb38-782aa834904b"
      },
      "execution_count": null,
      "outputs": [
        {
          "output_type": "stream",
          "name": "stdout",
          "text": [
            "Counter({0: 53, 1: 47})\n"
          ]
        }
      ]
    }
  ]
}