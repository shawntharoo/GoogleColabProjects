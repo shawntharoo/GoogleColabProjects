{
  "cells": [
    {
      "cell_type": "markdown",
      "metadata": {
        "id": "view-in-github",
        "colab_type": "text"
      },
      "source": [
        "<a href=\"https://colab.research.google.com/github/shawntharoo/GoogleColabProjects/blob/main/Copy_of_MBA509_Lesson_8b_NLP_VIDEO_DETECTION_DEEPLEARNING.ipynb\" target=\"_parent\"><img src=\"https://colab.research.google.com/assets/colab-badge.svg\" alt=\"Open In Colab\"/></a>"
      ]
    },
    {
      "cell_type": "markdown",
      "metadata": {
        "id": "8iKCv4rgk0t0"
      },
      "source": [
        "# MBA509 Lesson#8b Applications of Deep Learning\n",
        "\n",
        "This notebook explores:\n",
        "* how NLP (SpaCy) are applied to gain insights from documents (unstructured data).\n",
        "* How to build Neural Networks: simpleRNN, RNN, LSTMS, CNNs\n",
        "* How to apply Convolutional Neural Networks to Detect Actions in Video Advertising\n",
        "\n",
        "The material also includes a section on how to construct our own AI  using Tensorflow & Keras APIs\n",
        "\n"
      ]
    },
    {
      "cell_type": "markdown",
      "metadata": {
        "id": "VMU3Fr5mk0t5"
      },
      "source": [
        "# Natural Language Processing\n",
        "\n",
        "We will use SpaCy: https://spacy.io/\n",
        "\n",
        "Primary Tasks:\n",
        "* Document Insights: structures, words, similarities, polarities\n",
        "* Named Entity Recognition\n",
        "* Sentiment Analysis"
      ]
    },
    {
      "cell_type": "code",
      "execution_count": null,
      "metadata": {
        "id": "qwvCNtUhSOUf"
      },
      "outputs": [],
      "source": [
        "# this is the workaround for GPU error cuDNN\n",
        "!apt install --allow-change-held-packages libcudnn8=8.1.0.77-1+cuda11.2"
      ]
    },
    {
      "cell_type": "markdown",
      "metadata": {
        "id": "8aBLQPnjk0t6"
      },
      "source": [
        "# INSTALLATIONS"
      ]
    },
    {
      "cell_type": "code",
      "execution_count": null,
      "metadata": {
        "colab": {
          "base_uri": "https://localhost:8080/"
        },
        "id": "RkKoAt6gk0t7",
        "outputId": "bb01986d-136f-4284-ea46-c6321f9e2865"
      },
      "outputs": [
        {
          "name": "stdout",
          "output_type": "stream",
          "text": [
            "Requirement already satisfied: spacy in /usr/local/lib/python3.7/dist-packages (3.2.1)\n",
            "Requirement already satisfied: preshed<3.1.0,>=3.0.2 in /usr/local/lib/python3.7/dist-packages (from spacy) (3.0.6)\n",
            "Requirement already satisfied: spacy-legacy<3.1.0,>=3.0.8 in /usr/local/lib/python3.7/dist-packages (from spacy) (3.0.8)\n",
            "Requirement already satisfied: requests<3.0.0,>=2.13.0 in /usr/local/lib/python3.7/dist-packages (from spacy) (2.23.0)\n",
            "Requirement already satisfied: typer<0.5.0,>=0.3.0 in /usr/local/lib/python3.7/dist-packages (from spacy) (0.4.0)\n",
            "Requirement already satisfied: catalogue<2.1.0,>=2.0.6 in /usr/local/lib/python3.7/dist-packages (from spacy) (2.0.6)\n",
            "Requirement already satisfied: thinc<8.1.0,>=8.0.12 in /usr/local/lib/python3.7/dist-packages (from spacy) (8.0.13)\n",
            "Requirement already satisfied: numpy>=1.15.0 in /usr/local/lib/python3.7/dist-packages (from spacy) (1.19.5)\n",
            "Requirement already satisfied: wasabi<1.1.0,>=0.8.1 in /usr/local/lib/python3.7/dist-packages (from spacy) (0.8.2)\n",
            "Requirement already satisfied: langcodes<4.0.0,>=3.2.0 in /usr/local/lib/python3.7/dist-packages (from spacy) (3.3.0)\n",
            "Requirement already satisfied: srsly<3.0.0,>=2.4.1 in /usr/local/lib/python3.7/dist-packages (from spacy) (2.4.2)\n",
            "Requirement already satisfied: spacy-loggers<2.0.0,>=1.0.0 in /usr/local/lib/python3.7/dist-packages (from spacy) (1.0.1)\n",
            "Requirement already satisfied: blis<0.8.0,>=0.4.0 in /usr/local/lib/python3.7/dist-packages (from spacy) (0.4.1)\n",
            "Requirement already satisfied: setuptools in /usr/local/lib/python3.7/dist-packages (from spacy) (57.4.0)\n",
            "Requirement already satisfied: packaging>=20.0 in /usr/local/lib/python3.7/dist-packages (from spacy) (21.3)\n",
            "Requirement already satisfied: jinja2 in /usr/local/lib/python3.7/dist-packages (from spacy) (2.11.3)\n",
            "Requirement already satisfied: pydantic!=1.8,!=1.8.1,<1.9.0,>=1.7.4 in /usr/local/lib/python3.7/dist-packages (from spacy) (1.8.2)\n",
            "Requirement already satisfied: pathy>=0.3.5 in /usr/local/lib/python3.7/dist-packages (from spacy) (0.6.1)\n",
            "Requirement already satisfied: tqdm<5.0.0,>=4.38.0 in /usr/local/lib/python3.7/dist-packages (from spacy) (4.62.3)\n",
            "Requirement already satisfied: murmurhash<1.1.0,>=0.28.0 in /usr/local/lib/python3.7/dist-packages (from spacy) (1.0.6)\n",
            "Requirement already satisfied: cymem<2.1.0,>=2.0.2 in /usr/local/lib/python3.7/dist-packages (from spacy) (2.0.6)\n",
            "Requirement already satisfied: typing-extensions<4.0.0.0,>=3.7.4 in /usr/local/lib/python3.7/dist-packages (from spacy) (3.10.0.2)\n",
            "Requirement already satisfied: zipp>=0.5 in /usr/local/lib/python3.7/dist-packages (from catalogue<2.1.0,>=2.0.6->spacy) (3.6.0)\n",
            "Requirement already satisfied: pyparsing!=3.0.5,>=2.0.2 in /usr/local/lib/python3.7/dist-packages (from packaging>=20.0->spacy) (3.0.6)\n",
            "Requirement already satisfied: smart-open<6.0.0,>=5.0.0 in /usr/local/lib/python3.7/dist-packages (from pathy>=0.3.5->spacy) (5.2.1)\n",
            "Requirement already satisfied: idna<3,>=2.5 in /usr/local/lib/python3.7/dist-packages (from requests<3.0.0,>=2.13.0->spacy) (2.10)\n",
            "Requirement already satisfied: chardet<4,>=3.0.2 in /usr/local/lib/python3.7/dist-packages (from requests<3.0.0,>=2.13.0->spacy) (3.0.4)\n",
            "Requirement already satisfied: certifi>=2017.4.17 in /usr/local/lib/python3.7/dist-packages (from requests<3.0.0,>=2.13.0->spacy) (2021.10.8)\n",
            "Requirement already satisfied: urllib3!=1.25.0,!=1.25.1,<1.26,>=1.21.1 in /usr/local/lib/python3.7/dist-packages (from requests<3.0.0,>=2.13.0->spacy) (1.24.3)\n",
            "Requirement already satisfied: click<9.0.0,>=7.1.1 in /usr/local/lib/python3.7/dist-packages (from typer<0.5.0,>=0.3.0->spacy) (7.1.2)\n",
            "Requirement already satisfied: MarkupSafe>=0.23 in /usr/local/lib/python3.7/dist-packages (from jinja2->spacy) (2.0.1)\n"
          ]
        }
      ],
      "source": [
        "!pip install spacy"
      ]
    },
    {
      "cell_type": "code",
      "execution_count": null,
      "metadata": {
        "colab": {
          "base_uri": "https://localhost:8080/"
        },
        "id": "OQpbmsjg7jxN",
        "outputId": "dd1e702b-b08e-4991-f0c9-fb07b857010a"
      },
      "outputs": [
        {
          "name": "stdout",
          "output_type": "stream",
          "text": [
            "Collecting en-core-web-sm==3.2.0\n",
            "  Downloading https://github.com/explosion/spacy-models/releases/download/en_core_web_sm-3.2.0/en_core_web_sm-3.2.0-py3-none-any.whl (13.9 MB)\n",
            "\u001b[K     |████████████████████████████████| 13.9 MB 1.6 MB/s \n",
            "\u001b[?25hRequirement already satisfied: spacy<3.3.0,>=3.2.0 in /usr/local/lib/python3.7/dist-packages (from en-core-web-sm==3.2.0) (3.2.1)\n",
            "Requirement already satisfied: numpy>=1.15.0 in /usr/local/lib/python3.7/dist-packages (from spacy<3.3.0,>=3.2.0->en-core-web-sm==3.2.0) (1.19.5)\n",
            "Requirement already satisfied: typing-extensions<4.0.0.0,>=3.7.4 in /usr/local/lib/python3.7/dist-packages (from spacy<3.3.0,>=3.2.0->en-core-web-sm==3.2.0) (3.10.0.2)\n",
            "Requirement already satisfied: preshed<3.1.0,>=3.0.2 in /usr/local/lib/python3.7/dist-packages (from spacy<3.3.0,>=3.2.0->en-core-web-sm==3.2.0) (3.0.6)\n",
            "Requirement already satisfied: wasabi<1.1.0,>=0.8.1 in /usr/local/lib/python3.7/dist-packages (from spacy<3.3.0,>=3.2.0->en-core-web-sm==3.2.0) (0.8.2)\n",
            "Requirement already satisfied: tqdm<5.0.0,>=4.38.0 in /usr/local/lib/python3.7/dist-packages (from spacy<3.3.0,>=3.2.0->en-core-web-sm==3.2.0) (4.62.3)\n",
            "Requirement already satisfied: spacy-legacy<3.1.0,>=3.0.8 in /usr/local/lib/python3.7/dist-packages (from spacy<3.3.0,>=3.2.0->en-core-web-sm==3.2.0) (3.0.8)\n",
            "Requirement already satisfied: pathy>=0.3.5 in /usr/local/lib/python3.7/dist-packages (from spacy<3.3.0,>=3.2.0->en-core-web-sm==3.2.0) (0.6.1)\n",
            "Requirement already satisfied: catalogue<2.1.0,>=2.0.6 in /usr/local/lib/python3.7/dist-packages (from spacy<3.3.0,>=3.2.0->en-core-web-sm==3.2.0) (2.0.6)\n",
            "Requirement already satisfied: langcodes<4.0.0,>=3.2.0 in /usr/local/lib/python3.7/dist-packages (from spacy<3.3.0,>=3.2.0->en-core-web-sm==3.2.0) (3.3.0)\n",
            "Requirement already satisfied: pydantic!=1.8,!=1.8.1,<1.9.0,>=1.7.4 in /usr/local/lib/python3.7/dist-packages (from spacy<3.3.0,>=3.2.0->en-core-web-sm==3.2.0) (1.8.2)\n",
            "Requirement already satisfied: thinc<8.1.0,>=8.0.12 in /usr/local/lib/python3.7/dist-packages (from spacy<3.3.0,>=3.2.0->en-core-web-sm==3.2.0) (8.0.13)\n",
            "Requirement already satisfied: spacy-loggers<2.0.0,>=1.0.0 in /usr/local/lib/python3.7/dist-packages (from spacy<3.3.0,>=3.2.0->en-core-web-sm==3.2.0) (1.0.1)\n",
            "Requirement already satisfied: jinja2 in /usr/local/lib/python3.7/dist-packages (from spacy<3.3.0,>=3.2.0->en-core-web-sm==3.2.0) (2.11.3)\n",
            "Requirement already satisfied: srsly<3.0.0,>=2.4.1 in /usr/local/lib/python3.7/dist-packages (from spacy<3.3.0,>=3.2.0->en-core-web-sm==3.2.0) (2.4.2)\n",
            "Requirement already satisfied: setuptools in /usr/local/lib/python3.7/dist-packages (from spacy<3.3.0,>=3.2.0->en-core-web-sm==3.2.0) (57.4.0)\n",
            "Requirement already satisfied: requests<3.0.0,>=2.13.0 in /usr/local/lib/python3.7/dist-packages (from spacy<3.3.0,>=3.2.0->en-core-web-sm==3.2.0) (2.23.0)\n",
            "Requirement already satisfied: packaging>=20.0 in /usr/local/lib/python3.7/dist-packages (from spacy<3.3.0,>=3.2.0->en-core-web-sm==3.2.0) (21.3)\n",
            "Requirement already satisfied: murmurhash<1.1.0,>=0.28.0 in /usr/local/lib/python3.7/dist-packages (from spacy<3.3.0,>=3.2.0->en-core-web-sm==3.2.0) (1.0.6)\n",
            "Requirement already satisfied: blis<0.8.0,>=0.4.0 in /usr/local/lib/python3.7/dist-packages (from spacy<3.3.0,>=3.2.0->en-core-web-sm==3.2.0) (0.4.1)\n",
            "Requirement already satisfied: typer<0.5.0,>=0.3.0 in /usr/local/lib/python3.7/dist-packages (from spacy<3.3.0,>=3.2.0->en-core-web-sm==3.2.0) (0.4.0)\n",
            "Requirement already satisfied: cymem<2.1.0,>=2.0.2 in /usr/local/lib/python3.7/dist-packages (from spacy<3.3.0,>=3.2.0->en-core-web-sm==3.2.0) (2.0.6)\n",
            "Requirement already satisfied: zipp>=0.5 in /usr/local/lib/python3.7/dist-packages (from catalogue<2.1.0,>=2.0.6->spacy<3.3.0,>=3.2.0->en-core-web-sm==3.2.0) (3.6.0)\n",
            "Requirement already satisfied: pyparsing!=3.0.5,>=2.0.2 in /usr/local/lib/python3.7/dist-packages (from packaging>=20.0->spacy<3.3.0,>=3.2.0->en-core-web-sm==3.2.0) (3.0.6)\n",
            "Requirement already satisfied: smart-open<6.0.0,>=5.0.0 in /usr/local/lib/python3.7/dist-packages (from pathy>=0.3.5->spacy<3.3.0,>=3.2.0->en-core-web-sm==3.2.0) (5.2.1)\n",
            "Requirement already satisfied: certifi>=2017.4.17 in /usr/local/lib/python3.7/dist-packages (from requests<3.0.0,>=2.13.0->spacy<3.3.0,>=3.2.0->en-core-web-sm==3.2.0) (2021.10.8)\n",
            "Requirement already satisfied: idna<3,>=2.5 in /usr/local/lib/python3.7/dist-packages (from requests<3.0.0,>=2.13.0->spacy<3.3.0,>=3.2.0->en-core-web-sm==3.2.0) (2.10)\n",
            "Requirement already satisfied: urllib3!=1.25.0,!=1.25.1,<1.26,>=1.21.1 in /usr/local/lib/python3.7/dist-packages (from requests<3.0.0,>=2.13.0->spacy<3.3.0,>=3.2.0->en-core-web-sm==3.2.0) (1.24.3)\n",
            "Requirement already satisfied: chardet<4,>=3.0.2 in /usr/local/lib/python3.7/dist-packages (from requests<3.0.0,>=2.13.0->spacy<3.3.0,>=3.2.0->en-core-web-sm==3.2.0) (3.0.4)\n",
            "Requirement already satisfied: click<9.0.0,>=7.1.1 in /usr/local/lib/python3.7/dist-packages (from typer<0.5.0,>=0.3.0->spacy<3.3.0,>=3.2.0->en-core-web-sm==3.2.0) (7.1.2)\n",
            "Requirement already satisfied: MarkupSafe>=0.23 in /usr/local/lib/python3.7/dist-packages (from jinja2->spacy<3.3.0,>=3.2.0->en-core-web-sm==3.2.0) (2.0.1)\n",
            "Installing collected packages: en-core-web-sm\n",
            "  Attempting uninstall: en-core-web-sm\n",
            "    Found existing installation: en-core-web-sm 2.2.5\n",
            "    Uninstalling en-core-web-sm-2.2.5:\n",
            "      Successfully uninstalled en-core-web-sm-2.2.5\n",
            "Successfully installed en-core-web-sm-3.2.0\n",
            "\u001b[38;5;2m✔ Download and installation successful\u001b[0m\n",
            "You can now load the package via spacy.load('en_core_web_sm')\n"
          ]
        }
      ],
      "source": [
        "!python -m spacy download en_core_web_sm"
      ]
    },
    {
      "cell_type": "code",
      "execution_count": null,
      "metadata": {
        "id": "FoZEknqYk0t9"
      },
      "outputs": [],
      "source": [
        "import spacy\n",
        "from spacy import displacy\n",
        "from IPython.core.display import display, HTML\n",
        "from spacy.tokens import Span\n",
        "from spacy.symbols import ORTH\n",
        "from spacy.lang.en import English"
      ]
    },
    {
      "cell_type": "markdown",
      "metadata": {
        "id": "6WxE4esTk0t-"
      },
      "source": [
        "# SpaCy NLP Process\n",
        "\n",
        "\"This will return a Language object containing all components and data needed to process text. We usually call it nlp. Calling the nlp object on a string of text will return a processed Doc:\""
      ]
    },
    {
      "cell_type": "markdown",
      "metadata": {
        "id": "9X2aDbitk0t-"
      },
      "source": [
        "# The Editorial Data for L'Interdit (translate: The Forbidden) Fragrance"
      ]
    },
    {
      "cell_type": "markdown",
      "metadata": {
        "id": "n1_nzRHvk0t_"
      },
      "source": [
        "L'Interdit Eau de Parfum by Givenchy is a Amber Floral fragrance for women. This is a new fragrance. L'Interdit Eau de Parfum was launched in 2018. L'Interdit Eau de Parfum was created by Dominique Ropion, Anne Flipo and Fanny Bal. Top notes are Pear and Bergamot; middle notes are Tuberose, Orange Blossom and Jasmine Sambac; base notes are Patchouli, Vanilla, Ambroxan and Vetiver."
      ]
    },
    {
      "cell_type": "markdown",
      "metadata": {
        "id": "7qlMwkenk0uA"
      },
      "source": [
        "Among the first perfume creations of the house of Givenchy stands the legendary scent of L'Interdit from 1957, dedicated to actress Audrey Hepburn as the most significant muse of this fashion designer. \n",
        "\n",
        "In 2018, its new, modern version called L'Interdit Givenchy comes out, developed by perfumers Dominique Ropion, Anne Flipo and Fanny Bal as a floral-woody composition. The perfume is built on the basis of contrast between a bouquet of white flowers (including jasmine, tuberose and orange blossom) and intense woody and earthy notes of patchouli and vetiver. The concept behind the creation is the \"thrill of the forbidden\" and the challenge of crossing the line.\n",
        "\n",
        "ACTIVE INGREDIENTS:\n",
        "\n",
        "\"A white floral exalted with a dark accord. The first resolutely underground flower.\n",
        "The white notes - orange blossom, jasmin and tuberose - are interlaced with darker more mysterious notes of vetiver and patchouli.\n",
        "A generous intense brightness that isn’t afraid of subversion.\n",
        "Unforgettable, intense, addictive and fearlessly elegant. The shocking side of chic.\"\n",
        "\n",
        "The bottle of thick glass pays homage to the original shape with a more modern outline with the 4 G logo added to the black ribbon that encircles the neck. The face of the new L'Interdit release is actress Rooney Mara. Givenchy L'Interdit is available in 35, 50 and 80 ml Eau de Parfum."
      ]
    },
    {
      "cell_type": "markdown",
      "metadata": {
        "id": "GeQn2Rj5k0uB"
      },
      "source": [
        "# The Grammatical Structure\n",
        "\n",
        "*  How are the words related?\n",
        "\n",
        "\"For example, if you’re analyzing text, it makes a huge difference whether a noun is the subject of a sentence, or the object – or whether “google” is used as a verb, or refers to the website or company in a specific context.\""
      ]
    },
    {
      "cell_type": "code",
      "execution_count": null,
      "metadata": {
        "colab": {
          "base_uri": "https://localhost:8080/"
        },
        "id": "CRYq_lFlk0uC",
        "outputId": "790c7594-0f6a-45ca-a6ac-61c570c02c96"
      },
      "outputs": [
        {
          "name": "stdout",
          "output_type": "stream",
          "text": [
            "\n",
            "Using the 'dep' visualizer\n",
            "Serving on http://0.0.0.0:5000 ...\n",
            "\n",
            "Shutting down server on port 5000.\n"
          ]
        }
      ],
      "source": [
        "nlp = spacy.load(\"en_core_web_sm\")\n",
        "doc = nlp(\"L'Interdit Eau de Parfum by Givenchy is a Amber Floral fragrance for women.\")\n",
        "displacy.serve(doc, style=\"dep\")"
      ]
    },
    {
      "cell_type": "code",
      "execution_count": null,
      "metadata": {
        "colab": {
          "base_uri": "https://localhost:8080/",
          "height": 337
        },
        "id": "VjtZ_9CR8OwN",
        "outputId": "253be89c-c69a-44f6-b874-0ab03e504fdc"
      },
      "outputs": [
        {
          "data": {
            "text/html": [
              "<span class=\"tex2jax_ignore\"><svg xmlns=\"http://www.w3.org/2000/svg\" xmlns:xlink=\"http://www.w3.org/1999/xlink\" xml:lang=\"en\" id=\"b4b667649034431f8d88e05f7b39ef3e-0\" class=\"displacy\" width=\"1220\" height=\"317.0\" direction=\"ltr\" style=\"max-width: none; height: 317.0px; color: #000000; background: #ffffff; font-family: Arial; direction: ltr\">\n",
              "<text class=\"displacy-token\" fill=\"currentColor\" text-anchor=\"middle\" y=\"227.0\">\n",
              "    <tspan class=\"displacy-word\" fill=\"currentColor\" x=\"50\">L'Interdit</tspan>\n",
              "    <tspan class=\"displacy-tag\" dy=\"2em\" fill=\"currentColor\" x=\"50\">PROPN</tspan>\n",
              "</text>\n",
              "\n",
              "<text class=\"displacy-token\" fill=\"currentColor\" text-anchor=\"middle\" y=\"227.0\">\n",
              "    <tspan class=\"displacy-word\" fill=\"currentColor\" x=\"140\">Eau</tspan>\n",
              "    <tspan class=\"displacy-tag\" dy=\"2em\" fill=\"currentColor\" x=\"140\">PROPN</tspan>\n",
              "</text>\n",
              "\n",
              "<text class=\"displacy-token\" fill=\"currentColor\" text-anchor=\"middle\" y=\"227.0\">\n",
              "    <tspan class=\"displacy-word\" fill=\"currentColor\" x=\"230\">de</tspan>\n",
              "    <tspan class=\"displacy-tag\" dy=\"2em\" fill=\"currentColor\" x=\"230\">PROPN</tspan>\n",
              "</text>\n",
              "\n",
              "<text class=\"displacy-token\" fill=\"currentColor\" text-anchor=\"middle\" y=\"227.0\">\n",
              "    <tspan class=\"displacy-word\" fill=\"currentColor\" x=\"320\">Parfum</tspan>\n",
              "    <tspan class=\"displacy-tag\" dy=\"2em\" fill=\"currentColor\" x=\"320\">PROPN</tspan>\n",
              "</text>\n",
              "\n",
              "<text class=\"displacy-token\" fill=\"currentColor\" text-anchor=\"middle\" y=\"227.0\">\n",
              "    <tspan class=\"displacy-word\" fill=\"currentColor\" x=\"410\">by</tspan>\n",
              "    <tspan class=\"displacy-tag\" dy=\"2em\" fill=\"currentColor\" x=\"410\">ADP</tspan>\n",
              "</text>\n",
              "\n",
              "<text class=\"displacy-token\" fill=\"currentColor\" text-anchor=\"middle\" y=\"227.0\">\n",
              "    <tspan class=\"displacy-word\" fill=\"currentColor\" x=\"500\">Givenchy</tspan>\n",
              "    <tspan class=\"displacy-tag\" dy=\"2em\" fill=\"currentColor\" x=\"500\">PROPN</tspan>\n",
              "</text>\n",
              "\n",
              "<text class=\"displacy-token\" fill=\"currentColor\" text-anchor=\"middle\" y=\"227.0\">\n",
              "    <tspan class=\"displacy-word\" fill=\"currentColor\" x=\"590\">is</tspan>\n",
              "    <tspan class=\"displacy-tag\" dy=\"2em\" fill=\"currentColor\" x=\"590\">AUX</tspan>\n",
              "</text>\n",
              "\n",
              "<text class=\"displacy-token\" fill=\"currentColor\" text-anchor=\"middle\" y=\"227.0\">\n",
              "    <tspan class=\"displacy-word\" fill=\"currentColor\" x=\"680\">a</tspan>\n",
              "    <tspan class=\"displacy-tag\" dy=\"2em\" fill=\"currentColor\" x=\"680\">DET</tspan>\n",
              "</text>\n",
              "\n",
              "<text class=\"displacy-token\" fill=\"currentColor\" text-anchor=\"middle\" y=\"227.0\">\n",
              "    <tspan class=\"displacy-word\" fill=\"currentColor\" x=\"770\">Amber</tspan>\n",
              "    <tspan class=\"displacy-tag\" dy=\"2em\" fill=\"currentColor\" x=\"770\">PROPN</tspan>\n",
              "</text>\n",
              "\n",
              "<text class=\"displacy-token\" fill=\"currentColor\" text-anchor=\"middle\" y=\"227.0\">\n",
              "    <tspan class=\"displacy-word\" fill=\"currentColor\" x=\"860\">Floral</tspan>\n",
              "    <tspan class=\"displacy-tag\" dy=\"2em\" fill=\"currentColor\" x=\"860\">PROPN</tspan>\n",
              "</text>\n",
              "\n",
              "<text class=\"displacy-token\" fill=\"currentColor\" text-anchor=\"middle\" y=\"227.0\">\n",
              "    <tspan class=\"displacy-word\" fill=\"currentColor\" x=\"950\">fragrance</tspan>\n",
              "    <tspan class=\"displacy-tag\" dy=\"2em\" fill=\"currentColor\" x=\"950\">NOUN</tspan>\n",
              "</text>\n",
              "\n",
              "<text class=\"displacy-token\" fill=\"currentColor\" text-anchor=\"middle\" y=\"227.0\">\n",
              "    <tspan class=\"displacy-word\" fill=\"currentColor\" x=\"1040\">for</tspan>\n",
              "    <tspan class=\"displacy-tag\" dy=\"2em\" fill=\"currentColor\" x=\"1040\">ADP</tspan>\n",
              "</text>\n",
              "\n",
              "<text class=\"displacy-token\" fill=\"currentColor\" text-anchor=\"middle\" y=\"227.0\">\n",
              "    <tspan class=\"displacy-word\" fill=\"currentColor\" x=\"1130\">women.</tspan>\n",
              "    <tspan class=\"displacy-tag\" dy=\"2em\" fill=\"currentColor\" x=\"1130\">NOUN</tspan>\n",
              "</text>\n",
              "\n",
              "<g class=\"displacy-arrow\">\n",
              "    <path class=\"displacy-arc\" id=\"arrow-b4b667649034431f8d88e05f7b39ef3e-0-0\" stroke-width=\"2px\" d=\"M70,182.0 C70,47.0 315.0,47.0 315.0,182.0\" fill=\"none\" stroke=\"currentColor\"/>\n",
              "    <text dy=\"1.25em\" style=\"font-size: 0.8em; letter-spacing: 1px\">\n",
              "        <textPath xlink:href=\"#arrow-b4b667649034431f8d88e05f7b39ef3e-0-0\" class=\"displacy-label\" startOffset=\"50%\" side=\"left\" fill=\"currentColor\" text-anchor=\"middle\">compound</textPath>\n",
              "    </text>\n",
              "    <path class=\"displacy-arrowhead\" d=\"M70,184.0 L62,172.0 78,172.0\" fill=\"currentColor\"/>\n",
              "</g>\n",
              "\n",
              "<g class=\"displacy-arrow\">\n",
              "    <path class=\"displacy-arc\" id=\"arrow-b4b667649034431f8d88e05f7b39ef3e-0-1\" stroke-width=\"2px\" d=\"M160,182.0 C160,92.0 310.0,92.0 310.0,182.0\" fill=\"none\" stroke=\"currentColor\"/>\n",
              "    <text dy=\"1.25em\" style=\"font-size: 0.8em; letter-spacing: 1px\">\n",
              "        <textPath xlink:href=\"#arrow-b4b667649034431f8d88e05f7b39ef3e-0-1\" class=\"displacy-label\" startOffset=\"50%\" side=\"left\" fill=\"currentColor\" text-anchor=\"middle\">compound</textPath>\n",
              "    </text>\n",
              "    <path class=\"displacy-arrowhead\" d=\"M160,184.0 L152,172.0 168,172.0\" fill=\"currentColor\"/>\n",
              "</g>\n",
              "\n",
              "<g class=\"displacy-arrow\">\n",
              "    <path class=\"displacy-arc\" id=\"arrow-b4b667649034431f8d88e05f7b39ef3e-0-2\" stroke-width=\"2px\" d=\"M250,182.0 C250,137.0 305.0,137.0 305.0,182.0\" fill=\"none\" stroke=\"currentColor\"/>\n",
              "    <text dy=\"1.25em\" style=\"font-size: 0.8em; letter-spacing: 1px\">\n",
              "        <textPath xlink:href=\"#arrow-b4b667649034431f8d88e05f7b39ef3e-0-2\" class=\"displacy-label\" startOffset=\"50%\" side=\"left\" fill=\"currentColor\" text-anchor=\"middle\">compound</textPath>\n",
              "    </text>\n",
              "    <path class=\"displacy-arrowhead\" d=\"M250,184.0 L242,172.0 258,172.0\" fill=\"currentColor\"/>\n",
              "</g>\n",
              "\n",
              "<g class=\"displacy-arrow\">\n",
              "    <path class=\"displacy-arc\" id=\"arrow-b4b667649034431f8d88e05f7b39ef3e-0-3\" stroke-width=\"2px\" d=\"M340,182.0 C340,47.0 585.0,47.0 585.0,182.0\" fill=\"none\" stroke=\"currentColor\"/>\n",
              "    <text dy=\"1.25em\" style=\"font-size: 0.8em; letter-spacing: 1px\">\n",
              "        <textPath xlink:href=\"#arrow-b4b667649034431f8d88e05f7b39ef3e-0-3\" class=\"displacy-label\" startOffset=\"50%\" side=\"left\" fill=\"currentColor\" text-anchor=\"middle\">nsubj</textPath>\n",
              "    </text>\n",
              "    <path class=\"displacy-arrowhead\" d=\"M340,184.0 L332,172.0 348,172.0\" fill=\"currentColor\"/>\n",
              "</g>\n",
              "\n",
              "<g class=\"displacy-arrow\">\n",
              "    <path class=\"displacy-arc\" id=\"arrow-b4b667649034431f8d88e05f7b39ef3e-0-4\" stroke-width=\"2px\" d=\"M340,182.0 C340,137.0 395.0,137.0 395.0,182.0\" fill=\"none\" stroke=\"currentColor\"/>\n",
              "    <text dy=\"1.25em\" style=\"font-size: 0.8em; letter-spacing: 1px\">\n",
              "        <textPath xlink:href=\"#arrow-b4b667649034431f8d88e05f7b39ef3e-0-4\" class=\"displacy-label\" startOffset=\"50%\" side=\"left\" fill=\"currentColor\" text-anchor=\"middle\">prep</textPath>\n",
              "    </text>\n",
              "    <path class=\"displacy-arrowhead\" d=\"M395.0,184.0 L403.0,172.0 387.0,172.0\" fill=\"currentColor\"/>\n",
              "</g>\n",
              "\n",
              "<g class=\"displacy-arrow\">\n",
              "    <path class=\"displacy-arc\" id=\"arrow-b4b667649034431f8d88e05f7b39ef3e-0-5\" stroke-width=\"2px\" d=\"M430,182.0 C430,137.0 485.0,137.0 485.0,182.0\" fill=\"none\" stroke=\"currentColor\"/>\n",
              "    <text dy=\"1.25em\" style=\"font-size: 0.8em; letter-spacing: 1px\">\n",
              "        <textPath xlink:href=\"#arrow-b4b667649034431f8d88e05f7b39ef3e-0-5\" class=\"displacy-label\" startOffset=\"50%\" side=\"left\" fill=\"currentColor\" text-anchor=\"middle\">pobj</textPath>\n",
              "    </text>\n",
              "    <path class=\"displacy-arrowhead\" d=\"M485.0,184.0 L493.0,172.0 477.0,172.0\" fill=\"currentColor\"/>\n",
              "</g>\n",
              "\n",
              "<g class=\"displacy-arrow\">\n",
              "    <path class=\"displacy-arc\" id=\"arrow-b4b667649034431f8d88e05f7b39ef3e-0-6\" stroke-width=\"2px\" d=\"M700,182.0 C700,47.0 945.0,47.0 945.0,182.0\" fill=\"none\" stroke=\"currentColor\"/>\n",
              "    <text dy=\"1.25em\" style=\"font-size: 0.8em; letter-spacing: 1px\">\n",
              "        <textPath xlink:href=\"#arrow-b4b667649034431f8d88e05f7b39ef3e-0-6\" class=\"displacy-label\" startOffset=\"50%\" side=\"left\" fill=\"currentColor\" text-anchor=\"middle\">det</textPath>\n",
              "    </text>\n",
              "    <path class=\"displacy-arrowhead\" d=\"M700,184.0 L692,172.0 708,172.0\" fill=\"currentColor\"/>\n",
              "</g>\n",
              "\n",
              "<g class=\"displacy-arrow\">\n",
              "    <path class=\"displacy-arc\" id=\"arrow-b4b667649034431f8d88e05f7b39ef3e-0-7\" stroke-width=\"2px\" d=\"M790,182.0 C790,92.0 940.0,92.0 940.0,182.0\" fill=\"none\" stroke=\"currentColor\"/>\n",
              "    <text dy=\"1.25em\" style=\"font-size: 0.8em; letter-spacing: 1px\">\n",
              "        <textPath xlink:href=\"#arrow-b4b667649034431f8d88e05f7b39ef3e-0-7\" class=\"displacy-label\" startOffset=\"50%\" side=\"left\" fill=\"currentColor\" text-anchor=\"middle\">compound</textPath>\n",
              "    </text>\n",
              "    <path class=\"displacy-arrowhead\" d=\"M790,184.0 L782,172.0 798,172.0\" fill=\"currentColor\"/>\n",
              "</g>\n",
              "\n",
              "<g class=\"displacy-arrow\">\n",
              "    <path class=\"displacy-arc\" id=\"arrow-b4b667649034431f8d88e05f7b39ef3e-0-8\" stroke-width=\"2px\" d=\"M880,182.0 C880,137.0 935.0,137.0 935.0,182.0\" fill=\"none\" stroke=\"currentColor\"/>\n",
              "    <text dy=\"1.25em\" style=\"font-size: 0.8em; letter-spacing: 1px\">\n",
              "        <textPath xlink:href=\"#arrow-b4b667649034431f8d88e05f7b39ef3e-0-8\" class=\"displacy-label\" startOffset=\"50%\" side=\"left\" fill=\"currentColor\" text-anchor=\"middle\">compound</textPath>\n",
              "    </text>\n",
              "    <path class=\"displacy-arrowhead\" d=\"M880,184.0 L872,172.0 888,172.0\" fill=\"currentColor\"/>\n",
              "</g>\n",
              "\n",
              "<g class=\"displacy-arrow\">\n",
              "    <path class=\"displacy-arc\" id=\"arrow-b4b667649034431f8d88e05f7b39ef3e-0-9\" stroke-width=\"2px\" d=\"M610,182.0 C610,2.0 950.0,2.0 950.0,182.0\" fill=\"none\" stroke=\"currentColor\"/>\n",
              "    <text dy=\"1.25em\" style=\"font-size: 0.8em; letter-spacing: 1px\">\n",
              "        <textPath xlink:href=\"#arrow-b4b667649034431f8d88e05f7b39ef3e-0-9\" class=\"displacy-label\" startOffset=\"50%\" side=\"left\" fill=\"currentColor\" text-anchor=\"middle\">attr</textPath>\n",
              "    </text>\n",
              "    <path class=\"displacy-arrowhead\" d=\"M950.0,184.0 L958.0,172.0 942.0,172.0\" fill=\"currentColor\"/>\n",
              "</g>\n",
              "\n",
              "<g class=\"displacy-arrow\">\n",
              "    <path class=\"displacy-arc\" id=\"arrow-b4b667649034431f8d88e05f7b39ef3e-0-10\" stroke-width=\"2px\" d=\"M970,182.0 C970,137.0 1025.0,137.0 1025.0,182.0\" fill=\"none\" stroke=\"currentColor\"/>\n",
              "    <text dy=\"1.25em\" style=\"font-size: 0.8em; letter-spacing: 1px\">\n",
              "        <textPath xlink:href=\"#arrow-b4b667649034431f8d88e05f7b39ef3e-0-10\" class=\"displacy-label\" startOffset=\"50%\" side=\"left\" fill=\"currentColor\" text-anchor=\"middle\">prep</textPath>\n",
              "    </text>\n",
              "    <path class=\"displacy-arrowhead\" d=\"M1025.0,184.0 L1033.0,172.0 1017.0,172.0\" fill=\"currentColor\"/>\n",
              "</g>\n",
              "\n",
              "<g class=\"displacy-arrow\">\n",
              "    <path class=\"displacy-arc\" id=\"arrow-b4b667649034431f8d88e05f7b39ef3e-0-11\" stroke-width=\"2px\" d=\"M1060,182.0 C1060,137.0 1115.0,137.0 1115.0,182.0\" fill=\"none\" stroke=\"currentColor\"/>\n",
              "    <text dy=\"1.25em\" style=\"font-size: 0.8em; letter-spacing: 1px\">\n",
              "        <textPath xlink:href=\"#arrow-b4b667649034431f8d88e05f7b39ef3e-0-11\" class=\"displacy-label\" startOffset=\"50%\" side=\"left\" fill=\"currentColor\" text-anchor=\"middle\">pobj</textPath>\n",
              "    </text>\n",
              "    <path class=\"displacy-arrowhead\" d=\"M1115.0,184.0 L1123.0,172.0 1107.0,172.0\" fill=\"currentColor\"/>\n",
              "</g>\n",
              "</svg></span>"
            ],
            "text/plain": [
              "<IPython.core.display.HTML object>"
            ]
          },
          "metadata": {},
          "output_type": "display_data"
        }
      ],
      "source": [
        "nlp = spacy.load(\"en_core_web_sm\")\n",
        "doc = nlp(\"L'Interdit Eau de Parfum by Givenchy is a Amber Floral fragrance for women.\")\n",
        "displacy.render(doc, style=\"dep\", jupyter=True,  options={'distance': 90})"
      ]
    },
    {
      "cell_type": "code",
      "execution_count": null,
      "metadata": {
        "colab": {
          "base_uri": "https://localhost:8080/",
          "height": 597
        },
        "id": "Cpwmlk4wk0uD",
        "outputId": "f9403ce7-40db-4932-b02b-33a792845562"
      },
      "outputs": [
        {
          "data": {
            "text/html": [
              "<span class=\"tex2jax_ignore\"><svg xmlns=\"http://www.w3.org/2000/svg\" xmlns:xlink=\"http://www.w3.org/1999/xlink\" xml:lang=\"en\" id=\"0b3934e3c067412485e292f4fd512313-0\" class=\"displacy\" width=\"3890\" height=\"557.0\" direction=\"ltr\" style=\"max-width: none; height: 557.0px; color: #000000; background: #ffffff; font-family: Arial; direction: ltr\">\n",
              "<text class=\"displacy-token\" fill=\"currentColor\" text-anchor=\"middle\" y=\"467.0\">\n",
              "    <tspan class=\"displacy-word\" fill=\"currentColor\" x=\"50\">Among</tspan>\n",
              "    <tspan class=\"displacy-tag\" dy=\"2em\" fill=\"currentColor\" x=\"50\">ADP</tspan>\n",
              "</text>\n",
              "\n",
              "<text class=\"displacy-token\" fill=\"currentColor\" text-anchor=\"middle\" y=\"467.0\">\n",
              "    <tspan class=\"displacy-word\" fill=\"currentColor\" x=\"170\">the</tspan>\n",
              "    <tspan class=\"displacy-tag\" dy=\"2em\" fill=\"currentColor\" x=\"170\">DET</tspan>\n",
              "</text>\n",
              "\n",
              "<text class=\"displacy-token\" fill=\"currentColor\" text-anchor=\"middle\" y=\"467.0\">\n",
              "    <tspan class=\"displacy-word\" fill=\"currentColor\" x=\"290\">first</tspan>\n",
              "    <tspan class=\"displacy-tag\" dy=\"2em\" fill=\"currentColor\" x=\"290\">ADJ</tspan>\n",
              "</text>\n",
              "\n",
              "<text class=\"displacy-token\" fill=\"currentColor\" text-anchor=\"middle\" y=\"467.0\">\n",
              "    <tspan class=\"displacy-word\" fill=\"currentColor\" x=\"410\">perfume</tspan>\n",
              "    <tspan class=\"displacy-tag\" dy=\"2em\" fill=\"currentColor\" x=\"410\">NOUN</tspan>\n",
              "</text>\n",
              "\n",
              "<text class=\"displacy-token\" fill=\"currentColor\" text-anchor=\"middle\" y=\"467.0\">\n",
              "    <tspan class=\"displacy-word\" fill=\"currentColor\" x=\"530\">creations</tspan>\n",
              "    <tspan class=\"displacy-tag\" dy=\"2em\" fill=\"currentColor\" x=\"530\">NOUN</tspan>\n",
              "</text>\n",
              "\n",
              "<text class=\"displacy-token\" fill=\"currentColor\" text-anchor=\"middle\" y=\"467.0\">\n",
              "    <tspan class=\"displacy-word\" fill=\"currentColor\" x=\"650\">of</tspan>\n",
              "    <tspan class=\"displacy-tag\" dy=\"2em\" fill=\"currentColor\" x=\"650\">ADP</tspan>\n",
              "</text>\n",
              "\n",
              "<text class=\"displacy-token\" fill=\"currentColor\" text-anchor=\"middle\" y=\"467.0\">\n",
              "    <tspan class=\"displacy-word\" fill=\"currentColor\" x=\"770\">the</tspan>\n",
              "    <tspan class=\"displacy-tag\" dy=\"2em\" fill=\"currentColor\" x=\"770\">DET</tspan>\n",
              "</text>\n",
              "\n",
              "<text class=\"displacy-token\" fill=\"currentColor\" text-anchor=\"middle\" y=\"467.0\">\n",
              "    <tspan class=\"displacy-word\" fill=\"currentColor\" x=\"890\">house</tspan>\n",
              "    <tspan class=\"displacy-tag\" dy=\"2em\" fill=\"currentColor\" x=\"890\">NOUN</tspan>\n",
              "</text>\n",
              "\n",
              "<text class=\"displacy-token\" fill=\"currentColor\" text-anchor=\"middle\" y=\"467.0\">\n",
              "    <tspan class=\"displacy-word\" fill=\"currentColor\" x=\"1010\">of</tspan>\n",
              "    <tspan class=\"displacy-tag\" dy=\"2em\" fill=\"currentColor\" x=\"1010\">ADP</tspan>\n",
              "</text>\n",
              "\n",
              "<text class=\"displacy-token\" fill=\"currentColor\" text-anchor=\"middle\" y=\"467.0\">\n",
              "    <tspan class=\"displacy-word\" fill=\"currentColor\" x=\"1130\">Givenchy</tspan>\n",
              "    <tspan class=\"displacy-tag\" dy=\"2em\" fill=\"currentColor\" x=\"1130\">PROPN</tspan>\n",
              "</text>\n",
              "\n",
              "<text class=\"displacy-token\" fill=\"currentColor\" text-anchor=\"middle\" y=\"467.0\">\n",
              "    <tspan class=\"displacy-word\" fill=\"currentColor\" x=\"1250\">stands</tspan>\n",
              "    <tspan class=\"displacy-tag\" dy=\"2em\" fill=\"currentColor\" x=\"1250\">VERB</tspan>\n",
              "</text>\n",
              "\n",
              "<text class=\"displacy-token\" fill=\"currentColor\" text-anchor=\"middle\" y=\"467.0\">\n",
              "    <tspan class=\"displacy-word\" fill=\"currentColor\" x=\"1370\">the</tspan>\n",
              "    <tspan class=\"displacy-tag\" dy=\"2em\" fill=\"currentColor\" x=\"1370\">DET</tspan>\n",
              "</text>\n",
              "\n",
              "<text class=\"displacy-token\" fill=\"currentColor\" text-anchor=\"middle\" y=\"467.0\">\n",
              "    <tspan class=\"displacy-word\" fill=\"currentColor\" x=\"1490\">legendary</tspan>\n",
              "    <tspan class=\"displacy-tag\" dy=\"2em\" fill=\"currentColor\" x=\"1490\">ADJ</tspan>\n",
              "</text>\n",
              "\n",
              "<text class=\"displacy-token\" fill=\"currentColor\" text-anchor=\"middle\" y=\"467.0\">\n",
              "    <tspan class=\"displacy-word\" fill=\"currentColor\" x=\"1610\">scent</tspan>\n",
              "    <tspan class=\"displacy-tag\" dy=\"2em\" fill=\"currentColor\" x=\"1610\">NOUN</tspan>\n",
              "</text>\n",
              "\n",
              "<text class=\"displacy-token\" fill=\"currentColor\" text-anchor=\"middle\" y=\"467.0\">\n",
              "    <tspan class=\"displacy-word\" fill=\"currentColor\" x=\"1730\">of</tspan>\n",
              "    <tspan class=\"displacy-tag\" dy=\"2em\" fill=\"currentColor\" x=\"1730\">ADP</tspan>\n",
              "</text>\n",
              "\n",
              "<text class=\"displacy-token\" fill=\"currentColor\" text-anchor=\"middle\" y=\"467.0\">\n",
              "    <tspan class=\"displacy-word\" fill=\"currentColor\" x=\"1850\">L'Interdit</tspan>\n",
              "    <tspan class=\"displacy-tag\" dy=\"2em\" fill=\"currentColor\" x=\"1850\">PROPN</tspan>\n",
              "</text>\n",
              "\n",
              "<text class=\"displacy-token\" fill=\"currentColor\" text-anchor=\"middle\" y=\"467.0\">\n",
              "    <tspan class=\"displacy-word\" fill=\"currentColor\" x=\"1970\">from</tspan>\n",
              "    <tspan class=\"displacy-tag\" dy=\"2em\" fill=\"currentColor\" x=\"1970\">ADP</tspan>\n",
              "</text>\n",
              "\n",
              "<text class=\"displacy-token\" fill=\"currentColor\" text-anchor=\"middle\" y=\"467.0\">\n",
              "    <tspan class=\"displacy-word\" fill=\"currentColor\" x=\"2090\">1957,</tspan>\n",
              "    <tspan class=\"displacy-tag\" dy=\"2em\" fill=\"currentColor\" x=\"2090\">NUM</tspan>\n",
              "</text>\n",
              "\n",
              "<text class=\"displacy-token\" fill=\"currentColor\" text-anchor=\"middle\" y=\"467.0\">\n",
              "    <tspan class=\"displacy-word\" fill=\"currentColor\" x=\"2210\">dedicated</tspan>\n",
              "    <tspan class=\"displacy-tag\" dy=\"2em\" fill=\"currentColor\" x=\"2210\">VERB</tspan>\n",
              "</text>\n",
              "\n",
              "<text class=\"displacy-token\" fill=\"currentColor\" text-anchor=\"middle\" y=\"467.0\">\n",
              "    <tspan class=\"displacy-word\" fill=\"currentColor\" x=\"2330\">to</tspan>\n",
              "    <tspan class=\"displacy-tag\" dy=\"2em\" fill=\"currentColor\" x=\"2330\">ADP</tspan>\n",
              "</text>\n",
              "\n",
              "<text class=\"displacy-token\" fill=\"currentColor\" text-anchor=\"middle\" y=\"467.0\">\n",
              "    <tspan class=\"displacy-word\" fill=\"currentColor\" x=\"2450\">actress</tspan>\n",
              "    <tspan class=\"displacy-tag\" dy=\"2em\" fill=\"currentColor\" x=\"2450\">NOUN</tspan>\n",
              "</text>\n",
              "\n",
              "<text class=\"displacy-token\" fill=\"currentColor\" text-anchor=\"middle\" y=\"467.0\">\n",
              "    <tspan class=\"displacy-word\" fill=\"currentColor\" x=\"2570\">Audrey</tspan>\n",
              "    <tspan class=\"displacy-tag\" dy=\"2em\" fill=\"currentColor\" x=\"2570\">PROPN</tspan>\n",
              "</text>\n",
              "\n",
              "<text class=\"displacy-token\" fill=\"currentColor\" text-anchor=\"middle\" y=\"467.0\">\n",
              "    <tspan class=\"displacy-word\" fill=\"currentColor\" x=\"2690\">Hepburn</tspan>\n",
              "    <tspan class=\"displacy-tag\" dy=\"2em\" fill=\"currentColor\" x=\"2690\">PROPN</tspan>\n",
              "</text>\n",
              "\n",
              "<text class=\"displacy-token\" fill=\"currentColor\" text-anchor=\"middle\" y=\"467.0\">\n",
              "    <tspan class=\"displacy-word\" fill=\"currentColor\" x=\"2810\">as</tspan>\n",
              "    <tspan class=\"displacy-tag\" dy=\"2em\" fill=\"currentColor\" x=\"2810\">SCONJ</tspan>\n",
              "</text>\n",
              "\n",
              "<text class=\"displacy-token\" fill=\"currentColor\" text-anchor=\"middle\" y=\"467.0\">\n",
              "    <tspan class=\"displacy-word\" fill=\"currentColor\" x=\"2930\">the</tspan>\n",
              "    <tspan class=\"displacy-tag\" dy=\"2em\" fill=\"currentColor\" x=\"2930\">DET</tspan>\n",
              "</text>\n",
              "\n",
              "<text class=\"displacy-token\" fill=\"currentColor\" text-anchor=\"middle\" y=\"467.0\">\n",
              "    <tspan class=\"displacy-word\" fill=\"currentColor\" x=\"3050\">most</tspan>\n",
              "    <tspan class=\"displacy-tag\" dy=\"2em\" fill=\"currentColor\" x=\"3050\">ADV</tspan>\n",
              "</text>\n",
              "\n",
              "<text class=\"displacy-token\" fill=\"currentColor\" text-anchor=\"middle\" y=\"467.0\">\n",
              "    <tspan class=\"displacy-word\" fill=\"currentColor\" x=\"3170\">significant</tspan>\n",
              "    <tspan class=\"displacy-tag\" dy=\"2em\" fill=\"currentColor\" x=\"3170\">ADJ</tspan>\n",
              "</text>\n",
              "\n",
              "<text class=\"displacy-token\" fill=\"currentColor\" text-anchor=\"middle\" y=\"467.0\">\n",
              "    <tspan class=\"displacy-word\" fill=\"currentColor\" x=\"3290\">muse</tspan>\n",
              "    <tspan class=\"displacy-tag\" dy=\"2em\" fill=\"currentColor\" x=\"3290\">NOUN</tspan>\n",
              "</text>\n",
              "\n",
              "<text class=\"displacy-token\" fill=\"currentColor\" text-anchor=\"middle\" y=\"467.0\">\n",
              "    <tspan class=\"displacy-word\" fill=\"currentColor\" x=\"3410\">of</tspan>\n",
              "    <tspan class=\"displacy-tag\" dy=\"2em\" fill=\"currentColor\" x=\"3410\">ADP</tspan>\n",
              "</text>\n",
              "\n",
              "<text class=\"displacy-token\" fill=\"currentColor\" text-anchor=\"middle\" y=\"467.0\">\n",
              "    <tspan class=\"displacy-word\" fill=\"currentColor\" x=\"3530\">this</tspan>\n",
              "    <tspan class=\"displacy-tag\" dy=\"2em\" fill=\"currentColor\" x=\"3530\">DET</tspan>\n",
              "</text>\n",
              "\n",
              "<text class=\"displacy-token\" fill=\"currentColor\" text-anchor=\"middle\" y=\"467.0\">\n",
              "    <tspan class=\"displacy-word\" fill=\"currentColor\" x=\"3650\">fashion</tspan>\n",
              "    <tspan class=\"displacy-tag\" dy=\"2em\" fill=\"currentColor\" x=\"3650\">NOUN</tspan>\n",
              "</text>\n",
              "\n",
              "<text class=\"displacy-token\" fill=\"currentColor\" text-anchor=\"middle\" y=\"467.0\">\n",
              "    <tspan class=\"displacy-word\" fill=\"currentColor\" x=\"3770\">designer.</tspan>\n",
              "    <tspan class=\"displacy-tag\" dy=\"2em\" fill=\"currentColor\" x=\"3770\">NOUN</tspan>\n",
              "</text>\n",
              "\n",
              "<g class=\"displacy-arrow\">\n",
              "    <path class=\"displacy-arc\" id=\"arrow-0b3934e3c067412485e292f4fd512313-0-0\" stroke-width=\"2px\" d=\"M70,422.0 C70,2.0 1250.0,2.0 1250.0,422.0\" fill=\"none\" stroke=\"currentColor\"/>\n",
              "    <text dy=\"1.25em\" style=\"font-size: 0.8em; letter-spacing: 1px\">\n",
              "        <textPath xlink:href=\"#arrow-0b3934e3c067412485e292f4fd512313-0-0\" class=\"displacy-label\" startOffset=\"50%\" side=\"left\" fill=\"currentColor\" text-anchor=\"middle\">prep</textPath>\n",
              "    </text>\n",
              "    <path class=\"displacy-arrowhead\" d=\"M70,424.0 L62,412.0 78,412.0\" fill=\"currentColor\"/>\n",
              "</g>\n",
              "\n",
              "<g class=\"displacy-arrow\">\n",
              "    <path class=\"displacy-arc\" id=\"arrow-0b3934e3c067412485e292f4fd512313-0-1\" stroke-width=\"2px\" d=\"M190,422.0 C190,242.0 510.0,242.0 510.0,422.0\" fill=\"none\" stroke=\"currentColor\"/>\n",
              "    <text dy=\"1.25em\" style=\"font-size: 0.8em; letter-spacing: 1px\">\n",
              "        <textPath xlink:href=\"#arrow-0b3934e3c067412485e292f4fd512313-0-1\" class=\"displacy-label\" startOffset=\"50%\" side=\"left\" fill=\"currentColor\" text-anchor=\"middle\">det</textPath>\n",
              "    </text>\n",
              "    <path class=\"displacy-arrowhead\" d=\"M190,424.0 L182,412.0 198,412.0\" fill=\"currentColor\"/>\n",
              "</g>\n",
              "\n",
              "<g class=\"displacy-arrow\">\n",
              "    <path class=\"displacy-arc\" id=\"arrow-0b3934e3c067412485e292f4fd512313-0-2\" stroke-width=\"2px\" d=\"M310,422.0 C310,302.0 505.0,302.0 505.0,422.0\" fill=\"none\" stroke=\"currentColor\"/>\n",
              "    <text dy=\"1.25em\" style=\"font-size: 0.8em; letter-spacing: 1px\">\n",
              "        <textPath xlink:href=\"#arrow-0b3934e3c067412485e292f4fd512313-0-2\" class=\"displacy-label\" startOffset=\"50%\" side=\"left\" fill=\"currentColor\" text-anchor=\"middle\">amod</textPath>\n",
              "    </text>\n",
              "    <path class=\"displacy-arrowhead\" d=\"M310,424.0 L302,412.0 318,412.0\" fill=\"currentColor\"/>\n",
              "</g>\n",
              "\n",
              "<g class=\"displacy-arrow\">\n",
              "    <path class=\"displacy-arc\" id=\"arrow-0b3934e3c067412485e292f4fd512313-0-3\" stroke-width=\"2px\" d=\"M430,422.0 C430,362.0 500.0,362.0 500.0,422.0\" fill=\"none\" stroke=\"currentColor\"/>\n",
              "    <text dy=\"1.25em\" style=\"font-size: 0.8em; letter-spacing: 1px\">\n",
              "        <textPath xlink:href=\"#arrow-0b3934e3c067412485e292f4fd512313-0-3\" class=\"displacy-label\" startOffset=\"50%\" side=\"left\" fill=\"currentColor\" text-anchor=\"middle\">compound</textPath>\n",
              "    </text>\n",
              "    <path class=\"displacy-arrowhead\" d=\"M430,424.0 L422,412.0 438,412.0\" fill=\"currentColor\"/>\n",
              "</g>\n",
              "\n",
              "<g class=\"displacy-arrow\">\n",
              "    <path class=\"displacy-arc\" id=\"arrow-0b3934e3c067412485e292f4fd512313-0-4\" stroke-width=\"2px\" d=\"M70,422.0 C70,182.0 515.0,182.0 515.0,422.0\" fill=\"none\" stroke=\"currentColor\"/>\n",
              "    <text dy=\"1.25em\" style=\"font-size: 0.8em; letter-spacing: 1px\">\n",
              "        <textPath xlink:href=\"#arrow-0b3934e3c067412485e292f4fd512313-0-4\" class=\"displacy-label\" startOffset=\"50%\" side=\"left\" fill=\"currentColor\" text-anchor=\"middle\">pobj</textPath>\n",
              "    </text>\n",
              "    <path class=\"displacy-arrowhead\" d=\"M515.0,424.0 L523.0,412.0 507.0,412.0\" fill=\"currentColor\"/>\n",
              "</g>\n",
              "\n",
              "<g class=\"displacy-arrow\">\n",
              "    <path class=\"displacy-arc\" id=\"arrow-0b3934e3c067412485e292f4fd512313-0-5\" stroke-width=\"2px\" d=\"M550,422.0 C550,362.0 620.0,362.0 620.0,422.0\" fill=\"none\" stroke=\"currentColor\"/>\n",
              "    <text dy=\"1.25em\" style=\"font-size: 0.8em; letter-spacing: 1px\">\n",
              "        <textPath xlink:href=\"#arrow-0b3934e3c067412485e292f4fd512313-0-5\" class=\"displacy-label\" startOffset=\"50%\" side=\"left\" fill=\"currentColor\" text-anchor=\"middle\">prep</textPath>\n",
              "    </text>\n",
              "    <path class=\"displacy-arrowhead\" d=\"M620.0,424.0 L628.0,412.0 612.0,412.0\" fill=\"currentColor\"/>\n",
              "</g>\n",
              "\n",
              "<g class=\"displacy-arrow\">\n",
              "    <path class=\"displacy-arc\" id=\"arrow-0b3934e3c067412485e292f4fd512313-0-6\" stroke-width=\"2px\" d=\"M790,422.0 C790,362.0 860.0,362.0 860.0,422.0\" fill=\"none\" stroke=\"currentColor\"/>\n",
              "    <text dy=\"1.25em\" style=\"font-size: 0.8em; letter-spacing: 1px\">\n",
              "        <textPath xlink:href=\"#arrow-0b3934e3c067412485e292f4fd512313-0-6\" class=\"displacy-label\" startOffset=\"50%\" side=\"left\" fill=\"currentColor\" text-anchor=\"middle\">det</textPath>\n",
              "    </text>\n",
              "    <path class=\"displacy-arrowhead\" d=\"M790,424.0 L782,412.0 798,412.0\" fill=\"currentColor\"/>\n",
              "</g>\n",
              "\n",
              "<g class=\"displacy-arrow\">\n",
              "    <path class=\"displacy-arc\" id=\"arrow-0b3934e3c067412485e292f4fd512313-0-7\" stroke-width=\"2px\" d=\"M670,422.0 C670,302.0 865.0,302.0 865.0,422.0\" fill=\"none\" stroke=\"currentColor\"/>\n",
              "    <text dy=\"1.25em\" style=\"font-size: 0.8em; letter-spacing: 1px\">\n",
              "        <textPath xlink:href=\"#arrow-0b3934e3c067412485e292f4fd512313-0-7\" class=\"displacy-label\" startOffset=\"50%\" side=\"left\" fill=\"currentColor\" text-anchor=\"middle\">pobj</textPath>\n",
              "    </text>\n",
              "    <path class=\"displacy-arrowhead\" d=\"M865.0,424.0 L873.0,412.0 857.0,412.0\" fill=\"currentColor\"/>\n",
              "</g>\n",
              "\n",
              "<g class=\"displacy-arrow\">\n",
              "    <path class=\"displacy-arc\" id=\"arrow-0b3934e3c067412485e292f4fd512313-0-8\" stroke-width=\"2px\" d=\"M910,422.0 C910,362.0 980.0,362.0 980.0,422.0\" fill=\"none\" stroke=\"currentColor\"/>\n",
              "    <text dy=\"1.25em\" style=\"font-size: 0.8em; letter-spacing: 1px\">\n",
              "        <textPath xlink:href=\"#arrow-0b3934e3c067412485e292f4fd512313-0-8\" class=\"displacy-label\" startOffset=\"50%\" side=\"left\" fill=\"currentColor\" text-anchor=\"middle\">prep</textPath>\n",
              "    </text>\n",
              "    <path class=\"displacy-arrowhead\" d=\"M980.0,424.0 L988.0,412.0 972.0,412.0\" fill=\"currentColor\"/>\n",
              "</g>\n",
              "\n",
              "<g class=\"displacy-arrow\">\n",
              "    <path class=\"displacy-arc\" id=\"arrow-0b3934e3c067412485e292f4fd512313-0-9\" stroke-width=\"2px\" d=\"M1030,422.0 C1030,362.0 1100.0,362.0 1100.0,422.0\" fill=\"none\" stroke=\"currentColor\"/>\n",
              "    <text dy=\"1.25em\" style=\"font-size: 0.8em; letter-spacing: 1px\">\n",
              "        <textPath xlink:href=\"#arrow-0b3934e3c067412485e292f4fd512313-0-9\" class=\"displacy-label\" startOffset=\"50%\" side=\"left\" fill=\"currentColor\" text-anchor=\"middle\">pobj</textPath>\n",
              "    </text>\n",
              "    <path class=\"displacy-arrowhead\" d=\"M1100.0,424.0 L1108.0,412.0 1092.0,412.0\" fill=\"currentColor\"/>\n",
              "</g>\n",
              "\n",
              "<g class=\"displacy-arrow\">\n",
              "    <path class=\"displacy-arc\" id=\"arrow-0b3934e3c067412485e292f4fd512313-0-10\" stroke-width=\"2px\" d=\"M1390,422.0 C1390,302.0 1585.0,302.0 1585.0,422.0\" fill=\"none\" stroke=\"currentColor\"/>\n",
              "    <text dy=\"1.25em\" style=\"font-size: 0.8em; letter-spacing: 1px\">\n",
              "        <textPath xlink:href=\"#arrow-0b3934e3c067412485e292f4fd512313-0-10\" class=\"displacy-label\" startOffset=\"50%\" side=\"left\" fill=\"currentColor\" text-anchor=\"middle\">det</textPath>\n",
              "    </text>\n",
              "    <path class=\"displacy-arrowhead\" d=\"M1390,424.0 L1382,412.0 1398,412.0\" fill=\"currentColor\"/>\n",
              "</g>\n",
              "\n",
              "<g class=\"displacy-arrow\">\n",
              "    <path class=\"displacy-arc\" id=\"arrow-0b3934e3c067412485e292f4fd512313-0-11\" stroke-width=\"2px\" d=\"M1510,422.0 C1510,362.0 1580.0,362.0 1580.0,422.0\" fill=\"none\" stroke=\"currentColor\"/>\n",
              "    <text dy=\"1.25em\" style=\"font-size: 0.8em; letter-spacing: 1px\">\n",
              "        <textPath xlink:href=\"#arrow-0b3934e3c067412485e292f4fd512313-0-11\" class=\"displacy-label\" startOffset=\"50%\" side=\"left\" fill=\"currentColor\" text-anchor=\"middle\">amod</textPath>\n",
              "    </text>\n",
              "    <path class=\"displacy-arrowhead\" d=\"M1510,424.0 L1502,412.0 1518,412.0\" fill=\"currentColor\"/>\n",
              "</g>\n",
              "\n",
              "<g class=\"displacy-arrow\">\n",
              "    <path class=\"displacy-arc\" id=\"arrow-0b3934e3c067412485e292f4fd512313-0-12\" stroke-width=\"2px\" d=\"M1270,422.0 C1270,242.0 1590.0,242.0 1590.0,422.0\" fill=\"none\" stroke=\"currentColor\"/>\n",
              "    <text dy=\"1.25em\" style=\"font-size: 0.8em; letter-spacing: 1px\">\n",
              "        <textPath xlink:href=\"#arrow-0b3934e3c067412485e292f4fd512313-0-12\" class=\"displacy-label\" startOffset=\"50%\" side=\"left\" fill=\"currentColor\" text-anchor=\"middle\">dobj</textPath>\n",
              "    </text>\n",
              "    <path class=\"displacy-arrowhead\" d=\"M1590.0,424.0 L1598.0,412.0 1582.0,412.0\" fill=\"currentColor\"/>\n",
              "</g>\n",
              "\n",
              "<g class=\"displacy-arrow\">\n",
              "    <path class=\"displacy-arc\" id=\"arrow-0b3934e3c067412485e292f4fd512313-0-13\" stroke-width=\"2px\" d=\"M1630,422.0 C1630,362.0 1700.0,362.0 1700.0,422.0\" fill=\"none\" stroke=\"currentColor\"/>\n",
              "    <text dy=\"1.25em\" style=\"font-size: 0.8em; letter-spacing: 1px\">\n",
              "        <textPath xlink:href=\"#arrow-0b3934e3c067412485e292f4fd512313-0-13\" class=\"displacy-label\" startOffset=\"50%\" side=\"left\" fill=\"currentColor\" text-anchor=\"middle\">prep</textPath>\n",
              "    </text>\n",
              "    <path class=\"displacy-arrowhead\" d=\"M1700.0,424.0 L1708.0,412.0 1692.0,412.0\" fill=\"currentColor\"/>\n",
              "</g>\n",
              "\n",
              "<g class=\"displacy-arrow\">\n",
              "    <path class=\"displacy-arc\" id=\"arrow-0b3934e3c067412485e292f4fd512313-0-14\" stroke-width=\"2px\" d=\"M1750,422.0 C1750,362.0 1820.0,362.0 1820.0,422.0\" fill=\"none\" stroke=\"currentColor\"/>\n",
              "    <text dy=\"1.25em\" style=\"font-size: 0.8em; letter-spacing: 1px\">\n",
              "        <textPath xlink:href=\"#arrow-0b3934e3c067412485e292f4fd512313-0-14\" class=\"displacy-label\" startOffset=\"50%\" side=\"left\" fill=\"currentColor\" text-anchor=\"middle\">pobj</textPath>\n",
              "    </text>\n",
              "    <path class=\"displacy-arrowhead\" d=\"M1820.0,424.0 L1828.0,412.0 1812.0,412.0\" fill=\"currentColor\"/>\n",
              "</g>\n",
              "\n",
              "<g class=\"displacy-arrow\">\n",
              "    <path class=\"displacy-arc\" id=\"arrow-0b3934e3c067412485e292f4fd512313-0-15\" stroke-width=\"2px\" d=\"M1270,422.0 C1270,122.0 1960.0,122.0 1960.0,422.0\" fill=\"none\" stroke=\"currentColor\"/>\n",
              "    <text dy=\"1.25em\" style=\"font-size: 0.8em; letter-spacing: 1px\">\n",
              "        <textPath xlink:href=\"#arrow-0b3934e3c067412485e292f4fd512313-0-15\" class=\"displacy-label\" startOffset=\"50%\" side=\"left\" fill=\"currentColor\" text-anchor=\"middle\">prep</textPath>\n",
              "    </text>\n",
              "    <path class=\"displacy-arrowhead\" d=\"M1960.0,424.0 L1968.0,412.0 1952.0,412.0\" fill=\"currentColor\"/>\n",
              "</g>\n",
              "\n",
              "<g class=\"displacy-arrow\">\n",
              "    <path class=\"displacy-arc\" id=\"arrow-0b3934e3c067412485e292f4fd512313-0-16\" stroke-width=\"2px\" d=\"M1990,422.0 C1990,362.0 2060.0,362.0 2060.0,422.0\" fill=\"none\" stroke=\"currentColor\"/>\n",
              "    <text dy=\"1.25em\" style=\"font-size: 0.8em; letter-spacing: 1px\">\n",
              "        <textPath xlink:href=\"#arrow-0b3934e3c067412485e292f4fd512313-0-16\" class=\"displacy-label\" startOffset=\"50%\" side=\"left\" fill=\"currentColor\" text-anchor=\"middle\">pobj</textPath>\n",
              "    </text>\n",
              "    <path class=\"displacy-arrowhead\" d=\"M2060.0,424.0 L2068.0,412.0 2052.0,412.0\" fill=\"currentColor\"/>\n",
              "</g>\n",
              "\n",
              "<g class=\"displacy-arrow\">\n",
              "    <path class=\"displacy-arc\" id=\"arrow-0b3934e3c067412485e292f4fd512313-0-17\" stroke-width=\"2px\" d=\"M1270,422.0 C1270,62.0 2205.0,62.0 2205.0,422.0\" fill=\"none\" stroke=\"currentColor\"/>\n",
              "    <text dy=\"1.25em\" style=\"font-size: 0.8em; letter-spacing: 1px\">\n",
              "        <textPath xlink:href=\"#arrow-0b3934e3c067412485e292f4fd512313-0-17\" class=\"displacy-label\" startOffset=\"50%\" side=\"left\" fill=\"currentColor\" text-anchor=\"middle\">advcl</textPath>\n",
              "    </text>\n",
              "    <path class=\"displacy-arrowhead\" d=\"M2205.0,424.0 L2213.0,412.0 2197.0,412.0\" fill=\"currentColor\"/>\n",
              "</g>\n",
              "\n",
              "<g class=\"displacy-arrow\">\n",
              "    <path class=\"displacy-arc\" id=\"arrow-0b3934e3c067412485e292f4fd512313-0-18\" stroke-width=\"2px\" d=\"M2350,422.0 C2350,362.0 2420.0,362.0 2420.0,422.0\" fill=\"none\" stroke=\"currentColor\"/>\n",
              "    <text dy=\"1.25em\" style=\"font-size: 0.8em; letter-spacing: 1px\">\n",
              "        <textPath xlink:href=\"#arrow-0b3934e3c067412485e292f4fd512313-0-18\" class=\"displacy-label\" startOffset=\"50%\" side=\"left\" fill=\"currentColor\" text-anchor=\"middle\">aux</textPath>\n",
              "    </text>\n",
              "    <path class=\"displacy-arrowhead\" d=\"M2350,424.0 L2342,412.0 2358,412.0\" fill=\"currentColor\"/>\n",
              "</g>\n",
              "\n",
              "<g class=\"displacy-arrow\">\n",
              "    <path class=\"displacy-arc\" id=\"arrow-0b3934e3c067412485e292f4fd512313-0-19\" stroke-width=\"2px\" d=\"M2230,422.0 C2230,302.0 2425.0,302.0 2425.0,422.0\" fill=\"none\" stroke=\"currentColor\"/>\n",
              "    <text dy=\"1.25em\" style=\"font-size: 0.8em; letter-spacing: 1px\">\n",
              "        <textPath xlink:href=\"#arrow-0b3934e3c067412485e292f4fd512313-0-19\" class=\"displacy-label\" startOffset=\"50%\" side=\"left\" fill=\"currentColor\" text-anchor=\"middle\">xcomp</textPath>\n",
              "    </text>\n",
              "    <path class=\"displacy-arrowhead\" d=\"M2425.0,424.0 L2433.0,412.0 2417.0,412.0\" fill=\"currentColor\"/>\n",
              "</g>\n",
              "\n",
              "<g class=\"displacy-arrow\">\n",
              "    <path class=\"displacy-arc\" id=\"arrow-0b3934e3c067412485e292f4fd512313-0-20\" stroke-width=\"2px\" d=\"M2590,422.0 C2590,362.0 2660.0,362.0 2660.0,422.0\" fill=\"none\" stroke=\"currentColor\"/>\n",
              "    <text dy=\"1.25em\" style=\"font-size: 0.8em; letter-spacing: 1px\">\n",
              "        <textPath xlink:href=\"#arrow-0b3934e3c067412485e292f4fd512313-0-20\" class=\"displacy-label\" startOffset=\"50%\" side=\"left\" fill=\"currentColor\" text-anchor=\"middle\">compound</textPath>\n",
              "    </text>\n",
              "    <path class=\"displacy-arrowhead\" d=\"M2590,424.0 L2582,412.0 2598,412.0\" fill=\"currentColor\"/>\n",
              "</g>\n",
              "\n",
              "<g class=\"displacy-arrow\">\n",
              "    <path class=\"displacy-arc\" id=\"arrow-0b3934e3c067412485e292f4fd512313-0-21\" stroke-width=\"2px\" d=\"M2470,422.0 C2470,302.0 2665.0,302.0 2665.0,422.0\" fill=\"none\" stroke=\"currentColor\"/>\n",
              "    <text dy=\"1.25em\" style=\"font-size: 0.8em; letter-spacing: 1px\">\n",
              "        <textPath xlink:href=\"#arrow-0b3934e3c067412485e292f4fd512313-0-21\" class=\"displacy-label\" startOffset=\"50%\" side=\"left\" fill=\"currentColor\" text-anchor=\"middle\">dobj</textPath>\n",
              "    </text>\n",
              "    <path class=\"displacy-arrowhead\" d=\"M2665.0,424.0 L2673.0,412.0 2657.0,412.0\" fill=\"currentColor\"/>\n",
              "</g>\n",
              "\n",
              "<g class=\"displacy-arrow\">\n",
              "    <path class=\"displacy-arc\" id=\"arrow-0b3934e3c067412485e292f4fd512313-0-22\" stroke-width=\"2px\" d=\"M2470,422.0 C2470,242.0 2790.0,242.0 2790.0,422.0\" fill=\"none\" stroke=\"currentColor\"/>\n",
              "    <text dy=\"1.25em\" style=\"font-size: 0.8em; letter-spacing: 1px\">\n",
              "        <textPath xlink:href=\"#arrow-0b3934e3c067412485e292f4fd512313-0-22\" class=\"displacy-label\" startOffset=\"50%\" side=\"left\" fill=\"currentColor\" text-anchor=\"middle\">prep</textPath>\n",
              "    </text>\n",
              "    <path class=\"displacy-arrowhead\" d=\"M2790.0,424.0 L2798.0,412.0 2782.0,412.0\" fill=\"currentColor\"/>\n",
              "</g>\n",
              "\n",
              "<g class=\"displacy-arrow\">\n",
              "    <path class=\"displacy-arc\" id=\"arrow-0b3934e3c067412485e292f4fd512313-0-23\" stroke-width=\"2px\" d=\"M2950,422.0 C2950,242.0 3270.0,242.0 3270.0,422.0\" fill=\"none\" stroke=\"currentColor\"/>\n",
              "    <text dy=\"1.25em\" style=\"font-size: 0.8em; letter-spacing: 1px\">\n",
              "        <textPath xlink:href=\"#arrow-0b3934e3c067412485e292f4fd512313-0-23\" class=\"displacy-label\" startOffset=\"50%\" side=\"left\" fill=\"currentColor\" text-anchor=\"middle\">det</textPath>\n",
              "    </text>\n",
              "    <path class=\"displacy-arrowhead\" d=\"M2950,424.0 L2942,412.0 2958,412.0\" fill=\"currentColor\"/>\n",
              "</g>\n",
              "\n",
              "<g class=\"displacy-arrow\">\n",
              "    <path class=\"displacy-arc\" id=\"arrow-0b3934e3c067412485e292f4fd512313-0-24\" stroke-width=\"2px\" d=\"M3070,422.0 C3070,362.0 3140.0,362.0 3140.0,422.0\" fill=\"none\" stroke=\"currentColor\"/>\n",
              "    <text dy=\"1.25em\" style=\"font-size: 0.8em; letter-spacing: 1px\">\n",
              "        <textPath xlink:href=\"#arrow-0b3934e3c067412485e292f4fd512313-0-24\" class=\"displacy-label\" startOffset=\"50%\" side=\"left\" fill=\"currentColor\" text-anchor=\"middle\">advmod</textPath>\n",
              "    </text>\n",
              "    <path class=\"displacy-arrowhead\" d=\"M3070,424.0 L3062,412.0 3078,412.0\" fill=\"currentColor\"/>\n",
              "</g>\n",
              "\n",
              "<g class=\"displacy-arrow\">\n",
              "    <path class=\"displacy-arc\" id=\"arrow-0b3934e3c067412485e292f4fd512313-0-25\" stroke-width=\"2px\" d=\"M3190,422.0 C3190,362.0 3260.0,362.0 3260.0,422.0\" fill=\"none\" stroke=\"currentColor\"/>\n",
              "    <text dy=\"1.25em\" style=\"font-size: 0.8em; letter-spacing: 1px\">\n",
              "        <textPath xlink:href=\"#arrow-0b3934e3c067412485e292f4fd512313-0-25\" class=\"displacy-label\" startOffset=\"50%\" side=\"left\" fill=\"currentColor\" text-anchor=\"middle\">amod</textPath>\n",
              "    </text>\n",
              "    <path class=\"displacy-arrowhead\" d=\"M3190,424.0 L3182,412.0 3198,412.0\" fill=\"currentColor\"/>\n",
              "</g>\n",
              "\n",
              "<g class=\"displacy-arrow\">\n",
              "    <path class=\"displacy-arc\" id=\"arrow-0b3934e3c067412485e292f4fd512313-0-26\" stroke-width=\"2px\" d=\"M2830,422.0 C2830,182.0 3275.0,182.0 3275.0,422.0\" fill=\"none\" stroke=\"currentColor\"/>\n",
              "    <text dy=\"1.25em\" style=\"font-size: 0.8em; letter-spacing: 1px\">\n",
              "        <textPath xlink:href=\"#arrow-0b3934e3c067412485e292f4fd512313-0-26\" class=\"displacy-label\" startOffset=\"50%\" side=\"left\" fill=\"currentColor\" text-anchor=\"middle\">pobj</textPath>\n",
              "    </text>\n",
              "    <path class=\"displacy-arrowhead\" d=\"M3275.0,424.0 L3283.0,412.0 3267.0,412.0\" fill=\"currentColor\"/>\n",
              "</g>\n",
              "\n",
              "<g class=\"displacy-arrow\">\n",
              "    <path class=\"displacy-arc\" id=\"arrow-0b3934e3c067412485e292f4fd512313-0-27\" stroke-width=\"2px\" d=\"M3310,422.0 C3310,362.0 3380.0,362.0 3380.0,422.0\" fill=\"none\" stroke=\"currentColor\"/>\n",
              "    <text dy=\"1.25em\" style=\"font-size: 0.8em; letter-spacing: 1px\">\n",
              "        <textPath xlink:href=\"#arrow-0b3934e3c067412485e292f4fd512313-0-27\" class=\"displacy-label\" startOffset=\"50%\" side=\"left\" fill=\"currentColor\" text-anchor=\"middle\">prep</textPath>\n",
              "    </text>\n",
              "    <path class=\"displacy-arrowhead\" d=\"M3380.0,424.0 L3388.0,412.0 3372.0,412.0\" fill=\"currentColor\"/>\n",
              "</g>\n",
              "\n",
              "<g class=\"displacy-arrow\">\n",
              "    <path class=\"displacy-arc\" id=\"arrow-0b3934e3c067412485e292f4fd512313-0-28\" stroke-width=\"2px\" d=\"M3550,422.0 C3550,302.0 3745.0,302.0 3745.0,422.0\" fill=\"none\" stroke=\"currentColor\"/>\n",
              "    <text dy=\"1.25em\" style=\"font-size: 0.8em; letter-spacing: 1px\">\n",
              "        <textPath xlink:href=\"#arrow-0b3934e3c067412485e292f4fd512313-0-28\" class=\"displacy-label\" startOffset=\"50%\" side=\"left\" fill=\"currentColor\" text-anchor=\"middle\">det</textPath>\n",
              "    </text>\n",
              "    <path class=\"displacy-arrowhead\" d=\"M3550,424.0 L3542,412.0 3558,412.0\" fill=\"currentColor\"/>\n",
              "</g>\n",
              "\n",
              "<g class=\"displacy-arrow\">\n",
              "    <path class=\"displacy-arc\" id=\"arrow-0b3934e3c067412485e292f4fd512313-0-29\" stroke-width=\"2px\" d=\"M3670,422.0 C3670,362.0 3740.0,362.0 3740.0,422.0\" fill=\"none\" stroke=\"currentColor\"/>\n",
              "    <text dy=\"1.25em\" style=\"font-size: 0.8em; letter-spacing: 1px\">\n",
              "        <textPath xlink:href=\"#arrow-0b3934e3c067412485e292f4fd512313-0-29\" class=\"displacy-label\" startOffset=\"50%\" side=\"left\" fill=\"currentColor\" text-anchor=\"middle\">compound</textPath>\n",
              "    </text>\n",
              "    <path class=\"displacy-arrowhead\" d=\"M3670,424.0 L3662,412.0 3678,412.0\" fill=\"currentColor\"/>\n",
              "</g>\n",
              "\n",
              "<g class=\"displacy-arrow\">\n",
              "    <path class=\"displacy-arc\" id=\"arrow-0b3934e3c067412485e292f4fd512313-0-30\" stroke-width=\"2px\" d=\"M3430,422.0 C3430,242.0 3750.0,242.0 3750.0,422.0\" fill=\"none\" stroke=\"currentColor\"/>\n",
              "    <text dy=\"1.25em\" style=\"font-size: 0.8em; letter-spacing: 1px\">\n",
              "        <textPath xlink:href=\"#arrow-0b3934e3c067412485e292f4fd512313-0-30\" class=\"displacy-label\" startOffset=\"50%\" side=\"left\" fill=\"currentColor\" text-anchor=\"middle\">pobj</textPath>\n",
              "    </text>\n",
              "    <path class=\"displacy-arrowhead\" d=\"M3750.0,424.0 L3758.0,412.0 3742.0,412.0\" fill=\"currentColor\"/>\n",
              "</g>\n",
              "</svg></span>"
            ],
            "text/plain": [
              "<IPython.core.display.HTML object>"
            ]
          },
          "metadata": {},
          "output_type": "display_data"
        }
      ],
      "source": [
        "nlp = spacy.load(\"en_core_web_sm\")\n",
        "text = \"\"\"Among the first perfume creations of the house of Givenchy stands the legendary scent of L'Interdit from 1957, dedicated to actress Audrey Hepburn as the most significant muse of this fashion designer.\"\"\"\n",
        "doc = nlp(text)\n",
        "sentence_spans = list(doc.sents)\n",
        "displacy.render(sentence_spans, style=\"dep\", jupyter=True,  options={'distance': 120})"
      ]
    },
    {
      "cell_type": "markdown",
      "metadata": {
        "id": "LQmzQ1cjk0uE"
      },
      "source": [
        "# SpaCy Named Entities\n",
        "\n",
        "\"A named entity is a “real-world object” that’s assigned a name – for example, a person, a country, a product or a book title. spaCy can recognize various types of named entities in a document, by asking the model for a prediction. Because models are statistical and strongly depend on the examples they were trained on, this doesn’t always work perfectly and might need some tuning later, depending on your use case.\"\n",
        "\n",
        "\n"
      ]
    },
    {
      "cell_type": "code",
      "execution_count": null,
      "metadata": {
        "colab": {
          "base_uri": "https://localhost:8080/",
          "height": 52
        },
        "id": "wB_UTI5xk0uE",
        "outputId": "674fefdd-ee3c-49b7-a7d1-bf57376690d6"
      },
      "outputs": [
        {
          "data": {
            "text/html": [
              "<span class=\"tex2jax_ignore\"><div class=\"entities\" style=\"line-height: 2.5; direction: ltr\">Among the \n",
              "<mark class=\"entity\" style=\"background: #e4e7d2; padding: 0.45em 0.6em; margin: 0 0.25em; line-height: 1; border-radius: 0.35em;\">\n",
              "    first\n",
              "    <span style=\"font-size: 0.8em; font-weight: bold; line-height: 1; border-radius: 0.35em; text-transform: uppercase; vertical-align: middle; margin-left: 0.5rem\">ORDINAL</span>\n",
              "</mark>\n",
              " perfume creations of the house of \n",
              "<mark class=\"entity\" style=\"background: #feca74; padding: 0.45em 0.6em; margin: 0 0.25em; line-height: 1; border-radius: 0.35em;\">\n",
              "    Givenchy\n",
              "    <span style=\"font-size: 0.8em; font-weight: bold; line-height: 1; border-radius: 0.35em; text-transform: uppercase; vertical-align: middle; margin-left: 0.5rem\">GPE</span>\n",
              "</mark>\n",
              " stands the legendary scent of \n",
              "<mark class=\"entity\" style=\"background: #7aecec; padding: 0.45em 0.6em; margin: 0 0.25em; line-height: 1; border-radius: 0.35em;\">\n",
              "    L'Interdit\n",
              "    <span style=\"font-size: 0.8em; font-weight: bold; line-height: 1; border-radius: 0.35em; text-transform: uppercase; vertical-align: middle; margin-left: 0.5rem\">ORG</span>\n",
              "</mark>\n",
              " from \n",
              "<mark class=\"entity\" style=\"background: #bfe1d9; padding: 0.45em 0.6em; margin: 0 0.25em; line-height: 1; border-radius: 0.35em;\">\n",
              "    1957\n",
              "    <span style=\"font-size: 0.8em; font-weight: bold; line-height: 1; border-radius: 0.35em; text-transform: uppercase; vertical-align: middle; margin-left: 0.5rem\">DATE</span>\n",
              "</mark>\n",
              ", dedicated to actress \n",
              "<mark class=\"entity\" style=\"background: #aa9cfc; padding: 0.45em 0.6em; margin: 0 0.25em; line-height: 1; border-radius: 0.35em;\">\n",
              "    Audrey Hepburn\n",
              "    <span style=\"font-size: 0.8em; font-weight: bold; line-height: 1; border-radius: 0.35em; text-transform: uppercase; vertical-align: middle; margin-left: 0.5rem\">PERSON</span>\n",
              "</mark>\n",
              " as the most significant muse of this fashion designer.</div></span>"
            ],
            "text/plain": [
              "<IPython.core.display.HTML object>"
            ]
          },
          "metadata": {},
          "output_type": "display_data"
        }
      ],
      "source": [
        "text = \"Among the first perfume creations of the house of Givenchy stands the legendary scent of L'Interdit from 1957, dedicated to actress Audrey Hepburn as the most significant muse of this fashion designer.\"\n",
        "\n",
        "nlp = spacy.load(\"en_core_web_sm\")\n",
        "doc = nlp(text)\n",
        "\n",
        "# Named entities are available as the ents property of a Doc\n",
        "displacy.render(doc, style=\"ent\", jupyter=True)"
      ]
    },
    {
      "cell_type": "markdown",
      "metadata": {
        "id": "pQ0XkVWKk0uF"
      },
      "source": [
        "# TOKENS, LEMMAS, PART-OF-SPEECH"
      ]
    },
    {
      "cell_type": "code",
      "execution_count": null,
      "metadata": {
        "colab": {
          "base_uri": "https://localhost:8080/",
          "height": 1000
        },
        "id": "8gCC7x1Uk0uF",
        "outputId": "d1677793-a8a3-4758-b782-ae10191fbd02"
      },
      "outputs": [
        {
          "name": "stdout",
          "output_type": "stream",
          "text": [
            "In in ADP IN prep Xx True True\n",
            "2018 2018 NUM CD pobj dddd False False\n",
            ", , PUNCT , punct , False False\n",
            "its -PRON- DET PRP$ poss xxx True True\n",
            "new new ADJ JJ amod xxx True False\n",
            ", , PUNCT , punct , False False\n",
            "modern modern ADJ JJ amod xxxx True False\n",
            "version version NOUN NN nsubj xxxx True False\n",
            "called call VERB VBN acl xxxx True False\n",
            "L'Interdit L'Interdit PROPN NNP compound X'Xxxxx False False\n",
            "Givenchy Givenchy PROPN NNP oprd Xxxxx True False\n",
            "comes come VERB VBZ ROOT xxxx True False\n",
            "out out ADP RP prt xxx True True\n",
            ", , PUNCT , punct , False False\n",
            "          SPACE _SP       False False\n",
            "developed develop VERB VBN advcl xxxx True False\n",
            "by by ADP IN agent xx True True\n",
            "perfumers perfumer NOUN NNS compound xxxx True False\n",
            "Dominique Dominique PROPN NNP compound Xxxxx True False\n",
            "Ropion Ropion PROPN NNP pobj Xxxxx True False\n",
            ", , PUNCT , punct , False False\n",
            "Anne Anne PROPN NNP compound Xxxx True False\n",
            "Flipo Flipo PROPN NNP conj Xxxxx True False\n",
            "and and CCONJ CC cc xxx True True\n",
            "Fanny Fanny PROPN NNP compound Xxxxx True False\n",
            "Bal Bal PROPN NNP conj Xxx True False\n",
            "as as SCONJ IN prep xx True True\n",
            "a a DET DT det x True True\n",
            "floral floral ADJ JJ amod xxxx True False\n",
            "- - PUNCT HYPH punct - False False\n",
            "woody woody NOUN NN compound xxxx True False\n",
            "composition composition NOUN NN pobj xxxx True False\n",
            ". . PUNCT . punct . False False\n",
            "                  SPACE _SP       False False\n",
            "The the DET DT det Xxx True True\n",
            "perfume perfume NOUN NN nsubjpass xxxx True False\n",
            "is be AUX VBZ auxpass xx True True\n",
            "built build VERB VBN ROOT xxxx True False\n",
            "on on ADP IN prep xx True True\n",
            "the the DET DT det xxx True True\n",
            "basis basis NOUN NN pobj xxxx True False\n",
            "of of ADP IN prep xx True True\n",
            "contrast contrast NOUN NN pobj xxxx True False\n",
            "between between ADP IN prep xxxx True True\n",
            "a a DET DT det x True True\n",
            "bouquet bouquet NOUN NN pobj xxxx True False\n",
            "of of ADP IN prep xx True True\n",
            "white white ADJ JJ amod xxxx True False\n",
            "flowers flower NOUN NNS pobj xxxx True False\n",
            "( ( PUNCT -LRB- punct ( False False\n",
            "including include VERB VBG prep xxxx True False\n",
            "jasmine jasmine NOUN NN pobj xxxx True False\n",
            ", , PUNCT , punct , False False\n",
            "                          SPACE _SP       False False\n",
            "tuberose tuberose NOUN NN conj xxxx True False\n",
            "and and CCONJ CC cc xxx True True\n",
            "orange orange PROPN NNP compound xxxx True False\n",
            "blossom blossom PROPN NNP conj xxxx True False\n",
            ") ) PUNCT -RRB- punct ) False False\n",
            "and and CCONJ CC cc xxx True True\n",
            "intense intense ADJ JJ amod xxxx True False\n",
            "woody woody NOUN NN conj xxxx True False\n",
            "and and CCONJ CC cc xxx True True\n",
            "earthy earthy ADJ JJ amod xxxx True False\n",
            "notes note NOUN NNS conj xxxx True False\n",
            "of of ADP IN prep xx True True\n",
            "patchouli patchouli PROPN NNP pobj xxxx True False\n",
            "and and CCONJ CC cc xxx True True\n",
            "vetiver vetiver NOUN NN conj xxxx True False\n",
            ". . PUNCT . punct . False False\n",
            "                                  SPACE _SP       False False\n",
            "The the DET DT det Xxx True True\n",
            "concept concept NOUN NN nsubj xxxx True False\n",
            "behind behind ADP IN prep xxxx True True\n",
            "the the DET DT det xxx True True\n",
            "creation creation NOUN NN pobj xxxx True False\n",
            "is be AUX VBZ ROOT xx True True\n",
            "the the DET DT det xxx True True\n",
            "thrill thrill NOUN NN attr xxxx True False\n",
            "of of ADP IN prep xx True True\n",
            "the the DET DT det xxx True True\n",
            "forbidden forbid VERB VBN pobj xxxx True False\n",
            "and and CCONJ CC cc xxx True True\n",
            "the the DET DT det xxx True True\n",
            "challenge challenge NOUN NN conj xxxx True False\n",
            "of of ADP IN prep xx True True\n",
            "crossing cross VERB VBG pcomp xxxx True False\n",
            "the the DET DT det xxx True True\n",
            "line line NOUN NN dobj xxxx True False\n",
            ". . PUNCT . punct . False False\n"
          ]
        },
        {
          "data": {
            "text/html": [
              "<span class=\"tex2jax_ignore\"><svg xmlns=\"http://www.w3.org/2000/svg\" xmlns:xlink=\"http://www.w3.org/1999/xlink\" xml:lang=\"en\" id=\"2f8ca837948b4f0ba2a2a13efde0fa33-0\" class=\"displacy\" width=\"5580\" height=\"487.0\" direction=\"ltr\" style=\"max-width: none; height: 487.0px; color: #000000; background: #ffffff; font-family: Arial; direction: ltr\">\n",
              "<text class=\"displacy-token\" fill=\"currentColor\" text-anchor=\"middle\" y=\"397.0\">\n",
              "    <tspan class=\"displacy-word\" fill=\"currentColor\" x=\"50\">In</tspan>\n",
              "    <tspan class=\"displacy-tag\" dy=\"2em\" fill=\"currentColor\" x=\"50\">ADP</tspan>\n",
              "</text>\n",
              "\n",
              "<text class=\"displacy-token\" fill=\"currentColor\" text-anchor=\"middle\" y=\"397.0\">\n",
              "    <tspan class=\"displacy-word\" fill=\"currentColor\" x=\"120\">2018,</tspan>\n",
              "    <tspan class=\"displacy-tag\" dy=\"2em\" fill=\"currentColor\" x=\"120\">NUM</tspan>\n",
              "</text>\n",
              "\n",
              "<text class=\"displacy-token\" fill=\"currentColor\" text-anchor=\"middle\" y=\"397.0\">\n",
              "    <tspan class=\"displacy-word\" fill=\"currentColor\" x=\"190\">its</tspan>\n",
              "    <tspan class=\"displacy-tag\" dy=\"2em\" fill=\"currentColor\" x=\"190\">DET</tspan>\n",
              "</text>\n",
              "\n",
              "<text class=\"displacy-token\" fill=\"currentColor\" text-anchor=\"middle\" y=\"397.0\">\n",
              "    <tspan class=\"displacy-word\" fill=\"currentColor\" x=\"260\">new,</tspan>\n",
              "    <tspan class=\"displacy-tag\" dy=\"2em\" fill=\"currentColor\" x=\"260\">ADJ</tspan>\n",
              "</text>\n",
              "\n",
              "<text class=\"displacy-token\" fill=\"currentColor\" text-anchor=\"middle\" y=\"397.0\">\n",
              "    <tspan class=\"displacy-word\" fill=\"currentColor\" x=\"330\">modern</tspan>\n",
              "    <tspan class=\"displacy-tag\" dy=\"2em\" fill=\"currentColor\" x=\"330\">ADJ</tspan>\n",
              "</text>\n",
              "\n",
              "<text class=\"displacy-token\" fill=\"currentColor\" text-anchor=\"middle\" y=\"397.0\">\n",
              "    <tspan class=\"displacy-word\" fill=\"currentColor\" x=\"400\">version</tspan>\n",
              "    <tspan class=\"displacy-tag\" dy=\"2em\" fill=\"currentColor\" x=\"400\">NOUN</tspan>\n",
              "</text>\n",
              "\n",
              "<text class=\"displacy-token\" fill=\"currentColor\" text-anchor=\"middle\" y=\"397.0\">\n",
              "    <tspan class=\"displacy-word\" fill=\"currentColor\" x=\"470\">called</tspan>\n",
              "    <tspan class=\"displacy-tag\" dy=\"2em\" fill=\"currentColor\" x=\"470\">VERB</tspan>\n",
              "</text>\n",
              "\n",
              "<text class=\"displacy-token\" fill=\"currentColor\" text-anchor=\"middle\" y=\"397.0\">\n",
              "    <tspan class=\"displacy-word\" fill=\"currentColor\" x=\"540\">L'Interdit</tspan>\n",
              "    <tspan class=\"displacy-tag\" dy=\"2em\" fill=\"currentColor\" x=\"540\">PROPN</tspan>\n",
              "</text>\n",
              "\n",
              "<text class=\"displacy-token\" fill=\"currentColor\" text-anchor=\"middle\" y=\"397.0\">\n",
              "    <tspan class=\"displacy-word\" fill=\"currentColor\" x=\"610\">Givenchy</tspan>\n",
              "    <tspan class=\"displacy-tag\" dy=\"2em\" fill=\"currentColor\" x=\"610\">PROPN</tspan>\n",
              "</text>\n",
              "\n",
              "<text class=\"displacy-token\" fill=\"currentColor\" text-anchor=\"middle\" y=\"397.0\">\n",
              "    <tspan class=\"displacy-word\" fill=\"currentColor\" x=\"680\">comes</tspan>\n",
              "    <tspan class=\"displacy-tag\" dy=\"2em\" fill=\"currentColor\" x=\"680\">VERB</tspan>\n",
              "</text>\n",
              "\n",
              "<text class=\"displacy-token\" fill=\"currentColor\" text-anchor=\"middle\" y=\"397.0\">\n",
              "    <tspan class=\"displacy-word\" fill=\"currentColor\" x=\"750\">out,</tspan>\n",
              "    <tspan class=\"displacy-tag\" dy=\"2em\" fill=\"currentColor\" x=\"750\">ADP</tspan>\n",
              "</text>\n",
              "\n",
              "<text class=\"displacy-token\" fill=\"currentColor\" text-anchor=\"middle\" y=\"397.0\">\n",
              "    <tspan class=\"displacy-word\" fill=\"currentColor\" x=\"820\">    </tspan>\n",
              "    <tspan class=\"displacy-tag\" dy=\"2em\" fill=\"currentColor\" x=\"820\">SPACE</tspan>\n",
              "</text>\n",
              "\n",
              "<text class=\"displacy-token\" fill=\"currentColor\" text-anchor=\"middle\" y=\"397.0\">\n",
              "    <tspan class=\"displacy-word\" fill=\"currentColor\" x=\"890\">developed</tspan>\n",
              "    <tspan class=\"displacy-tag\" dy=\"2em\" fill=\"currentColor\" x=\"890\">VERB</tspan>\n",
              "</text>\n",
              "\n",
              "<text class=\"displacy-token\" fill=\"currentColor\" text-anchor=\"middle\" y=\"397.0\">\n",
              "    <tspan class=\"displacy-word\" fill=\"currentColor\" x=\"960\">by</tspan>\n",
              "    <tspan class=\"displacy-tag\" dy=\"2em\" fill=\"currentColor\" x=\"960\">ADP</tspan>\n",
              "</text>\n",
              "\n",
              "<text class=\"displacy-token\" fill=\"currentColor\" text-anchor=\"middle\" y=\"397.0\">\n",
              "    <tspan class=\"displacy-word\" fill=\"currentColor\" x=\"1030\">perfumers</tspan>\n",
              "    <tspan class=\"displacy-tag\" dy=\"2em\" fill=\"currentColor\" x=\"1030\">NOUN</tspan>\n",
              "</text>\n",
              "\n",
              "<text class=\"displacy-token\" fill=\"currentColor\" text-anchor=\"middle\" y=\"397.0\">\n",
              "    <tspan class=\"displacy-word\" fill=\"currentColor\" x=\"1100\">Dominique</tspan>\n",
              "    <tspan class=\"displacy-tag\" dy=\"2em\" fill=\"currentColor\" x=\"1100\">PROPN</tspan>\n",
              "</text>\n",
              "\n",
              "<text class=\"displacy-token\" fill=\"currentColor\" text-anchor=\"middle\" y=\"397.0\">\n",
              "    <tspan class=\"displacy-word\" fill=\"currentColor\" x=\"1170\">Ropion,</tspan>\n",
              "    <tspan class=\"displacy-tag\" dy=\"2em\" fill=\"currentColor\" x=\"1170\">PROPN</tspan>\n",
              "</text>\n",
              "\n",
              "<text class=\"displacy-token\" fill=\"currentColor\" text-anchor=\"middle\" y=\"397.0\">\n",
              "    <tspan class=\"displacy-word\" fill=\"currentColor\" x=\"1240\">Anne</tspan>\n",
              "    <tspan class=\"displacy-tag\" dy=\"2em\" fill=\"currentColor\" x=\"1240\">PROPN</tspan>\n",
              "</text>\n",
              "\n",
              "<text class=\"displacy-token\" fill=\"currentColor\" text-anchor=\"middle\" y=\"397.0\">\n",
              "    <tspan class=\"displacy-word\" fill=\"currentColor\" x=\"1310\">Flipo</tspan>\n",
              "    <tspan class=\"displacy-tag\" dy=\"2em\" fill=\"currentColor\" x=\"1310\">PROPN</tspan>\n",
              "</text>\n",
              "\n",
              "<text class=\"displacy-token\" fill=\"currentColor\" text-anchor=\"middle\" y=\"397.0\">\n",
              "    <tspan class=\"displacy-word\" fill=\"currentColor\" x=\"1380\">and</tspan>\n",
              "    <tspan class=\"displacy-tag\" dy=\"2em\" fill=\"currentColor\" x=\"1380\">CCONJ</tspan>\n",
              "</text>\n",
              "\n",
              "<text class=\"displacy-token\" fill=\"currentColor\" text-anchor=\"middle\" y=\"397.0\">\n",
              "    <tspan class=\"displacy-word\" fill=\"currentColor\" x=\"1450\">Fanny</tspan>\n",
              "    <tspan class=\"displacy-tag\" dy=\"2em\" fill=\"currentColor\" x=\"1450\">PROPN</tspan>\n",
              "</text>\n",
              "\n",
              "<text class=\"displacy-token\" fill=\"currentColor\" text-anchor=\"middle\" y=\"397.0\">\n",
              "    <tspan class=\"displacy-word\" fill=\"currentColor\" x=\"1520\">Bal</tspan>\n",
              "    <tspan class=\"displacy-tag\" dy=\"2em\" fill=\"currentColor\" x=\"1520\">PROPN</tspan>\n",
              "</text>\n",
              "\n",
              "<text class=\"displacy-token\" fill=\"currentColor\" text-anchor=\"middle\" y=\"397.0\">\n",
              "    <tspan class=\"displacy-word\" fill=\"currentColor\" x=\"1590\">as</tspan>\n",
              "    <tspan class=\"displacy-tag\" dy=\"2em\" fill=\"currentColor\" x=\"1590\">SCONJ</tspan>\n",
              "</text>\n",
              "\n",
              "<text class=\"displacy-token\" fill=\"currentColor\" text-anchor=\"middle\" y=\"397.0\">\n",
              "    <tspan class=\"displacy-word\" fill=\"currentColor\" x=\"1660\">a</tspan>\n",
              "    <tspan class=\"displacy-tag\" dy=\"2em\" fill=\"currentColor\" x=\"1660\">DET</tspan>\n",
              "</text>\n",
              "\n",
              "<text class=\"displacy-token\" fill=\"currentColor\" text-anchor=\"middle\" y=\"397.0\">\n",
              "    <tspan class=\"displacy-word\" fill=\"currentColor\" x=\"1730\">floral-</tspan>\n",
              "    <tspan class=\"displacy-tag\" dy=\"2em\" fill=\"currentColor\" x=\"1730\">ADJ</tspan>\n",
              "</text>\n",
              "\n",
              "<text class=\"displacy-token\" fill=\"currentColor\" text-anchor=\"middle\" y=\"397.0\">\n",
              "    <tspan class=\"displacy-word\" fill=\"currentColor\" x=\"1800\">woody</tspan>\n",
              "    <tspan class=\"displacy-tag\" dy=\"2em\" fill=\"currentColor\" x=\"1800\">NOUN</tspan>\n",
              "</text>\n",
              "\n",
              "<text class=\"displacy-token\" fill=\"currentColor\" text-anchor=\"middle\" y=\"397.0\">\n",
              "    <tspan class=\"displacy-word\" fill=\"currentColor\" x=\"1870\">composition.</tspan>\n",
              "    <tspan class=\"displacy-tag\" dy=\"2em\" fill=\"currentColor\" x=\"1870\">NOUN</tspan>\n",
              "</text>\n",
              "\n",
              "<text class=\"displacy-token\" fill=\"currentColor\" text-anchor=\"middle\" y=\"397.0\">\n",
              "    <tspan class=\"displacy-word\" fill=\"currentColor\" x=\"1940\">        </tspan>\n",
              "    <tspan class=\"displacy-tag\" dy=\"2em\" fill=\"currentColor\" x=\"1940\">SPACE</tspan>\n",
              "</text>\n",
              "\n",
              "<text class=\"displacy-token\" fill=\"currentColor\" text-anchor=\"middle\" y=\"397.0\">\n",
              "    <tspan class=\"displacy-word\" fill=\"currentColor\" x=\"2010\">The</tspan>\n",
              "    <tspan class=\"displacy-tag\" dy=\"2em\" fill=\"currentColor\" x=\"2010\">DET</tspan>\n",
              "</text>\n",
              "\n",
              "<text class=\"displacy-token\" fill=\"currentColor\" text-anchor=\"middle\" y=\"397.0\">\n",
              "    <tspan class=\"displacy-word\" fill=\"currentColor\" x=\"2080\">perfume</tspan>\n",
              "    <tspan class=\"displacy-tag\" dy=\"2em\" fill=\"currentColor\" x=\"2080\">NOUN</tspan>\n",
              "</text>\n",
              "\n",
              "<text class=\"displacy-token\" fill=\"currentColor\" text-anchor=\"middle\" y=\"397.0\">\n",
              "    <tspan class=\"displacy-word\" fill=\"currentColor\" x=\"2150\">is</tspan>\n",
              "    <tspan class=\"displacy-tag\" dy=\"2em\" fill=\"currentColor\" x=\"2150\">AUX</tspan>\n",
              "</text>\n",
              "\n",
              "<text class=\"displacy-token\" fill=\"currentColor\" text-anchor=\"middle\" y=\"397.0\">\n",
              "    <tspan class=\"displacy-word\" fill=\"currentColor\" x=\"2220\">built</tspan>\n",
              "    <tspan class=\"displacy-tag\" dy=\"2em\" fill=\"currentColor\" x=\"2220\">VERB</tspan>\n",
              "</text>\n",
              "\n",
              "<text class=\"displacy-token\" fill=\"currentColor\" text-anchor=\"middle\" y=\"397.0\">\n",
              "    <tspan class=\"displacy-word\" fill=\"currentColor\" x=\"2290\">on</tspan>\n",
              "    <tspan class=\"displacy-tag\" dy=\"2em\" fill=\"currentColor\" x=\"2290\">ADP</tspan>\n",
              "</text>\n",
              "\n",
              "<text class=\"displacy-token\" fill=\"currentColor\" text-anchor=\"middle\" y=\"397.0\">\n",
              "    <tspan class=\"displacy-word\" fill=\"currentColor\" x=\"2360\">the</tspan>\n",
              "    <tspan class=\"displacy-tag\" dy=\"2em\" fill=\"currentColor\" x=\"2360\">DET</tspan>\n",
              "</text>\n",
              "\n",
              "<text class=\"displacy-token\" fill=\"currentColor\" text-anchor=\"middle\" y=\"397.0\">\n",
              "    <tspan class=\"displacy-word\" fill=\"currentColor\" x=\"2430\">basis</tspan>\n",
              "    <tspan class=\"displacy-tag\" dy=\"2em\" fill=\"currentColor\" x=\"2430\">NOUN</tspan>\n",
              "</text>\n",
              "\n",
              "<text class=\"displacy-token\" fill=\"currentColor\" text-anchor=\"middle\" y=\"397.0\">\n",
              "    <tspan class=\"displacy-word\" fill=\"currentColor\" x=\"2500\">of</tspan>\n",
              "    <tspan class=\"displacy-tag\" dy=\"2em\" fill=\"currentColor\" x=\"2500\">ADP</tspan>\n",
              "</text>\n",
              "\n",
              "<text class=\"displacy-token\" fill=\"currentColor\" text-anchor=\"middle\" y=\"397.0\">\n",
              "    <tspan class=\"displacy-word\" fill=\"currentColor\" x=\"2570\">contrast</tspan>\n",
              "    <tspan class=\"displacy-tag\" dy=\"2em\" fill=\"currentColor\" x=\"2570\">NOUN</tspan>\n",
              "</text>\n",
              "\n",
              "<text class=\"displacy-token\" fill=\"currentColor\" text-anchor=\"middle\" y=\"397.0\">\n",
              "    <tspan class=\"displacy-word\" fill=\"currentColor\" x=\"2640\">between</tspan>\n",
              "    <tspan class=\"displacy-tag\" dy=\"2em\" fill=\"currentColor\" x=\"2640\">ADP</tspan>\n",
              "</text>\n",
              "\n",
              "<text class=\"displacy-token\" fill=\"currentColor\" text-anchor=\"middle\" y=\"397.0\">\n",
              "    <tspan class=\"displacy-word\" fill=\"currentColor\" x=\"2710\">a</tspan>\n",
              "    <tspan class=\"displacy-tag\" dy=\"2em\" fill=\"currentColor\" x=\"2710\">DET</tspan>\n",
              "</text>\n",
              "\n",
              "<text class=\"displacy-token\" fill=\"currentColor\" text-anchor=\"middle\" y=\"397.0\">\n",
              "    <tspan class=\"displacy-word\" fill=\"currentColor\" x=\"2780\">bouquet</tspan>\n",
              "    <tspan class=\"displacy-tag\" dy=\"2em\" fill=\"currentColor\" x=\"2780\">NOUN</tspan>\n",
              "</text>\n",
              "\n",
              "<text class=\"displacy-token\" fill=\"currentColor\" text-anchor=\"middle\" y=\"397.0\">\n",
              "    <tspan class=\"displacy-word\" fill=\"currentColor\" x=\"2850\">of</tspan>\n",
              "    <tspan class=\"displacy-tag\" dy=\"2em\" fill=\"currentColor\" x=\"2850\">ADP</tspan>\n",
              "</text>\n",
              "\n",
              "<text class=\"displacy-token\" fill=\"currentColor\" text-anchor=\"middle\" y=\"397.0\">\n",
              "    <tspan class=\"displacy-word\" fill=\"currentColor\" x=\"2920\">white</tspan>\n",
              "    <tspan class=\"displacy-tag\" dy=\"2em\" fill=\"currentColor\" x=\"2920\">ADJ</tspan>\n",
              "</text>\n",
              "\n",
              "<text class=\"displacy-token\" fill=\"currentColor\" text-anchor=\"middle\" y=\"397.0\">\n",
              "    <tspan class=\"displacy-word\" fill=\"currentColor\" x=\"2990\">flowers (</tspan>\n",
              "    <tspan class=\"displacy-tag\" dy=\"2em\" fill=\"currentColor\" x=\"2990\">NOUN</tspan>\n",
              "</text>\n",
              "\n",
              "<text class=\"displacy-token\" fill=\"currentColor\" text-anchor=\"middle\" y=\"397.0\">\n",
              "    <tspan class=\"displacy-word\" fill=\"currentColor\" x=\"3060\">including</tspan>\n",
              "    <tspan class=\"displacy-tag\" dy=\"2em\" fill=\"currentColor\" x=\"3060\">VERB</tspan>\n",
              "</text>\n",
              "\n",
              "<text class=\"displacy-token\" fill=\"currentColor\" text-anchor=\"middle\" y=\"397.0\">\n",
              "    <tspan class=\"displacy-word\" fill=\"currentColor\" x=\"3130\">jasmine,</tspan>\n",
              "    <tspan class=\"displacy-tag\" dy=\"2em\" fill=\"currentColor\" x=\"3130\">NOUN</tspan>\n",
              "</text>\n",
              "\n",
              "<text class=\"displacy-token\" fill=\"currentColor\" text-anchor=\"middle\" y=\"397.0\">\n",
              "    <tspan class=\"displacy-word\" fill=\"currentColor\" x=\"3200\">            </tspan>\n",
              "    <tspan class=\"displacy-tag\" dy=\"2em\" fill=\"currentColor\" x=\"3200\">SPACE</tspan>\n",
              "</text>\n",
              "\n",
              "<text class=\"displacy-token\" fill=\"currentColor\" text-anchor=\"middle\" y=\"397.0\">\n",
              "    <tspan class=\"displacy-word\" fill=\"currentColor\" x=\"3270\">tuberose</tspan>\n",
              "    <tspan class=\"displacy-tag\" dy=\"2em\" fill=\"currentColor\" x=\"3270\">NOUN</tspan>\n",
              "</text>\n",
              "\n",
              "<text class=\"displacy-token\" fill=\"currentColor\" text-anchor=\"middle\" y=\"397.0\">\n",
              "    <tspan class=\"displacy-word\" fill=\"currentColor\" x=\"3340\">and</tspan>\n",
              "    <tspan class=\"displacy-tag\" dy=\"2em\" fill=\"currentColor\" x=\"3340\">CCONJ</tspan>\n",
              "</text>\n",
              "\n",
              "<text class=\"displacy-token\" fill=\"currentColor\" text-anchor=\"middle\" y=\"397.0\">\n",
              "    <tspan class=\"displacy-word\" fill=\"currentColor\" x=\"3410\">orange</tspan>\n",
              "    <tspan class=\"displacy-tag\" dy=\"2em\" fill=\"currentColor\" x=\"3410\">PROPN</tspan>\n",
              "</text>\n",
              "\n",
              "<text class=\"displacy-token\" fill=\"currentColor\" text-anchor=\"middle\" y=\"397.0\">\n",
              "    <tspan class=\"displacy-word\" fill=\"currentColor\" x=\"3480\">blossom)</tspan>\n",
              "    <tspan class=\"displacy-tag\" dy=\"2em\" fill=\"currentColor\" x=\"3480\">PROPN</tspan>\n",
              "</text>\n",
              "\n",
              "<text class=\"displacy-token\" fill=\"currentColor\" text-anchor=\"middle\" y=\"397.0\">\n",
              "    <tspan class=\"displacy-word\" fill=\"currentColor\" x=\"3550\">and</tspan>\n",
              "    <tspan class=\"displacy-tag\" dy=\"2em\" fill=\"currentColor\" x=\"3550\">CCONJ</tspan>\n",
              "</text>\n",
              "\n",
              "<text class=\"displacy-token\" fill=\"currentColor\" text-anchor=\"middle\" y=\"397.0\">\n",
              "    <tspan class=\"displacy-word\" fill=\"currentColor\" x=\"3620\">intense</tspan>\n",
              "    <tspan class=\"displacy-tag\" dy=\"2em\" fill=\"currentColor\" x=\"3620\">ADJ</tspan>\n",
              "</text>\n",
              "\n",
              "<text class=\"displacy-token\" fill=\"currentColor\" text-anchor=\"middle\" y=\"397.0\">\n",
              "    <tspan class=\"displacy-word\" fill=\"currentColor\" x=\"3690\">woody</tspan>\n",
              "    <tspan class=\"displacy-tag\" dy=\"2em\" fill=\"currentColor\" x=\"3690\">NOUN</tspan>\n",
              "</text>\n",
              "\n",
              "<text class=\"displacy-token\" fill=\"currentColor\" text-anchor=\"middle\" y=\"397.0\">\n",
              "    <tspan class=\"displacy-word\" fill=\"currentColor\" x=\"3760\">and</tspan>\n",
              "    <tspan class=\"displacy-tag\" dy=\"2em\" fill=\"currentColor\" x=\"3760\">CCONJ</tspan>\n",
              "</text>\n",
              "\n",
              "<text class=\"displacy-token\" fill=\"currentColor\" text-anchor=\"middle\" y=\"397.0\">\n",
              "    <tspan class=\"displacy-word\" fill=\"currentColor\" x=\"3830\">earthy</tspan>\n",
              "    <tspan class=\"displacy-tag\" dy=\"2em\" fill=\"currentColor\" x=\"3830\">ADJ</tspan>\n",
              "</text>\n",
              "\n",
              "<text class=\"displacy-token\" fill=\"currentColor\" text-anchor=\"middle\" y=\"397.0\">\n",
              "    <tspan class=\"displacy-word\" fill=\"currentColor\" x=\"3900\">notes</tspan>\n",
              "    <tspan class=\"displacy-tag\" dy=\"2em\" fill=\"currentColor\" x=\"3900\">NOUN</tspan>\n",
              "</text>\n",
              "\n",
              "<text class=\"displacy-token\" fill=\"currentColor\" text-anchor=\"middle\" y=\"397.0\">\n",
              "    <tspan class=\"displacy-word\" fill=\"currentColor\" x=\"3970\">of</tspan>\n",
              "    <tspan class=\"displacy-tag\" dy=\"2em\" fill=\"currentColor\" x=\"3970\">ADP</tspan>\n",
              "</text>\n",
              "\n",
              "<text class=\"displacy-token\" fill=\"currentColor\" text-anchor=\"middle\" y=\"397.0\">\n",
              "    <tspan class=\"displacy-word\" fill=\"currentColor\" x=\"4040\">patchouli</tspan>\n",
              "    <tspan class=\"displacy-tag\" dy=\"2em\" fill=\"currentColor\" x=\"4040\">PROPN</tspan>\n",
              "</text>\n",
              "\n",
              "<text class=\"displacy-token\" fill=\"currentColor\" text-anchor=\"middle\" y=\"397.0\">\n",
              "    <tspan class=\"displacy-word\" fill=\"currentColor\" x=\"4110\">and</tspan>\n",
              "    <tspan class=\"displacy-tag\" dy=\"2em\" fill=\"currentColor\" x=\"4110\">CCONJ</tspan>\n",
              "</text>\n",
              "\n",
              "<text class=\"displacy-token\" fill=\"currentColor\" text-anchor=\"middle\" y=\"397.0\">\n",
              "    <tspan class=\"displacy-word\" fill=\"currentColor\" x=\"4180\">vetiver.</tspan>\n",
              "    <tspan class=\"displacy-tag\" dy=\"2em\" fill=\"currentColor\" x=\"4180\">NOUN</tspan>\n",
              "</text>\n",
              "\n",
              "<text class=\"displacy-token\" fill=\"currentColor\" text-anchor=\"middle\" y=\"397.0\">\n",
              "    <tspan class=\"displacy-word\" fill=\"currentColor\" x=\"4250\">                </tspan>\n",
              "    <tspan class=\"displacy-tag\" dy=\"2em\" fill=\"currentColor\" x=\"4250\">SPACE</tspan>\n",
              "</text>\n",
              "\n",
              "<text class=\"displacy-token\" fill=\"currentColor\" text-anchor=\"middle\" y=\"397.0\">\n",
              "    <tspan class=\"displacy-word\" fill=\"currentColor\" x=\"4320\">The</tspan>\n",
              "    <tspan class=\"displacy-tag\" dy=\"2em\" fill=\"currentColor\" x=\"4320\">DET</tspan>\n",
              "</text>\n",
              "\n",
              "<text class=\"displacy-token\" fill=\"currentColor\" text-anchor=\"middle\" y=\"397.0\">\n",
              "    <tspan class=\"displacy-word\" fill=\"currentColor\" x=\"4390\">concept</tspan>\n",
              "    <tspan class=\"displacy-tag\" dy=\"2em\" fill=\"currentColor\" x=\"4390\">NOUN</tspan>\n",
              "</text>\n",
              "\n",
              "<text class=\"displacy-token\" fill=\"currentColor\" text-anchor=\"middle\" y=\"397.0\">\n",
              "    <tspan class=\"displacy-word\" fill=\"currentColor\" x=\"4460\">behind</tspan>\n",
              "    <tspan class=\"displacy-tag\" dy=\"2em\" fill=\"currentColor\" x=\"4460\">ADP</tspan>\n",
              "</text>\n",
              "\n",
              "<text class=\"displacy-token\" fill=\"currentColor\" text-anchor=\"middle\" y=\"397.0\">\n",
              "    <tspan class=\"displacy-word\" fill=\"currentColor\" x=\"4530\">the</tspan>\n",
              "    <tspan class=\"displacy-tag\" dy=\"2em\" fill=\"currentColor\" x=\"4530\">DET</tspan>\n",
              "</text>\n",
              "\n",
              "<text class=\"displacy-token\" fill=\"currentColor\" text-anchor=\"middle\" y=\"397.0\">\n",
              "    <tspan class=\"displacy-word\" fill=\"currentColor\" x=\"4600\">creation</tspan>\n",
              "    <tspan class=\"displacy-tag\" dy=\"2em\" fill=\"currentColor\" x=\"4600\">NOUN</tspan>\n",
              "</text>\n",
              "\n",
              "<text class=\"displacy-token\" fill=\"currentColor\" text-anchor=\"middle\" y=\"397.0\">\n",
              "    <tspan class=\"displacy-word\" fill=\"currentColor\" x=\"4670\">is</tspan>\n",
              "    <tspan class=\"displacy-tag\" dy=\"2em\" fill=\"currentColor\" x=\"4670\">AUX</tspan>\n",
              "</text>\n",
              "\n",
              "<text class=\"displacy-token\" fill=\"currentColor\" text-anchor=\"middle\" y=\"397.0\">\n",
              "    <tspan class=\"displacy-word\" fill=\"currentColor\" x=\"4740\">the</tspan>\n",
              "    <tspan class=\"displacy-tag\" dy=\"2em\" fill=\"currentColor\" x=\"4740\">DET</tspan>\n",
              "</text>\n",
              "\n",
              "<text class=\"displacy-token\" fill=\"currentColor\" text-anchor=\"middle\" y=\"397.0\">\n",
              "    <tspan class=\"displacy-word\" fill=\"currentColor\" x=\"4810\">thrill</tspan>\n",
              "    <tspan class=\"displacy-tag\" dy=\"2em\" fill=\"currentColor\" x=\"4810\">NOUN</tspan>\n",
              "</text>\n",
              "\n",
              "<text class=\"displacy-token\" fill=\"currentColor\" text-anchor=\"middle\" y=\"397.0\">\n",
              "    <tspan class=\"displacy-word\" fill=\"currentColor\" x=\"4880\">of</tspan>\n",
              "    <tspan class=\"displacy-tag\" dy=\"2em\" fill=\"currentColor\" x=\"4880\">ADP</tspan>\n",
              "</text>\n",
              "\n",
              "<text class=\"displacy-token\" fill=\"currentColor\" text-anchor=\"middle\" y=\"397.0\">\n",
              "    <tspan class=\"displacy-word\" fill=\"currentColor\" x=\"4950\">the</tspan>\n",
              "    <tspan class=\"displacy-tag\" dy=\"2em\" fill=\"currentColor\" x=\"4950\">DET</tspan>\n",
              "</text>\n",
              "\n",
              "<text class=\"displacy-token\" fill=\"currentColor\" text-anchor=\"middle\" y=\"397.0\">\n",
              "    <tspan class=\"displacy-word\" fill=\"currentColor\" x=\"5020\">forbidden</tspan>\n",
              "    <tspan class=\"displacy-tag\" dy=\"2em\" fill=\"currentColor\" x=\"5020\">VERB</tspan>\n",
              "</text>\n",
              "\n",
              "<text class=\"displacy-token\" fill=\"currentColor\" text-anchor=\"middle\" y=\"397.0\">\n",
              "    <tspan class=\"displacy-word\" fill=\"currentColor\" x=\"5090\">and</tspan>\n",
              "    <tspan class=\"displacy-tag\" dy=\"2em\" fill=\"currentColor\" x=\"5090\">CCONJ</tspan>\n",
              "</text>\n",
              "\n",
              "<text class=\"displacy-token\" fill=\"currentColor\" text-anchor=\"middle\" y=\"397.0\">\n",
              "    <tspan class=\"displacy-word\" fill=\"currentColor\" x=\"5160\">the</tspan>\n",
              "    <tspan class=\"displacy-tag\" dy=\"2em\" fill=\"currentColor\" x=\"5160\">DET</tspan>\n",
              "</text>\n",
              "\n",
              "<text class=\"displacy-token\" fill=\"currentColor\" text-anchor=\"middle\" y=\"397.0\">\n",
              "    <tspan class=\"displacy-word\" fill=\"currentColor\" x=\"5230\">challenge</tspan>\n",
              "    <tspan class=\"displacy-tag\" dy=\"2em\" fill=\"currentColor\" x=\"5230\">NOUN</tspan>\n",
              "</text>\n",
              "\n",
              "<text class=\"displacy-token\" fill=\"currentColor\" text-anchor=\"middle\" y=\"397.0\">\n",
              "    <tspan class=\"displacy-word\" fill=\"currentColor\" x=\"5300\">of</tspan>\n",
              "    <tspan class=\"displacy-tag\" dy=\"2em\" fill=\"currentColor\" x=\"5300\">ADP</tspan>\n",
              "</text>\n",
              "\n",
              "<text class=\"displacy-token\" fill=\"currentColor\" text-anchor=\"middle\" y=\"397.0\">\n",
              "    <tspan class=\"displacy-word\" fill=\"currentColor\" x=\"5370\">crossing</tspan>\n",
              "    <tspan class=\"displacy-tag\" dy=\"2em\" fill=\"currentColor\" x=\"5370\">VERB</tspan>\n",
              "</text>\n",
              "\n",
              "<text class=\"displacy-token\" fill=\"currentColor\" text-anchor=\"middle\" y=\"397.0\">\n",
              "    <tspan class=\"displacy-word\" fill=\"currentColor\" x=\"5440\">the</tspan>\n",
              "    <tspan class=\"displacy-tag\" dy=\"2em\" fill=\"currentColor\" x=\"5440\">DET</tspan>\n",
              "</text>\n",
              "\n",
              "<text class=\"displacy-token\" fill=\"currentColor\" text-anchor=\"middle\" y=\"397.0\">\n",
              "    <tspan class=\"displacy-word\" fill=\"currentColor\" x=\"5510\">line.</tspan>\n",
              "    <tspan class=\"displacy-tag\" dy=\"2em\" fill=\"currentColor\" x=\"5510\">NOUN</tspan>\n",
              "</text>\n",
              "\n",
              "<g class=\"displacy-arrow\">\n",
              "    <path class=\"displacy-arc\" id=\"arrow-2f8ca837948b4f0ba2a2a13efde0fa33-0-0\" stroke-width=\"2px\" d=\"M70,352.0 C70,107.0 665.0,107.0 665.0,352.0\" fill=\"none\" stroke=\"currentColor\"/>\n",
              "    <text dy=\"1.25em\" style=\"font-size: 0.8em; letter-spacing: 1px\">\n",
              "        <textPath xlink:href=\"#arrow-2f8ca837948b4f0ba2a2a13efde0fa33-0-0\" class=\"displacy-label\" startOffset=\"50%\" side=\"left\" fill=\"currentColor\" text-anchor=\"middle\">prep</textPath>\n",
              "    </text>\n",
              "    <path class=\"displacy-arrowhead\" d=\"M70,354.0 L62,342.0 78,342.0\" fill=\"currentColor\"/>\n",
              "</g>\n",
              "\n",
              "<g class=\"displacy-arrow\">\n",
              "    <path class=\"displacy-arc\" id=\"arrow-2f8ca837948b4f0ba2a2a13efde0fa33-0-1\" stroke-width=\"2px\" d=\"M70,352.0 C70,317.0 75.0,317.0 75.0,352.0\" fill=\"none\" stroke=\"currentColor\"/>\n",
              "    <text dy=\"1.25em\" style=\"font-size: 0.8em; letter-spacing: 1px\">\n",
              "        <textPath xlink:href=\"#arrow-2f8ca837948b4f0ba2a2a13efde0fa33-0-1\" class=\"displacy-label\" startOffset=\"50%\" side=\"left\" fill=\"currentColor\" text-anchor=\"middle\">pobj</textPath>\n",
              "    </text>\n",
              "    <path class=\"displacy-arrowhead\" d=\"M75.0,354.0 L83.0,342.0 67.0,342.0\" fill=\"currentColor\"/>\n",
              "</g>\n",
              "\n",
              "<g class=\"displacy-arrow\">\n",
              "    <path class=\"displacy-arc\" id=\"arrow-2f8ca837948b4f0ba2a2a13efde0fa33-0-2\" stroke-width=\"2px\" d=\"M210,352.0 C210,247.0 365.0,247.0 365.0,352.0\" fill=\"none\" stroke=\"currentColor\"/>\n",
              "    <text dy=\"1.25em\" style=\"font-size: 0.8em; letter-spacing: 1px\">\n",
              "        <textPath xlink:href=\"#arrow-2f8ca837948b4f0ba2a2a13efde0fa33-0-2\" class=\"displacy-label\" startOffset=\"50%\" side=\"left\" fill=\"currentColor\" text-anchor=\"middle\">poss</textPath>\n",
              "    </text>\n",
              "    <path class=\"displacy-arrowhead\" d=\"M210,354.0 L202,342.0 218,342.0\" fill=\"currentColor\"/>\n",
              "</g>\n",
              "\n",
              "<g class=\"displacy-arrow\">\n",
              "    <path class=\"displacy-arc\" id=\"arrow-2f8ca837948b4f0ba2a2a13efde0fa33-0-3\" stroke-width=\"2px\" d=\"M280,352.0 C280,282.0 360.0,282.0 360.0,352.0\" fill=\"none\" stroke=\"currentColor\"/>\n",
              "    <text dy=\"1.25em\" style=\"font-size: 0.8em; letter-spacing: 1px\">\n",
              "        <textPath xlink:href=\"#arrow-2f8ca837948b4f0ba2a2a13efde0fa33-0-3\" class=\"displacy-label\" startOffset=\"50%\" side=\"left\" fill=\"currentColor\" text-anchor=\"middle\">amod</textPath>\n",
              "    </text>\n",
              "    <path class=\"displacy-arrowhead\" d=\"M280,354.0 L272,342.0 288,342.0\" fill=\"currentColor\"/>\n",
              "</g>\n",
              "\n",
              "<g class=\"displacy-arrow\">\n",
              "    <path class=\"displacy-arc\" id=\"arrow-2f8ca837948b4f0ba2a2a13efde0fa33-0-4\" stroke-width=\"2px\" d=\"M350,352.0 C350,317.0 355.0,317.0 355.0,352.0\" fill=\"none\" stroke=\"currentColor\"/>\n",
              "    <text dy=\"1.25em\" style=\"font-size: 0.8em; letter-spacing: 1px\">\n",
              "        <textPath xlink:href=\"#arrow-2f8ca837948b4f0ba2a2a13efde0fa33-0-4\" class=\"displacy-label\" startOffset=\"50%\" side=\"left\" fill=\"currentColor\" text-anchor=\"middle\">amod</textPath>\n",
              "    </text>\n",
              "    <path class=\"displacy-arrowhead\" d=\"M350,354.0 L342,342.0 358,342.0\" fill=\"currentColor\"/>\n",
              "</g>\n",
              "\n",
              "<g class=\"displacy-arrow\">\n",
              "    <path class=\"displacy-arc\" id=\"arrow-2f8ca837948b4f0ba2a2a13efde0fa33-0-5\" stroke-width=\"2px\" d=\"M420,352.0 C420,212.0 650.0,212.0 650.0,352.0\" fill=\"none\" stroke=\"currentColor\"/>\n",
              "    <text dy=\"1.25em\" style=\"font-size: 0.8em; letter-spacing: 1px\">\n",
              "        <textPath xlink:href=\"#arrow-2f8ca837948b4f0ba2a2a13efde0fa33-0-5\" class=\"displacy-label\" startOffset=\"50%\" side=\"left\" fill=\"currentColor\" text-anchor=\"middle\">nsubj</textPath>\n",
              "    </text>\n",
              "    <path class=\"displacy-arrowhead\" d=\"M420,354.0 L412,342.0 428,342.0\" fill=\"currentColor\"/>\n",
              "</g>\n",
              "\n",
              "<g class=\"displacy-arrow\">\n",
              "    <path class=\"displacy-arc\" id=\"arrow-2f8ca837948b4f0ba2a2a13efde0fa33-0-6\" stroke-width=\"2px\" d=\"M420,352.0 C420,317.0 425.0,317.0 425.0,352.0\" fill=\"none\" stroke=\"currentColor\"/>\n",
              "    <text dy=\"1.25em\" style=\"font-size: 0.8em; letter-spacing: 1px\">\n",
              "        <textPath xlink:href=\"#arrow-2f8ca837948b4f0ba2a2a13efde0fa33-0-6\" class=\"displacy-label\" startOffset=\"50%\" side=\"left\" fill=\"currentColor\" text-anchor=\"middle\">acl</textPath>\n",
              "    </text>\n",
              "    <path class=\"displacy-arrowhead\" d=\"M425.0,354.0 L433.0,342.0 417.0,342.0\" fill=\"currentColor\"/>\n",
              "</g>\n",
              "\n",
              "<g class=\"displacy-arrow\">\n",
              "    <path class=\"displacy-arc\" id=\"arrow-2f8ca837948b4f0ba2a2a13efde0fa33-0-7\" stroke-width=\"2px\" d=\"M560,352.0 C560,317.0 565.0,317.0 565.0,352.0\" fill=\"none\" stroke=\"currentColor\"/>\n",
              "    <text dy=\"1.25em\" style=\"font-size: 0.8em; letter-spacing: 1px\">\n",
              "        <textPath xlink:href=\"#arrow-2f8ca837948b4f0ba2a2a13efde0fa33-0-7\" class=\"displacy-label\" startOffset=\"50%\" side=\"left\" fill=\"currentColor\" text-anchor=\"middle\">compound</textPath>\n",
              "    </text>\n",
              "    <path class=\"displacy-arrowhead\" d=\"M560,354.0 L552,342.0 568,342.0\" fill=\"currentColor\"/>\n",
              "</g>\n",
              "\n",
              "<g class=\"displacy-arrow\">\n",
              "    <path class=\"displacy-arc\" id=\"arrow-2f8ca837948b4f0ba2a2a13efde0fa33-0-8\" stroke-width=\"2px\" d=\"M490,352.0 C490,282.0 570.0,282.0 570.0,352.0\" fill=\"none\" stroke=\"currentColor\"/>\n",
              "    <text dy=\"1.25em\" style=\"font-size: 0.8em; letter-spacing: 1px\">\n",
              "        <textPath xlink:href=\"#arrow-2f8ca837948b4f0ba2a2a13efde0fa33-0-8\" class=\"displacy-label\" startOffset=\"50%\" side=\"left\" fill=\"currentColor\" text-anchor=\"middle\">oprd</textPath>\n",
              "    </text>\n",
              "    <path class=\"displacy-arrowhead\" d=\"M570.0,354.0 L578.0,342.0 562.0,342.0\" fill=\"currentColor\"/>\n",
              "</g>\n",
              "\n",
              "<g class=\"displacy-arrow\">\n",
              "    <path class=\"displacy-arc\" id=\"arrow-2f8ca837948b4f0ba2a2a13efde0fa33-0-9\" stroke-width=\"2px\" d=\"M700,352.0 C700,317.0 705.0,317.0 705.0,352.0\" fill=\"none\" stroke=\"currentColor\"/>\n",
              "    <text dy=\"1.25em\" style=\"font-size: 0.8em; letter-spacing: 1px\">\n",
              "        <textPath xlink:href=\"#arrow-2f8ca837948b4f0ba2a2a13efde0fa33-0-9\" class=\"displacy-label\" startOffset=\"50%\" side=\"left\" fill=\"currentColor\" text-anchor=\"middle\">prt</textPath>\n",
              "    </text>\n",
              "    <path class=\"displacy-arrowhead\" d=\"M705.0,354.0 L713.0,342.0 697.0,342.0\" fill=\"currentColor\"/>\n",
              "</g>\n",
              "\n",
              "<g class=\"displacy-arrow\">\n",
              "    <path class=\"displacy-arc\" id=\"arrow-2f8ca837948b4f0ba2a2a13efde0fa33-0-10\" stroke-width=\"2px\" d=\"M770,352.0 C770,317.0 775.0,317.0 775.0,352.0\" fill=\"none\" stroke=\"currentColor\"/>\n",
              "    <text dy=\"1.25em\" style=\"font-size: 0.8em; letter-spacing: 1px\">\n",
              "        <textPath xlink:href=\"#arrow-2f8ca837948b4f0ba2a2a13efde0fa33-0-10\" class=\"displacy-label\" startOffset=\"50%\" side=\"left\" fill=\"currentColor\" text-anchor=\"middle\"></textPath>\n",
              "    </text>\n",
              "    <path class=\"displacy-arrowhead\" d=\"M775.0,354.0 L783.0,342.0 767.0,342.0\" fill=\"currentColor\"/>\n",
              "</g>\n",
              "\n",
              "<g class=\"displacy-arrow\">\n",
              "    <path class=\"displacy-arc\" id=\"arrow-2f8ca837948b4f0ba2a2a13efde0fa33-0-11\" stroke-width=\"2px\" d=\"M700,352.0 C700,247.0 855.0,247.0 855.0,352.0\" fill=\"none\" stroke=\"currentColor\"/>\n",
              "    <text dy=\"1.25em\" style=\"font-size: 0.8em; letter-spacing: 1px\">\n",
              "        <textPath xlink:href=\"#arrow-2f8ca837948b4f0ba2a2a13efde0fa33-0-11\" class=\"displacy-label\" startOffset=\"50%\" side=\"left\" fill=\"currentColor\" text-anchor=\"middle\">advcl</textPath>\n",
              "    </text>\n",
              "    <path class=\"displacy-arrowhead\" d=\"M855.0,354.0 L863.0,342.0 847.0,342.0\" fill=\"currentColor\"/>\n",
              "</g>\n",
              "\n",
              "<g class=\"displacy-arrow\">\n",
              "    <path class=\"displacy-arc\" id=\"arrow-2f8ca837948b4f0ba2a2a13efde0fa33-0-12\" stroke-width=\"2px\" d=\"M910,352.0 C910,317.0 915.0,317.0 915.0,352.0\" fill=\"none\" stroke=\"currentColor\"/>\n",
              "    <text dy=\"1.25em\" style=\"font-size: 0.8em; letter-spacing: 1px\">\n",
              "        <textPath xlink:href=\"#arrow-2f8ca837948b4f0ba2a2a13efde0fa33-0-12\" class=\"displacy-label\" startOffset=\"50%\" side=\"left\" fill=\"currentColor\" text-anchor=\"middle\">agent</textPath>\n",
              "    </text>\n",
              "    <path class=\"displacy-arrowhead\" d=\"M915.0,354.0 L923.0,342.0 907.0,342.0\" fill=\"currentColor\"/>\n",
              "</g>\n",
              "\n",
              "<g class=\"displacy-arrow\">\n",
              "    <path class=\"displacy-arc\" id=\"arrow-2f8ca837948b4f0ba2a2a13efde0fa33-0-13\" stroke-width=\"2px\" d=\"M1050,352.0 C1050,282.0 1130.0,282.0 1130.0,352.0\" fill=\"none\" stroke=\"currentColor\"/>\n",
              "    <text dy=\"1.25em\" style=\"font-size: 0.8em; letter-spacing: 1px\">\n",
              "        <textPath xlink:href=\"#arrow-2f8ca837948b4f0ba2a2a13efde0fa33-0-13\" class=\"displacy-label\" startOffset=\"50%\" side=\"left\" fill=\"currentColor\" text-anchor=\"middle\">compound</textPath>\n",
              "    </text>\n",
              "    <path class=\"displacy-arrowhead\" d=\"M1050,354.0 L1042,342.0 1058,342.0\" fill=\"currentColor\"/>\n",
              "</g>\n",
              "\n",
              "<g class=\"displacy-arrow\">\n",
              "    <path class=\"displacy-arc\" id=\"arrow-2f8ca837948b4f0ba2a2a13efde0fa33-0-14\" stroke-width=\"2px\" d=\"M1120,352.0 C1120,317.0 1125.0,317.0 1125.0,352.0\" fill=\"none\" stroke=\"currentColor\"/>\n",
              "    <text dy=\"1.25em\" style=\"font-size: 0.8em; letter-spacing: 1px\">\n",
              "        <textPath xlink:href=\"#arrow-2f8ca837948b4f0ba2a2a13efde0fa33-0-14\" class=\"displacy-label\" startOffset=\"50%\" side=\"left\" fill=\"currentColor\" text-anchor=\"middle\">compound</textPath>\n",
              "    </text>\n",
              "    <path class=\"displacy-arrowhead\" d=\"M1120,354.0 L1112,342.0 1128,342.0\" fill=\"currentColor\"/>\n",
              "</g>\n",
              "\n",
              "<g class=\"displacy-arrow\">\n",
              "    <path class=\"displacy-arc\" id=\"arrow-2f8ca837948b4f0ba2a2a13efde0fa33-0-15\" stroke-width=\"2px\" d=\"M980,352.0 C980,247.0 1135.0,247.0 1135.0,352.0\" fill=\"none\" stroke=\"currentColor\"/>\n",
              "    <text dy=\"1.25em\" style=\"font-size: 0.8em; letter-spacing: 1px\">\n",
              "        <textPath xlink:href=\"#arrow-2f8ca837948b4f0ba2a2a13efde0fa33-0-15\" class=\"displacy-label\" startOffset=\"50%\" side=\"left\" fill=\"currentColor\" text-anchor=\"middle\">pobj</textPath>\n",
              "    </text>\n",
              "    <path class=\"displacy-arrowhead\" d=\"M1135.0,354.0 L1143.0,342.0 1127.0,342.0\" fill=\"currentColor\"/>\n",
              "</g>\n",
              "\n",
              "<g class=\"displacy-arrow\">\n",
              "    <path class=\"displacy-arc\" id=\"arrow-2f8ca837948b4f0ba2a2a13efde0fa33-0-16\" stroke-width=\"2px\" d=\"M1260,352.0 C1260,317.0 1265.0,317.0 1265.0,352.0\" fill=\"none\" stroke=\"currentColor\"/>\n",
              "    <text dy=\"1.25em\" style=\"font-size: 0.8em; letter-spacing: 1px\">\n",
              "        <textPath xlink:href=\"#arrow-2f8ca837948b4f0ba2a2a13efde0fa33-0-16\" class=\"displacy-label\" startOffset=\"50%\" side=\"left\" fill=\"currentColor\" text-anchor=\"middle\">compound</textPath>\n",
              "    </text>\n",
              "    <path class=\"displacy-arrowhead\" d=\"M1260,354.0 L1252,342.0 1268,342.0\" fill=\"currentColor\"/>\n",
              "</g>\n",
              "\n",
              "<g class=\"displacy-arrow\">\n",
              "    <path class=\"displacy-arc\" id=\"arrow-2f8ca837948b4f0ba2a2a13efde0fa33-0-17\" stroke-width=\"2px\" d=\"M1190,352.0 C1190,282.0 1270.0,282.0 1270.0,352.0\" fill=\"none\" stroke=\"currentColor\"/>\n",
              "    <text dy=\"1.25em\" style=\"font-size: 0.8em; letter-spacing: 1px\">\n",
              "        <textPath xlink:href=\"#arrow-2f8ca837948b4f0ba2a2a13efde0fa33-0-17\" class=\"displacy-label\" startOffset=\"50%\" side=\"left\" fill=\"currentColor\" text-anchor=\"middle\">conj</textPath>\n",
              "    </text>\n",
              "    <path class=\"displacy-arrowhead\" d=\"M1270.0,354.0 L1278.0,342.0 1262.0,342.0\" fill=\"currentColor\"/>\n",
              "</g>\n",
              "\n",
              "<g class=\"displacy-arrow\">\n",
              "    <path class=\"displacy-arc\" id=\"arrow-2f8ca837948b4f0ba2a2a13efde0fa33-0-18\" stroke-width=\"2px\" d=\"M1330,352.0 C1330,317.0 1335.0,317.0 1335.0,352.0\" fill=\"none\" stroke=\"currentColor\"/>\n",
              "    <text dy=\"1.25em\" style=\"font-size: 0.8em; letter-spacing: 1px\">\n",
              "        <textPath xlink:href=\"#arrow-2f8ca837948b4f0ba2a2a13efde0fa33-0-18\" class=\"displacy-label\" startOffset=\"50%\" side=\"left\" fill=\"currentColor\" text-anchor=\"middle\">cc</textPath>\n",
              "    </text>\n",
              "    <path class=\"displacy-arrowhead\" d=\"M1335.0,354.0 L1343.0,342.0 1327.0,342.0\" fill=\"currentColor\"/>\n",
              "</g>\n",
              "\n",
              "<g class=\"displacy-arrow\">\n",
              "    <path class=\"displacy-arc\" id=\"arrow-2f8ca837948b4f0ba2a2a13efde0fa33-0-19\" stroke-width=\"2px\" d=\"M1470,352.0 C1470,317.0 1475.0,317.0 1475.0,352.0\" fill=\"none\" stroke=\"currentColor\"/>\n",
              "    <text dy=\"1.25em\" style=\"font-size: 0.8em; letter-spacing: 1px\">\n",
              "        <textPath xlink:href=\"#arrow-2f8ca837948b4f0ba2a2a13efde0fa33-0-19\" class=\"displacy-label\" startOffset=\"50%\" side=\"left\" fill=\"currentColor\" text-anchor=\"middle\">compound</textPath>\n",
              "    </text>\n",
              "    <path class=\"displacy-arrowhead\" d=\"M1470,354.0 L1462,342.0 1478,342.0\" fill=\"currentColor\"/>\n",
              "</g>\n",
              "\n",
              "<g class=\"displacy-arrow\">\n",
              "    <path class=\"displacy-arc\" id=\"arrow-2f8ca837948b4f0ba2a2a13efde0fa33-0-20\" stroke-width=\"2px\" d=\"M1330,352.0 C1330,247.0 1485.0,247.0 1485.0,352.0\" fill=\"none\" stroke=\"currentColor\"/>\n",
              "    <text dy=\"1.25em\" style=\"font-size: 0.8em; letter-spacing: 1px\">\n",
              "        <textPath xlink:href=\"#arrow-2f8ca837948b4f0ba2a2a13efde0fa33-0-20\" class=\"displacy-label\" startOffset=\"50%\" side=\"left\" fill=\"currentColor\" text-anchor=\"middle\">conj</textPath>\n",
              "    </text>\n",
              "    <path class=\"displacy-arrowhead\" d=\"M1485.0,354.0 L1493.0,342.0 1477.0,342.0\" fill=\"currentColor\"/>\n",
              "</g>\n",
              "\n",
              "<g class=\"displacy-arrow\">\n",
              "    <path class=\"displacy-arc\" id=\"arrow-2f8ca837948b4f0ba2a2a13efde0fa33-0-21\" stroke-width=\"2px\" d=\"M910,352.0 C910,72.0 1580.0,72.0 1580.0,352.0\" fill=\"none\" stroke=\"currentColor\"/>\n",
              "    <text dy=\"1.25em\" style=\"font-size: 0.8em; letter-spacing: 1px\">\n",
              "        <textPath xlink:href=\"#arrow-2f8ca837948b4f0ba2a2a13efde0fa33-0-21\" class=\"displacy-label\" startOffset=\"50%\" side=\"left\" fill=\"currentColor\" text-anchor=\"middle\">prep</textPath>\n",
              "    </text>\n",
              "    <path class=\"displacy-arrowhead\" d=\"M1580.0,354.0 L1588.0,342.0 1572.0,342.0\" fill=\"currentColor\"/>\n",
              "</g>\n",
              "\n",
              "<g class=\"displacy-arrow\">\n",
              "    <path class=\"displacy-arc\" id=\"arrow-2f8ca837948b4f0ba2a2a13efde0fa33-0-22\" stroke-width=\"2px\" d=\"M1680,352.0 C1680,247.0 1835.0,247.0 1835.0,352.0\" fill=\"none\" stroke=\"currentColor\"/>\n",
              "    <text dy=\"1.25em\" style=\"font-size: 0.8em; letter-spacing: 1px\">\n",
              "        <textPath xlink:href=\"#arrow-2f8ca837948b4f0ba2a2a13efde0fa33-0-22\" class=\"displacy-label\" startOffset=\"50%\" side=\"left\" fill=\"currentColor\" text-anchor=\"middle\">det</textPath>\n",
              "    </text>\n",
              "    <path class=\"displacy-arrowhead\" d=\"M1680,354.0 L1672,342.0 1688,342.0\" fill=\"currentColor\"/>\n",
              "</g>\n",
              "\n",
              "<g class=\"displacy-arrow\">\n",
              "    <path class=\"displacy-arc\" id=\"arrow-2f8ca837948b4f0ba2a2a13efde0fa33-0-23\" stroke-width=\"2px\" d=\"M1750,352.0 C1750,317.0 1755.0,317.0 1755.0,352.0\" fill=\"none\" stroke=\"currentColor\"/>\n",
              "    <text dy=\"1.25em\" style=\"font-size: 0.8em; letter-spacing: 1px\">\n",
              "        <textPath xlink:href=\"#arrow-2f8ca837948b4f0ba2a2a13efde0fa33-0-23\" class=\"displacy-label\" startOffset=\"50%\" side=\"left\" fill=\"currentColor\" text-anchor=\"middle\">amod</textPath>\n",
              "    </text>\n",
              "    <path class=\"displacy-arrowhead\" d=\"M1750,354.0 L1742,342.0 1758,342.0\" fill=\"currentColor\"/>\n",
              "</g>\n",
              "\n",
              "<g class=\"displacy-arrow\">\n",
              "    <path class=\"displacy-arc\" id=\"arrow-2f8ca837948b4f0ba2a2a13efde0fa33-0-24\" stroke-width=\"2px\" d=\"M1820,352.0 C1820,317.0 1825.0,317.0 1825.0,352.0\" fill=\"none\" stroke=\"currentColor\"/>\n",
              "    <text dy=\"1.25em\" style=\"font-size: 0.8em; letter-spacing: 1px\">\n",
              "        <textPath xlink:href=\"#arrow-2f8ca837948b4f0ba2a2a13efde0fa33-0-24\" class=\"displacy-label\" startOffset=\"50%\" side=\"left\" fill=\"currentColor\" text-anchor=\"middle\">compound</textPath>\n",
              "    </text>\n",
              "    <path class=\"displacy-arrowhead\" d=\"M1820,354.0 L1812,342.0 1828,342.0\" fill=\"currentColor\"/>\n",
              "</g>\n",
              "\n",
              "<g class=\"displacy-arrow\">\n",
              "    <path class=\"displacy-arc\" id=\"arrow-2f8ca837948b4f0ba2a2a13efde0fa33-0-25\" stroke-width=\"2px\" d=\"M700,352.0 C700,37.0 1865.0,37.0 1865.0,352.0\" fill=\"none\" stroke=\"currentColor\"/>\n",
              "    <text dy=\"1.25em\" style=\"font-size: 0.8em; letter-spacing: 1px\">\n",
              "        <textPath xlink:href=\"#arrow-2f8ca837948b4f0ba2a2a13efde0fa33-0-25\" class=\"displacy-label\" startOffset=\"50%\" side=\"left\" fill=\"currentColor\" text-anchor=\"middle\">punct</textPath>\n",
              "    </text>\n",
              "    <path class=\"displacy-arrowhead\" d=\"M1865.0,354.0 L1873.0,342.0 1857.0,342.0\" fill=\"currentColor\"/>\n",
              "</g>\n",
              "\n",
              "<g class=\"displacy-arrow\">\n",
              "    <path class=\"displacy-arc\" id=\"arrow-2f8ca837948b4f0ba2a2a13efde0fa33-0-26\" stroke-width=\"2px\" d=\"M1890,352.0 C1890,317.0 1895.0,317.0 1895.0,352.0\" fill=\"none\" stroke=\"currentColor\"/>\n",
              "    <text dy=\"1.25em\" style=\"font-size: 0.8em; letter-spacing: 1px\">\n",
              "        <textPath xlink:href=\"#arrow-2f8ca837948b4f0ba2a2a13efde0fa33-0-26\" class=\"displacy-label\" startOffset=\"50%\" side=\"left\" fill=\"currentColor\" text-anchor=\"middle\"></textPath>\n",
              "    </text>\n",
              "    <path class=\"displacy-arrowhead\" d=\"M1895.0,354.0 L1903.0,342.0 1887.0,342.0\" fill=\"currentColor\"/>\n",
              "</g>\n",
              "\n",
              "<g class=\"displacy-arrow\">\n",
              "    <path class=\"displacy-arc\" id=\"arrow-2f8ca837948b4f0ba2a2a13efde0fa33-0-27\" stroke-width=\"2px\" d=\"M2030,352.0 C2030,317.0 2035.0,317.0 2035.0,352.0\" fill=\"none\" stroke=\"currentColor\"/>\n",
              "    <text dy=\"1.25em\" style=\"font-size: 0.8em; letter-spacing: 1px\">\n",
              "        <textPath xlink:href=\"#arrow-2f8ca837948b4f0ba2a2a13efde0fa33-0-27\" class=\"displacy-label\" startOffset=\"50%\" side=\"left\" fill=\"currentColor\" text-anchor=\"middle\">det</textPath>\n",
              "    </text>\n",
              "    <path class=\"displacy-arrowhead\" d=\"M2030,354.0 L2022,342.0 2038,342.0\" fill=\"currentColor\"/>\n",
              "</g>\n",
              "\n",
              "<g class=\"displacy-arrow\">\n",
              "    <path class=\"displacy-arc\" id=\"arrow-2f8ca837948b4f0ba2a2a13efde0fa33-0-28\" stroke-width=\"2px\" d=\"M2100,352.0 C2100,282.0 2180.0,282.0 2180.0,352.0\" fill=\"none\" stroke=\"currentColor\"/>\n",
              "    <text dy=\"1.25em\" style=\"font-size: 0.8em; letter-spacing: 1px\">\n",
              "        <textPath xlink:href=\"#arrow-2f8ca837948b4f0ba2a2a13efde0fa33-0-28\" class=\"displacy-label\" startOffset=\"50%\" side=\"left\" fill=\"currentColor\" text-anchor=\"middle\">nsubjpass</textPath>\n",
              "    </text>\n",
              "    <path class=\"displacy-arrowhead\" d=\"M2100,354.0 L2092,342.0 2108,342.0\" fill=\"currentColor\"/>\n",
              "</g>\n",
              "\n",
              "<g class=\"displacy-arrow\">\n",
              "    <path class=\"displacy-arc\" id=\"arrow-2f8ca837948b4f0ba2a2a13efde0fa33-0-29\" stroke-width=\"2px\" d=\"M2170,352.0 C2170,317.0 2175.0,317.0 2175.0,352.0\" fill=\"none\" stroke=\"currentColor\"/>\n",
              "    <text dy=\"1.25em\" style=\"font-size: 0.8em; letter-spacing: 1px\">\n",
              "        <textPath xlink:href=\"#arrow-2f8ca837948b4f0ba2a2a13efde0fa33-0-29\" class=\"displacy-label\" startOffset=\"50%\" side=\"left\" fill=\"currentColor\" text-anchor=\"middle\">auxpass</textPath>\n",
              "    </text>\n",
              "    <path class=\"displacy-arrowhead\" d=\"M2170,354.0 L2162,342.0 2178,342.0\" fill=\"currentColor\"/>\n",
              "</g>\n",
              "\n",
              "<g class=\"displacy-arrow\">\n",
              "    <path class=\"displacy-arc\" id=\"arrow-2f8ca837948b4f0ba2a2a13efde0fa33-0-30\" stroke-width=\"2px\" d=\"M2240,352.0 C2240,317.0 2245.0,317.0 2245.0,352.0\" fill=\"none\" stroke=\"currentColor\"/>\n",
              "    <text dy=\"1.25em\" style=\"font-size: 0.8em; letter-spacing: 1px\">\n",
              "        <textPath xlink:href=\"#arrow-2f8ca837948b4f0ba2a2a13efde0fa33-0-30\" class=\"displacy-label\" startOffset=\"50%\" side=\"left\" fill=\"currentColor\" text-anchor=\"middle\">prep</textPath>\n",
              "    </text>\n",
              "    <path class=\"displacy-arrowhead\" d=\"M2245.0,354.0 L2253.0,342.0 2237.0,342.0\" fill=\"currentColor\"/>\n",
              "</g>\n",
              "\n",
              "<g class=\"displacy-arrow\">\n",
              "    <path class=\"displacy-arc\" id=\"arrow-2f8ca837948b4f0ba2a2a13efde0fa33-0-31\" stroke-width=\"2px\" d=\"M2380,352.0 C2380,317.0 2385.0,317.0 2385.0,352.0\" fill=\"none\" stroke=\"currentColor\"/>\n",
              "    <text dy=\"1.25em\" style=\"font-size: 0.8em; letter-spacing: 1px\">\n",
              "        <textPath xlink:href=\"#arrow-2f8ca837948b4f0ba2a2a13efde0fa33-0-31\" class=\"displacy-label\" startOffset=\"50%\" side=\"left\" fill=\"currentColor\" text-anchor=\"middle\">det</textPath>\n",
              "    </text>\n",
              "    <path class=\"displacy-arrowhead\" d=\"M2380,354.0 L2372,342.0 2388,342.0\" fill=\"currentColor\"/>\n",
              "</g>\n",
              "\n",
              "<g class=\"displacy-arrow\">\n",
              "    <path class=\"displacy-arc\" id=\"arrow-2f8ca837948b4f0ba2a2a13efde0fa33-0-32\" stroke-width=\"2px\" d=\"M2310,352.0 C2310,282.0 2390.0,282.0 2390.0,352.0\" fill=\"none\" stroke=\"currentColor\"/>\n",
              "    <text dy=\"1.25em\" style=\"font-size: 0.8em; letter-spacing: 1px\">\n",
              "        <textPath xlink:href=\"#arrow-2f8ca837948b4f0ba2a2a13efde0fa33-0-32\" class=\"displacy-label\" startOffset=\"50%\" side=\"left\" fill=\"currentColor\" text-anchor=\"middle\">pobj</textPath>\n",
              "    </text>\n",
              "    <path class=\"displacy-arrowhead\" d=\"M2390.0,354.0 L2398.0,342.0 2382.0,342.0\" fill=\"currentColor\"/>\n",
              "</g>\n",
              "\n",
              "<g class=\"displacy-arrow\">\n",
              "    <path class=\"displacy-arc\" id=\"arrow-2f8ca837948b4f0ba2a2a13efde0fa33-0-33\" stroke-width=\"2px\" d=\"M2450,352.0 C2450,317.0 2455.0,317.0 2455.0,352.0\" fill=\"none\" stroke=\"currentColor\"/>\n",
              "    <text dy=\"1.25em\" style=\"font-size: 0.8em; letter-spacing: 1px\">\n",
              "        <textPath xlink:href=\"#arrow-2f8ca837948b4f0ba2a2a13efde0fa33-0-33\" class=\"displacy-label\" startOffset=\"50%\" side=\"left\" fill=\"currentColor\" text-anchor=\"middle\">prep</textPath>\n",
              "    </text>\n",
              "    <path class=\"displacy-arrowhead\" d=\"M2455.0,354.0 L2463.0,342.0 2447.0,342.0\" fill=\"currentColor\"/>\n",
              "</g>\n",
              "\n",
              "<g class=\"displacy-arrow\">\n",
              "    <path class=\"displacy-arc\" id=\"arrow-2f8ca837948b4f0ba2a2a13efde0fa33-0-34\" stroke-width=\"2px\" d=\"M2520,352.0 C2520,317.0 2525.0,317.0 2525.0,352.0\" fill=\"none\" stroke=\"currentColor\"/>\n",
              "    <text dy=\"1.25em\" style=\"font-size: 0.8em; letter-spacing: 1px\">\n",
              "        <textPath xlink:href=\"#arrow-2f8ca837948b4f0ba2a2a13efde0fa33-0-34\" class=\"displacy-label\" startOffset=\"50%\" side=\"left\" fill=\"currentColor\" text-anchor=\"middle\">pobj</textPath>\n",
              "    </text>\n",
              "    <path class=\"displacy-arrowhead\" d=\"M2525.0,354.0 L2533.0,342.0 2517.0,342.0\" fill=\"currentColor\"/>\n",
              "</g>\n",
              "\n",
              "<g class=\"displacy-arrow\">\n",
              "    <path class=\"displacy-arc\" id=\"arrow-2f8ca837948b4f0ba2a2a13efde0fa33-0-35\" stroke-width=\"2px\" d=\"M2590,352.0 C2590,317.0 2595.0,317.0 2595.0,352.0\" fill=\"none\" stroke=\"currentColor\"/>\n",
              "    <text dy=\"1.25em\" style=\"font-size: 0.8em; letter-spacing: 1px\">\n",
              "        <textPath xlink:href=\"#arrow-2f8ca837948b4f0ba2a2a13efde0fa33-0-35\" class=\"displacy-label\" startOffset=\"50%\" side=\"left\" fill=\"currentColor\" text-anchor=\"middle\">prep</textPath>\n",
              "    </text>\n",
              "    <path class=\"displacy-arrowhead\" d=\"M2595.0,354.0 L2603.0,342.0 2587.0,342.0\" fill=\"currentColor\"/>\n",
              "</g>\n",
              "\n",
              "<g class=\"displacy-arrow\">\n",
              "    <path class=\"displacy-arc\" id=\"arrow-2f8ca837948b4f0ba2a2a13efde0fa33-0-36\" stroke-width=\"2px\" d=\"M2730,352.0 C2730,317.0 2735.0,317.0 2735.0,352.0\" fill=\"none\" stroke=\"currentColor\"/>\n",
              "    <text dy=\"1.25em\" style=\"font-size: 0.8em; letter-spacing: 1px\">\n",
              "        <textPath xlink:href=\"#arrow-2f8ca837948b4f0ba2a2a13efde0fa33-0-36\" class=\"displacy-label\" startOffset=\"50%\" side=\"left\" fill=\"currentColor\" text-anchor=\"middle\">det</textPath>\n",
              "    </text>\n",
              "    <path class=\"displacy-arrowhead\" d=\"M2730,354.0 L2722,342.0 2738,342.0\" fill=\"currentColor\"/>\n",
              "</g>\n",
              "\n",
              "<g class=\"displacy-arrow\">\n",
              "    <path class=\"displacy-arc\" id=\"arrow-2f8ca837948b4f0ba2a2a13efde0fa33-0-37\" stroke-width=\"2px\" d=\"M2660,352.0 C2660,282.0 2740.0,282.0 2740.0,352.0\" fill=\"none\" stroke=\"currentColor\"/>\n",
              "    <text dy=\"1.25em\" style=\"font-size: 0.8em; letter-spacing: 1px\">\n",
              "        <textPath xlink:href=\"#arrow-2f8ca837948b4f0ba2a2a13efde0fa33-0-37\" class=\"displacy-label\" startOffset=\"50%\" side=\"left\" fill=\"currentColor\" text-anchor=\"middle\">pobj</textPath>\n",
              "    </text>\n",
              "    <path class=\"displacy-arrowhead\" d=\"M2740.0,354.0 L2748.0,342.0 2732.0,342.0\" fill=\"currentColor\"/>\n",
              "</g>\n",
              "\n",
              "<g class=\"displacy-arrow\">\n",
              "    <path class=\"displacy-arc\" id=\"arrow-2f8ca837948b4f0ba2a2a13efde0fa33-0-38\" stroke-width=\"2px\" d=\"M2800,352.0 C2800,317.0 2805.0,317.0 2805.0,352.0\" fill=\"none\" stroke=\"currentColor\"/>\n",
              "    <text dy=\"1.25em\" style=\"font-size: 0.8em; letter-spacing: 1px\">\n",
              "        <textPath xlink:href=\"#arrow-2f8ca837948b4f0ba2a2a13efde0fa33-0-38\" class=\"displacy-label\" startOffset=\"50%\" side=\"left\" fill=\"currentColor\" text-anchor=\"middle\">prep</textPath>\n",
              "    </text>\n",
              "    <path class=\"displacy-arrowhead\" d=\"M2805.0,354.0 L2813.0,342.0 2797.0,342.0\" fill=\"currentColor\"/>\n",
              "</g>\n",
              "\n",
              "<g class=\"displacy-arrow\">\n",
              "    <path class=\"displacy-arc\" id=\"arrow-2f8ca837948b4f0ba2a2a13efde0fa33-0-39\" stroke-width=\"2px\" d=\"M2940,352.0 C2940,317.0 2945.0,317.0 2945.0,352.0\" fill=\"none\" stroke=\"currentColor\"/>\n",
              "    <text dy=\"1.25em\" style=\"font-size: 0.8em; letter-spacing: 1px\">\n",
              "        <textPath xlink:href=\"#arrow-2f8ca837948b4f0ba2a2a13efde0fa33-0-39\" class=\"displacy-label\" startOffset=\"50%\" side=\"left\" fill=\"currentColor\" text-anchor=\"middle\">amod</textPath>\n",
              "    </text>\n",
              "    <path class=\"displacy-arrowhead\" d=\"M2940,354.0 L2932,342.0 2948,342.0\" fill=\"currentColor\"/>\n",
              "</g>\n",
              "\n",
              "<g class=\"displacy-arrow\">\n",
              "    <path class=\"displacy-arc\" id=\"arrow-2f8ca837948b4f0ba2a2a13efde0fa33-0-40\" stroke-width=\"2px\" d=\"M2870,352.0 C2870,282.0 2950.0,282.0 2950.0,352.0\" fill=\"none\" stroke=\"currentColor\"/>\n",
              "    <text dy=\"1.25em\" style=\"font-size: 0.8em; letter-spacing: 1px\">\n",
              "        <textPath xlink:href=\"#arrow-2f8ca837948b4f0ba2a2a13efde0fa33-0-40\" class=\"displacy-label\" startOffset=\"50%\" side=\"left\" fill=\"currentColor\" text-anchor=\"middle\">pobj</textPath>\n",
              "    </text>\n",
              "    <path class=\"displacy-arrowhead\" d=\"M2950.0,354.0 L2958.0,342.0 2942.0,342.0\" fill=\"currentColor\"/>\n",
              "</g>\n",
              "\n",
              "<g class=\"displacy-arrow\">\n",
              "    <path class=\"displacy-arc\" id=\"arrow-2f8ca837948b4f0ba2a2a13efde0fa33-0-41\" stroke-width=\"2px\" d=\"M3010,352.0 C3010,317.0 3015.0,317.0 3015.0,352.0\" fill=\"none\" stroke=\"currentColor\"/>\n",
              "    <text dy=\"1.25em\" style=\"font-size: 0.8em; letter-spacing: 1px\">\n",
              "        <textPath xlink:href=\"#arrow-2f8ca837948b4f0ba2a2a13efde0fa33-0-41\" class=\"displacy-label\" startOffset=\"50%\" side=\"left\" fill=\"currentColor\" text-anchor=\"middle\">prep</textPath>\n",
              "    </text>\n",
              "    <path class=\"displacy-arrowhead\" d=\"M3015.0,354.0 L3023.0,342.0 3007.0,342.0\" fill=\"currentColor\"/>\n",
              "</g>\n",
              "\n",
              "<g class=\"displacy-arrow\">\n",
              "    <path class=\"displacy-arc\" id=\"arrow-2f8ca837948b4f0ba2a2a13efde0fa33-0-42\" stroke-width=\"2px\" d=\"M3080,352.0 C3080,317.0 3085.0,317.0 3085.0,352.0\" fill=\"none\" stroke=\"currentColor\"/>\n",
              "    <text dy=\"1.25em\" style=\"font-size: 0.8em; letter-spacing: 1px\">\n",
              "        <textPath xlink:href=\"#arrow-2f8ca837948b4f0ba2a2a13efde0fa33-0-42\" class=\"displacy-label\" startOffset=\"50%\" side=\"left\" fill=\"currentColor\" text-anchor=\"middle\">pobj</textPath>\n",
              "    </text>\n",
              "    <path class=\"displacy-arrowhead\" d=\"M3085.0,354.0 L3093.0,342.0 3077.0,342.0\" fill=\"currentColor\"/>\n",
              "</g>\n",
              "\n",
              "<g class=\"displacy-arrow\">\n",
              "    <path class=\"displacy-arc\" id=\"arrow-2f8ca837948b4f0ba2a2a13efde0fa33-0-43\" stroke-width=\"2px\" d=\"M3150,352.0 C3150,317.0 3155.0,317.0 3155.0,352.0\" fill=\"none\" stroke=\"currentColor\"/>\n",
              "    <text dy=\"1.25em\" style=\"font-size: 0.8em; letter-spacing: 1px\">\n",
              "        <textPath xlink:href=\"#arrow-2f8ca837948b4f0ba2a2a13efde0fa33-0-43\" class=\"displacy-label\" startOffset=\"50%\" side=\"left\" fill=\"currentColor\" text-anchor=\"middle\"></textPath>\n",
              "    </text>\n",
              "    <path class=\"displacy-arrowhead\" d=\"M3155.0,354.0 L3163.0,342.0 3147.0,342.0\" fill=\"currentColor\"/>\n",
              "</g>\n",
              "\n",
              "<g class=\"displacy-arrow\">\n",
              "    <path class=\"displacy-arc\" id=\"arrow-2f8ca837948b4f0ba2a2a13efde0fa33-0-44\" stroke-width=\"2px\" d=\"M3150,352.0 C3150,282.0 3230.0,282.0 3230.0,352.0\" fill=\"none\" stroke=\"currentColor\"/>\n",
              "    <text dy=\"1.25em\" style=\"font-size: 0.8em; letter-spacing: 1px\">\n",
              "        <textPath xlink:href=\"#arrow-2f8ca837948b4f0ba2a2a13efde0fa33-0-44\" class=\"displacy-label\" startOffset=\"50%\" side=\"left\" fill=\"currentColor\" text-anchor=\"middle\">conj</textPath>\n",
              "    </text>\n",
              "    <path class=\"displacy-arrowhead\" d=\"M3230.0,354.0 L3238.0,342.0 3222.0,342.0\" fill=\"currentColor\"/>\n",
              "</g>\n",
              "\n",
              "<g class=\"displacy-arrow\">\n",
              "    <path class=\"displacy-arc\" id=\"arrow-2f8ca837948b4f0ba2a2a13efde0fa33-0-45\" stroke-width=\"2px\" d=\"M3290,352.0 C3290,317.0 3295.0,317.0 3295.0,352.0\" fill=\"none\" stroke=\"currentColor\"/>\n",
              "    <text dy=\"1.25em\" style=\"font-size: 0.8em; letter-spacing: 1px\">\n",
              "        <textPath xlink:href=\"#arrow-2f8ca837948b4f0ba2a2a13efde0fa33-0-45\" class=\"displacy-label\" startOffset=\"50%\" side=\"left\" fill=\"currentColor\" text-anchor=\"middle\">cc</textPath>\n",
              "    </text>\n",
              "    <path class=\"displacy-arrowhead\" d=\"M3295.0,354.0 L3303.0,342.0 3287.0,342.0\" fill=\"currentColor\"/>\n",
              "</g>\n",
              "\n",
              "<g class=\"displacy-arrow\">\n",
              "    <path class=\"displacy-arc\" id=\"arrow-2f8ca837948b4f0ba2a2a13efde0fa33-0-46\" stroke-width=\"2px\" d=\"M3430,352.0 C3430,317.0 3435.0,317.0 3435.0,352.0\" fill=\"none\" stroke=\"currentColor\"/>\n",
              "    <text dy=\"1.25em\" style=\"font-size: 0.8em; letter-spacing: 1px\">\n",
              "        <textPath xlink:href=\"#arrow-2f8ca837948b4f0ba2a2a13efde0fa33-0-46\" class=\"displacy-label\" startOffset=\"50%\" side=\"left\" fill=\"currentColor\" text-anchor=\"middle\">compound</textPath>\n",
              "    </text>\n",
              "    <path class=\"displacy-arrowhead\" d=\"M3430,354.0 L3422,342.0 3438,342.0\" fill=\"currentColor\"/>\n",
              "</g>\n",
              "\n",
              "<g class=\"displacy-arrow\">\n",
              "    <path class=\"displacy-arc\" id=\"arrow-2f8ca837948b4f0ba2a2a13efde0fa33-0-47\" stroke-width=\"2px\" d=\"M3290,352.0 C3290,247.0 3445.0,247.0 3445.0,352.0\" fill=\"none\" stroke=\"currentColor\"/>\n",
              "    <text dy=\"1.25em\" style=\"font-size: 0.8em; letter-spacing: 1px\">\n",
              "        <textPath xlink:href=\"#arrow-2f8ca837948b4f0ba2a2a13efde0fa33-0-47\" class=\"displacy-label\" startOffset=\"50%\" side=\"left\" fill=\"currentColor\" text-anchor=\"middle\">conj</textPath>\n",
              "    </text>\n",
              "    <path class=\"displacy-arrowhead\" d=\"M3445.0,354.0 L3453.0,342.0 3437.0,342.0\" fill=\"currentColor\"/>\n",
              "</g>\n",
              "\n",
              "<g class=\"displacy-arrow\">\n",
              "    <path class=\"displacy-arc\" id=\"arrow-2f8ca837948b4f0ba2a2a13efde0fa33-0-48\" stroke-width=\"2px\" d=\"M3150,352.0 C3150,177.0 3525.0,177.0 3525.0,352.0\" fill=\"none\" stroke=\"currentColor\"/>\n",
              "    <text dy=\"1.25em\" style=\"font-size: 0.8em; letter-spacing: 1px\">\n",
              "        <textPath xlink:href=\"#arrow-2f8ca837948b4f0ba2a2a13efde0fa33-0-48\" class=\"displacy-label\" startOffset=\"50%\" side=\"left\" fill=\"currentColor\" text-anchor=\"middle\">cc</textPath>\n",
              "    </text>\n",
              "    <path class=\"displacy-arrowhead\" d=\"M3525.0,354.0 L3533.0,342.0 3517.0,342.0\" fill=\"currentColor\"/>\n",
              "</g>\n",
              "\n",
              "<g class=\"displacy-arrow\">\n",
              "    <path class=\"displacy-arc\" id=\"arrow-2f8ca837948b4f0ba2a2a13efde0fa33-0-49\" stroke-width=\"2px\" d=\"M3640,352.0 C3640,317.0 3645.0,317.0 3645.0,352.0\" fill=\"none\" stroke=\"currentColor\"/>\n",
              "    <text dy=\"1.25em\" style=\"font-size: 0.8em; letter-spacing: 1px\">\n",
              "        <textPath xlink:href=\"#arrow-2f8ca837948b4f0ba2a2a13efde0fa33-0-49\" class=\"displacy-label\" startOffset=\"50%\" side=\"left\" fill=\"currentColor\" text-anchor=\"middle\">amod</textPath>\n",
              "    </text>\n",
              "    <path class=\"displacy-arrowhead\" d=\"M3640,354.0 L3632,342.0 3648,342.0\" fill=\"currentColor\"/>\n",
              "</g>\n",
              "\n",
              "<g class=\"displacy-arrow\">\n",
              "    <path class=\"displacy-arc\" id=\"arrow-2f8ca837948b4f0ba2a2a13efde0fa33-0-50\" stroke-width=\"2px\" d=\"M3150,352.0 C3150,142.0 3670.0,142.0 3670.0,352.0\" fill=\"none\" stroke=\"currentColor\"/>\n",
              "    <text dy=\"1.25em\" style=\"font-size: 0.8em; letter-spacing: 1px\">\n",
              "        <textPath xlink:href=\"#arrow-2f8ca837948b4f0ba2a2a13efde0fa33-0-50\" class=\"displacy-label\" startOffset=\"50%\" side=\"left\" fill=\"currentColor\" text-anchor=\"middle\">conj</textPath>\n",
              "    </text>\n",
              "    <path class=\"displacy-arrowhead\" d=\"M3670.0,354.0 L3678.0,342.0 3662.0,342.0\" fill=\"currentColor\"/>\n",
              "</g>\n",
              "\n",
              "<g class=\"displacy-arrow\">\n",
              "    <path class=\"displacy-arc\" id=\"arrow-2f8ca837948b4f0ba2a2a13efde0fa33-0-51\" stroke-width=\"2px\" d=\"M3710,352.0 C3710,317.0 3715.0,317.0 3715.0,352.0\" fill=\"none\" stroke=\"currentColor\"/>\n",
              "    <text dy=\"1.25em\" style=\"font-size: 0.8em; letter-spacing: 1px\">\n",
              "        <textPath xlink:href=\"#arrow-2f8ca837948b4f0ba2a2a13efde0fa33-0-51\" class=\"displacy-label\" startOffset=\"50%\" side=\"left\" fill=\"currentColor\" text-anchor=\"middle\">cc</textPath>\n",
              "    </text>\n",
              "    <path class=\"displacy-arrowhead\" d=\"M3715.0,354.0 L3723.0,342.0 3707.0,342.0\" fill=\"currentColor\"/>\n",
              "</g>\n",
              "\n",
              "<g class=\"displacy-arrow\">\n",
              "    <path class=\"displacy-arc\" id=\"arrow-2f8ca837948b4f0ba2a2a13efde0fa33-0-52\" stroke-width=\"2px\" d=\"M3850,352.0 C3850,317.0 3855.0,317.0 3855.0,352.0\" fill=\"none\" stroke=\"currentColor\"/>\n",
              "    <text dy=\"1.25em\" style=\"font-size: 0.8em; letter-spacing: 1px\">\n",
              "        <textPath xlink:href=\"#arrow-2f8ca837948b4f0ba2a2a13efde0fa33-0-52\" class=\"displacy-label\" startOffset=\"50%\" side=\"left\" fill=\"currentColor\" text-anchor=\"middle\">amod</textPath>\n",
              "    </text>\n",
              "    <path class=\"displacy-arrowhead\" d=\"M3850,354.0 L3842,342.0 3858,342.0\" fill=\"currentColor\"/>\n",
              "</g>\n",
              "\n",
              "<g class=\"displacy-arrow\">\n",
              "    <path class=\"displacy-arc\" id=\"arrow-2f8ca837948b4f0ba2a2a13efde0fa33-0-53\" stroke-width=\"2px\" d=\"M3710,352.0 C3710,247.0 3865.0,247.0 3865.0,352.0\" fill=\"none\" stroke=\"currentColor\"/>\n",
              "    <text dy=\"1.25em\" style=\"font-size: 0.8em; letter-spacing: 1px\">\n",
              "        <textPath xlink:href=\"#arrow-2f8ca837948b4f0ba2a2a13efde0fa33-0-53\" class=\"displacy-label\" startOffset=\"50%\" side=\"left\" fill=\"currentColor\" text-anchor=\"middle\">conj</textPath>\n",
              "    </text>\n",
              "    <path class=\"displacy-arrowhead\" d=\"M3865.0,354.0 L3873.0,342.0 3857.0,342.0\" fill=\"currentColor\"/>\n",
              "</g>\n",
              "\n",
              "<g class=\"displacy-arrow\">\n",
              "    <path class=\"displacy-arc\" id=\"arrow-2f8ca837948b4f0ba2a2a13efde0fa33-0-54\" stroke-width=\"2px\" d=\"M3920,352.0 C3920,317.0 3925.0,317.0 3925.0,352.0\" fill=\"none\" stroke=\"currentColor\"/>\n",
              "    <text dy=\"1.25em\" style=\"font-size: 0.8em; letter-spacing: 1px\">\n",
              "        <textPath xlink:href=\"#arrow-2f8ca837948b4f0ba2a2a13efde0fa33-0-54\" class=\"displacy-label\" startOffset=\"50%\" side=\"left\" fill=\"currentColor\" text-anchor=\"middle\">prep</textPath>\n",
              "    </text>\n",
              "    <path class=\"displacy-arrowhead\" d=\"M3925.0,354.0 L3933.0,342.0 3917.0,342.0\" fill=\"currentColor\"/>\n",
              "</g>\n",
              "\n",
              "<g class=\"displacy-arrow\">\n",
              "    <path class=\"displacy-arc\" id=\"arrow-2f8ca837948b4f0ba2a2a13efde0fa33-0-55\" stroke-width=\"2px\" d=\"M3990,352.0 C3990,317.0 3995.0,317.0 3995.0,352.0\" fill=\"none\" stroke=\"currentColor\"/>\n",
              "    <text dy=\"1.25em\" style=\"font-size: 0.8em; letter-spacing: 1px\">\n",
              "        <textPath xlink:href=\"#arrow-2f8ca837948b4f0ba2a2a13efde0fa33-0-55\" class=\"displacy-label\" startOffset=\"50%\" side=\"left\" fill=\"currentColor\" text-anchor=\"middle\">pobj</textPath>\n",
              "    </text>\n",
              "    <path class=\"displacy-arrowhead\" d=\"M3995.0,354.0 L4003.0,342.0 3987.0,342.0\" fill=\"currentColor\"/>\n",
              "</g>\n",
              "\n",
              "<g class=\"displacy-arrow\">\n",
              "    <path class=\"displacy-arc\" id=\"arrow-2f8ca837948b4f0ba2a2a13efde0fa33-0-56\" stroke-width=\"2px\" d=\"M4060,352.0 C4060,317.0 4065.0,317.0 4065.0,352.0\" fill=\"none\" stroke=\"currentColor\"/>\n",
              "    <text dy=\"1.25em\" style=\"font-size: 0.8em; letter-spacing: 1px\">\n",
              "        <textPath xlink:href=\"#arrow-2f8ca837948b4f0ba2a2a13efde0fa33-0-56\" class=\"displacy-label\" startOffset=\"50%\" side=\"left\" fill=\"currentColor\" text-anchor=\"middle\">cc</textPath>\n",
              "    </text>\n",
              "    <path class=\"displacy-arrowhead\" d=\"M4065.0,354.0 L4073.0,342.0 4057.0,342.0\" fill=\"currentColor\"/>\n",
              "</g>\n",
              "\n",
              "<g class=\"displacy-arrow\">\n",
              "    <path class=\"displacy-arc\" id=\"arrow-2f8ca837948b4f0ba2a2a13efde0fa33-0-57\" stroke-width=\"2px\" d=\"M2240,352.0 C2240,2.0 4180.0,2.0 4180.0,352.0\" fill=\"none\" stroke=\"currentColor\"/>\n",
              "    <text dy=\"1.25em\" style=\"font-size: 0.8em; letter-spacing: 1px\">\n",
              "        <textPath xlink:href=\"#arrow-2f8ca837948b4f0ba2a2a13efde0fa33-0-57\" class=\"displacy-label\" startOffset=\"50%\" side=\"left\" fill=\"currentColor\" text-anchor=\"middle\">punct</textPath>\n",
              "    </text>\n",
              "    <path class=\"displacy-arrowhead\" d=\"M4180.0,354.0 L4188.0,342.0 4172.0,342.0\" fill=\"currentColor\"/>\n",
              "</g>\n",
              "\n",
              "<g class=\"displacy-arrow\">\n",
              "    <path class=\"displacy-arc\" id=\"arrow-2f8ca837948b4f0ba2a2a13efde0fa33-0-58\" stroke-width=\"2px\" d=\"M4200,352.0 C4200,317.0 4205.0,317.0 4205.0,352.0\" fill=\"none\" stroke=\"currentColor\"/>\n",
              "    <text dy=\"1.25em\" style=\"font-size: 0.8em; letter-spacing: 1px\">\n",
              "        <textPath xlink:href=\"#arrow-2f8ca837948b4f0ba2a2a13efde0fa33-0-58\" class=\"displacy-label\" startOffset=\"50%\" side=\"left\" fill=\"currentColor\" text-anchor=\"middle\"></textPath>\n",
              "    </text>\n",
              "    <path class=\"displacy-arrowhead\" d=\"M4205.0,354.0 L4213.0,342.0 4197.0,342.0\" fill=\"currentColor\"/>\n",
              "</g>\n",
              "\n",
              "<g class=\"displacy-arrow\">\n",
              "    <path class=\"displacy-arc\" id=\"arrow-2f8ca837948b4f0ba2a2a13efde0fa33-0-59\" stroke-width=\"2px\" d=\"M4340,352.0 C4340,317.0 4345.0,317.0 4345.0,352.0\" fill=\"none\" stroke=\"currentColor\"/>\n",
              "    <text dy=\"1.25em\" style=\"font-size: 0.8em; letter-spacing: 1px\">\n",
              "        <textPath xlink:href=\"#arrow-2f8ca837948b4f0ba2a2a13efde0fa33-0-59\" class=\"displacy-label\" startOffset=\"50%\" side=\"left\" fill=\"currentColor\" text-anchor=\"middle\">det</textPath>\n",
              "    </text>\n",
              "    <path class=\"displacy-arrowhead\" d=\"M4340,354.0 L4332,342.0 4348,342.0\" fill=\"currentColor\"/>\n",
              "</g>\n",
              "\n",
              "<g class=\"displacy-arrow\">\n",
              "    <path class=\"displacy-arc\" id=\"arrow-2f8ca837948b4f0ba2a2a13efde0fa33-0-60\" stroke-width=\"2px\" d=\"M4410,352.0 C4410,212.0 4640.0,212.0 4640.0,352.0\" fill=\"none\" stroke=\"currentColor\"/>\n",
              "    <text dy=\"1.25em\" style=\"font-size: 0.8em; letter-spacing: 1px\">\n",
              "        <textPath xlink:href=\"#arrow-2f8ca837948b4f0ba2a2a13efde0fa33-0-60\" class=\"displacy-label\" startOffset=\"50%\" side=\"left\" fill=\"currentColor\" text-anchor=\"middle\">nsubj</textPath>\n",
              "    </text>\n",
              "    <path class=\"displacy-arrowhead\" d=\"M4410,354.0 L4402,342.0 4418,342.0\" fill=\"currentColor\"/>\n",
              "</g>\n",
              "\n",
              "<g class=\"displacy-arrow\">\n",
              "    <path class=\"displacy-arc\" id=\"arrow-2f8ca837948b4f0ba2a2a13efde0fa33-0-61\" stroke-width=\"2px\" d=\"M4410,352.0 C4410,317.0 4415.0,317.0 4415.0,352.0\" fill=\"none\" stroke=\"currentColor\"/>\n",
              "    <text dy=\"1.25em\" style=\"font-size: 0.8em; letter-spacing: 1px\">\n",
              "        <textPath xlink:href=\"#arrow-2f8ca837948b4f0ba2a2a13efde0fa33-0-61\" class=\"displacy-label\" startOffset=\"50%\" side=\"left\" fill=\"currentColor\" text-anchor=\"middle\">prep</textPath>\n",
              "    </text>\n",
              "    <path class=\"displacy-arrowhead\" d=\"M4415.0,354.0 L4423.0,342.0 4407.0,342.0\" fill=\"currentColor\"/>\n",
              "</g>\n",
              "\n",
              "<g class=\"displacy-arrow\">\n",
              "    <path class=\"displacy-arc\" id=\"arrow-2f8ca837948b4f0ba2a2a13efde0fa33-0-62\" stroke-width=\"2px\" d=\"M4550,352.0 C4550,317.0 4555.0,317.0 4555.0,352.0\" fill=\"none\" stroke=\"currentColor\"/>\n",
              "    <text dy=\"1.25em\" style=\"font-size: 0.8em; letter-spacing: 1px\">\n",
              "        <textPath xlink:href=\"#arrow-2f8ca837948b4f0ba2a2a13efde0fa33-0-62\" class=\"displacy-label\" startOffset=\"50%\" side=\"left\" fill=\"currentColor\" text-anchor=\"middle\">det</textPath>\n",
              "    </text>\n",
              "    <path class=\"displacy-arrowhead\" d=\"M4550,354.0 L4542,342.0 4558,342.0\" fill=\"currentColor\"/>\n",
              "</g>\n",
              "\n",
              "<g class=\"displacy-arrow\">\n",
              "    <path class=\"displacy-arc\" id=\"arrow-2f8ca837948b4f0ba2a2a13efde0fa33-0-63\" stroke-width=\"2px\" d=\"M4480,352.0 C4480,282.0 4560.0,282.0 4560.0,352.0\" fill=\"none\" stroke=\"currentColor\"/>\n",
              "    <text dy=\"1.25em\" style=\"font-size: 0.8em; letter-spacing: 1px\">\n",
              "        <textPath xlink:href=\"#arrow-2f8ca837948b4f0ba2a2a13efde0fa33-0-63\" class=\"displacy-label\" startOffset=\"50%\" side=\"left\" fill=\"currentColor\" text-anchor=\"middle\">pobj</textPath>\n",
              "    </text>\n",
              "    <path class=\"displacy-arrowhead\" d=\"M4560.0,354.0 L4568.0,342.0 4552.0,342.0\" fill=\"currentColor\"/>\n",
              "</g>\n",
              "\n",
              "<g class=\"displacy-arrow\">\n",
              "    <path class=\"displacy-arc\" id=\"arrow-2f8ca837948b4f0ba2a2a13efde0fa33-0-64\" stroke-width=\"2px\" d=\"M4760,352.0 C4760,317.0 4765.0,317.0 4765.0,352.0\" fill=\"none\" stroke=\"currentColor\"/>\n",
              "    <text dy=\"1.25em\" style=\"font-size: 0.8em; letter-spacing: 1px\">\n",
              "        <textPath xlink:href=\"#arrow-2f8ca837948b4f0ba2a2a13efde0fa33-0-64\" class=\"displacy-label\" startOffset=\"50%\" side=\"left\" fill=\"currentColor\" text-anchor=\"middle\">det</textPath>\n",
              "    </text>\n",
              "    <path class=\"displacy-arrowhead\" d=\"M4760,354.0 L4752,342.0 4768,342.0\" fill=\"currentColor\"/>\n",
              "</g>\n",
              "\n",
              "<g class=\"displacy-arrow\">\n",
              "    <path class=\"displacy-arc\" id=\"arrow-2f8ca837948b4f0ba2a2a13efde0fa33-0-65\" stroke-width=\"2px\" d=\"M4690,352.0 C4690,282.0 4770.0,282.0 4770.0,352.0\" fill=\"none\" stroke=\"currentColor\"/>\n",
              "    <text dy=\"1.25em\" style=\"font-size: 0.8em; letter-spacing: 1px\">\n",
              "        <textPath xlink:href=\"#arrow-2f8ca837948b4f0ba2a2a13efde0fa33-0-65\" class=\"displacy-label\" startOffset=\"50%\" side=\"left\" fill=\"currentColor\" text-anchor=\"middle\">attr</textPath>\n",
              "    </text>\n",
              "    <path class=\"displacy-arrowhead\" d=\"M4770.0,354.0 L4778.0,342.0 4762.0,342.0\" fill=\"currentColor\"/>\n",
              "</g>\n",
              "\n",
              "<g class=\"displacy-arrow\">\n",
              "    <path class=\"displacy-arc\" id=\"arrow-2f8ca837948b4f0ba2a2a13efde0fa33-0-66\" stroke-width=\"2px\" d=\"M4830,352.0 C4830,317.0 4835.0,317.0 4835.0,352.0\" fill=\"none\" stroke=\"currentColor\"/>\n",
              "    <text dy=\"1.25em\" style=\"font-size: 0.8em; letter-spacing: 1px\">\n",
              "        <textPath xlink:href=\"#arrow-2f8ca837948b4f0ba2a2a13efde0fa33-0-66\" class=\"displacy-label\" startOffset=\"50%\" side=\"left\" fill=\"currentColor\" text-anchor=\"middle\">prep</textPath>\n",
              "    </text>\n",
              "    <path class=\"displacy-arrowhead\" d=\"M4835.0,354.0 L4843.0,342.0 4827.0,342.0\" fill=\"currentColor\"/>\n",
              "</g>\n",
              "\n",
              "<g class=\"displacy-arrow\">\n",
              "    <path class=\"displacy-arc\" id=\"arrow-2f8ca837948b4f0ba2a2a13efde0fa33-0-67\" stroke-width=\"2px\" d=\"M4970,352.0 C4970,317.0 4975.0,317.0 4975.0,352.0\" fill=\"none\" stroke=\"currentColor\"/>\n",
              "    <text dy=\"1.25em\" style=\"font-size: 0.8em; letter-spacing: 1px\">\n",
              "        <textPath xlink:href=\"#arrow-2f8ca837948b4f0ba2a2a13efde0fa33-0-67\" class=\"displacy-label\" startOffset=\"50%\" side=\"left\" fill=\"currentColor\" text-anchor=\"middle\">det</textPath>\n",
              "    </text>\n",
              "    <path class=\"displacy-arrowhead\" d=\"M4970,354.0 L4962,342.0 4978,342.0\" fill=\"currentColor\"/>\n",
              "</g>\n",
              "\n",
              "<g class=\"displacy-arrow\">\n",
              "    <path class=\"displacy-arc\" id=\"arrow-2f8ca837948b4f0ba2a2a13efde0fa33-0-68\" stroke-width=\"2px\" d=\"M4900,352.0 C4900,282.0 4980.0,282.0 4980.0,352.0\" fill=\"none\" stroke=\"currentColor\"/>\n",
              "    <text dy=\"1.25em\" style=\"font-size: 0.8em; letter-spacing: 1px\">\n",
              "        <textPath xlink:href=\"#arrow-2f8ca837948b4f0ba2a2a13efde0fa33-0-68\" class=\"displacy-label\" startOffset=\"50%\" side=\"left\" fill=\"currentColor\" text-anchor=\"middle\">pobj</textPath>\n",
              "    </text>\n",
              "    <path class=\"displacy-arrowhead\" d=\"M4980.0,354.0 L4988.0,342.0 4972.0,342.0\" fill=\"currentColor\"/>\n",
              "</g>\n",
              "\n",
              "<g class=\"displacy-arrow\">\n",
              "    <path class=\"displacy-arc\" id=\"arrow-2f8ca837948b4f0ba2a2a13efde0fa33-0-69\" stroke-width=\"2px\" d=\"M4830,352.0 C4830,212.0 5060.0,212.0 5060.0,352.0\" fill=\"none\" stroke=\"currentColor\"/>\n",
              "    <text dy=\"1.25em\" style=\"font-size: 0.8em; letter-spacing: 1px\">\n",
              "        <textPath xlink:href=\"#arrow-2f8ca837948b4f0ba2a2a13efde0fa33-0-69\" class=\"displacy-label\" startOffset=\"50%\" side=\"left\" fill=\"currentColor\" text-anchor=\"middle\">cc</textPath>\n",
              "    </text>\n",
              "    <path class=\"displacy-arrowhead\" d=\"M5060.0,354.0 L5068.0,342.0 5052.0,342.0\" fill=\"currentColor\"/>\n",
              "</g>\n",
              "\n",
              "<g class=\"displacy-arrow\">\n",
              "    <path class=\"displacy-arc\" id=\"arrow-2f8ca837948b4f0ba2a2a13efde0fa33-0-70\" stroke-width=\"2px\" d=\"M5180,352.0 C5180,317.0 5185.0,317.0 5185.0,352.0\" fill=\"none\" stroke=\"currentColor\"/>\n",
              "    <text dy=\"1.25em\" style=\"font-size: 0.8em; letter-spacing: 1px\">\n",
              "        <textPath xlink:href=\"#arrow-2f8ca837948b4f0ba2a2a13efde0fa33-0-70\" class=\"displacy-label\" startOffset=\"50%\" side=\"left\" fill=\"currentColor\" text-anchor=\"middle\">det</textPath>\n",
              "    </text>\n",
              "    <path class=\"displacy-arrowhead\" d=\"M5180,354.0 L5172,342.0 5188,342.0\" fill=\"currentColor\"/>\n",
              "</g>\n",
              "\n",
              "<g class=\"displacy-arrow\">\n",
              "    <path class=\"displacy-arc\" id=\"arrow-2f8ca837948b4f0ba2a2a13efde0fa33-0-71\" stroke-width=\"2px\" d=\"M4830,352.0 C4830,177.0 5205.0,177.0 5205.0,352.0\" fill=\"none\" stroke=\"currentColor\"/>\n",
              "    <text dy=\"1.25em\" style=\"font-size: 0.8em; letter-spacing: 1px\">\n",
              "        <textPath xlink:href=\"#arrow-2f8ca837948b4f0ba2a2a13efde0fa33-0-71\" class=\"displacy-label\" startOffset=\"50%\" side=\"left\" fill=\"currentColor\" text-anchor=\"middle\">conj</textPath>\n",
              "    </text>\n",
              "    <path class=\"displacy-arrowhead\" d=\"M5205.0,354.0 L5213.0,342.0 5197.0,342.0\" fill=\"currentColor\"/>\n",
              "</g>\n",
              "\n",
              "<g class=\"displacy-arrow\">\n",
              "    <path class=\"displacy-arc\" id=\"arrow-2f8ca837948b4f0ba2a2a13efde0fa33-0-72\" stroke-width=\"2px\" d=\"M5250,352.0 C5250,317.0 5255.0,317.0 5255.0,352.0\" fill=\"none\" stroke=\"currentColor\"/>\n",
              "    <text dy=\"1.25em\" style=\"font-size: 0.8em; letter-spacing: 1px\">\n",
              "        <textPath xlink:href=\"#arrow-2f8ca837948b4f0ba2a2a13efde0fa33-0-72\" class=\"displacy-label\" startOffset=\"50%\" side=\"left\" fill=\"currentColor\" text-anchor=\"middle\">prep</textPath>\n",
              "    </text>\n",
              "    <path class=\"displacy-arrowhead\" d=\"M5255.0,354.0 L5263.0,342.0 5247.0,342.0\" fill=\"currentColor\"/>\n",
              "</g>\n",
              "\n",
              "<g class=\"displacy-arrow\">\n",
              "    <path class=\"displacy-arc\" id=\"arrow-2f8ca837948b4f0ba2a2a13efde0fa33-0-73\" stroke-width=\"2px\" d=\"M5320,352.0 C5320,317.0 5325.0,317.0 5325.0,352.0\" fill=\"none\" stroke=\"currentColor\"/>\n",
              "    <text dy=\"1.25em\" style=\"font-size: 0.8em; letter-spacing: 1px\">\n",
              "        <textPath xlink:href=\"#arrow-2f8ca837948b4f0ba2a2a13efde0fa33-0-73\" class=\"displacy-label\" startOffset=\"50%\" side=\"left\" fill=\"currentColor\" text-anchor=\"middle\">pcomp</textPath>\n",
              "    </text>\n",
              "    <path class=\"displacy-arrowhead\" d=\"M5325.0,354.0 L5333.0,342.0 5317.0,342.0\" fill=\"currentColor\"/>\n",
              "</g>\n",
              "\n",
              "<g class=\"displacy-arrow\">\n",
              "    <path class=\"displacy-arc\" id=\"arrow-2f8ca837948b4f0ba2a2a13efde0fa33-0-74\" stroke-width=\"2px\" d=\"M5460,352.0 C5460,317.0 5465.0,317.0 5465.0,352.0\" fill=\"none\" stroke=\"currentColor\"/>\n",
              "    <text dy=\"1.25em\" style=\"font-size: 0.8em; letter-spacing: 1px\">\n",
              "        <textPath xlink:href=\"#arrow-2f8ca837948b4f0ba2a2a13efde0fa33-0-74\" class=\"displacy-label\" startOffset=\"50%\" side=\"left\" fill=\"currentColor\" text-anchor=\"middle\">det</textPath>\n",
              "    </text>\n",
              "    <path class=\"displacy-arrowhead\" d=\"M5460,354.0 L5452,342.0 5468,342.0\" fill=\"currentColor\"/>\n",
              "</g>\n",
              "\n",
              "<g class=\"displacy-arrow\">\n",
              "    <path class=\"displacy-arc\" id=\"arrow-2f8ca837948b4f0ba2a2a13efde0fa33-0-75\" stroke-width=\"2px\" d=\"M5390,352.0 C5390,282.0 5470.0,282.0 5470.0,352.0\" fill=\"none\" stroke=\"currentColor\"/>\n",
              "    <text dy=\"1.25em\" style=\"font-size: 0.8em; letter-spacing: 1px\">\n",
              "        <textPath xlink:href=\"#arrow-2f8ca837948b4f0ba2a2a13efde0fa33-0-75\" class=\"displacy-label\" startOffset=\"50%\" side=\"left\" fill=\"currentColor\" text-anchor=\"middle\">dobj</textPath>\n",
              "    </text>\n",
              "    <path class=\"displacy-arrowhead\" d=\"M5470.0,354.0 L5478.0,342.0 5462.0,342.0\" fill=\"currentColor\"/>\n",
              "</g>\n",
              "</svg></span>"
            ],
            "text/plain": [
              "<IPython.core.display.HTML object>"
            ]
          },
          "metadata": {},
          "output_type": "display_data"
        }
      ],
      "source": [
        "nlp = spacy.load(\"en_core_web_sm\")\n",
        "doc = nlp(\"In 2018, its new, modern version called L'Interdit Givenchy comes out, \\\n",
        "    developed by perfumers Dominique Ropion, Anne Flipo and Fanny Bal as a floral-woody composition. \\\n",
        "        The perfume is built on the basis of contrast between a bouquet of white flowers (including jasmine, \\\n",
        "            tuberose and orange blossom) and intense woody and earthy notes of patchouli and vetiver. \\\n",
        "                The concept behind the creation is the thrill of the forbidden and the challenge of crossing the line.\")\n",
        "\n",
        "for token in doc:\n",
        "    print(token.text, token.lemma_, token.pos_, token.tag_, token.dep_,\n",
        "            token.shape_, token.is_alpha, token.is_stop)\n",
        "\n",
        "displacy.render(doc, jupyter=True,  options={'distance': 70})    "
      ]
    },
    {
      "cell_type": "code",
      "execution_count": null,
      "metadata": {
        "colab": {
          "base_uri": "https://localhost:8080/"
        },
        "id": "hM-kwezSk0uG",
        "outputId": "a1a9d9ff-a9b7-4372-9ce4-a5ec92edc31d"
      },
      "outputs": [
        {
          "name": "stdout",
          "output_type": "stream",
          "text": [
            "L'Interdit 20 30 ORG\n",
            "Rooney Mara 50 61 PERSON\n",
            "Givenchy L'Interdit 63 82 PERSON\n",
            "35 99 101 DATE\n",
            "50 103 105 DATE\n",
            "Eau de Parfum 116 129 PERSON\n"
          ]
        }
      ],
      "source": [
        "nlp = spacy.load(\"en_core_web_sm\")\n",
        "doc = nlp(\"The face of the new L'Interdit release is actress Rooney Mara. Givenchy L'Interdit is available in 35, 50 and 80 ml Eau de Parfum\")\n",
        "\n",
        "for ent in doc.ents:\n",
        "    print(ent.text, ent.start_char, ent.end_char, ent.label_)"
      ]
    },
    {
      "cell_type": "code",
      "execution_count": null,
      "metadata": {
        "colab": {
          "base_uri": "https://localhost:8080/",
          "height": 162
        },
        "id": "VLFKdHwCk0uG",
        "outputId": "d0201ff7-81b5-4e90-df4a-fe2c5dd11f58"
      },
      "outputs": [
        {
          "name": "stdout",
          "output_type": "stream",
          "text": [
            "L'Interdit 20 30 ORG\n",
            "Rooney Mara 50 61 PERSON\n",
            "Givenchy L'Interdit 63 82 PERSON\n",
            "35 99 101 DATE\n",
            "50 103 105 DATE\n",
            "Eau de Parfum 116 129 PERSON\n"
          ]
        },
        {
          "data": {
            "text/html": [
              "<span class=\"tex2jax_ignore\"><div class=\"entities\" style=\"line-height: 2.5; direction: ltr\">The face of the new \n",
              "<mark class=\"entity\" style=\"background: #7aecec; padding: 0.45em 0.6em; margin: 0 0.25em; line-height: 1; border-radius: 0.35em;\">\n",
              "    L'Interdit\n",
              "    <span style=\"font-size: 0.8em; font-weight: bold; line-height: 1; border-radius: 0.35em; text-transform: uppercase; vertical-align: middle; margin-left: 0.5rem\">ORG</span>\n",
              "</mark>\n",
              " release is actress \n",
              "<mark class=\"entity\" style=\"background: #aa9cfc; padding: 0.45em 0.6em; margin: 0 0.25em; line-height: 1; border-radius: 0.35em;\">\n",
              "    Rooney Mara\n",
              "    <span style=\"font-size: 0.8em; font-weight: bold; line-height: 1; border-radius: 0.35em; text-transform: uppercase; vertical-align: middle; margin-left: 0.5rem\">PERSON</span>\n",
              "</mark>\n",
              ". \n",
              "<mark class=\"entity\" style=\"background: #aa9cfc; padding: 0.45em 0.6em; margin: 0 0.25em; line-height: 1; border-radius: 0.35em;\">\n",
              "    Givenchy L'Interdit\n",
              "    <span style=\"font-size: 0.8em; font-weight: bold; line-height: 1; border-radius: 0.35em; text-transform: uppercase; vertical-align: middle; margin-left: 0.5rem\">PERSON</span>\n",
              "</mark>\n",
              " is available in \n",
              "<mark class=\"entity\" style=\"background: #bfe1d9; padding: 0.45em 0.6em; margin: 0 0.25em; line-height: 1; border-radius: 0.35em;\">\n",
              "    35\n",
              "    <span style=\"font-size: 0.8em; font-weight: bold; line-height: 1; border-radius: 0.35em; text-transform: uppercase; vertical-align: middle; margin-left: 0.5rem\">DATE</span>\n",
              "</mark>\n",
              ", \n",
              "<mark class=\"entity\" style=\"background: #bfe1d9; padding: 0.45em 0.6em; margin: 0 0.25em; line-height: 1; border-radius: 0.35em;\">\n",
              "    50\n",
              "    <span style=\"font-size: 0.8em; font-weight: bold; line-height: 1; border-radius: 0.35em; text-transform: uppercase; vertical-align: middle; margin-left: 0.5rem\">DATE</span>\n",
              "</mark>\n",
              " and 80 ml \n",
              "<mark class=\"entity\" style=\"background: #aa9cfc; padding: 0.45em 0.6em; margin: 0 0.25em; line-height: 1; border-radius: 0.35em;\">\n",
              "    Eau de Parfum\n",
              "    <span style=\"font-size: 0.8em; font-weight: bold; line-height: 1; border-radius: 0.35em; text-transform: uppercase; vertical-align: middle; margin-left: 0.5rem\">PERSON</span>\n",
              "</mark>\n",
              "</div></span>"
            ],
            "text/plain": [
              "<IPython.core.display.HTML object>"
            ]
          },
          "metadata": {},
          "output_type": "display_data"
        }
      ],
      "source": [
        "nlp = spacy.load(\"en_core_web_sm\")\n",
        "doc = nlp(\"The face of the new L'Interdit release is actress Rooney Mara. Givenchy L'Interdit is available in 35, 50 and 80 ml Eau de Parfum\")\n",
        "\n",
        "for ent in doc.ents:\n",
        "    print(ent.text, ent.start_char, ent.end_char, ent.label_)\n",
        "    \n",
        "    \n",
        "displacy.render(doc, style=\"ent\", jupyter=True,  options={'distance': 70})    "
      ]
    },
    {
      "cell_type": "code",
      "execution_count": null,
      "metadata": {
        "colab": {
          "base_uri": "https://localhost:8080/",
          "height": 107
        },
        "id": "DT9hkYYJk0uH",
        "outputId": "3629a1f0-87fe-4191-c511-459421759c30"
      },
      "outputs": [
        {
          "name": "stdout",
          "output_type": "stream",
          "text": [
            "[(\"L'Interdit\", 20, 30, 'ORG'), ('Rooney Mara', 50, 61, 'PERSON'), (\"Givenchy L'Interdit\", 63, 82, 'PERSON'), ('35', 99, 101, 'DATE'), ('50', 103, 105, 'DATE'), ('Eau de Parfum', 116, 129, 'PERSON')]\n",
            "['The', 'O', '']\n",
            "['face', 'O', '']\n"
          ]
        },
        {
          "data": {
            "text/html": [
              "<span class=\"tex2jax_ignore\"><div class=\"entities\" style=\"line-height: 2.5; direction: ltr\">The face of the new \n",
              "<mark class=\"entity\" style=\"background: #7aecec; padding: 0.45em 0.6em; margin: 0 0.25em; line-height: 1; border-radius: 0.35em;\">\n",
              "    L'Interdit\n",
              "    <span style=\"font-size: 0.8em; font-weight: bold; line-height: 1; border-radius: 0.35em; text-transform: uppercase; vertical-align: middle; margin-left: 0.5rem\">ORG</span>\n",
              "</mark>\n",
              " release is actress \n",
              "<mark class=\"entity\" style=\"background: #aa9cfc; padding: 0.45em 0.6em; margin: 0 0.25em; line-height: 1; border-radius: 0.35em;\">\n",
              "    Rooney Mara\n",
              "    <span style=\"font-size: 0.8em; font-weight: bold; line-height: 1; border-radius: 0.35em; text-transform: uppercase; vertical-align: middle; margin-left: 0.5rem\">PERSON</span>\n",
              "</mark>\n",
              ". \n",
              "<mark class=\"entity\" style=\"background: #aa9cfc; padding: 0.45em 0.6em; margin: 0 0.25em; line-height: 1; border-radius: 0.35em;\">\n",
              "    Givenchy L'Interdit\n",
              "    <span style=\"font-size: 0.8em; font-weight: bold; line-height: 1; border-radius: 0.35em; text-transform: uppercase; vertical-align: middle; margin-left: 0.5rem\">PERSON</span>\n",
              "</mark>\n",
              " is available in \n",
              "<mark class=\"entity\" style=\"background: #bfe1d9; padding: 0.45em 0.6em; margin: 0 0.25em; line-height: 1; border-radius: 0.35em;\">\n",
              "    35\n",
              "    <span style=\"font-size: 0.8em; font-weight: bold; line-height: 1; border-radius: 0.35em; text-transform: uppercase; vertical-align: middle; margin-left: 0.5rem\">DATE</span>\n",
              "</mark>\n",
              ", \n",
              "<mark class=\"entity\" style=\"background: #bfe1d9; padding: 0.45em 0.6em; margin: 0 0.25em; line-height: 1; border-radius: 0.35em;\">\n",
              "    50\n",
              "    <span style=\"font-size: 0.8em; font-weight: bold; line-height: 1; border-radius: 0.35em; text-transform: uppercase; vertical-align: middle; margin-left: 0.5rem\">DATE</span>\n",
              "</mark>\n",
              " and 80 ml \n",
              "<mark class=\"entity\" style=\"background: #aa9cfc; padding: 0.45em 0.6em; margin: 0 0.25em; line-height: 1; border-radius: 0.35em;\">\n",
              "    Eau de Parfum\n",
              "    <span style=\"font-size: 0.8em; font-weight: bold; line-height: 1; border-radius: 0.35em; text-transform: uppercase; vertical-align: middle; margin-left: 0.5rem\">PERSON</span>\n",
              "</mark>\n",
              "</div></span>"
            ],
            "text/plain": [
              "<IPython.core.display.HTML object>"
            ]
          },
          "metadata": {},
          "output_type": "display_data"
        }
      ],
      "source": [
        "nlp = spacy.load(\"en_core_web_sm\")\n",
        "doc = nlp(\"The face of the new L'Interdit release is actress Rooney Mara. Givenchy L'Interdit is available in 35, 50 and 80 ml Eau de Parfum\")\n",
        "\n",
        "# document level\n",
        "ents = [(e.text, e.start_char, e.end_char, e.label_) for e in doc.ents]\n",
        "print(ents)\n",
        "\n",
        "# token level\n",
        "ent_san = [doc[0].text, doc[0].ent_iob_, doc[0].ent_type_]\n",
        "ent_francisco = [doc[1].text, doc[1].ent_iob_, doc[1].ent_type_]\n",
        "print(ent_san)  # ['San', 'B', 'GPE']\n",
        "print(ent_francisco)  # ['Francisco', 'I', 'GPE']\n",
        "\n",
        "displacy.render(doc, style=\"ent\", jupyter=True)    "
      ]
    },
    {
      "cell_type": "code",
      "execution_count": null,
      "metadata": {
        "colab": {
          "base_uri": "https://localhost:8080/"
        },
        "id": "mb07LZDIk0uH",
        "outputId": "a3956cf0-46f8-44e1-e3b6-f27a889a4d3a"
      },
      "outputs": [
        {
          "name": "stdout",
          "output_type": "stream",
          "text": [
            "Before [(\"L'Interdit\", 20, 30, 'ORG'), ('Rooney Mara', 50, 61, 'PERSON'), (\"Givenchy L'Interdit\", 63, 82, 'PERSON'), ('35', 99, 101, 'DATE'), ('50', 103, 105, 'DATE'), ('Eau de Parfum', 116, 129, 'PERSON')]\n",
            "After [('The', 0, 1, 'ORG'), (\"L'Interdit\", 5, 6, 'ORG'), ('Rooney Mara', 9, 11, 'PERSON'), (\"Givenchy L'Interdit\", 12, 14, 'PERSON'), ('35', 17, 18, 'DATE'), ('50', 19, 20, 'DATE'), ('Eau de Parfum', 23, 26, 'PERSON')]\n"
          ]
        }
      ],
      "source": [
        "nlp = spacy.load(\"en_core_web_sm\")\n",
        "doc = nlp(\"The face of the new L'Interdit release is actress Rooney Mara. Givenchy L'Interdit is available in 35, 50 and 80 ml Eau de Parfum\")\n",
        "ents = [(e.text, e.start_char, e.end_char, e.label_) for e in doc.ents]\n",
        "print('Before', ents)\n",
        "\n",
        "\n",
        "# Create a span for the new entity\n",
        "fb_ent = Span(doc, 0, 1, label=\"ORG\")\n",
        "orig_ents = list(doc.ents)\n",
        "\n",
        "# Option 1: Modify the provided entity spans, leaving the rest unmodified\n",
        "#doc.set_ents([fb_ent], default=\"unmodified\")\n",
        "\n",
        "# Option 2: Assign a complete list of ents to doc.ents\n",
        "doc.ents = orig_ents + [fb_ent]\n",
        "\n",
        "ents = [(e.text, e.start, e.end, e.label_) for e in doc.ents]\n",
        "print('After', ents)"
      ]
    },
    {
      "cell_type": "code",
      "execution_count": null,
      "metadata": {
        "colab": {
          "base_uri": "https://localhost:8080/",
          "height": 52
        },
        "id": "_ckS_M1tk0uI",
        "outputId": "723936b4-0d1a-4e46-fcdd-5e7ea8405a54"
      },
      "outputs": [
        {
          "data": {
            "text/html": [
              "<span class=\"tex2jax_ignore\"><div class=\"entities\" style=\"line-height: 2.5; direction: ltr\">The face of the new \n",
              "<mark class=\"entity\" style=\"background: #7aecec; padding: 0.45em 0.6em; margin: 0 0.25em; line-height: 1; border-radius: 0.35em;\">\n",
              "    L'Interdit\n",
              "    <span style=\"font-size: 0.8em; font-weight: bold; line-height: 1; border-radius: 0.35em; text-transform: uppercase; vertical-align: middle; margin-left: 0.5rem\">ORG</span>\n",
              "</mark>\n",
              " release is actress \n",
              "<mark class=\"entity\" style=\"background: #aa9cfc; padding: 0.45em 0.6em; margin: 0 0.25em; line-height: 1; border-radius: 0.35em;\">\n",
              "    Rooney Mara\n",
              "    <span style=\"font-size: 0.8em; font-weight: bold; line-height: 1; border-radius: 0.35em; text-transform: uppercase; vertical-align: middle; margin-left: 0.5rem\">PERSON</span>\n",
              "</mark>\n",
              ". \n",
              "<mark class=\"entity\" style=\"background: #aa9cfc; padding: 0.45em 0.6em; margin: 0 0.25em; line-height: 1; border-radius: 0.35em;\">\n",
              "    Givenchy L'Interdit\n",
              "    <span style=\"font-size: 0.8em; font-weight: bold; line-height: 1; border-radius: 0.35em; text-transform: uppercase; vertical-align: middle; margin-left: 0.5rem\">PERSON</span>\n",
              "</mark>\n",
              " is available in \n",
              "<mark class=\"entity\" style=\"background: #bfe1d9; padding: 0.45em 0.6em; margin: 0 0.25em; line-height: 1; border-radius: 0.35em;\">\n",
              "    35\n",
              "    <span style=\"font-size: 0.8em; font-weight: bold; line-height: 1; border-radius: 0.35em; text-transform: uppercase; vertical-align: middle; margin-left: 0.5rem\">DATE</span>\n",
              "</mark>\n",
              ", \n",
              "<mark class=\"entity\" style=\"background: #bfe1d9; padding: 0.45em 0.6em; margin: 0 0.25em; line-height: 1; border-radius: 0.35em;\">\n",
              "    50\n",
              "    <span style=\"font-size: 0.8em; font-weight: bold; line-height: 1; border-radius: 0.35em; text-transform: uppercase; vertical-align: middle; margin-left: 0.5rem\">DATE</span>\n",
              "</mark>\n",
              " and 80 \n",
              "<mark class=\"entity\" style=\"background: #ddd; padding: 0.45em 0.6em; margin: 0 0.25em; line-height: 1; border-radius: 0.35em;\">\n",
              "    ml Eau de Parfum\n",
              "    <span style=\"font-size: 0.8em; font-weight: bold; line-height: 1; border-radius: 0.35em; text-transform: uppercase; vertical-align: middle; margin-left: 0.5rem\">FAC</span>\n",
              "</mark>\n",
              ".</div></span>"
            ],
            "text/plain": [
              "<IPython.core.display.HTML object>"
            ]
          },
          "metadata": {},
          "output_type": "display_data"
        }
      ],
      "source": [
        "nlp = spacy.load(\"en_core_web_sm\")\n",
        "text = \"The face of the new L'Interdit release is actress Rooney Mara. Givenchy L'Interdit is available in 35, 50 and 80 ml Eau de Parfum.\"\n",
        "\n",
        "nlp = spacy.load(\"en_core_web_sm\")\n",
        "doc = nlp(text)\n",
        "displacy.render(doc, style=\"ent\", jupyter=True)"
      ]
    },
    {
      "cell_type": "code",
      "execution_count": null,
      "metadata": {
        "colab": {
          "base_uri": "https://localhost:8080/"
        },
        "id": "YR4QjURak0uI",
        "outputId": "e28ae111-e7a8-4337-ed67-4596afd5ee9c"
      },
      "outputs": [
        {
          "name": "stdout",
          "output_type": "stream",
          "text": [
            "The\n",
            "face\n",
            "of\n",
            "the\n",
            "new\n",
            "L'Interdit\n",
            "release\n",
            "is\n",
            "actress\n",
            "Rooney\n",
            "Mara\n",
            ".\n",
            "Givenchy\n",
            "L'Interdit\n",
            "is\n",
            "available\n",
            "in\n",
            "35\n",
            ",\n",
            "50\n",
            "and\n",
            "80\n",
            "ml\n",
            "Eau\n",
            "de\n",
            "Parfum\n"
          ]
        }
      ],
      "source": [
        "doc = nlp(\"The face of the new L'Interdit release is actress Rooney Mara. Givenchy L'Interdit is available in 35, 50 and 80 ml Eau de Parfum\")\n",
        "for token in doc:\n",
        "    print(token.text)"
      ]
    },
    {
      "cell_type": "code",
      "execution_count": null,
      "metadata": {
        "colab": {
          "base_uri": "https://localhost:8080/"
        },
        "id": "y6xH6khqk0uJ",
        "outputId": "69dea33a-26ec-4772-9fb0-2de13bb903a5"
      },
      "outputs": [
        {
          "name": "stdout",
          "output_type": "stream",
          "text": [
            "['gimme', 'that']\n",
            "['gim', 'me', 'that']\n"
          ]
        }
      ],
      "source": [
        "doc = nlp(\"gimme that\")  # phrase to tokenize\n",
        "print([w.text for w in doc])  # ['gimme', 'that']\n",
        "\n",
        "# Add special case rule\n",
        "special_case = [{ORTH: \"gim\"}, {ORTH: \"me\"}]\n",
        "nlp.tokenizer.add_special_case(\"gimme\", special_case)\n",
        "\n",
        "# Check new tokenization\n",
        "print([w.text for w in nlp(\"gimme that\")])  # ['gim', 'me', 'that']"
      ]
    },
    {
      "cell_type": "code",
      "execution_count": null,
      "metadata": {
        "id": "iAFMRAq1k0uJ"
      },
      "outputs": [],
      "source": [
        "assert \"gimme\" not in [w.text for w in nlp(\"gimme!\")]\n",
        "assert \"gimme\" not in [w.text for w in nlp('(\"...gimme...?\")')]\n",
        "\n",
        "nlp.tokenizer.add_special_case(\"...gimme...?\", [{\"ORTH\": \"...gimme...?\"}])\n",
        "assert len(nlp(\"...gimme...?\")) == 1"
      ]
    },
    {
      "cell_type": "code",
      "execution_count": null,
      "metadata": {
        "colab": {
          "base_uri": "https://localhost:8080/"
        },
        "id": "OyiTabgGk0uJ",
        "outputId": "1a73f81f-d74c-44a9-a502-ad5af3b0ff8d"
      },
      "outputs": [
        {
          "name": "stdout",
          "output_type": "stream",
          "text": [
            "\" \t PREFIX\n",
            "Let \t SPECIAL-1\n",
            "'s \t SPECIAL-2\n",
            "go \t TOKEN\n",
            "! \t SUFFIX\n",
            "\" \t SUFFIX\n"
          ]
        }
      ],
      "source": [
        "nlp = English()\n",
        "text = '''\"Let's go!\"'''\n",
        "doc = nlp(text)\n",
        "tok_exp = nlp.tokenizer.explain(text)\n",
        "assert [t.text for t in doc if not t.is_space] == [t[1] for t in tok_exp]\n",
        "for t in tok_exp:\n",
        "    print(t[1], \"\\t\", t[0])"
      ]
    },
    {
      "cell_type": "code",
      "execution_count": null,
      "metadata": {
        "colab": {
          "base_uri": "https://localhost:8080/",
          "height": 185
        },
        "id": "btx1H2Hxk0uK",
        "outputId": "96f62dec-9b1c-448c-fb29-30aac9a06716"
      },
      "outputs": [
        {
          "name": "stdout",
          "output_type": "stream",
          "text": [
            "Before: ['I', 'live', 'in', 'NewYork']\n",
            "After: ['I', 'live', 'in', 'New', 'York']\n"
          ]
        },
        {
          "name": "stderr",
          "output_type": "stream",
          "text": [
            "/usr/lib/python3.7/runpy.py:193: UserWarning: [W005] Doc object not parsed. This means displaCy won't be able to generate a dependency visualization for it. Make sure the Doc was processed with a model that supports dependency parsing, and not just a language class like `English()`. For more info, see the docs:\n",
            "https://spacy.io/usage/models\n",
            "  \"__main__\", mod_spec)\n",
            "/usr/lib/python3.7/runpy.py:193: UserWarning: [W006] No entities to visualize found in Doc object. If this is surprising to you, make sure the Doc was processed using a model that supports named entity recognition, and check the `doc.ents` property manually if necessary.\n",
            "  \"__main__\", mod_spec)\n"
          ]
        },
        {
          "data": {
            "application/vnd.google.colaboratory.intrinsic+json": {
              "type": "string"
            },
            "text/plain": [
              "'<div class=\"entities\" style=\"line-height: 2.5; direction: ltr\">I live in NewYork</div>'"
            ]
          },
          "execution_count": 49,
          "metadata": {},
          "output_type": "execute_result"
        }
      ],
      "source": [
        "doc = nlp(\"I live in NewYork\")\n",
        "print(\"Before:\", [token.text for token in doc])\n",
        "displacy.render(doc)  # displacy.serve if you're not in a Jupyter environment\n",
        "\n",
        "with doc.retokenize() as retokenizer:\n",
        "    heads = [(doc[3], 1), doc[2]]\n",
        "    attrs = {\"POS\": [\"PROPN\", \"PROPN\"], \"DEP\": [\"pobj\", \"compound\"]}\n",
        "    retokenizer.split(doc[3], [\"New\", \"York\"], heads=heads, attrs=attrs)\n",
        "print(\"After:\", [token.text for token in doc])\n",
        "displacy.render(doc, style=\"ent\")  # displacy.serve if you're not in a Jupyter environment"
      ]
    },
    {
      "cell_type": "markdown",
      "metadata": {
        "id": "wXK4dgl5k0uK"
      },
      "source": [
        "# Examining the User Reviews for Insights"
      ]
    },
    {
      "cell_type": "code",
      "execution_count": null,
      "metadata": {
        "colab": {
          "base_uri": "https://localhost:8080/",
          "height": 1000
        },
        "id": "QVM2tJyVk0uK",
        "outputId": "a71ee975-5d19-4020-e645-41f2714278f3"
      },
      "outputs": [
        {
          "name": "stderr",
          "output_type": "stream",
          "text": [
            "/usr/lib/python3.7/runpy.py:193: UserWarning: [W005] Doc object not parsed. This means displaCy won't be able to generate a dependency visualization for it. Make sure the Doc was processed with a model that supports dependency parsing, and not just a language class like `English()`. For more info, see the docs:\n",
            "https://spacy.io/usage/models\n",
            "  \"__main__\", mod_spec)\n",
            "/usr/lib/python3.7/runpy.py:193: UserWarning: [W005] Doc object not parsed. This means displaCy won't be able to generate a dependency visualization for it. Make sure the Doc was processed with a model that supports dependency parsing, and not just a language class like `English()`. For more info, see the docs:\n",
            "https://spacy.io/usage/models\n",
            "  \"__main__\", mod_spec)\n",
            "/usr/lib/python3.7/runpy.py:193: UserWarning: [W005] Doc object not parsed. This means displaCy won't be able to generate a dependency visualization for it. Make sure the Doc was processed with a model that supports dependency parsing, and not just a language class like `English()`. For more info, see the docs:\n",
            "https://spacy.io/usage/models\n",
            "  \"__main__\", mod_spec)\n",
            "/usr/lib/python3.7/runpy.py:193: UserWarning: [W005] Doc object not parsed. This means displaCy won't be able to generate a dependency visualization for it. Make sure the Doc was processed with a model that supports dependency parsing, and not just a language class like `English()`. For more info, see the docs:\n",
            "https://spacy.io/usage/models\n",
            "  \"__main__\", mod_spec)\n",
            "/usr/lib/python3.7/runpy.py:193: UserWarning: [W005] Doc object not parsed. This means displaCy won't be able to generate a dependency visualization for it. Make sure the Doc was processed with a model that supports dependency parsing, and not just a language class like `English()`. For more info, see the docs:\n",
            "https://spacy.io/usage/models\n",
            "  \"__main__\", mod_spec)\n",
            "/usr/lib/python3.7/runpy.py:193: UserWarning: [W005] Doc object not parsed. This means displaCy won't be able to generate a dependency visualization for it. Make sure the Doc was processed with a model that supports dependency parsing, and not just a language class like `English()`. For more info, see the docs:\n",
            "https://spacy.io/usage/models\n",
            "  \"__main__\", mod_spec)\n"
          ]
        },
        {
          "data": {
            "text/html": [
              "<span class=\"tex2jax_ignore\"><svg xmlns=\"http://www.w3.org/2000/svg\" xmlns:xlink=\"http://www.w3.org/1999/xlink\" xml:lang=\"en\" id=\"902d1d45d50a4ea79338894df08442c6-0\" class=\"displacy\" width=\"1450\" height=\"137.0\" direction=\"ltr\" style=\"max-width: none; height: 137.0px; color: #000000; background: #ffffff; font-family: Arial; direction: ltr\">\n",
              "<text class=\"displacy-token\" fill=\"currentColor\" text-anchor=\"middle\" y=\"47.0\">\n",
              "    <tspan class=\"displacy-word\" fill=\"currentColor\" x=\"50\">A</tspan>\n",
              "    <tspan class=\"displacy-tag\" dy=\"2em\" fill=\"currentColor\" x=\"50\"></tspan>\n",
              "</text>\n",
              "\n",
              "<text class=\"displacy-token\" fill=\"currentColor\" text-anchor=\"middle\" y=\"47.0\">\n",
              "    <tspan class=\"displacy-word\" fill=\"currentColor\" x=\"225\">white</tspan>\n",
              "    <tspan class=\"displacy-tag\" dy=\"2em\" fill=\"currentColor\" x=\"225\"></tspan>\n",
              "</text>\n",
              "\n",
              "<text class=\"displacy-token\" fill=\"currentColor\" text-anchor=\"middle\" y=\"47.0\">\n",
              "    <tspan class=\"displacy-word\" fill=\"currentColor\" x=\"400\">floral</tspan>\n",
              "    <tspan class=\"displacy-tag\" dy=\"2em\" fill=\"currentColor\" x=\"400\"></tspan>\n",
              "</text>\n",
              "\n",
              "<text class=\"displacy-token\" fill=\"currentColor\" text-anchor=\"middle\" y=\"47.0\">\n",
              "    <tspan class=\"displacy-word\" fill=\"currentColor\" x=\"575\">exalted</tspan>\n",
              "    <tspan class=\"displacy-tag\" dy=\"2em\" fill=\"currentColor\" x=\"575\"></tspan>\n",
              "</text>\n",
              "\n",
              "<text class=\"displacy-token\" fill=\"currentColor\" text-anchor=\"middle\" y=\"47.0\">\n",
              "    <tspan class=\"displacy-word\" fill=\"currentColor\" x=\"750\">with</tspan>\n",
              "    <tspan class=\"displacy-tag\" dy=\"2em\" fill=\"currentColor\" x=\"750\"></tspan>\n",
              "</text>\n",
              "\n",
              "<text class=\"displacy-token\" fill=\"currentColor\" text-anchor=\"middle\" y=\"47.0\">\n",
              "    <tspan class=\"displacy-word\" fill=\"currentColor\" x=\"925\">a</tspan>\n",
              "    <tspan class=\"displacy-tag\" dy=\"2em\" fill=\"currentColor\" x=\"925\"></tspan>\n",
              "</text>\n",
              "\n",
              "<text class=\"displacy-token\" fill=\"currentColor\" text-anchor=\"middle\" y=\"47.0\">\n",
              "    <tspan class=\"displacy-word\" fill=\"currentColor\" x=\"1100\">dark</tspan>\n",
              "    <tspan class=\"displacy-tag\" dy=\"2em\" fill=\"currentColor\" x=\"1100\"></tspan>\n",
              "</text>\n",
              "\n",
              "<text class=\"displacy-token\" fill=\"currentColor\" text-anchor=\"middle\" y=\"47.0\">\n",
              "    <tspan class=\"displacy-word\" fill=\"currentColor\" x=\"1275\">accord.</tspan>\n",
              "    <tspan class=\"displacy-tag\" dy=\"2em\" fill=\"currentColor\" x=\"1275\"></tspan>\n",
              "</text>\n",
              "</svg>\n",
              "\n",
              "<svg xmlns=\"http://www.w3.org/2000/svg\" xmlns:xlink=\"http://www.w3.org/1999/xlink\" xml:lang=\"en\" id=\"902d1d45d50a4ea79338894df08442c6-1\" class=\"displacy\" width=\"925\" height=\"137.0\" direction=\"ltr\" style=\"max-width: none; height: 137.0px; color: #000000; background: #ffffff; font-family: Arial; direction: ltr\">\n",
              "<text class=\"displacy-token\" fill=\"currentColor\" text-anchor=\"middle\" y=\"47.0\">\n",
              "    <tspan class=\"displacy-word\" fill=\"currentColor\" x=\"50\">The</tspan>\n",
              "    <tspan class=\"displacy-tag\" dy=\"2em\" fill=\"currentColor\" x=\"50\"></tspan>\n",
              "</text>\n",
              "\n",
              "<text class=\"displacy-token\" fill=\"currentColor\" text-anchor=\"middle\" y=\"47.0\">\n",
              "    <tspan class=\"displacy-word\" fill=\"currentColor\" x=\"225\">first</tspan>\n",
              "    <tspan class=\"displacy-tag\" dy=\"2em\" fill=\"currentColor\" x=\"225\"></tspan>\n",
              "</text>\n",
              "\n",
              "<text class=\"displacy-token\" fill=\"currentColor\" text-anchor=\"middle\" y=\"47.0\">\n",
              "    <tspan class=\"displacy-word\" fill=\"currentColor\" x=\"400\">resolutely</tspan>\n",
              "    <tspan class=\"displacy-tag\" dy=\"2em\" fill=\"currentColor\" x=\"400\"></tspan>\n",
              "</text>\n",
              "\n",
              "<text class=\"displacy-token\" fill=\"currentColor\" text-anchor=\"middle\" y=\"47.0\">\n",
              "    <tspan class=\"displacy-word\" fill=\"currentColor\" x=\"575\">underground</tspan>\n",
              "    <tspan class=\"displacy-tag\" dy=\"2em\" fill=\"currentColor\" x=\"575\"></tspan>\n",
              "</text>\n",
              "\n",
              "<text class=\"displacy-token\" fill=\"currentColor\" text-anchor=\"middle\" y=\"47.0\">\n",
              "    <tspan class=\"displacy-word\" fill=\"currentColor\" x=\"750\">flower.</tspan>\n",
              "    <tspan class=\"displacy-tag\" dy=\"2em\" fill=\"currentColor\" x=\"750\"></tspan>\n",
              "</text>\n",
              "</svg>\n",
              "\n",
              "<svg xmlns=\"http://www.w3.org/2000/svg\" xmlns:xlink=\"http://www.w3.org/1999/xlink\" xml:lang=\"en\" id=\"902d1d45d50a4ea79338894df08442c6-2\" class=\"displacy\" width=\"3550\" height=\"137.0\" direction=\"ltr\" style=\"max-width: none; height: 137.0px; color: #000000; background: #ffffff; font-family: Arial; direction: ltr\">\n",
              "<text class=\"displacy-token\" fill=\"currentColor\" text-anchor=\"middle\" y=\"47.0\">\n",
              "    <tspan class=\"displacy-word\" fill=\"currentColor\" x=\"50\">\n",
              "</tspan>\n",
              "    <tspan class=\"displacy-tag\" dy=\"2em\" fill=\"currentColor\" x=\"50\"></tspan>\n",
              "</text>\n",
              "\n",
              "<text class=\"displacy-token\" fill=\"currentColor\" text-anchor=\"middle\" y=\"47.0\">\n",
              "    <tspan class=\"displacy-word\" fill=\"currentColor\" x=\"225\">The</tspan>\n",
              "    <tspan class=\"displacy-tag\" dy=\"2em\" fill=\"currentColor\" x=\"225\"></tspan>\n",
              "</text>\n",
              "\n",
              "<text class=\"displacy-token\" fill=\"currentColor\" text-anchor=\"middle\" y=\"47.0\">\n",
              "    <tspan class=\"displacy-word\" fill=\"currentColor\" x=\"400\">white</tspan>\n",
              "    <tspan class=\"displacy-tag\" dy=\"2em\" fill=\"currentColor\" x=\"400\"></tspan>\n",
              "</text>\n",
              "\n",
              "<text class=\"displacy-token\" fill=\"currentColor\" text-anchor=\"middle\" y=\"47.0\">\n",
              "    <tspan class=\"displacy-word\" fill=\"currentColor\" x=\"575\">notes -</tspan>\n",
              "    <tspan class=\"displacy-tag\" dy=\"2em\" fill=\"currentColor\" x=\"575\"></tspan>\n",
              "</text>\n",
              "\n",
              "<text class=\"displacy-token\" fill=\"currentColor\" text-anchor=\"middle\" y=\"47.0\">\n",
              "    <tspan class=\"displacy-word\" fill=\"currentColor\" x=\"750\">orange</tspan>\n",
              "    <tspan class=\"displacy-tag\" dy=\"2em\" fill=\"currentColor\" x=\"750\"></tspan>\n",
              "</text>\n",
              "\n",
              "<text class=\"displacy-token\" fill=\"currentColor\" text-anchor=\"middle\" y=\"47.0\">\n",
              "    <tspan class=\"displacy-word\" fill=\"currentColor\" x=\"925\">blossom,</tspan>\n",
              "    <tspan class=\"displacy-tag\" dy=\"2em\" fill=\"currentColor\" x=\"925\"></tspan>\n",
              "</text>\n",
              "\n",
              "<text class=\"displacy-token\" fill=\"currentColor\" text-anchor=\"middle\" y=\"47.0\">\n",
              "    <tspan class=\"displacy-word\" fill=\"currentColor\" x=\"1100\">jasmin</tspan>\n",
              "    <tspan class=\"displacy-tag\" dy=\"2em\" fill=\"currentColor\" x=\"1100\"></tspan>\n",
              "</text>\n",
              "\n",
              "<text class=\"displacy-token\" fill=\"currentColor\" text-anchor=\"middle\" y=\"47.0\">\n",
              "    <tspan class=\"displacy-word\" fill=\"currentColor\" x=\"1275\">and</tspan>\n",
              "    <tspan class=\"displacy-tag\" dy=\"2em\" fill=\"currentColor\" x=\"1275\"></tspan>\n",
              "</text>\n",
              "\n",
              "<text class=\"displacy-token\" fill=\"currentColor\" text-anchor=\"middle\" y=\"47.0\">\n",
              "    <tspan class=\"displacy-word\" fill=\"currentColor\" x=\"1450\">tuberose -</tspan>\n",
              "    <tspan class=\"displacy-tag\" dy=\"2em\" fill=\"currentColor\" x=\"1450\"></tspan>\n",
              "</text>\n",
              "\n",
              "<text class=\"displacy-token\" fill=\"currentColor\" text-anchor=\"middle\" y=\"47.0\">\n",
              "    <tspan class=\"displacy-word\" fill=\"currentColor\" x=\"1625\">are</tspan>\n",
              "    <tspan class=\"displacy-tag\" dy=\"2em\" fill=\"currentColor\" x=\"1625\"></tspan>\n",
              "</text>\n",
              "\n",
              "<text class=\"displacy-token\" fill=\"currentColor\" text-anchor=\"middle\" y=\"47.0\">\n",
              "    <tspan class=\"displacy-word\" fill=\"currentColor\" x=\"1800\">interlaced</tspan>\n",
              "    <tspan class=\"displacy-tag\" dy=\"2em\" fill=\"currentColor\" x=\"1800\"></tspan>\n",
              "</text>\n",
              "\n",
              "<text class=\"displacy-token\" fill=\"currentColor\" text-anchor=\"middle\" y=\"47.0\">\n",
              "    <tspan class=\"displacy-word\" fill=\"currentColor\" x=\"1975\">with</tspan>\n",
              "    <tspan class=\"displacy-tag\" dy=\"2em\" fill=\"currentColor\" x=\"1975\"></tspan>\n",
              "</text>\n",
              "\n",
              "<text class=\"displacy-token\" fill=\"currentColor\" text-anchor=\"middle\" y=\"47.0\">\n",
              "    <tspan class=\"displacy-word\" fill=\"currentColor\" x=\"2150\">darker</tspan>\n",
              "    <tspan class=\"displacy-tag\" dy=\"2em\" fill=\"currentColor\" x=\"2150\"></tspan>\n",
              "</text>\n",
              "\n",
              "<text class=\"displacy-token\" fill=\"currentColor\" text-anchor=\"middle\" y=\"47.0\">\n",
              "    <tspan class=\"displacy-word\" fill=\"currentColor\" x=\"2325\">more</tspan>\n",
              "    <tspan class=\"displacy-tag\" dy=\"2em\" fill=\"currentColor\" x=\"2325\"></tspan>\n",
              "</text>\n",
              "\n",
              "<text class=\"displacy-token\" fill=\"currentColor\" text-anchor=\"middle\" y=\"47.0\">\n",
              "    <tspan class=\"displacy-word\" fill=\"currentColor\" x=\"2500\">mysterious</tspan>\n",
              "    <tspan class=\"displacy-tag\" dy=\"2em\" fill=\"currentColor\" x=\"2500\"></tspan>\n",
              "</text>\n",
              "\n",
              "<text class=\"displacy-token\" fill=\"currentColor\" text-anchor=\"middle\" y=\"47.0\">\n",
              "    <tspan class=\"displacy-word\" fill=\"currentColor\" x=\"2675\">notes</tspan>\n",
              "    <tspan class=\"displacy-tag\" dy=\"2em\" fill=\"currentColor\" x=\"2675\"></tspan>\n",
              "</text>\n",
              "\n",
              "<text class=\"displacy-token\" fill=\"currentColor\" text-anchor=\"middle\" y=\"47.0\">\n",
              "    <tspan class=\"displacy-word\" fill=\"currentColor\" x=\"2850\">of</tspan>\n",
              "    <tspan class=\"displacy-tag\" dy=\"2em\" fill=\"currentColor\" x=\"2850\"></tspan>\n",
              "</text>\n",
              "\n",
              "<text class=\"displacy-token\" fill=\"currentColor\" text-anchor=\"middle\" y=\"47.0\">\n",
              "    <tspan class=\"displacy-word\" fill=\"currentColor\" x=\"3025\">vetiver</tspan>\n",
              "    <tspan class=\"displacy-tag\" dy=\"2em\" fill=\"currentColor\" x=\"3025\"></tspan>\n",
              "</text>\n",
              "\n",
              "<text class=\"displacy-token\" fill=\"currentColor\" text-anchor=\"middle\" y=\"47.0\">\n",
              "    <tspan class=\"displacy-word\" fill=\"currentColor\" x=\"3200\">and</tspan>\n",
              "    <tspan class=\"displacy-tag\" dy=\"2em\" fill=\"currentColor\" x=\"3200\"></tspan>\n",
              "</text>\n",
              "\n",
              "<text class=\"displacy-token\" fill=\"currentColor\" text-anchor=\"middle\" y=\"47.0\">\n",
              "    <tspan class=\"displacy-word\" fill=\"currentColor\" x=\"3375\">patchouli.</tspan>\n",
              "    <tspan class=\"displacy-tag\" dy=\"2em\" fill=\"currentColor\" x=\"3375\"></tspan>\n",
              "</text>\n",
              "</svg>\n",
              "\n",
              "<svg xmlns=\"http://www.w3.org/2000/svg\" xmlns:xlink=\"http://www.w3.org/1999/xlink\" xml:lang=\"en\" id=\"902d1d45d50a4ea79338894df08442c6-3\" class=\"displacy\" width=\"1975\" height=\"137.0\" direction=\"ltr\" style=\"max-width: none; height: 137.0px; color: #000000; background: #ffffff; font-family: Arial; direction: ltr\">\n",
              "<text class=\"displacy-token\" fill=\"currentColor\" text-anchor=\"middle\" y=\"47.0\">\n",
              "    <tspan class=\"displacy-word\" fill=\"currentColor\" x=\"50\">\n",
              "</tspan>\n",
              "    <tspan class=\"displacy-tag\" dy=\"2em\" fill=\"currentColor\" x=\"50\"></tspan>\n",
              "</text>\n",
              "\n",
              "<text class=\"displacy-token\" fill=\"currentColor\" text-anchor=\"middle\" y=\"47.0\">\n",
              "    <tspan class=\"displacy-word\" fill=\"currentColor\" x=\"225\">A</tspan>\n",
              "    <tspan class=\"displacy-tag\" dy=\"2em\" fill=\"currentColor\" x=\"225\"></tspan>\n",
              "</text>\n",
              "\n",
              "<text class=\"displacy-token\" fill=\"currentColor\" text-anchor=\"middle\" y=\"47.0\">\n",
              "    <tspan class=\"displacy-word\" fill=\"currentColor\" x=\"400\">generous</tspan>\n",
              "    <tspan class=\"displacy-tag\" dy=\"2em\" fill=\"currentColor\" x=\"400\"></tspan>\n",
              "</text>\n",
              "\n",
              "<text class=\"displacy-token\" fill=\"currentColor\" text-anchor=\"middle\" y=\"47.0\">\n",
              "    <tspan class=\"displacy-word\" fill=\"currentColor\" x=\"575\">intense</tspan>\n",
              "    <tspan class=\"displacy-tag\" dy=\"2em\" fill=\"currentColor\" x=\"575\"></tspan>\n",
              "</text>\n",
              "\n",
              "<text class=\"displacy-token\" fill=\"currentColor\" text-anchor=\"middle\" y=\"47.0\">\n",
              "    <tspan class=\"displacy-word\" fill=\"currentColor\" x=\"750\">brightness</tspan>\n",
              "    <tspan class=\"displacy-tag\" dy=\"2em\" fill=\"currentColor\" x=\"750\"></tspan>\n",
              "</text>\n",
              "\n",
              "<text class=\"displacy-token\" fill=\"currentColor\" text-anchor=\"middle\" y=\"47.0\">\n",
              "    <tspan class=\"displacy-word\" fill=\"currentColor\" x=\"925\">that</tspan>\n",
              "    <tspan class=\"displacy-tag\" dy=\"2em\" fill=\"currentColor\" x=\"925\"></tspan>\n",
              "</text>\n",
              "\n",
              "<text class=\"displacy-token\" fill=\"currentColor\" text-anchor=\"middle\" y=\"47.0\">\n",
              "    <tspan class=\"displacy-word\" fill=\"currentColor\" x=\"1100\">is</tspan>\n",
              "    <tspan class=\"displacy-tag\" dy=\"2em\" fill=\"currentColor\" x=\"1100\"></tspan>\n",
              "</text>\n",
              "\n",
              "<text class=\"displacy-token\" fill=\"currentColor\" text-anchor=\"middle\" y=\"47.0\">\n",
              "    <tspan class=\"displacy-word\" fill=\"currentColor\" x=\"1275\">n’t</tspan>\n",
              "    <tspan class=\"displacy-tag\" dy=\"2em\" fill=\"currentColor\" x=\"1275\"></tspan>\n",
              "</text>\n",
              "\n",
              "<text class=\"displacy-token\" fill=\"currentColor\" text-anchor=\"middle\" y=\"47.0\">\n",
              "    <tspan class=\"displacy-word\" fill=\"currentColor\" x=\"1450\">afraid</tspan>\n",
              "    <tspan class=\"displacy-tag\" dy=\"2em\" fill=\"currentColor\" x=\"1450\"></tspan>\n",
              "</text>\n",
              "\n",
              "<text class=\"displacy-token\" fill=\"currentColor\" text-anchor=\"middle\" y=\"47.0\">\n",
              "    <tspan class=\"displacy-word\" fill=\"currentColor\" x=\"1625\">of</tspan>\n",
              "    <tspan class=\"displacy-tag\" dy=\"2em\" fill=\"currentColor\" x=\"1625\"></tspan>\n",
              "</text>\n",
              "\n",
              "<text class=\"displacy-token\" fill=\"currentColor\" text-anchor=\"middle\" y=\"47.0\">\n",
              "    <tspan class=\"displacy-word\" fill=\"currentColor\" x=\"1800\">subversion.</tspan>\n",
              "    <tspan class=\"displacy-tag\" dy=\"2em\" fill=\"currentColor\" x=\"1800\"></tspan>\n",
              "</text>\n",
              "</svg>\n",
              "\n",
              "<svg xmlns=\"http://www.w3.org/2000/svg\" xmlns:xlink=\"http://www.w3.org/1999/xlink\" xml:lang=\"en\" id=\"902d1d45d50a4ea79338894df08442c6-4\" class=\"displacy\" width=\"1275\" height=\"137.0\" direction=\"ltr\" style=\"max-width: none; height: 137.0px; color: #000000; background: #ffffff; font-family: Arial; direction: ltr\">\n",
              "<text class=\"displacy-token\" fill=\"currentColor\" text-anchor=\"middle\" y=\"47.0\">\n",
              "    <tspan class=\"displacy-word\" fill=\"currentColor\" x=\"50\">\n",
              "</tspan>\n",
              "    <tspan class=\"displacy-tag\" dy=\"2em\" fill=\"currentColor\" x=\"50\"></tspan>\n",
              "</text>\n",
              "\n",
              "<text class=\"displacy-token\" fill=\"currentColor\" text-anchor=\"middle\" y=\"47.0\">\n",
              "    <tspan class=\"displacy-word\" fill=\"currentColor\" x=\"225\">Unforgettable,</tspan>\n",
              "    <tspan class=\"displacy-tag\" dy=\"2em\" fill=\"currentColor\" x=\"225\"></tspan>\n",
              "</text>\n",
              "\n",
              "<text class=\"displacy-token\" fill=\"currentColor\" text-anchor=\"middle\" y=\"47.0\">\n",
              "    <tspan class=\"displacy-word\" fill=\"currentColor\" x=\"400\">intense,</tspan>\n",
              "    <tspan class=\"displacy-tag\" dy=\"2em\" fill=\"currentColor\" x=\"400\"></tspan>\n",
              "</text>\n",
              "\n",
              "<text class=\"displacy-token\" fill=\"currentColor\" text-anchor=\"middle\" y=\"47.0\">\n",
              "    <tspan class=\"displacy-word\" fill=\"currentColor\" x=\"575\">addictive</tspan>\n",
              "    <tspan class=\"displacy-tag\" dy=\"2em\" fill=\"currentColor\" x=\"575\"></tspan>\n",
              "</text>\n",
              "\n",
              "<text class=\"displacy-token\" fill=\"currentColor\" text-anchor=\"middle\" y=\"47.0\">\n",
              "    <tspan class=\"displacy-word\" fill=\"currentColor\" x=\"750\">and</tspan>\n",
              "    <tspan class=\"displacy-tag\" dy=\"2em\" fill=\"currentColor\" x=\"750\"></tspan>\n",
              "</text>\n",
              "\n",
              "<text class=\"displacy-token\" fill=\"currentColor\" text-anchor=\"middle\" y=\"47.0\">\n",
              "    <tspan class=\"displacy-word\" fill=\"currentColor\" x=\"925\">fearlessly</tspan>\n",
              "    <tspan class=\"displacy-tag\" dy=\"2em\" fill=\"currentColor\" x=\"925\"></tspan>\n",
              "</text>\n",
              "\n",
              "<text class=\"displacy-token\" fill=\"currentColor\" text-anchor=\"middle\" y=\"47.0\">\n",
              "    <tspan class=\"displacy-word\" fill=\"currentColor\" x=\"1100\">elegant.</tspan>\n",
              "    <tspan class=\"displacy-tag\" dy=\"2em\" fill=\"currentColor\" x=\"1100\"></tspan>\n",
              "</text>\n",
              "</svg>\n",
              "\n",
              "<svg xmlns=\"http://www.w3.org/2000/svg\" xmlns:xlink=\"http://www.w3.org/1999/xlink\" xml:lang=\"en\" id=\"902d1d45d50a4ea79338894df08442c6-5\" class=\"displacy\" width=\"925\" height=\"137.0\" direction=\"ltr\" style=\"max-width: none; height: 137.0px; color: #000000; background: #ffffff; font-family: Arial; direction: ltr\">\n",
              "<text class=\"displacy-token\" fill=\"currentColor\" text-anchor=\"middle\" y=\"47.0\">\n",
              "    <tspan class=\"displacy-word\" fill=\"currentColor\" x=\"50\">The</tspan>\n",
              "    <tspan class=\"displacy-tag\" dy=\"2em\" fill=\"currentColor\" x=\"50\"></tspan>\n",
              "</text>\n",
              "\n",
              "<text class=\"displacy-token\" fill=\"currentColor\" text-anchor=\"middle\" y=\"47.0\">\n",
              "    <tspan class=\"displacy-word\" fill=\"currentColor\" x=\"225\">shocking</tspan>\n",
              "    <tspan class=\"displacy-tag\" dy=\"2em\" fill=\"currentColor\" x=\"225\"></tspan>\n",
              "</text>\n",
              "\n",
              "<text class=\"displacy-token\" fill=\"currentColor\" text-anchor=\"middle\" y=\"47.0\">\n",
              "    <tspan class=\"displacy-word\" fill=\"currentColor\" x=\"400\">side</tspan>\n",
              "    <tspan class=\"displacy-tag\" dy=\"2em\" fill=\"currentColor\" x=\"400\"></tspan>\n",
              "</text>\n",
              "\n",
              "<text class=\"displacy-token\" fill=\"currentColor\" text-anchor=\"middle\" y=\"47.0\">\n",
              "    <tspan class=\"displacy-word\" fill=\"currentColor\" x=\"575\">of</tspan>\n",
              "    <tspan class=\"displacy-tag\" dy=\"2em\" fill=\"currentColor\" x=\"575\"></tspan>\n",
              "</text>\n",
              "\n",
              "<text class=\"displacy-token\" fill=\"currentColor\" text-anchor=\"middle\" y=\"47.0\">\n",
              "    <tspan class=\"displacy-word\" fill=\"currentColor\" x=\"750\">chic.</tspan>\n",
              "    <tspan class=\"displacy-tag\" dy=\"2em\" fill=\"currentColor\" x=\"750\"></tspan>\n",
              "</text>\n",
              "</svg></span>"
            ],
            "text/plain": [
              "<IPython.core.display.HTML object>"
            ]
          },
          "metadata": {},
          "output_type": "display_data"
        }
      ],
      "source": [
        "nlp = English()\n",
        "nlp.add_pipe(nlp.create_pipe('sentencizer'))\n",
        "text = \"\"\"A white floral exalted with a dark accord. The first resolutely underground flower.\n",
        "The white notes - orange blossom, jasmin and tuberose - are interlaced with darker more mysterious notes of vetiver and patchouli.\n",
        "A generous intense brightness that isn’t afraid of subversion.\n",
        "Unforgettable, intense, addictive and fearlessly elegant. The shocking side of chic.\"\"\"\n",
        "doc = nlp(text)\n",
        "sentence_spans = list(doc.sents)\n",
        "displacy.render(sentence_spans, style=\"dep\", jupyter=True)"
      ]
    },
    {
      "cell_type": "code",
      "execution_count": null,
      "metadata": {
        "id": "pEg8-133k0uL"
      },
      "outputs": [],
      "source": [
        "text = \"In 2018, its new, modern version called L'Interdit Givenchy comes out, developed by perfumers Dominique Ropion, Anne Flipo and Fanny Bal as a floral-woody composition. The perfume is built on the basis of contrast between a bouquet of white flowers (including jasmine, tuberose and orange blossom) and intense woody and earthy notes of patchouli and vetiver. The concept behind the creation is the thrill of the forbidden and the challenge of crossing the line.\"\n",
        "\n",
        "nlp = spacy.load(\"en_core_web_sm\")\n",
        "doc = nlp(text)\n",
        "displacy.serve(doc, style=\"ent\")"
      ]
    },
    {
      "cell_type": "code",
      "execution_count": null,
      "metadata": {
        "id": "lv1obs6ik0uL",
        "outputId": "2b9e2e50-c99c-4353-a5db-071e25debac0"
      },
      "outputs": [
        {
          "name": "stdout",
          "output_type": "stream",
          "text": [
            "I 4690420944186131903 X I I True False True en\n",
            "love 3702023516439754181 xxxx l ove True False False en\n",
            "coffee 3197928453018144401 xxxx c fee True False False en\n"
          ]
        }
      ],
      "source": [
        "doc = nlp(\"I love coffee\")\n",
        "for word in doc:\n",
        "    lexeme = doc.vocab[word.text]\n",
        "    print(lexeme.text, lexeme.orth, lexeme.shape_, lexeme.prefix_, lexeme.suffix_,\n",
        "            lexeme.is_alpha, lexeme.is_digit, lexeme.is_title, lexeme.lang_)"
      ]
    },
    {
      "cell_type": "markdown",
      "metadata": {
        "id": "JInVmqlGk0uL"
      },
      "source": [
        "# SpaCy Sentiment Analysis"
      ]
    },
    {
      "cell_type": "markdown",
      "metadata": {
        "id": "Ms73JpvHk0uM"
      },
      "source": [
        "# User Reviews Data\n",
        "\n",
        "If you want to smell like bubblegum with a hint of woods in a good way get this one. I adore this one.\n",
        "\n",
        "I received a sample of this from Sephora and I suppose I like it. I'm getting grape soda and licorice vibes with hints of white floral (tuberose and jasmine). Would I buy a full bottle? Maybe. We'll see how the dry down develops.\n",
        "*Edit* I'm reporting back that it did not change. Just grape and licorice. It's fun, but I don't think I'd go for a full size.\n",
        "\n",
        "I really like it! I also think it smells like a grape candy and somewhat similar to the only one 2.\n",
        "\n",
        "I adore this perfume. It's fresh, sophisticated, feminine, oozes confidence. I don't notice any sweetness to it, for me it smells mainly white flowers with a slightly darker twist. I find it can be worn in any season and part of the day.\n",
        "\n",
        "A beautiful fragrance and a clear Dominique touch with it\n",
        "The opening notes are tuberose, orange blossom and white blossom\n",
        "And the performance evolves as a stabilized rod to a wooden performance, vetiver mixed with vanilla\n",
        "The same style that we see with Hypnotic Poison\n",
        "Perfume suitable for winter and autumn times, day and night, gives a smoky impression, like incense or cigarettes, but with a feminine touch 😊.\n",
        "\n",
        "both floral and sweet. it's not the most unique perfume but still amazing.\n"
      ]
    },
    {
      "cell_type": "code",
      "execution_count": null,
      "metadata": {
        "colab": {
          "base_uri": "https://localhost:8080/"
        },
        "id": "sRykcO1ik0uM",
        "outputId": "a07255ac-4296-4fce-f4d8-b1d529c6214a"
      },
      "outputs": [
        {
          "name": "stdout",
          "output_type": "stream",
          "text": [
            "[nltk_data] Downloading package punkt to /root/nltk_data...\n",
            "[nltk_data]   Package punkt is already up-to-date!\n",
            "[nltk_data] Downloading package averaged_perceptron_tagger to\n",
            "[nltk_data]     /root/nltk_data...\n",
            "[nltk_data]   Package averaged_perceptron_tagger is already up-to-\n",
            "[nltk_data]       date!\n",
            "[nltk_data] Downloading package brown to /root/nltk_data...\n",
            "[nltk_data]   Package brown is already up-to-date!\n"
          ]
        },
        {
          "data": {
            "text/plain": [
              "True"
            ]
          },
          "execution_count": 5,
          "metadata": {},
          "output_type": "execute_result"
        }
      ],
      "source": [
        "from textblob import TextBlob\n",
        "import nltk\n",
        "nltk.download('punkt')\n",
        "nltk.download('averaged_perceptron_tagger')\n",
        "nltk.download('brown')"
      ]
    },
    {
      "cell_type": "code",
      "execution_count": null,
      "metadata": {
        "id": "PtUQ_QX1k0uM"
      },
      "outputs": [],
      "source": [
        "review = TextBlob(\"If you want to smell like bubblegum with a hint of woods in a good way get this one. I adore this one.\")"
      ]
    },
    {
      "cell_type": "code",
      "execution_count": null,
      "metadata": {
        "colab": {
          "base_uri": "https://localhost:8080/"
        },
        "id": "lenUCNMpk0uM",
        "outputId": "ac72268e-2d59-4596-86d3-755e840d2fb5"
      },
      "outputs": [
        {
          "data": {
            "text/plain": [
              "[('If', 'IN'),\n",
              " ('you', 'PRP'),\n",
              " ('want', 'VBP'),\n",
              " ('to', 'TO'),\n",
              " ('smell', 'VB'),\n",
              " ('like', 'IN'),\n",
              " ('bubblegum', 'NN'),\n",
              " ('with', 'IN'),\n",
              " ('a', 'DT'),\n",
              " ('hint', 'NN'),\n",
              " ('of', 'IN'),\n",
              " ('woods', 'NNS'),\n",
              " ('in', 'IN'),\n",
              " ('a', 'DT'),\n",
              " ('good', 'JJ'),\n",
              " ('way', 'NN'),\n",
              " ('get', 'VB'),\n",
              " ('this', 'DT'),\n",
              " ('one', 'CD'),\n",
              " ('I', 'PRP'),\n",
              " ('adore', 'VBP'),\n",
              " ('this', 'DT'),\n",
              " ('one', 'CD')]"
            ]
          },
          "execution_count": 7,
          "metadata": {},
          "output_type": "execute_result"
        }
      ],
      "source": [
        "review.tags"
      ]
    },
    {
      "cell_type": "code",
      "execution_count": null,
      "metadata": {
        "colab": {
          "base_uri": "https://localhost:8080/"
        },
        "id": "DzpS2Md6k0uN",
        "outputId": "ae769d14-35e6-4332-f82d-85c71c8b4092"
      },
      "outputs": [
        {
          "data": {
            "text/plain": [
              "WordList(['good way'])"
            ]
          },
          "execution_count": 8,
          "metadata": {},
          "output_type": "execute_result"
        }
      ],
      "source": [
        "review.noun_phrases"
      ]
    },
    {
      "cell_type": "markdown",
      "metadata": {
        "id": "Mu69PcGdk0uN"
      },
      "source": [
        "# TEST on testimonial  (user review)"
      ]
    },
    {
      "cell_type": "code",
      "execution_count": null,
      "metadata": {
        "id": "R4Jx2vt6k0uN"
      },
      "outputs": [],
      "source": [
        "testimonial = TextBlob(\"If you want to smell like bubblegum with a hint of woods in a good way get this one. I adore this one.\")"
      ]
    },
    {
      "cell_type": "code",
      "execution_count": null,
      "metadata": {
        "colab": {
          "base_uri": "https://localhost:8080/"
        },
        "id": "c2PKeX2vk0uO",
        "outputId": "4ad66d84-dd30-463e-d8ec-43d5ba69f69a"
      },
      "outputs": [
        {
          "data": {
            "text/plain": [
              "Sentiment(polarity=0.7, subjectivity=0.6000000000000001)"
            ]
          },
          "execution_count": 10,
          "metadata": {},
          "output_type": "execute_result"
        }
      ],
      "source": [
        "testimonial.sentiment"
      ]
    },
    {
      "cell_type": "code",
      "execution_count": null,
      "metadata": {
        "id": "oGFEug33BDA1"
      },
      "outputs": [],
      "source": [
        "testimonial2  = TextBlob('another user review')\n",
        "testimonial2.sentiment"
      ]
    },
    {
      "cell_type": "code",
      "execution_count": null,
      "metadata": {
        "id": "bmwpWrIJBMp5"
      },
      "outputs": [],
      "source": [
        "testimonial3  = TextBlob('yet another user review :)')\n",
        "testimonial3.sentiment"
      ]
    },
    {
      "cell_type": "code",
      "execution_count": null,
      "metadata": {
        "colab": {
          "base_uri": "https://localhost:8080/"
        },
        "id": "36cK7QNZk0uO",
        "outputId": "ebe99209-0315-4cc1-9045-eb10fffff8db"
      },
      "outputs": [
        {
          "data": {
            "text/plain": [
              "[Sentence(\"I adore this perfume.\"),\n",
              " Sentence(\"It's fresh, sophisticated, feminine, oozes confidence.\"),\n",
              " Sentence(\"I don't notice any sweetness to it, for me it smells mainly white flowers with a slightly darker twist.\"),\n",
              " Sentence(\"I find it can be worn in any season and part of the day\")]"
            ]
          },
          "execution_count": 11,
          "metadata": {},
          "output_type": "execute_result"
        }
      ],
      "source": [
        "user_reviews = TextBlob(\"I adore this perfume. It's fresh, sophisticated, feminine, oozes confidence. \\\n",
        "    I don't notice any sweetness to it, for me it smells mainly white flowers with a slightly darker twist. \\\n",
        "        I find it can be worn in any season and part of the day\")\n",
        "user_reviews.words\n",
        "\n",
        "user_reviews.sentences"
      ]
    },
    {
      "cell_type": "code",
      "execution_count": null,
      "metadata": {
        "colab": {
          "base_uri": "https://localhost:8080/"
        },
        "id": "QiA_LUfok0uO",
        "outputId": "48621513-a309-4f74-d698-180f3da551bf"
      },
      "outputs": [
        {
          "name": "stdout",
          "output_type": "stream",
          "text": [
            "Sentiment(polarity=0.0, subjectivity=0.0)\n",
            "Sentiment(polarity=0.20000000000000004, subjectivity=0.5666666666666667)\n",
            "Sentiment(polarity=-0.08333333333333333, subjectivity=0.08333333333333333)\n",
            "Sentiment(polarity=0.0, subjectivity=0.0)\n"
          ]
        }
      ],
      "source": [
        "for sentence in user_reviews.sentences:\n",
        "    print(sentence.sentiment)"
      ]
    },
    {
      "cell_type": "code",
      "execution_count": null,
      "metadata": {
        "id": "J9-1JBPFElwt"
      },
      "outputs": [],
      "source": [
        "!pip install SpacyTextBlob"
      ]
    },
    {
      "cell_type": "code",
      "execution_count": null,
      "metadata": {
        "id": "KLA7YXWIk0uP"
      },
      "outputs": [],
      "source": [
        "from spacytextblob.spacytextblob import SpacyTextBlob\n",
        "\n",
        "nlp = spacy.load('en_core_web_sm')\n",
        "nlp.add_pipe('spacytextblob')\n",
        "text = \"'I adore this perfume. It's fresh, sophisticated, feminine, oozes confidence.'\"\n",
        "doc = nlp(text)"
      ]
    },
    {
      "cell_type": "markdown",
      "metadata": {
        "id": "XNXg6R6pk0uP"
      },
      "source": [
        "Return a tuple of form (polarity, subjectivity ) where polarity is a float within the range [-1.0, 1.0] and subjectivity is a float within the range [0.0, 1.0] where 0.0 is very objective and 1.0 is very subjective."
      ]
    },
    {
      "cell_type": "code",
      "execution_count": null,
      "metadata": {
        "colab": {
          "base_uri": "https://localhost:8080/"
        },
        "id": "J2dwEfTkk0uP",
        "outputId": "d33680f4-635d-4096-b2cc-490ecf71948c"
      },
      "outputs": [
        {
          "name": "stdout",
          "output_type": "stream",
          "text": [
            "Polarity 0.20000000000000004\n"
          ]
        }
      ],
      "source": [
        "print('Polarity {}'.format(doc._.polarity))"
      ]
    },
    {
      "cell_type": "code",
      "execution_count": null,
      "metadata": {
        "colab": {
          "base_uri": "https://localhost:8080/"
        },
        "id": "E0PN8i13k0uP",
        "outputId": "b1d49e1b-94bf-4da0-b867-b8386e595c8f"
      },
      "outputs": [
        {
          "name": "stdout",
          "output_type": "stream",
          "text": [
            "Subjectivity 0.5666666666666667\n"
          ]
        }
      ],
      "source": [
        "print('Subjectivity {}'.format(doc._.subjectivity))"
      ]
    },
    {
      "cell_type": "code",
      "execution_count": null,
      "metadata": {
        "colab": {
          "base_uri": "https://localhost:8080/"
        },
        "id": "sd-FHdqmk0uQ",
        "outputId": "69997a84-ae7d-4b22-b943-d7211fae85c9"
      },
      "outputs": [
        {
          "name": "stdout",
          "output_type": "stream",
          "text": [
            "Assessments [(['fresh'], 0.3, 0.5, None), (['sophisticated'], 0.5, 1.0, None), (['oozes'], -0.2, 0.2, None)]\n"
          ]
        }
      ],
      "source": [
        "print('Assessments {}'.format(doc._.assessments))"
      ]
    },
    {
      "cell_type": "code",
      "execution_count": null,
      "metadata": {
        "colab": {
          "base_uri": "https://localhost:8080/"
        },
        "id": "NOwqbHcZk0uQ",
        "outputId": "02c310fd-c771-4ab1-debc-7ffb031e21d4"
      },
      "outputs": [
        {
          "name": "stdout",
          "output_type": "stream",
          "text": [
            "If you want to smell like bubblegum with a hint of woods in a good way get this one. I adore this one. <-> I adore this perfume. It's fresh, sophisticated, feminine, oozes confidence. 0.34977712936591276\n"
          ]
        },
        {
          "name": "stderr",
          "output_type": "stream",
          "text": [
            "/usr/local/lib/python3.7/dist-packages/ipykernel_launcher.py:5: UserWarning: [W007] The model you're using has no word vectors loaded, so the result of the Doc.similarity method will be based on the tagger, parser and NER, which may not give useful similarity judgements. This may happen if you're using one of the small models, e.g. `en_core_web_sm`, which don't ship with word vectors and only use context-sensitive tensors. You can always add your own word vectors, or use one of the larger models instead if available.\n",
            "  \"\"\"\n"
          ]
        }
      ],
      "source": [
        "first_user = nlp(\"If you want to smell like bubblegum with a hint of woods in a good way get this one. I adore this one.\")\n",
        "second_user = nlp(\"I adore this perfume. It's fresh, sophisticated, feminine, oozes confidence.\")\n",
        "\n",
        "# Similarity of two documents\n",
        "print(first_user, \"<->\", second_user, first_user.similarity(second_user))"
      ]
    },
    {
      "cell_type": "markdown",
      "metadata": {
        "id": "WmwGlMAck0uQ"
      },
      "source": [
        "# LEMMATISATION"
      ]
    },
    {
      "cell_type": "code",
      "execution_count": null,
      "metadata": {
        "colab": {
          "base_uri": "https://localhost:8080/"
        },
        "id": "MHr9Bhtbk0uR",
        "outputId": "088db047-270e-46be-f3ab-d4dbd9f7d7da"
      },
      "outputs": [
        {
          "name": "stdout",
          "output_type": "stream",
          "text": [
            "rule\n",
            "['both', 'floral', 'and', 'sweet', '.', 'it', 'be', 'not', 'the', 'most', 'unique', 'perfume', 'but', 'still', 'amazing', '.']\n"
          ]
        }
      ],
      "source": [
        "lemmatizer = nlp.get_pipe(\"lemmatizer\")\n",
        "print(lemmatizer.mode)  # 'rule'\n",
        "\n",
        "doc = nlp(\"both floral and sweet. it's not the most unique perfume but still amazing.\")\n",
        "print([token.lemma_ for token in doc])"
      ]
    },
    {
      "cell_type": "code",
      "execution_count": null,
      "metadata": {
        "colab": {
          "base_uri": "https://localhost:8080/"
        },
        "id": "7Ee09bTLk0uR",
        "outputId": "a0e159b9-2a27-4f9d-f45a-999d7b075ccc"
      },
      "outputs": [
        {
          "name": "stdout",
          "output_type": "stream",
          "text": [
            "it it nsubj 's\n",
            "the most unique perfume perfume attr 's\n"
          ]
        }
      ],
      "source": [
        "nlp = spacy.load(\"en_core_web_sm\")\n",
        "doc = nlp(\"both floral and sweet. it's not the most unique perfume but still amazing.\")\n",
        "for chunk in doc.noun_chunks:\n",
        "    print(chunk.text, chunk.root.text, chunk.root.dep_,\n",
        "            chunk.root.head.text)"
      ]
    },
    {
      "cell_type": "code",
      "execution_count": null,
      "metadata": {
        "colab": {
          "base_uri": "https://localhost:8080/"
        },
        "id": "iGk7P9e9k0uR",
        "outputId": "5c67ed55-c287-48e9-c2b2-52f155467c33"
      },
      "outputs": [
        {
          "name": "stdout",
          "output_type": "stream",
          "text": [
            "both preconj floral ADJ []\n",
            "floral ROOT floral ADJ [both, and, sweet, .]\n",
            "and cc floral ADJ []\n",
            "sweet conj floral ADJ []\n",
            ". punct floral ADJ []\n",
            "it nsubj 's AUX []\n",
            "'s ROOT 's AUX [it, not, perfume, .]\n",
            "not neg 's AUX []\n",
            "the det perfume NOUN []\n",
            "most advmod unique ADJ []\n",
            "unique amod perfume NOUN [most]\n",
            "perfume attr 's AUX [the, unique, but, amazing]\n",
            "but cc perfume NOUN []\n",
            "still advmod amazing ADJ []\n",
            "amazing conj perfume NOUN [still]\n",
            ". punct 's AUX []\n"
          ]
        }
      ],
      "source": [
        "doc = nlp(\"both floral and sweet. it's not the most unique perfume but still amazing.\")\n",
        "for token in doc:\n",
        "    print(token.text, token.dep_, token.head.text, token.head.pos_,\n",
        "            [child for child in token.children])"
      ]
    },
    {
      "cell_type": "markdown",
      "metadata": {
        "id": "dxIYof4Hk0uS"
      },
      "source": [
        "# End of NLP with SpaCy"
      ]
    },
    {
      "cell_type": "markdown",
      "metadata": {
        "id": "Meyd7lRmk0uS"
      },
      "source": [
        "# Building Neural Networks with Tensorflow  & Keras API"
      ]
    },
    {
      "cell_type": "code",
      "execution_count": null,
      "metadata": {
        "id": "Qd2IseX7k0uS"
      },
      "outputs": [],
      "source": [
        "import numpy as np\n",
        "import tensorflow as tf\n",
        "from tensorflow import keras\n",
        "from tensorflow.keras import layers"
      ]
    },
    {
      "cell_type": "markdown",
      "metadata": {
        "id": "6C9JngBak0uS"
      },
      "source": [
        "#  Sequential Models\n",
        "A Sequential model is appropriate for a plain stack of layers where each layer has exactly one input tensor and one output tensor.\n",
        "\n",
        "A Sequential model is not appropriate when:\n",
        "\n",
        "* Your model has multiple inputs or multiple outputs\n",
        "* Any of your layers has multiple inputs or multiple outputs\n",
        "* You need to do layer sharing\n",
        "* You want non-linear topology (e.g. a residual connection, a multi-branch model)\n",
        "\n",
        "First up:  the Functional API  way of  building neural networks  -  adding layers\n"
      ]
    },
    {
      "cell_type": "markdown",
      "metadata": {
        "id": "lLVC6tRyk0uT"
      },
      "source": [
        "Sequential Model as a List of Layers"
      ]
    },
    {
      "cell_type": "code",
      "execution_count": null,
      "metadata": {
        "id": "NNrSBHfck0uT"
      },
      "outputs": [],
      "source": [
        "pikachu = keras.Sequential(\n",
        "    [\n",
        "        layers.Dense(2, activation=\"relu\"),\n",
        "        layers.Dense(3, activation=\"relu\"),\n",
        "        layers.Dense(4)\n",
        "    ]\n",
        ")"
      ]
    },
    {
      "cell_type": "markdown",
      "metadata": {
        "id": "8w-XK0uak0uT"
      },
      "source": [
        "Sequential Model Construction Layer by Layer"
      ]
    },
    {
      "cell_type": "code",
      "execution_count": null,
      "metadata": {
        "id": "TS3nKkbXk0uU"
      },
      "outputs": [],
      "source": [
        "pikachu = keras.Sequential(name='pikachu sequential')\n",
        "pikachu.add(layers.Dense(2, activation=\"relu\"))\n",
        "pikachu.add(layers.Dense(3, activation=\"relu\"))\n",
        "pikachu.add(layers.Dense(4))"
      ]
    },
    {
      "cell_type": "code",
      "execution_count": null,
      "metadata": {
        "id": "jZbIS1FBk0uU"
      },
      "outputs": [],
      "source": [
        "x = tf.ones((1, 4))"
      ]
    },
    {
      "cell_type": "code",
      "execution_count": null,
      "metadata": {
        "colab": {
          "base_uri": "https://localhost:8080/"
        },
        "id": "bLtJ-bCdk0uU",
        "outputId": "a0eb5e7a-6979-415c-f2bf-3e3da84fc31b"
      },
      "outputs": [
        {
          "data": {
            "text/plain": [
              "<tf.Tensor: shape=(1, 4), dtype=float32, numpy=array([[1., 1., 1., 1.]], dtype=float32)>"
            ]
          },
          "execution_count": 28,
          "metadata": {},
          "output_type": "execute_result"
        }
      ],
      "source": [
        "x"
      ]
    },
    {
      "cell_type": "code",
      "execution_count": null,
      "metadata": {
        "id": "g-MLK9gik0uU"
      },
      "outputs": [],
      "source": [
        "y = pikachu(x)"
      ]
    },
    {
      "cell_type": "code",
      "execution_count": null,
      "metadata": {
        "colab": {
          "base_uri": "https://localhost:8080/"
        },
        "id": "qr9IzDfNk0uV",
        "outputId": "a76494ea-260b-43cc-af77-38f9f8688c42"
      },
      "outputs": [
        {
          "data": {
            "text/plain": [
              "<tf.Tensor: shape=(1, 4), dtype=float32, numpy=array([[0., 0., 0., 0.]], dtype=float32)>"
            ]
          },
          "execution_count": 30,
          "metadata": {},
          "output_type": "execute_result"
        }
      ],
      "source": [
        "y"
      ]
    },
    {
      "cell_type": "code",
      "execution_count": null,
      "metadata": {
        "colab": {
          "base_uri": "https://localhost:8080/"
        },
        "id": "q7WFps6Nk0uV",
        "outputId": "0f7b0b8e-b661-4cd4-e802-40ee446dd8c6"
      },
      "outputs": [
        {
          "name": "stdout",
          "output_type": "stream",
          "text": [
            "Model: \"pikachu sequential\"\n",
            "_________________________________________________________________\n",
            " Layer (type)                Output Shape              Param #   \n",
            "=================================================================\n",
            " dense_12 (Dense)            (1, 2)                    10        \n",
            "                                                                 \n",
            " dense_13 (Dense)            (1, 3)                    9         \n",
            "                                                                 \n",
            " dense_14 (Dense)            (1, 4)                    16        \n",
            "                                                                 \n",
            "=================================================================\n",
            "Total params: 35\n",
            "Trainable params: 35\n",
            "Non-trainable params: 0\n",
            "_________________________________________________________________\n"
          ]
        }
      ],
      "source": [
        "pikachu.summary()"
      ]
    },
    {
      "cell_type": "code",
      "execution_count": null,
      "metadata": {
        "colab": {
          "base_uri": "https://localhost:8080/"
        },
        "id": "SQgNT6Gqk0uV",
        "outputId": "abcca488-34c0-4976-f827-eef4a22e426b"
      },
      "outputs": [
        {
          "data": {
            "text/plain": [
              "[<tf.Variable 'dense_12/kernel:0' shape=(4, 2) dtype=float32, numpy=\n",
              " array([[-0.8417988 , -0.99255204],\n",
              "        [-0.57680964,  0.8043144 ],\n",
              "        [-0.8475151 , -0.38937068],\n",
              "        [-0.16326022, -0.88481116]], dtype=float32)>,\n",
              " <tf.Variable 'dense_12/bias:0' shape=(2,) dtype=float32, numpy=array([0., 0.], dtype=float32)>,\n",
              " <tf.Variable 'dense_13/kernel:0' shape=(2, 3) dtype=float32, numpy=\n",
              " array([[-0.8014356 ,  0.62937355, -0.85515183],\n",
              "        [ 0.6006985 , -0.23786283,  0.4546852 ]], dtype=float32)>,\n",
              " <tf.Variable 'dense_13/bias:0' shape=(3,) dtype=float32, numpy=array([0., 0., 0.], dtype=float32)>,\n",
              " <tf.Variable 'dense_14/kernel:0' shape=(3, 4) dtype=float32, numpy=\n",
              " array([[ 0.85856545,  0.36899185, -0.8753103 , -0.47902045],\n",
              "        [-0.09041762, -0.571709  ,  0.5208659 , -0.08744192],\n",
              "        [ 0.5359044 ,  0.04723018, -0.01957834,  0.22730172]],\n",
              "       dtype=float32)>,\n",
              " <tf.Variable 'dense_14/bias:0' shape=(4,) dtype=float32, numpy=array([0., 0., 0., 0.], dtype=float32)>]"
            ]
          },
          "execution_count": 32,
          "metadata": {},
          "output_type": "execute_result"
        }
      ],
      "source": [
        "pikachu.weights"
      ]
    },
    {
      "cell_type": "markdown",
      "metadata": {
        "id": "EdkAc33Ek0uW"
      },
      "source": [
        "# Recurrent Neural Networks (RNN) with Keras\n",
        "\n",
        "* build RNNs with Tensorflow Keras API\n",
        "\n",
        "* Recurrent neural networks (RNN) are a class of neural networks that is powerful for modeling sequence data such as time series or natural language.\n",
        "\n",
        "* Schematically, a RNN layer uses a for loop to iterate over the timesteps of a sequence, while maintaining an internal state that encodes information about the timesteps it has seen so far."
      ]
    },
    {
      "cell_type": "markdown",
      "metadata": {
        "id": "HE4otNR6k0uW"
      },
      "source": [
        "There are three built-in RNN layers in Keras  (https://www.tensorflow.org/guide/keras/rnn):\n",
        "\n",
        "*  keras.layers.SimpleRNN, a fully-connected RNN where the output from previous timestep is to be fed to next timestep.\n",
        "\n",
        "*  keras.layers.GRU, first proposed in Cho et al., 2014.\n",
        "\n",
        "*  keras.layers.LSTM, first proposed in Hochreiter & Schmidhuber, 1997."
      ]
    },
    {
      "cell_type": "code",
      "execution_count": null,
      "metadata": {
        "id": "znDwRu1dk0uW"
      },
      "outputs": [],
      "source": [
        "# the simple RNN and all parameters\n",
        "tf.keras.layers.SimpleRNN(\n",
        "    units, activation='tanh', use_bias=True,\n",
        "    kernel_initializer='glorot_uniform',\n",
        "    recurrent_initializer='orthogonal',\n",
        "    bias_initializer='zeros', kernel_regularizer=None,\n",
        "    recurrent_regularizer=None, bias_regularizer=None, activity_regularizer=None,\n",
        "    kernel_constraint=None, recurrent_constraint=None, bias_constraint=None,\n",
        "    dropout=0.0, recurrent_dropout=0.0, return_sequences=False, return_state=False,\n",
        "    go_backwards=False, stateful=False, unroll=False, **kwargs\n",
        ")"
      ]
    },
    {
      "cell_type": "markdown",
      "metadata": {
        "id": "8YVEpFULk0uX"
      },
      "source": [
        "* units: Positive integer, dimensionality of the output space.\n",
        "* activation: Activation function to use. If you don't specify anything, no activation is applied (ie. \"linear\" activation: a(x) = x).\n",
        "* use_bias: Boolean, whether the layer uses a bias vector.\n",
        "* kernel_initializer:\tInitializer for the kernel weights matrix.\n",
        "* bias_initializer: Initializer for the bias vector.\n",
        "* kernel_regularizer: Regularizer function applied to the kernel weights matrix.\n",
        "* bias_regularizer:\tRegularizer function applied to the bias vector.\n",
        "* activity_regularizer:\tRegularizer function applied to the output of the layer (its \"activation\").\n",
        "* kernel_constraint: Constraint function applied to the kernel weights matrix.\n",
        "* bias_constraint:\tConstraint function applied to the bias vector."
      ]
    },
    {
      "cell_type": "markdown",
      "metadata": {
        "id": "N0Ng1acgk0uX"
      },
      "source": [
        "STEP #1: create a sequential model"
      ]
    },
    {
      "cell_type": "code",
      "execution_count": null,
      "metadata": {
        "id": "bysQ6Dltk0uX"
      },
      "outputs": [],
      "source": [
        "# create a sequential model\n",
        "pikachu = keras.Sequential(name='pikachu_sequential')"
      ]
    },
    {
      "cell_type": "markdown",
      "metadata": {
        "id": "YsUrGfTIk0uX"
      },
      "source": [
        "# STEP #2: add an embedding layer\n",
        "\n",
        "* embedding layer used for text data i.e., create word embeddings"
      ]
    },
    {
      "cell_type": "code",
      "execution_count": null,
      "metadata": {
        "colab": {
          "base_uri": "https://localhost:8080/"
        },
        "id": "ehXZNDmAk0uY",
        "outputId": "8764f0f1-f342-4369-eda0-0d4e88b0e165"
      },
      "outputs": [
        {
          "data": {
            "text/plain": [
              "TensorShape([1, 4])"
            ]
          },
          "execution_count": 34,
          "metadata": {},
          "output_type": "execute_result"
        }
      ],
      "source": [
        "x.shape"
      ]
    },
    {
      "cell_type": "code",
      "execution_count": null,
      "metadata": {
        "id": "wuzpwK2Gk0uY"
      },
      "outputs": [],
      "source": [
        "# if expecting an input vocabulary size of 1000\n",
        "# and an embedding dimension of 64\n",
        "# this layer does not learn - it only takes input data and  transforms them to word embeddings\n",
        "pikachu.add(tf.keras.layers.Embedding(64, output_dim=64))"
      ]
    },
    {
      "cell_type": "code",
      "execution_count": null,
      "metadata": {
        "colab": {
          "base_uri": "https://localhost:8080/"
        },
        "id": "dVG4eqchk0uY",
        "outputId": "e010185b-a822-47e0-f402-74b8fab0ef6e"
      },
      "outputs": [
        {
          "name": "stdout",
          "output_type": "stream",
          "text": [
            "Model: \"pikachu_sequential\"\n",
            "_________________________________________________________________\n",
            " Layer (type)                Output Shape              Param #   \n",
            "=================================================================\n",
            " embedding (Embedding)       (None, None, 64)          4096      \n",
            "                                                                 \n",
            "=================================================================\n",
            "Total params: 4,096\n",
            "Trainable params: 4,096\n",
            "Non-trainable params: 0\n",
            "_________________________________________________________________\n"
          ]
        }
      ],
      "source": [
        "pikachu.summary()"
      ]
    },
    {
      "cell_type": "code",
      "execution_count": null,
      "metadata": {
        "id": "qGTXOYUPk0uY"
      },
      "outputs": [],
      "source": [
        "pikachu.add(tf.keras.layers.Dense(128, activation='relu'))"
      ]
    },
    {
      "cell_type": "code",
      "execution_count": null,
      "metadata": {
        "colab": {
          "base_uri": "https://localhost:8080/"
        },
        "id": "vRZTNC5Hk0uZ",
        "outputId": "c5a49c2d-73c3-4caa-e236-a8792617509b"
      },
      "outputs": [
        {
          "name": "stdout",
          "output_type": "stream",
          "text": [
            "Model: \"pikachu_sequential\"\n",
            "_________________________________________________________________\n",
            " Layer (type)                Output Shape              Param #   \n",
            "=================================================================\n",
            " embedding (Embedding)       (None, None, 64)          4096      \n",
            "                                                                 \n",
            " dense_15 (Dense)            (None, None, 128)         8320      \n",
            "                                                                 \n",
            "=================================================================\n",
            "Total params: 12,416\n",
            "Trainable params: 12,416\n",
            "Non-trainable params: 0\n",
            "_________________________________________________________________\n"
          ]
        }
      ],
      "source": [
        "pikachu.summary()"
      ]
    },
    {
      "cell_type": "markdown",
      "metadata": {
        "id": "qwp2hgjXk0uZ"
      },
      "source": [
        "# STEP #3: add a fully connected neural network layer\n",
        "\n",
        "*  A hidden layer in which each node is connected to every node in the subsequent hidden layer.\n",
        "\n",
        "Dense implements the operation: output = activation(dot(input, kernel) + bias) where activation is the element-wise activation function passed as the activation argument, kernel is a weights matrix created by the layer, and bias is a bias vector created by the layer (only applicable if use_bias is True). These are all attributes of Dense."
      ]
    },
    {
      "cell_type": "code",
      "execution_count": null,
      "metadata": {
        "id": "EIkmqzllk0uZ"
      },
      "outputs": [],
      "source": [
        "tf.keras.layers.Dense(\n",
        "    units, activation=None, use_bias=True,\n",
        "    kernel_initializer='glorot_uniform',\n",
        "    bias_initializer='zeros', kernel_regularizer=None,\n",
        "    bias_regularizer=None, activity_regularizer=None, kernel_constraint=None,\n",
        "    bias_constraint=None, **kwargs\n",
        ")"
      ]
    },
    {
      "cell_type": "code",
      "execution_count": null,
      "metadata": {
        "id": "wbIrRr81k0ua"
      },
      "outputs": [],
      "source": [
        "# output layer\n",
        "pikachu.add(layers.Dense(10, activation='relu'))"
      ]
    },
    {
      "cell_type": "code",
      "execution_count": null,
      "metadata": {
        "colab": {
          "base_uri": "https://localhost:8080/"
        },
        "id": "0h8ojqb3k0ua",
        "outputId": "584e8db7-26e4-4344-bc2c-66db6c5464d8"
      },
      "outputs": [
        {
          "name": "stdout",
          "output_type": "stream",
          "text": [
            "Model: \"pikachu_sequential\"\n",
            "_________________________________________________________________\n",
            " Layer (type)                Output Shape              Param #   \n",
            "=================================================================\n",
            " embedding (Embedding)       (None, None, 64)          4096      \n",
            "                                                                 \n",
            " dense_15 (Dense)            (None, None, 128)         8320      \n",
            "                                                                 \n",
            " dense_16 (Dense)            (None, None, 10)          1290      \n",
            "                                                                 \n",
            "=================================================================\n",
            "Total params: 13,706\n",
            "Trainable params: 13,706\n",
            "Non-trainable params: 0\n",
            "_________________________________________________________________\n"
          ]
        }
      ],
      "source": [
        "pikachu.summary()"
      ]
    },
    {
      "cell_type": "code",
      "execution_count": null,
      "metadata": {
        "id": "6zpjihaFk0ua"
      },
      "outputs": [],
      "source": [
        "pikachu.add(layers.Dense(10, activation='softmax'))"
      ]
    },
    {
      "cell_type": "code",
      "execution_count": null,
      "metadata": {
        "colab": {
          "base_uri": "https://localhost:8080/"
        },
        "id": "PyA2Zlaik0ub",
        "outputId": "43e280f9-8867-4611-9466-8f5dab9d551e"
      },
      "outputs": [
        {
          "name": "stdout",
          "output_type": "stream",
          "text": [
            "Model: \"pikachu_sequential\"\n",
            "_________________________________________________________________\n",
            " Layer (type)                Output Shape              Param #   \n",
            "=================================================================\n",
            " embedding (Embedding)       (None, None, 64)          4096      \n",
            "                                                                 \n",
            " dense_15 (Dense)            (None, None, 128)         8320      \n",
            "                                                                 \n",
            " dense_16 (Dense)            (None, None, 10)          1290      \n",
            "                                                                 \n",
            " dense_17 (Dense)            (None, None, 10)          110       \n",
            "                                                                 \n",
            "=================================================================\n",
            "Total params: 13,816\n",
            "Trainable params: 13,816\n",
            "Non-trainable params: 0\n",
            "_________________________________________________________________\n"
          ]
        }
      ],
      "source": [
        "pikachu.summary()"
      ]
    },
    {
      "cell_type": "markdown",
      "metadata": {
        "id": "G46ZWH6tk0ub"
      },
      "source": [
        "# Save our first Pokemon AI"
      ]
    },
    {
      "cell_type": "code",
      "execution_count": null,
      "metadata": {
        "colab": {
          "base_uri": "https://localhost:8080/"
        },
        "id": "uI7JE6y-k0uc",
        "outputId": "555f2556-4880-4a4e-bee9-9275c01c6c00"
      },
      "outputs": [
        {
          "name": "stdout",
          "output_type": "stream",
          "text": [
            "WARNING:tensorflow:Compiled the loaded model, but the compiled metrics have yet to be built. `model.compile_metrics` will be empty until you train or evaluate the model.\n",
            "INFO:tensorflow:Assets written to: saved_models/pikachu_rnn/assets\n"
          ]
        }
      ],
      "source": [
        "pikachu.save('saved_models/pikachu_rnn')"
      ]
    },
    {
      "cell_type": "markdown",
      "metadata": {
        "id": "WRs-OjjJk0uc"
      },
      "source": [
        "# Constructing Convolutional Neural Networks  (CNNs)\n",
        "\n",
        "* convolutional neural network\n",
        "\n",
        "*  A neural network in which at least one layer is a convolutional layer. A typical convolutional neural network consists of some combination of the following layers:\n",
        "\n",
        "* convolutional layers: A layer of a deep neural network in which a convolutional filter passes along an input matrix\n",
        "* pooling layers: Reducing a matrix (or matrices) created by an earlier convolutional layer to a smaller matrix. Pooling usually involves taking either the maximum or average value across the pooled area\n",
        "* dense layers: A hidden layer in which each node is connected to every node in the subsequent hidden layer.\n",
        "\n",
        "Convolutional neural networks have had great success in certain kinds of problems, such as image recognition."
      ]
    },
    {
      "cell_type": "code",
      "execution_count": null,
      "metadata": {
        "id": "Cy3dWuUek0uc"
      },
      "outputs": [],
      "source": [
        "pikachu_convolut = keras.Sequential(name='pikachu_convolut_sequential')"
      ]
    },
    {
      "cell_type": "code",
      "execution_count": null,
      "metadata": {
        "id": "pNswH83Ck0uc"
      },
      "outputs": [],
      "source": [
        "# convolute input data e.g., a 32x32 pixel with three channel rgb image\n",
        "pikachu_convolut.add(layers.Conv2D(32, (3, 3), activation='relu', input_shape=(32, 32, 3)))\n",
        "# reduce the 2d convolutional layer above\n",
        "pikachu_convolut.add(layers.MaxPooling2D((2, 2)))\n",
        "\n",
        "\n",
        "#  do convolution again\n",
        "pikachu_convolut.add(layers.Conv2D(64, (3, 3), activation='relu'))\n",
        "pikachu_convolut.add(layers.MaxPooling2D((2, 2)))\n",
        "\n",
        "# and again\n",
        "pikachu_convolut.add(layers.Conv2D(64, (3, 3), activation='relu'))\n",
        "\n",
        "# flatten (or unroll) the 3D output to 1D\n",
        "pikachu_convolut.add(layers.Flatten())\n",
        "pikachu_convolut.add(layers.Dense(64, activation='relu'))\n",
        "\n",
        "# final layer  that classifies images e.g. 10 different classes\n",
        "pikachu_convolut.add(layers.Dense(10))"
      ]
    },
    {
      "cell_type": "code",
      "execution_count": null,
      "metadata": {
        "colab": {
          "base_uri": "https://localhost:8080/"
        },
        "id": "AVD1RYTOk0ud",
        "outputId": "0e136f30-4ccd-4ca0-f80a-cd8241b58cd5"
      },
      "outputs": [
        {
          "name": "stdout",
          "output_type": "stream",
          "text": [
            "Model: \"pikachu_convolut_sequential\"\n",
            "_________________________________________________________________\n",
            " Layer (type)                Output Shape              Param #   \n",
            "=================================================================\n",
            " conv2d (Conv2D)             (None, 30, 30, 32)        896       \n",
            "                                                                 \n",
            " max_pooling2d (MaxPooling2D  (None, 15, 15, 32)       0         \n",
            " )                                                               \n",
            "                                                                 \n",
            " conv2d_1 (Conv2D)           (None, 13, 13, 64)        18496     \n",
            "                                                                 \n",
            " max_pooling2d_1 (MaxPooling  (None, 6, 6, 64)         0         \n",
            " 2D)                                                             \n",
            "                                                                 \n",
            " conv2d_2 (Conv2D)           (None, 4, 4, 64)          36928     \n",
            "                                                                 \n",
            " flatten (Flatten)           (None, 1024)              0         \n",
            "                                                                 \n",
            " dense_18 (Dense)            (None, 64)                65600     \n",
            "                                                                 \n",
            " dense_19 (Dense)            (None, 10)                650       \n",
            "                                                                 \n",
            "=================================================================\n",
            "Total params: 122,570\n",
            "Trainable params: 122,570\n",
            "Non-trainable params: 0\n",
            "_________________________________________________________________\n"
          ]
        }
      ],
      "source": [
        "pikachu_convolut.summary()"
      ]
    },
    {
      "cell_type": "markdown",
      "metadata": {
        "id": "q-FIIzUbk0ud"
      },
      "source": [
        "# Allow Pokemons to learn:\n",
        "\n",
        "Optimisers: https://www.tensorflow.org/api_docs/python/tf/keras/optimizers\n",
        "\n",
        "* Adam: https://www.tensorflow.org/api_docs/python/tf/keras/optimizers/Adam\n",
        "\n",
        "* Adam optimization is a stochastic gradient descent method that is based on adaptive estimation of first-order and second-order moments.\n",
        "\n",
        "Loss functions: https://www.tensorflow.org/api_docs/python/tf/keras/losses\n",
        "\n",
        "*  tf.keras.losses.SparseCategoricalCrossentropy\n",
        "\n",
        "Metrics: https://www.tensorflow.org/api_docs/python/tf/keras/metrics\n",
        "\n",
        "* Accuracy: Calculates how often predictions equal labels  (https://www.tensorflow.org/api_docs/python/tf/keras/metrics/Accuracy)"
      ]
    },
    {
      "cell_type": "code",
      "execution_count": null,
      "metadata": {
        "id": "zjyFWmOek0ud"
      },
      "outputs": [],
      "source": [
        "tf.keras.optimizers.Adam(\n",
        "    learning_rate=0.001, beta_1=0.9, beta_2=0.999, epsilon=1e-07, amsgrad=False,\n",
        "    name='Adam', **kwargs\n",
        ")"
      ]
    },
    {
      "cell_type": "code",
      "execution_count": null,
      "metadata": {
        "id": "iF_TbkGfk0ue"
      },
      "outputs": [],
      "source": [
        "tf.keras.losses.SparseCategoricalCrossentropy(\n",
        "    from_logits=False, reduction=losses_utils.ReductionV2.AUTO,\n",
        "    name='sparse_categorical_crossentropy'\n",
        ")"
      ]
    },
    {
      "cell_type": "code",
      "execution_count": null,
      "metadata": {
        "id": "Xs1-r-w_k0ue"
      },
      "outputs": [],
      "source": [
        "tf.keras.metrics.Accuracy(\n",
        "    name='accuracy', dtype=None\n",
        ")"
      ]
    },
    {
      "cell_type": "markdown",
      "metadata": {
        "id": "u1RzmIZek0ue"
      },
      "source": [
        "# Combine Optimiser, Loss, and Metrics: Compiling the Model"
      ]
    },
    {
      "cell_type": "code",
      "execution_count": null,
      "metadata": {
        "id": "ByhaHlGwk0ue"
      },
      "outputs": [],
      "source": [
        "pikachu_convolut.compile(optimizer='adam',\n",
        "              loss=tf.keras.losses.SparseCategoricalCrossentropy(from_logits=True),\n",
        "              metrics=['accuracy'])\n"
      ]
    },
    {
      "cell_type": "code",
      "execution_count": null,
      "metadata": {
        "colab": {
          "base_uri": "https://localhost:8080/"
        },
        "id": "Jp3YB9Ivk0uf",
        "outputId": "51a13442-072d-412b-b5ef-0c68ee9a50ac"
      },
      "outputs": [
        {
          "name": "stdout",
          "output_type": "stream",
          "text": [
            "Model: \"pikachu_convolut_sequential\"\n",
            "_________________________________________________________________\n",
            " Layer (type)                Output Shape              Param #   \n",
            "=================================================================\n",
            " conv2d (Conv2D)             (None, 30, 30, 32)        896       \n",
            "                                                                 \n",
            " max_pooling2d (MaxPooling2D  (None, 15, 15, 32)       0         \n",
            " )                                                               \n",
            "                                                                 \n",
            " conv2d_1 (Conv2D)           (None, 13, 13, 64)        18496     \n",
            "                                                                 \n",
            " max_pooling2d_1 (MaxPooling  (None, 6, 6, 64)         0         \n",
            " 2D)                                                             \n",
            "                                                                 \n",
            " conv2d_2 (Conv2D)           (None, 4, 4, 64)          36928     \n",
            "                                                                 \n",
            " flatten (Flatten)           (None, 1024)              0         \n",
            "                                                                 \n",
            " dense_18 (Dense)            (None, 64)                65600     \n",
            "                                                                 \n",
            " dense_19 (Dense)            (None, 10)                650       \n",
            "                                                                 \n",
            "=================================================================\n",
            "Total params: 122,570\n",
            "Trainable params: 122,570\n",
            "Non-trainable params: 0\n",
            "_________________________________________________________________\n"
          ]
        }
      ],
      "source": [
        "pikachu_convolut.summary()"
      ]
    },
    {
      "cell_type": "markdown",
      "metadata": {
        "id": "ezbGVtYDk0uf"
      },
      "source": [
        "# Traning A Pokemon"
      ]
    },
    {
      "cell_type": "code",
      "execution_count": null,
      "metadata": {
        "id": "RD3-iv_5k0uf"
      },
      "outputs": [],
      "source": [
        "from tensorflow.keras import datasets, layers, models\n",
        "from tensorflow.keras.layers import Dense, Flatten, Conv2D\n",
        "from tensorflow.keras import Model"
      ]
    },
    {
      "cell_type": "code",
      "execution_count": null,
      "metadata": {
        "colab": {
          "base_uri": "https://localhost:8080/"
        },
        "id": "iE0a6bwgk0uf",
        "outputId": "5ebefddd-5e0e-4375-d2b7-47cb66201346"
      },
      "outputs": [
        {
          "name": "stdout",
          "output_type": "stream",
          "text": [
            "Downloading data from https://www.cs.toronto.edu/~kriz/cifar-10-python.tar.gz\n",
            "170500096/170498071 [==============================] - 6s 0us/step\n",
            "170508288/170498071 [==============================] - 6s 0us/step\n"
          ]
        }
      ],
      "source": [
        "(train_images, train_labels), (test_images, test_labels) = datasets.cifar10.load_data()\n",
        "\n",
        "# Normalize pixel values to be between 0 and 1\n",
        "train_images, test_images = train_images / 255.0, test_images / 255.0"
      ]
    },
    {
      "cell_type": "code",
      "execution_count": null,
      "metadata": {
        "id": "pPbWMNpJk0ug"
      },
      "outputs": [],
      "source": [
        "class_names = ['airplane', 'automobile', 'bird', 'cat', 'deer',\n",
        "               'dog', 'frog', 'horse', 'ship', 'truck']"
      ]
    },
    {
      "cell_type": "markdown",
      "metadata": {
        "id": "cZFOcf7Qk0ug"
      },
      "source": [
        "# fit: Trains the model for a fixed number of epochs (iterations on a dataset)"
      ]
    },
    {
      "cell_type": "code",
      "execution_count": null,
      "metadata": {
        "id": "yqP95Mf9k0ug"
      },
      "outputs": [],
      "source": [
        "fit(\n",
        "    x=None, y=None, batch_size=None, epochs=1, verbose='auto',\n",
        "    callbacks=None, validation_split=0.0, validation_data=None, shuffle=True,\n",
        "    class_weight=None, sample_weight=None, initial_epoch=0, steps_per_epoch=None,\n",
        "    validation_steps=None, validation_batch_size=None, validation_freq=1,\n",
        "    max_queue_size=10, workers=1, use_multiprocessing=False\n",
        ")"
      ]
    },
    {
      "cell_type": "code",
      "execution_count": null,
      "metadata": {
        "colab": {
          "base_uri": "https://localhost:8080/"
        },
        "id": "W-WEFe8Tk0ug",
        "outputId": "154b9b12-2a8c-469d-d0fd-eb7cc2a8bdb5"
      },
      "outputs": [
        {
          "name": "stdout",
          "output_type": "stream",
          "text": [
            "Epoch 1/10\n",
            "1563/1563 [==============================] - 20s 8ms/step - loss: 1.5411 - accuracy: 0.4388 - val_loss: 1.2643 - val_accuracy: 0.5545\n",
            "Epoch 2/10\n",
            "1563/1563 [==============================] - 12s 8ms/step - loss: 1.1851 - accuracy: 0.5811 - val_loss: 1.1028 - val_accuracy: 0.6087\n",
            "Epoch 3/10\n",
            "1563/1563 [==============================] - 12s 8ms/step - loss: 1.0382 - accuracy: 0.6323 - val_loss: 0.9995 - val_accuracy: 0.6454\n",
            "Epoch 4/10\n",
            "1563/1563 [==============================] - 13s 8ms/step - loss: 0.9410 - accuracy: 0.6704 - val_loss: 0.9462 - val_accuracy: 0.6688\n",
            "Epoch 5/10\n",
            "1563/1563 [==============================] - 13s 8ms/step - loss: 0.8658 - accuracy: 0.6946 - val_loss: 0.9623 - val_accuracy: 0.6652\n",
            "Epoch 6/10\n",
            "1563/1563 [==============================] - 12s 8ms/step - loss: 0.7997 - accuracy: 0.7205 - val_loss: 0.9262 - val_accuracy: 0.6801\n",
            "Epoch 7/10\n",
            "1563/1563 [==============================] - 13s 8ms/step - loss: 0.7503 - accuracy: 0.7341 - val_loss: 0.9141 - val_accuracy: 0.6842\n",
            "Epoch 8/10\n",
            "1563/1563 [==============================] - 13s 8ms/step - loss: 0.6978 - accuracy: 0.7543 - val_loss: 0.8614 - val_accuracy: 0.7079\n",
            "Epoch 9/10\n",
            "1563/1563 [==============================] - 13s 8ms/step - loss: 0.6557 - accuracy: 0.7700 - val_loss: 0.9355 - val_accuracy: 0.6912\n",
            "Epoch 10/10\n",
            "1563/1563 [==============================] - 13s 8ms/step - loss: 0.6210 - accuracy: 0.7826 - val_loss: 0.8867 - val_accuracy: 0.6982\n"
          ]
        }
      ],
      "source": [
        "pikachu_fitness_training = pikachu_convolut.fit(train_images, train_labels, epochs=10, \n",
        "                    validation_data=(test_images, test_labels))"
      ]
    },
    {
      "cell_type": "code",
      "execution_count": null,
      "metadata": {
        "colab": {
          "base_uri": "https://localhost:8080/"
        },
        "id": "RAsP3tqqk0uh",
        "outputId": "37541ec3-3a7a-4e20-ae07-34ebd040857c"
      },
      "outputs": [
        {
          "data": {
            "text/plain": [
              "{'accuracy': [0.43876001238822937,\n",
              "  0.5811200141906738,\n",
              "  0.6323400139808655,\n",
              "  0.6703799962997437,\n",
              "  0.6946200132369995,\n",
              "  0.7204800248146057,\n",
              "  0.7341200113296509,\n",
              "  0.7543200254440308,\n",
              "  0.770039975643158,\n",
              "  0.7826200127601624],\n",
              " 'loss': [1.5410592555999756,\n",
              "  1.1851208209991455,\n",
              "  1.0381790399551392,\n",
              "  0.9409645199775696,\n",
              "  0.8657578825950623,\n",
              "  0.7996554970741272,\n",
              "  0.7503220438957214,\n",
              "  0.6977881193161011,\n",
              "  0.6556500196456909,\n",
              "  0.6210192441940308],\n",
              " 'val_accuracy': [0.5544999837875366,\n",
              "  0.6086999773979187,\n",
              "  0.6453999876976013,\n",
              "  0.6687999963760376,\n",
              "  0.6651999950408936,\n",
              "  0.6801000237464905,\n",
              "  0.6841999888420105,\n",
              "  0.7078999876976013,\n",
              "  0.6912000179290771,\n",
              "  0.698199987411499],\n",
              " 'val_loss': [1.2642937898635864,\n",
              "  1.1027992963790894,\n",
              "  0.9994821548461914,\n",
              "  0.9461671113967896,\n",
              "  0.962281346321106,\n",
              "  0.926210343837738,\n",
              "  0.914084255695343,\n",
              "  0.8613646626472473,\n",
              "  0.9355301856994629,\n",
              "  0.8867434859275818]}"
            ]
          },
          "execution_count": 54,
          "metadata": {},
          "output_type": "execute_result"
        }
      ],
      "source": [
        "pikachu_fitness_training.history"
      ]
    },
    {
      "cell_type": "markdown",
      "metadata": {
        "id": "QZ9UaFXDk0uh"
      },
      "source": [
        "# evaluate: Returns the loss value & metrics values for the model in test mode.\n",
        "\n",
        "Computation is done in batches (see the batch_size arg.)\n",
        "\n",
        "*  see: https://www.tensorflow.org/api_docs/python/tf/keras/Model"
      ]
    },
    {
      "cell_type": "code",
      "execution_count": null,
      "metadata": {
        "id": "hS55qc9ck0uh"
      },
      "outputs": [],
      "source": [
        "evaluate(\n",
        "    x=None, y=None, batch_size=None, verbose=1, sample_weight=None, steps=None,\n",
        "    callbacks=None, max_queue_size=10, workers=1, use_multiprocessing=False,\n",
        "    return_dict=False, **kwargs\n",
        ")"
      ]
    },
    {
      "cell_type": "code",
      "execution_count": null,
      "metadata": {
        "colab": {
          "base_uri": "https://localhost:8080/"
        },
        "id": "TcpNNrZIk0ui",
        "outputId": "36873e85-ecf4-461b-cb93-a7663c14f121"
      },
      "outputs": [
        {
          "name": "stdout",
          "output_type": "stream",
          "text": [
            "313/313 - 1s - loss: 0.8867 - accuracy: 0.6982 - 1s/epoch - 3ms/step\n"
          ]
        }
      ],
      "source": [
        "test_loss, test_acc = pikachu_convolut.evaluate(test_images,  test_labels, verbose=2)"
      ]
    },
    {
      "cell_type": "markdown",
      "metadata": {
        "id": "jZfzfSKsk0ui"
      },
      "source": [
        "# SAVE POKEMON"
      ]
    },
    {
      "cell_type": "code",
      "execution_count": null,
      "metadata": {
        "colab": {
          "base_uri": "https://localhost:8080/"
        },
        "id": "nuhPRDoCk0ui",
        "outputId": "7e01dd9b-9f85-4b22-bbc6-6751a7590194"
      },
      "outputs": [
        {
          "name": "stdout",
          "output_type": "stream",
          "text": [
            "INFO:tensorflow:Assets written to: saved_models/pikachu_convolut/assets\n"
          ]
        }
      ],
      "source": [
        "pikachu_convolut.save('saved_models/pikachu_convolut')"
      ]
    },
    {
      "cell_type": "markdown",
      "metadata": {
        "id": "FrdmmkN3k0ui"
      },
      "source": [
        "# RELOAD POKEMON"
      ]
    },
    {
      "cell_type": "code",
      "execution_count": null,
      "metadata": {
        "id": "qe5zVGv8k0uj"
      },
      "outputs": [],
      "source": [
        "pikachu = tf.keras.models.load_model('saved_models/pikachu_convolut')"
      ]
    },
    {
      "cell_type": "code",
      "execution_count": null,
      "metadata": {
        "colab": {
          "base_uri": "https://localhost:8080/"
        },
        "id": "lCPXDEjWk0uj",
        "outputId": "098a92c9-19a8-4361-9ab9-8fc3aa571397"
      },
      "outputs": [
        {
          "name": "stdout",
          "output_type": "stream",
          "text": [
            "Model: \"pikachu_convolut_sequential\"\n",
            "_________________________________________________________________\n",
            " Layer (type)                Output Shape              Param #   \n",
            "=================================================================\n",
            " conv2d (Conv2D)             (None, 30, 30, 32)        896       \n",
            "                                                                 \n",
            " max_pooling2d (MaxPooling2D  (None, 15, 15, 32)       0         \n",
            " )                                                               \n",
            "                                                                 \n",
            " conv2d_1 (Conv2D)           (None, 13, 13, 64)        18496     \n",
            "                                                                 \n",
            " max_pooling2d_1 (MaxPooling  (None, 6, 6, 64)         0         \n",
            " 2D)                                                             \n",
            "                                                                 \n",
            " conv2d_2 (Conv2D)           (None, 4, 4, 64)          36928     \n",
            "                                                                 \n",
            " flatten (Flatten)           (None, 1024)              0         \n",
            "                                                                 \n",
            " dense_18 (Dense)            (None, 64)                65600     \n",
            "                                                                 \n",
            " dense_19 (Dense)            (None, 10)                650       \n",
            "                                                                 \n",
            "=================================================================\n",
            "Total params: 122,570\n",
            "Trainable params: 122,570\n",
            "Non-trainable params: 0\n",
            "_________________________________________________________________\n"
          ]
        }
      ],
      "source": [
        "pikachu.summary()"
      ]
    },
    {
      "cell_type": "markdown",
      "metadata": {
        "id": "ZEahV8rWk0uj"
      },
      "source": [
        "#  The Sub-Classing Way of Building Neural Networks with Tensorflow & Keras"
      ]
    },
    {
      "cell_type": "code",
      "execution_count": null,
      "metadata": {
        "id": "O6tRvmhlk0uj"
      },
      "outputs": [],
      "source": [
        "from tensorflow.keras.layers import Dense, Flatten, Conv2D, MaxPool2D\n",
        "from tensorflow.keras import Model"
      ]
    },
    {
      "cell_type": "code",
      "execution_count": null,
      "metadata": {
        "id": "x3evGNzhk0uk"
      },
      "outputs": [],
      "source": [
        "#  the elegant class for toothless the dragon\n",
        "class elegant_model(tf.keras.Model):\n",
        "    \n",
        "    def __init__(self):\n",
        "        super(elegant_model, self).__init__()\n",
        "        \n",
        "        # now add layers\n",
        "        self.convolut1  = Conv2D(32, (3, 3), activation='relu', input_shape=(32, 32, 3))\n",
        "        self.maxpool1 =  MaxPool2D((2,2))\n",
        "        \n",
        "        self.convolut2 =Conv2D(64,  (3,3),activation='relu')\n",
        "        self.maxpool2  = MaxPool2D((2,2))\n",
        "        \n",
        "        self.convolut3  = Conv2D(64,  (3,3),activation='relu')\n",
        "        \n",
        "        \n",
        "        self.flatten = Flatten()\n",
        "        self.dense1 = Dense(64, activation='relu')\n",
        "        \n",
        "        self.dense2 = Dense(10)\n",
        "        \n",
        "        \n",
        "    def call(self, inputs):\n",
        "        x = self.convolut1(inputs)\n",
        "        x = self.maxpool1(x)\n",
        "        \n",
        "        x = self.convolut2(x)\n",
        "        x = self.maxpool2(x)\n",
        "        \n",
        "        x =  self.flatten(x)\n",
        "        x = self.dense1(x)\n",
        "        \n",
        "        x = self.dense2(x)\n",
        "        \n",
        "        return x \n",
        "        "
      ]
    },
    {
      "cell_type": "markdown",
      "metadata": {
        "id": "4dcgdYVuk0uk"
      },
      "source": [
        "# THE NEW POKEMON"
      ]
    },
    {
      "cell_type": "code",
      "execution_count": null,
      "metadata": {
        "id": "ajPV2kIhk0uk"
      },
      "outputs": [],
      "source": [
        "pikachu_elegance = elegant_model()"
      ]
    },
    {
      "cell_type": "markdown",
      "metadata": {
        "id": "XAxvfu7ik0uk"
      },
      "source": [
        "# from_logits\n",
        "* The from_logits=True attribute inform the loss function that the output values generated by the model are not normalized, a.k.a. \n",
        "* logits. In other words, the softmax function has not been applied on them to produce a probability distribution. "
      ]
    },
    {
      "cell_type": "code",
      "execution_count": null,
      "metadata": {
        "id": "IIcdMZ88k0ul"
      },
      "outputs": [],
      "source": [
        "loss_object = tf.keras.losses.SparseCategoricalCrossentropy(from_logits=True)\n",
        "\n",
        "optimizer = tf.keras.optimizers.Adam()"
      ]
    },
    {
      "cell_type": "code",
      "execution_count": null,
      "metadata": {
        "id": "JM1hFgMCk0ul"
      },
      "outputs": [],
      "source": [
        "train_loss = tf.keras.metrics.Mean(name='train_loss')\n",
        "train_accuracy = tf.keras.metrics.SparseCategoricalAccuracy(name='train_accuracy')\n",
        "\n",
        "test_loss = tf.keras.metrics.Mean(name='test_loss')\n",
        "test_accuracy = tf.keras.metrics.SparseCategoricalAccuracy(name='test_accuracy')"
      ]
    },
    {
      "cell_type": "markdown",
      "metadata": {
        "id": "5wRLCIWtk0ul"
      },
      "source": [
        "# DEFINE THE TRAINING STEP -OR PROGRAM- FOR OUR POKEMON"
      ]
    },
    {
      "cell_type": "code",
      "execution_count": null,
      "metadata": {
        "id": "bFAoHI3Sk0um"
      },
      "outputs": [],
      "source": [
        "@tf.function\n",
        "def train_step(images, labels):\n",
        "  with tf.GradientTape() as tape:\n",
        "    # training=True is only needed if there are layers with different\n",
        "    # behavior during training versus inference (e.g. Dropout).\n",
        "    predictions = pikachu_elegance(images, training=True)\n",
        "    loss = loss_object(labels, predictions)\n",
        "  gradients = tape.gradient(loss, pikachu_elegance.trainable_variables)\n",
        "  optimizer.apply_gradients(zip(gradients, pikachu_elegance.trainable_variables))\n",
        "\n",
        "  train_loss(loss)\n",
        "  train_accuracy(labels, predictions)"
      ]
    },
    {
      "cell_type": "markdown",
      "metadata": {
        "id": "ZDsLdI5jk0um"
      },
      "source": [
        "# DEFINE POKEMON TESTING STEPS"
      ]
    },
    {
      "cell_type": "code",
      "execution_count": null,
      "metadata": {
        "id": "lirkmKuWk0um"
      },
      "outputs": [],
      "source": [
        "@tf.function\n",
        "def test_step(images, labels):\n",
        "  # training=False is only needed if there are layers with different\n",
        "  # behavior during training versus inference (e.g. Dropout).\n",
        "  predictions = pikachu_elegance(images, training=False)\n",
        "  t_loss = loss_object(labels, predictions)\n",
        "\n",
        "  test_loss(t_loss)\n",
        "  test_accuracy(labels, predictions)"
      ]
    },
    {
      "cell_type": "markdown",
      "metadata": {
        "id": "bgx7cT9Xk0um"
      },
      "source": [
        "# Get MNIST dataset"
      ]
    },
    {
      "cell_type": "code",
      "execution_count": null,
      "metadata": {
        "colab": {
          "base_uri": "https://localhost:8080/"
        },
        "id": "efm3ssL9k0un",
        "outputId": "7550abb4-2bb4-4850-e80b-4dc8926e7ec3"
      },
      "outputs": [
        {
          "name": "stdout",
          "output_type": "stream",
          "text": [
            "Downloading data from https://storage.googleapis.com/tensorflow/tf-keras-datasets/mnist.npz\n",
            "11493376/11490434 [==============================] - 0s 0us/step\n",
            "11501568/11490434 [==============================] - 0s 0us/step\n"
          ]
        }
      ],
      "source": [
        "mnist = tf.keras.datasets.mnist\n",
        "\n",
        "(x_train, y_train), (x_test, y_test) = mnist.load_data()\n",
        "x_train, x_test = x_train / 255.0, x_test / 255.0\n",
        "\n",
        "# Add a channels dimension\n",
        "x_train = x_train[..., tf.newaxis].astype(\"float32\")\n",
        "x_test = x_test[..., tf.newaxis].astype(\"float32\")"
      ]
    },
    {
      "cell_type": "markdown",
      "metadata": {
        "id": "4wW7WL63k0un"
      },
      "source": [
        "# Batch  and shuffle MNIST dataset"
      ]
    },
    {
      "cell_type": "code",
      "execution_count": null,
      "metadata": {
        "id": "e78aiS9fk0un"
      },
      "outputs": [],
      "source": [
        "train_ds = tf.data.Dataset.from_tensor_slices(\n",
        "    (x_train, y_train)).shuffle(10000).batch(32)\n",
        "\n",
        "test_ds = tf.data.Dataset.from_tensor_slices((x_test, y_test)).batch(32)"
      ]
    },
    {
      "cell_type": "markdown",
      "metadata": {
        "id": "LI5fmqpUk0un"
      },
      "source": [
        "# THE POKEMON TRAINING RUN"
      ]
    },
    {
      "cell_type": "code",
      "execution_count": null,
      "metadata": {
        "colab": {
          "base_uri": "https://localhost:8080/"
        },
        "id": "HGe2rKF5k0uo",
        "outputId": "6ce982b2-8ebc-47d8-cfee-aa32fe4e1169"
      },
      "outputs": [
        {
          "name": "stdout",
          "output_type": "stream",
          "text": [
            "Epoch 1, Loss: 0.15444506704807281, Accuracy: 95.37166595458984, Test Loss: 0.07085303217172623, Test Accuracy: 97.68000030517578\n",
            "Epoch 2, Loss: 0.05168655142188072, Accuracy: 98.41166687011719, Test Loss: 0.032449062913656235, Test Accuracy: 98.77999877929688\n",
            "Epoch 3, Loss: 0.0363403744995594, Accuracy: 98.87333679199219, Test Loss: 0.029822103679180145, Test Accuracy: 98.97999572753906\n",
            "Epoch 4, Loss: 0.027524692937731743, Accuracy: 99.09666442871094, Test Loss: 0.03183663636445999, Test Accuracy: 98.9000015258789\n",
            "Epoch 5, Loss: 0.020560553297400475, Accuracy: 99.33500671386719, Test Loss: 0.03244420886039734, Test Accuracy: 99.0\n"
          ]
        }
      ],
      "source": [
        "EPOCHS = 5\n",
        "\n",
        "for epoch in range(EPOCHS):\n",
        "  # Reset the metrics at the start of the next epoch\n",
        "  train_loss.reset_states()\n",
        "  train_accuracy.reset_states()\n",
        "  test_loss.reset_states()\n",
        "  test_accuracy.reset_states()\n",
        "\n",
        "  for images, labels in train_ds:\n",
        "    train_step(images, labels)\n",
        "\n",
        "  for test_images, test_labels in test_ds:\n",
        "    test_step(test_images, test_labels)\n",
        "\n",
        "  print(\n",
        "    f'Epoch {epoch + 1}, '\n",
        "    f'Loss: {train_loss.result()}, '\n",
        "    f'Accuracy: {train_accuracy.result() * 100}, '\n",
        "    f'Test Loss: {test_loss.result()}, '\n",
        "    f'Test Accuracy: {test_accuracy.result() * 100}'\n",
        "  )"
      ]
    },
    {
      "cell_type": "code",
      "execution_count": null,
      "metadata": {
        "colab": {
          "base_uri": "https://localhost:8080/"
        },
        "id": "AThn-_bCk0uo",
        "outputId": "5519fff8-c7df-42d8-90cc-09c930bed670"
      },
      "outputs": [
        {
          "name": "stdout",
          "output_type": "stream",
          "text": [
            "Model: \"elegant_model\"\n",
            "_________________________________________________________________\n",
            " Layer (type)                Output Shape              Param #   \n",
            "=================================================================\n",
            " conv2d_3 (Conv2D)           multiple                  320       \n",
            "                                                                 \n",
            " max_pooling2d_2 (MaxPooling  multiple                 0         \n",
            " 2D)                                                             \n",
            "                                                                 \n",
            " conv2d_4 (Conv2D)           multiple                  18496     \n",
            "                                                                 \n",
            " max_pooling2d_3 (MaxPooling  multiple                 0         \n",
            " 2D)                                                             \n",
            "                                                                 \n",
            " conv2d_5 (Conv2D)           multiple                  0 (unused)\n",
            "                                                                 \n",
            " flatten_1 (Flatten)         multiple                  0         \n",
            "                                                                 \n",
            " dense_20 (Dense)            multiple                  102464    \n",
            "                                                                 \n",
            " dense_21 (Dense)            multiple                  650       \n",
            "                                                                 \n",
            "=================================================================\n",
            "Total params: 121,930\n",
            "Trainable params: 121,930\n",
            "Non-trainable params: 0\n",
            "_________________________________________________________________\n"
          ]
        }
      ],
      "source": [
        "pikachu_elegance.summary()"
      ]
    },
    {
      "cell_type": "markdown",
      "metadata": {
        "id": "QPVUY_wmk0uo"
      },
      "source": [
        "# THE ELEGANT LEARNING WEIGHTS"
      ]
    },
    {
      "cell_type": "code",
      "execution_count": null,
      "metadata": {
        "colab": {
          "base_uri": "https://localhost:8080/"
        },
        "id": "3v1MgLrqk0up",
        "outputId": "49086604-9573-4c11-fa4a-8fa0b755cd2d"
      },
      "outputs": [
        {
          "data": {
            "text/plain": [
              "[<tf.Variable 'elegant_model/conv2d_3/kernel:0' shape=(3, 3, 1, 32) dtype=float32, numpy=\n",
              " array([[[[ 6.00116178e-02, -3.12173814e-02, -3.11968923e-01,\n",
              "           -8.61391947e-02,  1.97747916e-01,  5.28335571e-02,\n",
              "            1.66630466e-02,  2.46452019e-01, -7.04280240e-03,\n",
              "            2.77371973e-01,  6.82550669e-02,  5.28197549e-02,\n",
              "            1.63062308e-02,  1.38863912e-02, -1.76482096e-01,\n",
              "           -2.98546016e-01, -1.84645623e-01, -2.89162487e-01,\n",
              "           -1.41162068e-01,  1.91734303e-02,  1.72948256e-01,\n",
              "           -3.27317894e-01,  6.60891011e-02,  2.45216209e-02,\n",
              "           -6.14709500e-03,  1.69587687e-01,  1.07814074e-01,\n",
              "            3.09969723e-01,  1.24431409e-01, -5.11579439e-02,\n",
              "            9.91692916e-02,  3.65899563e-01]],\n",
              " \n",
              "         [[-2.28184208e-01,  1.45929277e-01, -3.92579697e-02,\n",
              "           -1.74803138e-02,  1.01446591e-01,  2.95083642e-01,\n",
              "            1.05643138e-01,  1.88888729e-01,  3.85712907e-02,\n",
              "            1.21574774e-01,  1.65623650e-01,  4.13287990e-02,\n",
              "           -1.23731501e-01, -3.25593650e-01,  1.89366713e-01,\n",
              "           -1.46590471e-01, -3.10685318e-02, -2.48082597e-02,\n",
              "            2.66038794e-02,  2.09209591e-01,  1.40602261e-01,\n",
              "           -9.08192471e-02,  2.38475189e-01,  1.11181140e-02,\n",
              "            1.34475067e-01,  7.32594281e-02, -1.00764662e-01,\n",
              "            2.86161065e-01,  5.96627891e-02, -4.68724191e-01,\n",
              "           -1.46663740e-01,  9.32113677e-02]],\n",
              " \n",
              "         [[-5.74851573e-01,  3.56078953e-01,  7.73883313e-02,\n",
              "           -1.02120027e-01,  5.52521423e-02,  3.16025764e-01,\n",
              "            3.39972556e-01,  1.82313874e-01,  1.41279235e-01,\n",
              "            2.03892037e-01,  1.14400275e-01, -5.48415410e-04,\n",
              "           -1.45161882e-01, -3.82350922e-01,  1.83473021e-01,\n",
              "            1.01789646e-02, -2.47360349e-01,  1.61805838e-01,\n",
              "            1.51051059e-01, -1.53980732e-01,  4.00814451e-02,\n",
              "            1.40040010e-01, -1.27446219e-01, -2.91934639e-01,\n",
              "            9.43863858e-03, -1.04087830e-01,  1.58622876e-01,\n",
              "            3.64102237e-02,  1.12143397e-01, -1.92155272e-01,\n",
              "           -2.66329776e-02, -3.15934658e-01]]],\n",
              " \n",
              " \n",
              "        [[[ 2.22495258e-01, -2.66375184e-01, -2.72220135e-01,\n",
              "            9.93681420e-03,  8.74750242e-02, -1.60960004e-01,\n",
              "           -1.12480327e-01, -7.69730434e-02,  2.01675259e-02,\n",
              "            1.23716235e-01, -7.33234510e-02, -9.94455218e-02,\n",
              "            1.46990314e-01,  2.16855139e-01,  3.10509235e-01,\n",
              "            1.36720449e-01, -1.47531644e-01, -9.91410017e-02,\n",
              "           -3.95663798e-01, -1.41662061e-01, -1.08127370e-01,\n",
              "           -2.89674819e-01, -3.31887230e-02, -1.47195294e-01,\n",
              "            5.80223389e-02,  4.47953157e-02,  1.13913029e-01,\n",
              "           -1.17934801e-01,  5.87549917e-02, -4.79284853e-01,\n",
              "            6.77804649e-02,  2.66670913e-01]],\n",
              " \n",
              "         [[ 8.60624202e-03, -1.58022150e-01,  2.39318740e-02,\n",
              "           -1.17122456e-01,  2.06837654e-01, -6.71962202e-02,\n",
              "            1.67499017e-02,  2.37790644e-02,  8.97849202e-02,\n",
              "            4.15009409e-02,  2.07107455e-01,  1.55089930e-01,\n",
              "            9.80267525e-02, -5.22863008e-02,  1.77970007e-01,\n",
              "            3.08430314e-01, -3.66076119e-02,  2.68462926e-01,\n",
              "           -6.39017299e-02,  2.34234706e-01,  2.47846693e-01,\n",
              "            9.82069820e-02,  1.13577008e-01, -9.33836028e-02,\n",
              "           -5.36970869e-02, -9.38341692e-02,  1.23961821e-01,\n",
              "           -2.02103689e-01, -1.00877665e-01, -2.28865281e-01,\n",
              "           -1.04187764e-01, -2.18497306e-01]],\n",
              " \n",
              "         [[-1.67306274e-01, -3.53404470e-02,  1.50738806e-01,\n",
              "           -4.86648045e-02,  1.59596771e-01,  2.49794573e-01,\n",
              "            1.68326378e-01,  3.68281379e-02,  6.39372841e-02,\n",
              "           -1.74546912e-01, -8.76482502e-02,  1.41927347e-01,\n",
              "            1.55913576e-01, -1.83136851e-01,  2.81039588e-02,\n",
              "            1.27452955e-01,  6.63921144e-03,  3.12726982e-02,\n",
              "            3.49446654e-01, -7.64832795e-02,  1.33559287e-01,\n",
              "            2.00293139e-01, -2.92532235e-01, -7.91664794e-02,\n",
              "            1.48734361e-01,  5.82677163e-02, -1.86195731e-01,\n",
              "           -1.38112828e-01,  3.66344787e-02,  2.56254345e-01,\n",
              "           -1.66880637e-01, -5.17629564e-01]]],\n",
              " \n",
              " \n",
              "        [[[ 8.97858888e-02, -3.07007939e-01, -1.70111936e-03,\n",
              "           -1.24828629e-01, -3.42591375e-01, -4.29783165e-01,\n",
              "           -3.04903477e-01, -2.50544667e-01,  8.59879404e-02,\n",
              "           -3.53793055e-01,  1.85091048e-02,  1.75140891e-02,\n",
              "            1.00263335e-01,  8.43615755e-02, -9.10873711e-03,\n",
              "           -1.31281883e-01, -4.81625274e-02,  5.62128536e-02,\n",
              "           -3.98692012e-01, -3.02992314e-01, -3.89943868e-01,\n",
              "           -4.30401340e-02,  5.45372777e-02,  1.07687756e-01,\n",
              "           -1.47669703e-01,  1.58308581e-01,  1.74764425e-01,\n",
              "           -2.67084986e-01,  8.08015764e-02, -2.70272344e-01,\n",
              "            1.47752509e-01,  4.55940776e-02]],\n",
              " \n",
              "         [[ 3.56966227e-01, -3.92229944e-01, -3.14635932e-02,\n",
              "            3.58517072e-03, -3.75951380e-01, -2.92563349e-01,\n",
              "           -5.17531693e-01, -3.53279710e-01,  1.33934215e-01,\n",
              "           -4.52050358e-01,  5.83907142e-02,  9.08421949e-02,\n",
              "            1.05625965e-01,  3.75193059e-01, -3.10714573e-01,\n",
              "            1.63117573e-01,  2.00722516e-01,  2.45096236e-02,\n",
              "           -7.56321698e-02,  1.81986645e-01, -2.93877393e-01,\n",
              "            1.23197071e-01, -7.96889216e-02,  2.73021191e-01,\n",
              "           -3.13624628e-02, -1.08334005e-01,  2.06401926e-02,\n",
              "           -1.81468830e-01,  4.72539254e-02,  1.08702093e-01,\n",
              "            1.64847255e-01, -5.36276877e-01]],\n",
              " \n",
              "         [[ 2.75612235e-01, -5.22103667e-01,  3.06958050e-01,\n",
              "           -1.18961148e-02, -2.15565547e-01,  4.10185494e-02,\n",
              "           -2.94338435e-01, -1.32749632e-01, -1.48637101e-01,\n",
              "           -2.35472247e-01, -3.23277295e-01, -7.29378015e-02,\n",
              "           -8.93362090e-02,  2.53289372e-01, -3.64277661e-01,\n",
              "           -3.08294833e-01,  1.45433083e-01, -7.37153813e-02,\n",
              "            2.96651959e-01,  1.56472132e-01,  2.93463971e-02,\n",
              "            2.10026994e-01,  1.73803762e-01,  2.43144497e-01,\n",
              "            1.68780610e-01,  9.79137793e-02, -2.45841563e-01,\n",
              "           -1.49849385e-01, -7.07406402e-02,  3.15812677e-01,\n",
              "            1.06266953e-01,  3.82820815e-02]]]], dtype=float32)>,\n",
              " <tf.Variable 'elegant_model/conv2d_3/bias:0' shape=(32,) dtype=float32, numpy=\n",
              " array([-0.01835212,  0.12702636, -0.0050045 , -0.01798017, -0.00411145,\n",
              "         0.00807137,  0.03715952, -0.00381023, -0.15653528,  0.0379138 ,\n",
              "        -0.03079687, -0.10249447, -0.04567254, -0.01293226, -0.05576083,\n",
              "        -0.01066104, -0.01369968, -0.07308481,  0.01476113, -0.02761838,\n",
              "        -0.03771935, -0.02027227, -0.03239083, -0.02925122, -0.10174537,\n",
              "        -0.08553433, -0.09700398,  0.04038128, -0.15283825,  0.07238863,\n",
              "        -0.08921457,  0.0482236 ], dtype=float32)>,\n",
              " <tf.Variable 'elegant_model/conv2d_4/kernel:0' shape=(3, 3, 32, 64) dtype=float32, numpy=\n",
              " array([[[[-8.20164476e-03,  4.02497277e-02, -1.40467435e-01, ...,\n",
              "           -1.14601500e-01, -5.68330511e-02, -7.43370056e-02],\n",
              "          [ 1.29291981e-01, -1.86285805e-02, -3.42064053e-01, ...,\n",
              "            8.97680894e-02, -4.48342077e-02, -2.17880726e-01],\n",
              "          [-1.13661595e-01,  7.05518648e-02,  3.50506119e-02, ...,\n",
              "            1.81675851e-01, -1.25587255e-01,  6.15702756e-02],\n",
              "          ...,\n",
              "          [-1.65539443e-01,  7.23272264e-02, -3.11861560e-02, ...,\n",
              "            1.85278244e-02, -1.86876476e-01, -7.05054626e-02],\n",
              "          [-4.24936824e-02,  1.04150377e-01,  1.24923820e-02, ...,\n",
              "           -1.49948657e-01, -1.83287621e-01,  2.75430977e-02],\n",
              "          [-9.78409424e-02, -8.37916881e-02,  3.29987258e-01, ...,\n",
              "           -9.51039344e-02,  9.44571868e-02,  1.20910462e-02]],\n",
              " \n",
              "         [[ 1.80549696e-01,  8.11109468e-02, -8.27893019e-02, ...,\n",
              "           -8.15981068e-03,  3.26827168e-02, -1.11905269e-01],\n",
              "          [-6.70438185e-02, -6.28772229e-02, -7.12621212e-02, ...,\n",
              "           -1.39414212e-02,  1.91791877e-02, -1.47523493e-01],\n",
              "          [-3.62107083e-02, -1.83498800e-01, -3.29706252e-01, ...,\n",
              "            1.40321746e-01,  6.37797862e-02, -2.10652694e-01],\n",
              "          ...,\n",
              "          [-1.77389935e-01, -1.12645730e-01, -1.06886014e-01, ...,\n",
              "           -8.14413130e-02, -2.72498094e-02, -2.25490972e-01],\n",
              "          [ 6.56026080e-02,  4.09684218e-02, -1.90478072e-01, ...,\n",
              "           -1.09903654e-02, -5.21901548e-02, -1.27506897e-01],\n",
              "          [-1.34131670e-01,  1.57983303e-01,  2.26956293e-01, ...,\n",
              "           -3.62154067e-01,  4.52460237e-02,  1.38122424e-01]],\n",
              " \n",
              "         [[ 3.61126602e-01, -1.46318346e-01, -4.74056825e-02, ...,\n",
              "            1.86846554e-01,  7.79332891e-02, -6.98547363e-02],\n",
              "          [-1.29799113e-01, -2.82743927e-02, -1.04820639e-01, ...,\n",
              "           -1.22479349e-01, -1.29877985e-01, -5.15228994e-02],\n",
              "          [-1.37870327e-01,  1.09762497e-01, -5.41559011e-02, ...,\n",
              "           -1.86372012e-01,  1.64541993e-02, -3.29511650e-02],\n",
              "          ...,\n",
              "          [-8.19077492e-02,  2.00290263e-01, -7.61175677e-02, ...,\n",
              "           -2.67827600e-01, -2.24099278e-01, -2.78814156e-02],\n",
              "          [ 9.44098979e-02, -1.14780851e-01, -8.28780532e-02, ...,\n",
              "            7.98160061e-02, -6.36439677e-03, -6.07554503e-02],\n",
              "          [-9.30985287e-02,  1.18645979e-02,  7.04289451e-02, ...,\n",
              "           -1.99890465e-01,  6.29479671e-03,  1.21123493e-01]]],\n",
              " \n",
              " \n",
              "        [[[ 4.70872223e-02,  3.62563059e-02, -5.75360730e-02, ...,\n",
              "           -2.45732993e-01,  1.04091898e-01,  2.73019318e-02],\n",
              "          [-1.04637697e-01, -2.92678028e-01, -2.73511797e-01, ...,\n",
              "            1.47730723e-01, -2.92667270e-01, -1.25507995e-01],\n",
              "          [ 8.97729620e-02,  2.14553364e-02, -1.96784496e-01, ...,\n",
              "           -1.83392376e-01,  7.33135566e-02,  3.99906896e-02],\n",
              "          ...,\n",
              "          [ 1.57003194e-01, -1.47208814e-02, -9.95457545e-02, ...,\n",
              "           -1.52640998e-01,  8.88808072e-03, -2.29312479e-02],\n",
              "          [-1.06278248e-01,  1.27718300e-01,  9.81806293e-02, ...,\n",
              "           -2.05127597e-01,  3.71560715e-02,  2.11992860e-02],\n",
              "          [-5.39870746e-02,  3.91838364e-02,  2.16912970e-01, ...,\n",
              "           -1.39609829e-01, -4.25419137e-02,  9.43806255e-04]],\n",
              " \n",
              "         [[ 1.90446954e-02, -1.05006630e-02,  5.05069550e-03, ...,\n",
              "            2.97279563e-02,  7.69905150e-02,  5.98194376e-02],\n",
              "          [-2.32754529e-01, -3.37961987e-02, -4.74815145e-02, ...,\n",
              "            1.72134683e-01, -7.75201246e-02, -1.43154711e-01],\n",
              "          [ 7.36789107e-02, -3.29231679e-01, -7.48993829e-02, ...,\n",
              "            7.08654970e-02,  8.86387974e-02,  4.47979197e-02],\n",
              "          ...,\n",
              "          [-5.47558106e-02, -1.25275910e-01, -1.12642147e-01, ...,\n",
              "           -1.82418644e-01,  1.12115398e-01,  6.16262332e-02],\n",
              "          [ 5.95188001e-03,  2.48031635e-02,  1.76074896e-02, ...,\n",
              "           -5.13331778e-02, -1.11193480e-02,  1.94266010e-02],\n",
              "          [-2.22463593e-01,  2.71085322e-01, -7.81216025e-02, ...,\n",
              "           -3.90931308e-01, -1.24329939e-01,  2.52173901e-01]],\n",
              " \n",
              "         [[ 1.52303532e-01, -1.09920464e-01, -6.45436943e-02, ...,\n",
              "            2.96456724e-01,  3.48054357e-02,  1.67475671e-01],\n",
              "          [-2.38218054e-01,  2.81932065e-03, -3.76762562e-02, ...,\n",
              "           -2.83173323e-02, -6.77642971e-02, -2.27241188e-01],\n",
              "          [-9.26067159e-02,  1.69102818e-01, -2.29334444e-01, ...,\n",
              "           -1.20084949e-01,  9.16094407e-02,  6.49027228e-02],\n",
              "          ...,\n",
              "          [-3.97103615e-02,  1.23073697e-01, -2.61391193e-01, ...,\n",
              "           -3.48397642e-01,  1.19220151e-03,  1.71920747e-01],\n",
              "          [ 3.12157907e-03, -5.80636188e-02, -5.71604855e-02, ...,\n",
              "            9.50620547e-02,  5.47536947e-02,  4.80074324e-02],\n",
              "          [-2.84311414e-01, -6.90404326e-02, -1.36129081e-01, ...,\n",
              "           -4.65388536e-01,  5.04459925e-02, -1.66715473e-01]]],\n",
              " \n",
              " \n",
              "        [[[-1.20194435e-01,  9.66562554e-02,  4.05519828e-02, ...,\n",
              "           -1.00425228e-01, -2.45704986e-02,  1.48911417e-01],\n",
              "          [-4.63847630e-02, -3.28556657e-01,  2.30686031e-02, ...,\n",
              "           -1.76638067e-02, -5.30627333e-02, -1.98506147e-01],\n",
              "          [ 1.46004379e-01,  3.55019420e-02, -8.04208145e-02, ...,\n",
              "           -1.19250588e-01,  2.83354800e-02,  1.50782308e-02],\n",
              "          ...,\n",
              "          [ 1.19491763e-01, -1.01184091e-02, -4.92315978e-01, ...,\n",
              "           -1.01301946e-01, -2.10666522e-01, -5.45673482e-02],\n",
              "          [ 3.67395021e-02,  3.36566865e-02,  3.11135082e-03, ...,\n",
              "           -5.40377088e-02,  6.28348067e-02,  2.93925200e-02],\n",
              "          [-1.24991626e-01,  1.67019337e-01, -1.07704990e-01, ...,\n",
              "           -1.56157956e-01, -6.19558431e-02, -1.90853819e-01]],\n",
              " \n",
              "         [[-1.82959959e-01,  5.04199937e-02,  8.12106952e-02, ...,\n",
              "           -8.67083594e-02, -5.33569157e-02, -9.00620893e-02],\n",
              "          [-2.05307767e-01, -9.97884050e-02,  1.80764794e-02, ...,\n",
              "            1.40118837e-01, -8.70980099e-02, -1.67676836e-01],\n",
              "          [-9.10299644e-02, -2.70863146e-01, -1.52847618e-01, ...,\n",
              "            2.21410580e-02, -1.59005567e-01,  9.31175575e-02],\n",
              "          ...,\n",
              "          [-1.95349604e-01, -1.16540961e-01, -3.37755024e-01, ...,\n",
              "           -3.08078844e-02, -1.63364366e-01,  1.13526516e-01],\n",
              "          [ 1.60914306e-02, -1.79338399e-02,  1.34514673e-02, ...,\n",
              "           -1.04782417e-01, -8.11904389e-03, -8.93864706e-02],\n",
              "          [-1.84957743e-01,  1.69599146e-01, -2.57787585e-01, ...,\n",
              "           -2.54441768e-01, -8.72686878e-02, -3.12688574e-02]],\n",
              " \n",
              "         [[ 4.07015847e-04, -2.30008513e-01,  1.27031446e-01, ...,\n",
              "            3.83265018e-02, -5.76685853e-02, -1.00738481e-01],\n",
              "          [-2.25402385e-01,  1.54014215e-01,  1.05067529e-02, ...,\n",
              "            4.22394127e-02, -1.07588038e-01, -1.47164494e-01],\n",
              "          [ 8.97586122e-02,  7.91860521e-02, -1.75330132e-01, ...,\n",
              "            3.08643430e-02, -1.25559255e-01, -7.06213340e-02],\n",
              "          ...,\n",
              "          [-4.82372083e-02,  5.68772443e-02, -3.25945675e-01, ...,\n",
              "           -4.09030557e-01, -1.16466142e-01, -3.09502780e-01],\n",
              "          [ 5.26011735e-02, -1.19812921e-01,  8.50857869e-02, ...,\n",
              "           -6.02817582e-03,  9.50786173e-02,  5.43125086e-02],\n",
              "          [-3.96572679e-01, -4.53151716e-03, -1.96730718e-01, ...,\n",
              "           -3.41039747e-01, -1.14391744e-01,  9.65330452e-02]]]],\n",
              "       dtype=float32)>,\n",
              " <tf.Variable 'elegant_model/conv2d_4/bias:0' shape=(64,) dtype=float32, numpy=\n",
              " array([-5.28369620e-02, -2.77591515e-02, -1.07530199e-01, -1.84295699e-02,\n",
              "        -5.76036982e-02, -1.50680402e-02,  5.84153677e-05,  1.09157134e-02,\n",
              "        -1.39939478e-02, -6.94439337e-02,  1.34555716e-03, -4.65517938e-02,\n",
              "        -2.24747024e-02, -4.03838418e-03, -4.37730514e-02, -1.16761804e-01,\n",
              "        -9.49117243e-02, -2.93442905e-02, -1.15047945e-02, -5.54845892e-02,\n",
              "        -7.83829540e-02, -6.84733316e-02, -4.56305183e-02, -4.77267765e-02,\n",
              "        -5.19423597e-02, -9.34479758e-02,  1.45921428e-02, -1.33955538e-01,\n",
              "        -2.39256006e-02, -1.31066918e-01, -1.48561904e-02, -6.78645074e-02,\n",
              "        -7.35696256e-02, -3.63501608e-02, -5.88579923e-02, -3.27869579e-02,\n",
              "        -7.96082169e-02, -6.62487298e-02, -5.87036461e-02,  1.06655844e-02,\n",
              "        -3.18584144e-02, -5.42523786e-02, -4.10934053e-02,  6.90968474e-03,\n",
              "        -1.70485489e-02, -1.00731924e-01, -5.67313097e-02, -1.61316529e-01,\n",
              "        -4.34325673e-02, -1.09461091e-01, -3.90505344e-02, -7.59803504e-02,\n",
              "        -5.54911904e-02,  3.85356918e-02, -7.24393204e-02, -1.63425934e-02,\n",
              "        -3.85215506e-02, -1.17564850e-01, -4.20355052e-02,  6.84220418e-02,\n",
              "         2.38672411e-03, -4.60559614e-02, -9.13594514e-02, -4.11882699e-02],\n",
              "       dtype=float32)>,\n",
              " <tf.Variable 'elegant_model/dense_20/kernel:0' shape=(1600, 64) dtype=float32, numpy=\n",
              " array([[ 0.06603072, -0.09703255, -0.08601104, ..., -0.07316165,\n",
              "          0.04047815,  0.01429944],\n",
              "        [-0.1145438 ,  0.04679556,  0.07192861, ..., -0.07868292,\n",
              "         -0.04531591,  0.02407386],\n",
              "        [ 0.05970646,  0.03447293, -0.08487338, ..., -0.06887908,\n",
              "         -0.0649376 , -0.06444913],\n",
              "        ...,\n",
              "        [-0.1590802 ,  0.18465897, -0.03673696, ...,  0.3870927 ,\n",
              "          0.09901949,  0.04544626],\n",
              "        [-0.01236081,  0.05497556,  0.01680113, ...,  0.19808191,\n",
              "          0.02284085, -0.04027128],\n",
              "        [ 0.1721978 ,  0.2713208 , -0.00558651, ...,  0.14365695,\n",
              "          0.01851079,  0.00890301]], dtype=float32)>,\n",
              " <tf.Variable 'elegant_model/dense_20/bias:0' shape=(64,) dtype=float32, numpy=\n",
              " array([-0.01704956, -0.0026098 ,  0.0460583 , -0.00650876, -0.00723376,\n",
              "        -0.03101239, -0.0364387 ,  0.02317814,  0.02000269, -0.03069216,\n",
              "        -0.01068804,  0.04589212, -0.00883396,  0.01490952,  0.06223778,\n",
              "        -0.00819472, -0.00036256, -0.02902972,  0.01719257, -0.02809892,\n",
              "         0.04242102, -0.03661579, -0.00890296, -0.04181197, -0.00723704,\n",
              "         0.04937618,  0.06650376,  0.03842093, -0.0061187 ,  0.05928025,\n",
              "        -0.02832204, -0.00772392, -0.00680247, -0.01339776, -0.00626263,\n",
              "         0.01102139, -0.00891816,  0.00993507, -0.00828376, -0.05139181,\n",
              "         0.06490473,  0.00837657, -0.01653057, -0.0057611 , -0.00897938,\n",
              "        -0.02625921,  0.01469425, -0.00755542, -0.01568413, -0.02733271,\n",
              "         0.00464993, -0.01146522, -0.0060027 ,  0.02157456, -0.02004535,\n",
              "         0.0150071 , -0.00662677,  0.07964607, -0.04734325,  0.07790458,\n",
              "        -0.0515938 ,  0.04687728,  0.00582418,  0.02280098], dtype=float32)>,\n",
              " <tf.Variable 'elegant_model/dense_21/kernel:0' shape=(64, 10) dtype=float32, numpy=\n",
              " array([[ 3.41020286e-01, -5.48416749e-02,  9.55279768e-02,\n",
              "          2.54199319e-02, -1.94700897e-01,  1.48197025e-01,\n",
              "          9.08302888e-02,  1.15707785e-01,  8.88478607e-02,\n",
              "         -3.25904250e-01],\n",
              "        [ 2.58930475e-02, -1.73353944e-02,  1.98268935e-01,\n",
              "          2.11230189e-01, -1.60284698e-01,  1.11097679e-01,\n",
              "          8.30097869e-02, -2.12107003e-01, -7.30630755e-02,\n",
              "         -2.20905557e-01],\n",
              "        [-3.74434352e-01,  1.78733975e-01,  1.46120995e-01,\n",
              "         -2.37011701e-01, -1.46998867e-01, -3.01982965e-02,\n",
              "          1.72607362e-01,  8.41035843e-02, -2.44397029e-01,\n",
              "         -4.15705293e-01],\n",
              "        [-2.28804752e-01,  6.98280111e-02, -1.82827741e-01,\n",
              "         -2.00147644e-01, -1.80970296e-01,  2.06962854e-01,\n",
              "          2.11897224e-01, -1.48888022e-01, -2.18508616e-01,\n",
              "         -2.74079710e-01],\n",
              "        [-2.29666248e-01,  1.02218866e-01, -3.27783786e-02,\n",
              "         -2.34258726e-01, -2.48313099e-01, -2.15989947e-01,\n",
              "         -2.36717343e-01, -1.24330997e-01, -1.68252751e-01,\n",
              "         -2.41547197e-01],\n",
              "        [-1.94646716e-01,  1.88124910e-01,  1.25629112e-01,\n",
              "         -1.58920199e-01, -1.94964230e-01, -1.88507721e-01,\n",
              "          9.80682075e-02, -2.15911061e-01,  1.07081600e-01,\n",
              "         -2.06136942e-01],\n",
              "        [-1.03286619e-03, -2.50789464e-01,  6.35390133e-02,\n",
              "          1.96899697e-01, -9.09496471e-02,  1.07472070e-01,\n",
              "         -1.12171538e-01,  1.63596660e-01, -1.39583508e-02,\n",
              "          4.11909260e-02],\n",
              "        [ 2.94658870e-01,  3.41429710e-02,  1.91436093e-02,\n",
              "          9.36607122e-02, -4.63435799e-01,  2.36386582e-02,\n",
              "          9.84473526e-02, -3.85046825e-02, -1.51117876e-01,\n",
              "         -7.96622485e-02],\n",
              "        [ 2.86526620e-01,  1.05251417e-01, -1.78293005e-01,\n",
              "          2.05146775e-01, -4.15950984e-01, -5.59077226e-02,\n",
              "         -8.75581503e-02,  1.93601280e-01,  1.31735340e-01,\n",
              "          1.21501982e-01],\n",
              "        [-1.70626685e-01, -3.12810868e-01, -7.66003728e-02,\n",
              "          5.54962456e-02, -2.34417170e-01,  7.02210963e-02,\n",
              "         -4.97128278e-01,  6.51385784e-02, -2.36033529e-01,\n",
              "          1.45252824e-01],\n",
              "        [-2.04391152e-01, -3.67534965e-01,  1.54370815e-01,\n",
              "         -1.88973695e-01, -9.62586701e-02, -4.17189300e-01,\n",
              "          5.30756302e-02,  2.71270096e-01,  1.87155947e-01,\n",
              "          2.33101826e-02],\n",
              "        [ 1.57145664e-01,  2.63896346e-01,  1.20887607e-01,\n",
              "         -1.10638231e-01,  7.29288310e-02, -9.40852612e-03,\n",
              "         -4.90643412e-01,  2.88047343e-01, -2.46695280e-01,\n",
              "          2.54782259e-01],\n",
              "        [ 1.81233034e-01, -3.35090011e-01, -3.92863303e-01,\n",
              "          5.73726073e-02,  1.68622494e-01,  6.78645596e-02,\n",
              "          2.25162596e-01, -1.77500486e-01,  1.22343145e-01,\n",
              "          2.17039511e-02],\n",
              "        [ 8.71895254e-02,  4.78555225e-02, -3.80264372e-01,\n",
              "         -2.81380355e-01,  1.07382655e-01,  1.61764219e-01,\n",
              "          2.63497144e-01,  1.85832724e-01, -3.46155465e-01,\n",
              "          8.71056467e-02],\n",
              "        [-3.66522551e-01,  1.26012772e-01, -3.33563119e-01,\n",
              "         -1.87008992e-01, -3.39827418e-01,  1.25548363e-01,\n",
              "          4.52956595e-02, -3.59297663e-01,  1.49200344e-02,\n",
              "         -3.28014702e-01],\n",
              "        [-7.13985339e-02,  1.71323624e-02, -9.85961854e-02,\n",
              "          8.24741498e-02,  2.62701124e-01, -1.36892095e-01,\n",
              "         -7.01578856e-02,  2.29516119e-01, -7.59026855e-02,\n",
              "          1.56515568e-01],\n",
              "        [ 1.52699426e-01, -2.03728840e-01,  2.55027413e-01,\n",
              "          2.90212154e-01, -4.51852292e-01,  8.69416222e-02,\n",
              "          3.01803257e-02, -1.08843707e-01,  2.44161606e-01,\n",
              "         -7.56314769e-02],\n",
              "        [-2.96952218e-01, -1.44628778e-01, -5.61037250e-02,\n",
              "          1.37523785e-01, -1.23731717e-01, -9.83137116e-02,\n",
              "         -5.31681739e-02, -3.82548124e-01, -3.17649753e-03,\n",
              "          2.22281262e-01],\n",
              "        [ 1.52289897e-01,  1.29169628e-01,  1.53359130e-01,\n",
              "         -3.22575420e-01, -1.19564541e-01, -1.34495825e-01,\n",
              "          1.16480790e-01, -7.69950673e-02, -4.46214169e-01,\n",
              "         -1.43525023e-02],\n",
              "        [-1.79495096e-01,  1.49633646e-01,  1.92918137e-01,\n",
              "          1.21382236e-01, -2.79973745e-01, -5.41209057e-02,\n",
              "         -2.01725960e-01, -9.20919254e-02, -4.39812280e-02,\n",
              "         -1.55398965e-01],\n",
              "        [-1.78962424e-01,  1.43017232e-01,  3.02285731e-01,\n",
              "         -2.13154152e-01, -1.25419581e-02, -3.01887214e-01,\n",
              "          2.82331735e-01,  2.30927676e-01, -3.41998279e-01,\n",
              "          3.65443043e-02],\n",
              "        [ 1.38096049e-01,  2.42644712e-01,  2.75484473e-01,\n",
              "         -2.13143587e-01,  2.63810810e-02,  3.31456140e-02,\n",
              "         -6.95358366e-02, -1.55873194e-01, -2.55898237e-01,\n",
              "         -1.94399118e-01],\n",
              "        [-2.56403070e-02, -1.83580741e-02,  1.13390744e-01,\n",
              "          1.64493099e-01,  2.40149070e-02, -2.56285165e-02,\n",
              "          1.59200594e-01,  1.93479270e-01,  2.12509468e-01,\n",
              "         -2.50316709e-01],\n",
              "        [ 1.59977362e-01, -3.42821658e-01,  2.25109026e-01,\n",
              "          4.81591895e-02,  3.55927706e-01,  2.31387556e-01,\n",
              "         -3.40124488e-01, -2.04510931e-02,  7.61979222e-02,\n",
              "          3.52828681e-01],\n",
              "        [ 1.20312944e-01,  1.31486086e-02,  2.02785611e-01,\n",
              "         -2.33500972e-01,  2.77113467e-01, -2.16442451e-01,\n",
              "         -2.85521477e-01,  3.65932807e-02,  2.18217924e-01,\n",
              "         -3.86891030e-02],\n",
              "        [ 2.97894627e-01,  2.56207287e-01,  1.14348091e-01,\n",
              "         -2.86934078e-01, -1.60291150e-01,  2.68690586e-01,\n",
              "         -1.34718493e-01,  1.65019602e-01,  2.96056837e-01,\n",
              "          2.25899041e-01],\n",
              "        [-3.72922391e-01,  2.61502862e-01, -8.15035477e-02,\n",
              "          3.46005350e-01, -3.20123255e-01, -8.01001564e-02,\n",
              "         -1.63676977e-01, -2.57172026e-02,  1.76467206e-02,\n",
              "         -3.08975372e-02],\n",
              "        [-4.27685291e-01, -1.88269600e-01, -3.52373809e-01,\n",
              "         -2.07146168e-01, -5.94334528e-02, -7.10476423e-04,\n",
              "         -2.11529687e-01,  7.01741725e-02,  1.13474146e-01,\n",
              "         -1.11252695e-01],\n",
              "        [ 4.90551293e-02,  2.55119145e-01, -2.39227153e-02,\n",
              "          1.78424641e-01,  6.92602098e-02,  1.10639676e-01,\n",
              "         -5.44215366e-02, -1.32902898e-02,  2.36678421e-01,\n",
              "         -2.28473425e-01],\n",
              "        [-4.59225565e-01, -4.37129801e-03,  8.91603064e-03,\n",
              "         -1.44428343e-01,  8.79445150e-02, -3.69022995e-01,\n",
              "         -5.14293730e-01, -5.88967092e-02,  2.07593404e-02,\n",
              "         -9.11308751e-02],\n",
              "        [-1.43115982e-01,  4.94394004e-02,  1.52541474e-01,\n",
              "         -1.82799995e-02, -2.33155370e-01, -1.68995216e-01,\n",
              "         -3.33920568e-02, -1.99291900e-01,  1.42084673e-01,\n",
              "          4.87150885e-02],\n",
              "        [-3.96164745e-01, -5.88264950e-02, -3.21380168e-01,\n",
              "          2.86034554e-01, -1.25796639e-03,  3.28477144e-01,\n",
              "         -1.61999628e-01,  1.41240120e-01,  1.39956310e-01,\n",
              "          2.85939038e-01],\n",
              "        [-1.65862292e-01,  1.07953280e-01,  1.22416867e-02,\n",
              "         -5.13762608e-02,  7.84121752e-02,  1.21915139e-01,\n",
              "          7.17405304e-02, -1.38277993e-01,  8.01616069e-03,\n",
              "         -2.55848207e-02],\n",
              "        [ 2.25584358e-01, -1.95609063e-01, -2.62524724e-01,\n",
              "          2.37755463e-01,  2.33067591e-02,  1.11865431e-01,\n",
              "          5.37925176e-02,  2.46473551e-01,  2.55389094e-01,\n",
              "          2.27057084e-01],\n",
              "        [ 2.10227504e-01,  2.21482635e-01, -8.70021582e-02,\n",
              "         -2.04876378e-01,  3.23667601e-02, -1.75205842e-01,\n",
              "          1.33746669e-01,  2.63419095e-02, -1.88880906e-01,\n",
              "          2.28867963e-01],\n",
              "        [ 2.02072009e-01, -2.36556400e-02,  1.26622036e-01,\n",
              "          2.40926258e-02,  3.06513399e-01, -3.18695366e-01,\n",
              "         -2.70226151e-01,  1.35276699e-02,  2.24986807e-01,\n",
              "          1.35436356e-02],\n",
              "        [-1.55967966e-01,  2.35800177e-01, -1.57113239e-01,\n",
              "          1.41189536e-02, -1.19631268e-01,  5.11730388e-02,\n",
              "          1.79533333e-01, -1.07891962e-01,  3.37604620e-02,\n",
              "         -2.03407064e-01],\n",
              "        [ 4.94810380e-03,  4.58127446e-02,  1.06409095e-01,\n",
              "          1.02291100e-01,  2.15818375e-01,  2.38734812e-01,\n",
              "         -7.57810324e-02,  1.66799948e-01, -3.59461367e-01,\n",
              "         -8.25500190e-02],\n",
              "        [ 3.65929492e-02,  7.36223534e-02,  2.03152820e-01,\n",
              "         -4.43081893e-02,  2.73635983e-01,  2.24530548e-01,\n",
              "          1.54601872e-01, -6.68589100e-02,  2.39527538e-01,\n",
              "         -4.58162650e-03],\n",
              "        [-8.79097208e-02, -2.08724305e-01,  1.86967298e-01,\n",
              "          1.06270850e-01,  1.95562720e-01, -2.48967767e-01,\n",
              "         -1.25543922e-01, -3.16264331e-02, -2.76328564e-01,\n",
              "         -1.89242929e-01],\n",
              "        [-1.29543776e-02,  3.38218719e-01, -9.72684696e-02,\n",
              "          2.40309134e-01,  2.68420279e-01, -2.55422324e-01,\n",
              "          3.06702685e-02,  6.71464857e-03, -1.83263108e-01,\n",
              "         -1.50936574e-01],\n",
              "        [-1.90519989e-02, -1.52630329e-01, -1.87658787e-01,\n",
              "          3.95488262e-01, -1.56495586e-01, -1.63209692e-01,\n",
              "         -9.22489762e-02, -3.00593019e-01,  2.85818458e-01,\n",
              "         -1.93598181e-01],\n",
              "        [ 1.10017285e-01, -3.63905996e-01, -5.20770662e-02,\n",
              "         -2.82730222e-01, -1.87017005e-02, -4.44779843e-01,\n",
              "          7.73309544e-02, -3.96794707e-01,  1.51949346e-01,\n",
              "          3.10475707e-01],\n",
              "        [-2.29515284e-01, -2.20409364e-01,  8.77620950e-02,\n",
              "          2.16236576e-01,  8.64766166e-02, -9.97872576e-02,\n",
              "         -4.64762300e-02, -1.67631119e-01, -2.52921015e-01,\n",
              "          1.66942045e-01],\n",
              "        [ 4.64969166e-02, -1.69139683e-01,  2.82787681e-01,\n",
              "          2.09443867e-01, -3.66152190e-02,  1.11235991e-01,\n",
              "          2.44544148e-01, -2.34109312e-01, -2.88128376e-01,\n",
              "          1.75913662e-01],\n",
              "        [-8.84558931e-02, -3.28115463e-01, -1.35189399e-01,\n",
              "          4.80394028e-02,  2.71694183e-01,  1.88183457e-01,\n",
              "         -1.78299084e-01,  1.22221164e-01, -2.49665394e-01,\n",
              "         -1.61571845e-01],\n",
              "        [ 1.53427899e-01, -4.39214036e-02,  2.10843861e-01,\n",
              "         -4.27216589e-02,  2.11252421e-01,  2.82964796e-01,\n",
              "          3.13475370e-01, -4.12811697e-01,  2.29466066e-01,\n",
              "         -7.03389347e-02],\n",
              "        [ 1.64816320e-01,  2.21725017e-01,  1.35136262e-01,\n",
              "          1.92852288e-01, -1.34380832e-01, -2.22735420e-01,\n",
              "         -2.43069664e-01,  1.20893061e-01, -1.26182452e-01,\n",
              "         -1.74701348e-01],\n",
              "        [-3.00677061e-01, -1.85139492e-01, -2.13120263e-02,\n",
              "          6.43523932e-02, -2.12746918e-01,  1.90228343e-01,\n",
              "          7.42408261e-02, -1.58832878e-01, -2.35818103e-01,\n",
              "         -2.72061616e-01],\n",
              "        [-1.91301405e-02,  1.83863834e-01, -1.54464781e-01,\n",
              "          1.82566926e-01, -5.57945529e-03,  2.52499729e-02,\n",
              "         -4.76909801e-02,  2.64105350e-02, -2.52907813e-01,\n",
              "          1.11766800e-01],\n",
              "        [-7.21437931e-02, -7.03826845e-02,  3.01194847e-01,\n",
              "         -2.50810325e-01,  1.68625757e-01, -1.68729797e-01,\n",
              "          9.15736184e-02,  1.65397659e-01,  2.27481529e-01,\n",
              "          6.65552542e-02],\n",
              "        [-1.50634617e-01,  1.30794952e-02,  2.63288468e-01,\n",
              "          5.62053844e-02,  5.82630597e-02, -1.37136966e-01,\n",
              "          1.99213341e-01, -1.59388468e-01,  1.03940986e-01,\n",
              "          8.67107660e-02],\n",
              "        [-5.21158949e-02,  2.60962516e-01, -9.50421467e-02,\n",
              "         -2.64764190e-01,  1.38842152e-04, -1.00707471e-01,\n",
              "          4.09395844e-02,  2.61255383e-01, -1.08036675e-01,\n",
              "          5.12658507e-02],\n",
              "        [-1.93860531e-01, -3.57655734e-02, -4.01739985e-01,\n",
              "         -4.42527458e-02, -1.45496055e-02, -2.77643442e-01,\n",
              "          1.89824000e-01,  3.01278699e-02,  1.26605004e-01,\n",
              "          1.42670587e-01],\n",
              "        [ 2.39017919e-01,  3.09135299e-02,  2.04336256e-01,\n",
              "          1.26802817e-01,  1.56738117e-01,  1.14747752e-02,\n",
              "         -3.01383436e-01, -4.03963387e-01, -2.44523883e-01,\n",
              "          2.69737750e-01],\n",
              "        [ 2.39031002e-01, -3.14506173e-01,  1.01249926e-01,\n",
              "          1.37047261e-01,  3.94213609e-02, -1.83470875e-01,\n",
              "         -2.37208083e-02,  1.67436570e-01,  1.94704875e-01,\n",
              "         -2.29038000e-01],\n",
              "        [ 2.07697332e-01,  1.25354677e-02,  3.12127113e-01,\n",
              "         -1.36238679e-01,  2.98520867e-02,  2.05035627e-01,\n",
              "          1.65856853e-01, -2.84906656e-01,  3.08984756e-01,\n",
              "          2.81340688e-01],\n",
              "        [-2.76022535e-02,  2.38193110e-01, -6.46956041e-02,\n",
              "         -1.30999118e-01, -2.36685067e-01,  1.08945016e-02,\n",
              "          1.94075778e-01,  2.25728806e-02, -4.33891378e-02,\n",
              "         -3.92654181e-01],\n",
              "        [-4.02440190e-01, -2.78271347e-01, -2.28820384e-01,\n",
              "          2.07824945e-01,  1.14883505e-01,  2.52937496e-01,\n",
              "          8.05295166e-03,  6.11394383e-02, -2.21296266e-01,\n",
              "          1.71000317e-01],\n",
              "        [-2.54418433e-01,  2.72860497e-01, -2.15080366e-01,\n",
              "         -3.73876601e-01,  1.38863742e-01, -6.80883378e-02,\n",
              "         -6.25278577e-02,  1.68991715e-01,  8.13886300e-02,\n",
              "         -5.22566848e-02],\n",
              "        [ 1.71845302e-01,  2.52076536e-01, -1.29969195e-01,\n",
              "         -2.54532367e-01,  1.02786668e-01, -6.29239380e-02,\n",
              "         -1.21041991e-01, -2.55396038e-01, -1.40261650e-01,\n",
              "          1.36480600e-01],\n",
              "        [-1.48327857e-01,  2.28466272e-01,  2.54635543e-01,\n",
              "          1.47795379e-01,  4.15818393e-02,  7.01494962e-02,\n",
              "         -1.73808217e-01, -1.82752952e-01,  7.75833651e-02,\n",
              "          2.83222198e-02],\n",
              "        [ 1.07778817e-01, -2.22193412e-02, -2.11423397e-01,\n",
              "         -9.65962559e-02,  3.23556840e-01,  1.06249198e-01,\n",
              "          7.29899481e-02, -3.15252781e-01,  2.27512494e-01,\n",
              "          3.07259530e-01],\n",
              "        [ 2.60323554e-01,  2.62871891e-01,  1.68509036e-01,\n",
              "         -1.33082822e-01,  1.63632765e-01,  8.45280811e-02,\n",
              "         -2.75306135e-01,  3.18329185e-01, -3.37445557e-01,\n",
              "          8.13981518e-02]], dtype=float32)>,\n",
              " <tf.Variable 'elegant_model/dense_21/bias:0' shape=(10,) dtype=float32, numpy=\n",
              " array([ 0.00066422,  0.11353645, -0.03497756,  0.01338057,  0.00507725,\n",
              "        -0.02313739, -0.0422101 ,  0.01920423,  0.02030309, -0.04982367],\n",
              "       dtype=float32)>]"
            ]
          },
          "execution_count": 70,
          "metadata": {},
          "output_type": "execute_result"
        }
      ],
      "source": [
        "pikachu_elegance.weights"
      ]
    },
    {
      "cell_type": "markdown",
      "metadata": {
        "id": "3TzSjXmtk0up"
      },
      "source": [
        "# SAVE THE ELEGANT POKEMON"
      ]
    },
    {
      "cell_type": "code",
      "execution_count": null,
      "metadata": {
        "colab": {
          "base_uri": "https://localhost:8080/"
        },
        "id": "HvXBBpCpk0up",
        "outputId": "dc994414-efb4-4254-8fd8-9bd118d224d5"
      },
      "outputs": [
        {
          "name": "stdout",
          "output_type": "stream",
          "text": [
            "WARNING:tensorflow:Skipping full serialization of Keras layer <keras.layers.convolutional.Conv2D object at 0x7f0c6136eed0>, because it is not built.\n",
            "INFO:tensorflow:Assets written to: saved_models/pikachu_elegance/assets\n"
          ]
        }
      ],
      "source": [
        "pikachu_elegance.save('saved_models/pikachu_elegance')"
      ]
    },
    {
      "cell_type": "markdown",
      "metadata": {
        "id": "vhOr6FQZR70Z"
      },
      "source": [
        "# Video Detection"
      ]
    },
    {
      "cell_type": "markdown",
      "metadata": {
        "id": "Swf-b2ZKk0up"
      },
      "source": [
        "# Using a Pre-trained Neural Network: Inflated3d CNN"
      ]
    },
    {
      "cell_type": "code",
      "execution_count": null,
      "metadata": {
        "colab": {
          "base_uri": "https://localhost:8080/"
        },
        "id": "gc8Hda0Ek0uq",
        "outputId": "8b0bf201-6c6f-4ab0-a1cc-047934782b35"
      },
      "outputs": [
        {
          "name": "stdout",
          "output_type": "stream",
          "text": [
            "Collecting git+https://github.com/tensorflow/docs\n",
            "  Cloning https://github.com/tensorflow/docs to /tmp/pip-req-build-0fskqtgr\n",
            "  Running command git clone -q https://github.com/tensorflow/docs /tmp/pip-req-build-0fskqtgr\n",
            "Requirement already satisfied: astor in /usr/local/lib/python3.7/dist-packages (from tensorflow-docs==0.0.0.dev0) (0.8.1)\n",
            "Requirement already satisfied: absl-py in /usr/local/lib/python3.7/dist-packages (from tensorflow-docs==0.0.0.dev0) (1.0.0)\n",
            "Requirement already satisfied: jinja2 in /usr/local/lib/python3.7/dist-packages (from tensorflow-docs==0.0.0.dev0) (2.11.3)\n",
            "Requirement already satisfied: protobuf>=3.14 in /usr/local/lib/python3.7/dist-packages (from tensorflow-docs==0.0.0.dev0) (3.17.3)\n",
            "Requirement already satisfied: pyyaml in /usr/local/lib/python3.7/dist-packages (from tensorflow-docs==0.0.0.dev0) (3.13)\n",
            "Requirement already satisfied: six>=1.9 in /usr/local/lib/python3.7/dist-packages (from protobuf>=3.14->tensorflow-docs==0.0.0.dev0) (1.15.0)\n",
            "Requirement already satisfied: MarkupSafe>=0.23 in /usr/local/lib/python3.7/dist-packages (from jinja2->tensorflow-docs==0.0.0.dev0) (2.0.1)\n",
            "Building wheels for collected packages: tensorflow-docs\n",
            "  Building wheel for tensorflow-docs (setup.py) ... \u001b[?25l\u001b[?25hdone\n",
            "  Created wheel for tensorflow-docs: filename=tensorflow_docs-0.0.0.dev0-py3-none-any.whl size=179891 sha256=32b28ca6a284444ee976e81895b0f620a4652b9e4737c34e31be9035d18fc9b0\n",
            "  Stored in directory: /tmp/pip-ephem-wheel-cache-8n18l72a/wheels/cc/c4/d8/5341e93b6376c5c929c49469fce21155eb69cef1a4da4ce32c\n",
            "Successfully built tensorflow-docs\n",
            "Installing collected packages: tensorflow-docs\n",
            "Successfully installed tensorflow-docs-0.0.0.dev0\n"
          ]
        }
      ],
      "source": [
        "!pip -q install imageio\n",
        "!pip install -q opencv-python\n",
        "!pip install git+https://github.com/tensorflow/docs"
      ]
    },
    {
      "cell_type": "code",
      "execution_count": null,
      "metadata": {
        "colab": {
          "base_uri": "https://localhost:8080/"
        },
        "id": "aPufRI8aSL4x",
        "outputId": "60fd5f62-e2e0-423c-c153-aac6148336b4"
      },
      "outputs": [
        {
          "name": "stdout",
          "output_type": "stream",
          "text": [
            "Reading package lists... Done\n",
            "Building dependency tree       \n",
            "Reading state information... Done\n",
            "The following packages were automatically installed and are no longer required:\n",
            "  libnvidia-common-460 nsight-compute-2020.2.0\n",
            "Use 'apt autoremove' to remove them.\n",
            "The following packages will be REMOVED:\n",
            "  libcudnn8-dev\n",
            "The following held packages will be changed:\n",
            "  libcudnn8\n",
            "The following packages will be upgraded:\n",
            "  libcudnn8\n",
            "1 upgraded, 0 newly installed, 1 to remove and 40 not upgraded.\n",
            "Need to get 430 MB of archives.\n",
            "After this operation, 3,139 MB disk space will be freed.\n",
            "Get:1 https://developer.download.nvidia.com/compute/cuda/repos/ubuntu1804/x86_64  libcudnn8 8.1.0.77-1+cuda11.2 [430 MB]\n",
            "Fetched 430 MB in 8s (54.7 MB/s)\n",
            "(Reading database ... 155203 files and directories currently installed.)\n",
            "Removing libcudnn8-dev (8.0.5.39-1+cuda11.1) ...\n",
            "(Reading database ... 155181 files and directories currently installed.)\n",
            "Preparing to unpack .../libcudnn8_8.1.0.77-1+cuda11.2_amd64.deb ...\n",
            "Unpacking libcudnn8 (8.1.0.77-1+cuda11.2) over (8.0.5.39-1+cuda11.1) ...\n",
            "Setting up libcudnn8 (8.1.0.77-1+cuda11.2) ...\n"
          ]
        }
      ],
      "source": [
        "# this is the workaround for GPU error cuDNN\n",
        "!apt install --allow-change-held-packages libcudnn8=8.1.0.77-1+cuda11.2"
      ]
    },
    {
      "cell_type": "code",
      "execution_count": null,
      "metadata": {
        "id": "10704pPYk0uq"
      },
      "outputs": [],
      "source": [
        "from absl import logging\n",
        "\n",
        "import tensorflow as tf\n",
        "import tensorflow_hub as hub\n",
        "from tensorflow_docs.vis import embed"
      ]
    },
    {
      "cell_type": "code",
      "execution_count": null,
      "metadata": {
        "id": "c0XgKjnRk0uq"
      },
      "outputs": [],
      "source": [
        "import imageio\n",
        "from IPython import display\n",
        "from IPython.display import Image"
      ]
    },
    {
      "cell_type": "code",
      "execution_count": null,
      "metadata": {
        "id": "R_OS5gGrk0uq"
      },
      "outputs": [],
      "source": [
        "from urllib import request"
      ]
    },
    {
      "cell_type": "code",
      "execution_count": null,
      "metadata": {
        "id": "3mlrGS7Gk0ur"
      },
      "outputs": [],
      "source": [
        "import random\n",
        "import re\n",
        "import os\n",
        "import tempfile\n",
        "import ssl\n",
        "import cv2\n",
        "import numpy as np"
      ]
    },
    {
      "cell_type": "code",
      "execution_count": null,
      "metadata": {
        "id": "H3iCrAzEk0ur"
      },
      "outputs": [],
      "source": [
        "logging.set_verbosity(logging.ERROR)"
      ]
    },
    {
      "cell_type": "markdown",
      "metadata": {
        "id": "ZCQk_ewMk0ur"
      },
      "source": [
        "# DEEPMIND KINETICS - PRETRAINED SHORT SEQUENCE VIDEO CLIPS\n",
        "\n",
        "**DEEPMIND KINETICS**\n",
        "\n",
        "This is an extensive video clip (with labels/annotations): https://deepmind.com/research/open-source/kinetics\n",
        "\n",
        "Inflated 3D: https://github.com/deepmind/kinetics-i3d"
      ]
    },
    {
      "cell_type": "code",
      "execution_count": null,
      "metadata": {
        "colab": {
          "base_uri": "https://localhost:8080/"
        },
        "id": "_YjNpJvBk0us",
        "outputId": "550ec7ad-1dd8-4073-90c2-6e36effa859d"
      },
      "outputs": [
        {
          "name": "stdout",
          "output_type": "stream",
          "text": [
            "Found 600 labels.\n"
          ]
        }
      ],
      "source": [
        "KINETICS_URL = \"https://raw.githubusercontent.com/deepmind/kinetics-i3d/master/data/label_map_600.txt\"\n",
        "with request.urlopen(KINETICS_URL) as obj:\n",
        "  labels = [line.decode(\"utf-8\").strip() for line in obj.readlines()]\n",
        "print(\"Found %d labels.\" % len(labels))"
      ]
    },
    {
      "cell_type": "code",
      "execution_count": null,
      "metadata": {
        "id": "9OBULnHAk0us"
      },
      "outputs": [],
      "source": [
        "i3d = hub.load(\"https://tfhub.dev/deepmind/i3d-kinetics-600/1\").signatures['default']"
      ]
    },
    {
      "cell_type": "code",
      "execution_count": null,
      "metadata": {
        "id": "y0INxETMk0us"
      },
      "outputs": [],
      "source": [
        "# id3 requires 224x224 pixels\n",
        "def load_video(path, max_frames=0, resize=(224, 224)):\n",
        "  \n",
        "  # cv2 video capture\n",
        "  cap = cv2.VideoCapture(path)\n",
        "  frames = []\n",
        "  try:\n",
        "    while True:\n",
        "      ret, frame = cap.read()\n",
        "      if not ret:\n",
        "        break\n",
        "      frame = crop_center_square(frame)\n",
        "      frame = cv2.resize(frame, resize)\n",
        "      frame = frame[:, :, [2, 1, 0]]\n",
        "      frames.append(frame)\n",
        "\n",
        "      if len(frames) == max_frames:\n",
        "        break\n",
        "  finally:\n",
        "    cap.release()\n",
        "  return np.array(frames) / 255.0"
      ]
    },
    {
      "cell_type": "code",
      "execution_count": null,
      "metadata": {
        "id": "zga_YzrHk0us"
      },
      "outputs": [],
      "source": [
        "def crop_center_square(frame):\n",
        "  y, x = frame.shape[0:2]\n",
        "  min_dim = min(y, x)\n",
        "  start_x = (x // 2) - (min_dim // 2)\n",
        "  start_y = (y // 2) - (min_dim // 2)\n",
        "  return frame[start_y:start_y+min_dim,start_x:start_x+min_dim]"
      ]
    },
    {
      "cell_type": "markdown",
      "metadata": {
        "id": "i9uMK2O1k0us"
      },
      "source": [
        "# GET VIDEOS"
      ]
    },
    {
      "cell_type": "code",
      "execution_count": null,
      "metadata": {
        "id": "krHpfcsIk0ut"
      },
      "outputs": [],
      "source": [
        "video_path = \"https://s3.ap-northeast-1.wasabisys.com/pubdatasets/videos/pexels-diva-plavalaguna-5664462.mp4\""
      ]
    },
    {
      "cell_type": "code",
      "execution_count": null,
      "metadata": {
        "id": "gRZZ1jDDk0ut"
      },
      "outputs": [],
      "source": [
        "video_path_2 = \"https://s3.ap-northeast-1.wasabisys.com/pubdatasets/videos/pexels-anastasia-shuraeva-9517709.mp4\""
      ]
    },
    {
      "cell_type": "code",
      "execution_count": null,
      "metadata": {
        "id": "cMVEJXh7k0ut"
      },
      "outputs": [],
      "source": [
        "sample_video = load_video(video_path)[:100]"
      ]
    },
    {
      "cell_type": "code",
      "execution_count": null,
      "metadata": {
        "id": "DoRtOJMuk0uu"
      },
      "outputs": [],
      "source": [
        "sample_video_2 = load_video(video_path_2)[:100]"
      ]
    },
    {
      "cell_type": "code",
      "execution_count": null,
      "metadata": {
        "colab": {
          "base_uri": "https://localhost:8080/"
        },
        "id": "stuuhziCk0uu",
        "outputId": "4d176de2-4708-4f73-fd36-ce5084eb3224"
      },
      "outputs": [
        {
          "data": {
            "text/plain": [
              "(100, 224, 224, 3)"
            ]
          },
          "execution_count": 16,
          "metadata": {},
          "output_type": "execute_result"
        }
      ],
      "source": [
        "sample_video.shape"
      ]
    },
    {
      "cell_type": "code",
      "execution_count": null,
      "metadata": {
        "colab": {
          "base_uri": "https://localhost:8080/"
        },
        "id": "R8enveHCk0uu",
        "outputId": "c8b728ed-9cb6-4d7f-da5a-bed60d90f414"
      },
      "outputs": [
        {
          "data": {
            "text/plain": [
              "(100, 224, 224, 3)"
            ]
          },
          "execution_count": 17,
          "metadata": {},
          "output_type": "execute_result"
        }
      ],
      "source": [
        "sample_video_2.shape"
      ]
    },
    {
      "cell_type": "code",
      "execution_count": null,
      "metadata": {
        "id": "1b0jZL-Zk0uv"
      },
      "outputs": [],
      "source": [
        "def predict(sample_video):\n",
        "  # Add a batch axis to the to the sample video.\n",
        "  model_input = tf.constant(sample_video, dtype=tf.float32)[tf.newaxis, ...]\n",
        "\n",
        "  logits = i3d(model_input)['default'][0]\n",
        "  probabilities = tf.nn.softmax(logits)\n",
        "\n",
        "  print(\"Top 10 actions:\")\n",
        "  for idx in np.argsort(probabilities)[::-1][:10]:\n",
        "    print(f'{labels[idx]:30}: {probabilities[idx] * 100:5.2f}%')"
      ]
    },
    {
      "cell_type": "code",
      "execution_count": null,
      "metadata": {
        "id": "21lUKqYBk0uv"
      },
      "outputs": [],
      "source": [
        "def to_gif(images):\n",
        "  converted_images = np.clip(images * 255, 0, 255).astype(np.uint8)\n",
        "  imageio.mimsave('./animation.gif', converted_images, fps=30)\n",
        "  return embed.embed_file('./animation.gif')"
      ]
    },
    {
      "cell_type": "code",
      "execution_count": null,
      "metadata": {
        "colab": {
          "background_save": true
        },
        "id": "Rgj_XGIRk0uv"
      },
      "outputs": [],
      "source": [
        "to_gif(sample_video)"
      ]
    },
    {
      "cell_type": "code",
      "execution_count": null,
      "metadata": {
        "id": "IPBd-S3Lk0uv"
      },
      "outputs": [],
      "source": [
        "def to_gif2(images):\n",
        "  converted_images = np.clip(images * 255, 0, 255).astype(np.uint8)\n",
        "  imageio.mimsave('./animation2.gif', converted_images, fps=30)\n",
        "  return embed.embed_file('./animation2.gif')"
      ]
    },
    {
      "cell_type": "code",
      "execution_count": null,
      "metadata": {
        "id": "KYS90LMxk0uw",
        "outputId": "f14e4823-bd11-4666-e9c6-709af05935b8"
      },
      "outputs": [
        {
          "name": "stdout",
          "output_type": "stream",
          "text": [
            "Top 10 actions:\n",
            "finger snapping               : 48.43%\n",
            "beatboxing                    : 11.67%\n",
            "adjusting glasses             :  8.29%\n",
            "smoking                       :  5.97%\n",
            "answering questions           :  2.97%\n",
            "playing ukulele               :  1.71%\n",
            "sign language interpreting    :  1.58%\n",
            "playing harmonica             :  1.50%\n",
            "leatherworking                :  1.36%\n",
            "air drumming                  :  1.01%\n"
          ]
        }
      ],
      "source": [
        "predict(sample_video)"
      ]
    },
    {
      "cell_type": "code",
      "execution_count": null,
      "metadata": {
        "colab": {
          "background_save": true
        },
        "id": "wXV2yviDk0uw"
      },
      "outputs": [],
      "source": [
        "to_gif2(sample_video_2)"
      ]
    },
    {
      "cell_type": "code",
      "execution_count": null,
      "metadata": {
        "id": "B3pqZqtAk0uw",
        "outputId": "f2073362-6919-4989-b14a-ddfd423ace28"
      },
      "outputs": [
        {
          "name": "stdout",
          "output_type": "stream",
          "text": [
            "Top 10 actions:\n",
            "passing soccer ball           : 72.37%\n",
            "shooting goal (soccer)        : 22.40%\n",
            "playing field hockey          :  3.53%\n",
            "kicking soccer ball           :  0.82%\n",
            "juggling soccer ball          :  0.52%\n",
            "hurling (sport)               :  0.17%\n",
            "playing kickball              :  0.07%\n",
            "catching or throwing frisbee  :  0.02%\n",
            "playing tennis                :  0.02%\n",
            "catching or throwing softball :  0.01%\n"
          ]
        }
      ],
      "source": [
        "predict(sample_video_2)"
      ]
    },
    {
      "cell_type": "markdown",
      "metadata": {
        "id": "1Viz_bQQk0ux"
      },
      "source": [
        "# Predict Actions in Advertising Videos"
      ]
    },
    {
      "cell_type": "code",
      "execution_count": null,
      "metadata": {
        "id": "JHcPdK_pk0ux"
      },
      "outputs": [],
      "source": [
        "advertising_video_path = 'https://s3.ap-northeast-1.wasabisys.com/pubdatasets/videos/linterdit_rooney_mara.mp4'"
      ]
    },
    {
      "cell_type": "code",
      "execution_count": null,
      "metadata": {
        "id": "x4Dic8FNk0ux"
      },
      "outputs": [],
      "source": [
        "def to_gif_adverts(images):\n",
        "  converted_images = np.clip(images * 255, 0, 255).astype(np.uint8)\n",
        "  imageio.mimsave('./adverts_linterdit.gif', converted_images, fps=30)\n",
        "  return embed.embed_file('./adverts_linterdit.gif')"
      ]
    },
    {
      "cell_type": "code",
      "execution_count": null,
      "metadata": {
        "id": "y9gs6uqlk0ux"
      },
      "outputs": [],
      "source": [
        "linterdit_sample_video = load_video(advertising_video_path)[:100]"
      ]
    },
    {
      "cell_type": "code",
      "execution_count": null,
      "metadata": {
        "colab": {
          "background_save": true
        },
        "id": "imeJx0dVk0uy"
      },
      "outputs": [],
      "source": [
        "to_gif_adverts(linterdit_sample_video)"
      ]
    },
    {
      "cell_type": "code",
      "execution_count": null,
      "metadata": {
        "id": "IAG94b9ik0uy",
        "outputId": "c80645a2-0d4d-4eb4-dbed-fc2fbfcce3d1"
      },
      "outputs": [
        {
          "name": "stdout",
          "output_type": "stream",
          "text": [
            "Top 10 actions:\n",
            "brush painting                : 15.41%\n",
            "tasting wine                  : 10.41%\n",
            "playing gong                  :  6.37%\n",
            "giving or receiving award     :  2.79%\n",
            "smoking                       :  2.40%\n",
            "setting table                 :  2.38%\n",
            "playing saxophone             :  2.36%\n",
            "putting on foundation         :  2.25%\n",
            "cleaning windows              :  1.99%\n",
            "kissing                       :  1.94%\n"
          ]
        }
      ],
      "source": [
        "predict(linterdit_sample_video)"
      ]
    }
  ],
  "metadata": {
    "accelerator": "GPU",
    "colab": {
      "provenance": [],
      "include_colab_link": true
    },
    "interpreter": {
      "hash": "bbee7842ce8ba476870a006d5d5b68f11cea175afb0fea017b7f81beccf88892"
    },
    "kernelspec": {
      "display_name": "Python 3.9.7 64-bit",
      "name": "python3"
    },
    "language_info": {
      "codemirror_mode": {
        "name": "ipython",
        "version": 3
      },
      "file_extension": ".py",
      "mimetype": "text/x-python",
      "name": "python",
      "nbconvert_exporter": "python",
      "pygments_lexer": "ipython3",
      "version": "3.9.7"
    }
  },
  "nbformat": 4,
  "nbformat_minor": 0
}